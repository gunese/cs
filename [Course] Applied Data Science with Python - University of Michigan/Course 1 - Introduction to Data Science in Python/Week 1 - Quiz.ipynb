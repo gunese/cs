{
 "cells": [
  {
   "cell_type": "markdown",
   "metadata": {},
   "source": [
    "## Week 1 - Quiz"
   ]
  },
  {
   "cell_type": "markdown",
   "metadata": {},
   "source": [
    "<br/>**1.**\n",
    "Python is an example of an\n",
    " \n",
    " **Interpreted language**"
   ]
  },
  {
   "cell_type": "markdown",
   "metadata": {},
   "source": [
    "<br/>**2.**\n",
    "Data Science is a\n",
    "\n",
    "**Interdisciplinary, made up of all of the above**"
   ]
  },
  {
   "cell_type": "markdown",
   "metadata": {},
   "source": [
    "<br/>**3.**\n",
    "Data visualization is not a part of data science.\n",
    " \n",
    " **False**"
   ]
  },
  {
   "cell_type": "markdown",
   "metadata": {},
   "source": [
    "<br/>**4.**\n",
    "Which bracketing style does Python use for tuples?\n",
    "\n",
    "**( )**"
   ]
  },
  {
   "cell_type": "markdown",
   "metadata": {},
   "source": [
    "<br/>**5.**\n",
    "In Python, strings are considered Mutable, and can be changed.\n",
    " \n",
    " **False**"
   ]
  },
  {
   "cell_type": "markdown",
   "metadata": {},
   "source": [
    "<br/>**6.**\n",
    "What is the result of the following code: ['a', 'b', 'c'] + [1, 2, 3]\n",
    "\n",
    "**['a', 'b', 'c', 1, 2, 3]**"
   ]
  },
  {
   "cell_type": "markdown",
   "metadata": {},
   "source": [
    "<br/>**7.**\n",
    "String slicing is\n",
    " \n",
    " **A way to make a substring of a string in python**"
   ]
  },
  {
   "cell_type": "markdown",
   "metadata": {},
   "source": [
    "<br/>**8.**\n",
    "When you create a lambda, what type is returned? E.g. type(lambda x: x+1) returns\n",
    "\n",
    "**<class 'function'>**"
   ]
  },
  {
   "cell_type": "markdown",
   "metadata": {},
   "source": [
    "<br/>**9.**\n",
    "The epoch refers to\n",
    " \n",
    " **January 1, year 1970**"
   ]
  },
  {
   "cell_type": "markdown",
   "metadata": {},
   "source": [
    "<br/>**10.**\n",
    "This code, [x**2 for x in range(10)] , is an example of a\n",
    "\n",
    "**List comprehension**"
   ]
  },
  {
   "cell_type": "markdown",
   "metadata": {},
   "source": [
    "<br/>**11.**\n",
    "Given a 6x6 NumPy array r, which of the following options would slice the shaded elements?\n",
    " \n",
    " **r.reshape(36)[::7]**"
   ]
  },
  {
   "cell_type": "markdown",
   "metadata": {},
   "source": [
    "<br/>**12.**\n",
    "Given a 6x6 NumPy array r, which of the following options would slice the shaded elements?\n",
    "\n",
    "**r[2:4,2:4]**"
   ]
  }
 ],
 "metadata": {
  "kernelspec": {
   "display_name": "Python 3",
   "language": "python",
   "name": "python3"
  },
  "language_info": {
   "codemirror_mode": {
    "name": "ipython",
    "version": 3
   },
   "file_extension": ".py",
   "mimetype": "text/x-python",
   "name": "python",
   "nbconvert_exporter": "python",
   "pygments_lexer": "ipython3",
   "version": "3.6.5"
  }
 },
 "nbformat": 4,
 "nbformat_minor": 2
}
