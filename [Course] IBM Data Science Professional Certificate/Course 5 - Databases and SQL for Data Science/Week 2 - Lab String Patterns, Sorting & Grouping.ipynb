{
 "cells": [
  {
   "cell_type": "markdown",
   "metadata": {},
   "source": [
    "## Week 2 - Lab: String Patterns, Sorting & Grouping"
   ]
  },
  {
   "cell_type": "markdown",
   "metadata": {},
   "source": [
    "<br/>**1.**\n",
    "Were there any warnings loading data into the JOBS table? What can\n",
    "be done to resolve this?\n",
    "\n",
    "Hint: View the data loaded into this table and pay close attention to the JOB_TITLE\n",
    "column.\n",
    " \n",
    " **JOB_TITLE column's data type is VARCHAR(15), so it can't store more than 15 characters. Job title data with more than 15 characters are truncated while loading the data. The column's data type can be changed to VARCHAR(40) in order to resolve this problem.**"
   ]
  },
  {
   "cell_type": "markdown",
   "metadata": {},
   "source": [
    "<br/>**2.**\n",
    "Did all rows from the source file load successfully in the DEPARTMENT\n",
    "table? If not, are you able to figure out why not?\n",
    "\n",
    "Hint: Look at the warning. Also, note the Primary Key for this table. \n",
    "\n",
    "**There are 2 rows with the same value of DEPT_ID_DEP (Primary Key). That's why the second one is deleted while loading the data.**"
   ]
  },
  {
   "cell_type": "markdown",
   "metadata": {},
   "source": [
    "<br/>**3.**\n",
    "Follow these steps to create and run the queries indicated below\n",
    "\n",
    "1) Navigate to the Run SQL tool in Db2 on Cloud\n",
    "\n",
    "2) Compose query and run it.\n",
    "\n",
    "3) Check the Logs created under the Results section. Looking at the contents of the\n",
    "Log explains whether the SQL statement ran successfully. Also look at the query\n",
    "results to ensure the output is what you expected."
   ]
  },
  {
   "cell_type": "markdown",
   "metadata": {},
   "source": [
    "<br/>**Query 1: Retrieve all employees whose address is in Elgin,IL**\n",
    "\n",
    "[Hint: Use the LIKE operator to find similar strings]\n",
    "\n",
    "`select * from EMPLOYEES where ADDRESS LIKE '%Elgin,IL%';`"
   ]
  },
  {
   "cell_type": "markdown",
   "metadata": {},
   "source": [
    "<br/>**Query 2: Retrieve all employees who were born during the 1970's**\n",
    "\n",
    "[Hint: Use the LIKE operator to find similar strings] \n",
    "\n",
    "`select * from EMPLOYEES where B_DATE LIKE '%197%';`"
   ]
  },
  {
   "cell_type": "markdown",
   "metadata": {},
   "source": [
    "<br/>**Query 3: Retrieve all employees in department 5 whose salary is between\n",
    "60000 and 70000 .**\n",
    "\n",
    "[Hint: Use the keyword BETWEEN for this query ] \n",
    "\n",
    "`select * from EMPLOYEES where (SALARY BETWEEN 60000 and 70000)  and DEP_ID = 5;`"
   ]
  },
  {
   "cell_type": "markdown",
   "metadata": {},
   "source": [
    "<br/>**Query 4A: Retrieve a list of employees ordered by department ID.**\n",
    "\n",
    "[Hint: Use the ORDER BY clause for this query] \n",
    "\n",
    "`select * from EMPLOYEES order by DEP_ID;`"
   ]
  },
  {
   "cell_type": "markdown",
   "metadata": {},
   "source": [
    "<br/>**Query 4B: Retrieve a list of employees ordered in descending order by\n",
    "department ID and within each department ordered alphabetically in\n",
    "descending order by last name.**\n",
    "\n",
    "`select * from EMPLOYEES order by DEP_ID desc, L_NAME desc;`"
   ]
  },
  {
   "cell_type": "markdown",
   "metadata": {},
   "source": [
    "<br/>**Query 5A: For each department ID retrieve the number of employees in the\n",
    "department.**\n",
    "\n",
    "[Hint: Use COUNT(*) to retrieve the total count of a column, and then GROUP BY]\n",
    "\n",
    "`select DEP_ID, COUNT(*) from EMPLOYEES group by DEP_ID;`"
   ]
  },
  {
   "cell_type": "markdown",
   "metadata": {},
   "source": [
    "<br/>**Query 5B: For each department retrieve the number of employees in the\n",
    "department, and the average employees salary in the department.**\n",
    "\n",
    "[Hint: Use COUNT(*) to retrieve the total count of a column, and AVG() function to\n",
    "compute average salaries, and then group]\n",
    "\n",
    "`select DEP_ID, COUNT(*), AVG(SALARY) from EMPLOYEES group by DEP_ID;`"
   ]
  },
  {
   "cell_type": "markdown",
   "metadata": {},
   "source": [
    "<br/>**Query 5C: Label the computed columns in the result set of Query 5B as\n",
    "“NUM_EMPLOYEES” and “AVG_SALARY”.**\n",
    "\n",
    "[Hint: Use AS “LABEL_NAME” after the column name]\n",
    "\n",
    "`select DEP_ID, COUNT(*) AS \"NUM_EMPLOYEES\", AVG(SALARY) AS \"AVG_SALARY\" from EMPLOYEES group by DEP_ID;`"
   ]
  },
  {
   "cell_type": "markdown",
   "metadata": {},
   "source": [
    "<br/>**Query 5D: In Query 5C order the result set by Average Salary.**\n",
    "\n",
    "[Hint: Use ORDER BY after the GROUP BY]\n",
    "\n",
    "`select DEP_ID, COUNT(*) AS \"NUM_EMPLOYEES\", AVG(SALARY) AS \"AVG_SALARY\" from EMPLOYEES group by DEP_ID order by AVG_SALARY;`"
   ]
  },
  {
   "cell_type": "markdown",
   "metadata": {},
   "source": [
    "<br/>**Query 5E: In Query 5D limit the result to departments with fewer than 4\n",
    "employees.**\n",
    "\n",
    "[Hint: Use HAVING after the GROUP BY, and use the count() function in the\n",
    "HAVING clause instead of the column label.\n",
    "\n",
    "Note: WHERE clause is used for filtering the entire result set whereas the HAVING\n",
    "clause is used for filtering the result of the grouping]\n",
    "\n",
    "\n",
    "`select DEP_ID, COUNT(*) AS \"NUM_EMPLOYEES\", AVG(SALARY) AS \"AVG_SALARY\" from EMPLOYEES group by DEP_ID having count(*) < 4 order by AVG_SALARY;`"
   ]
  },
  {
   "cell_type": "markdown",
   "metadata": {},
   "source": [
    "<br/>**BONUS Query 6: Similar to 4B but instead of department ID use department\n",
    "name. Retrieve a list of employees ordered by department name, and within\n",
    "each department ordered alphabetically in descending order by last name.**\n",
    "\n",
    "[Hint: Department name is in the DEPARTMENTS table. So your query will need to\n",
    "retrieve data from more than one table. Don’t worry if you are not able to figure this\n",
    "one out … we’ll cover working with multiple tables in the next lesson.] \n",
    "\n",
    "`select D.DEP_NAME , E.F_NAME, E.L_NAME from EMPLOYEES as E, DEPARTMENTS as D where E.DEP_ID = D.DEPT_ID_DEP order by D.DEP_NAME, E.L_NAME desc ;`"
   ]
  }
 ],
 "metadata": {
  "kernelspec": {
   "display_name": "Python 3",
   "language": "python",
   "name": "python3"
  },
  "language_info": {
   "codemirror_mode": {
    "name": "ipython",
    "version": 3
   },
   "file_extension": ".py",
   "mimetype": "text/x-python",
   "name": "python",
   "nbconvert_exporter": "python",
   "pygments_lexer": "ipython3",
   "version": "3.6.5"
  }
 },
 "nbformat": 4,
 "nbformat_minor": 2
}
