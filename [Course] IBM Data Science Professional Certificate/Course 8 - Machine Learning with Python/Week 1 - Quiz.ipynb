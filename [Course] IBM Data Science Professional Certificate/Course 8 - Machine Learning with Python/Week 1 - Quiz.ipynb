{
 "cells": [
  {
   "cell_type": "markdown",
   "metadata": {},
   "source": [
    "## Week 1 - Quiz: Intro to Machine Learning"
   ]
  },
  {
   "cell_type": "markdown",
   "metadata": {},
   "source": [
    "<br/>**1.**\n",
    "Supervised learning deals with unlabeled data, while unsupervised learning deals with labelled data.\n",
    " \n",
    " **False**"
   ]
  },
  {
   "cell_type": "markdown",
   "metadata": {},
   "source": [
    "<br/>**2.**\n",
    "Which of the following is NOT TRUE about Machine Learning?\n",
    "\n",
    "**Machine learning gives computers the ability to make decision by writing down rules and methods and being explicitly programmed.**"
   ]
  },
  {
   "cell_type": "markdown",
   "metadata": {},
   "source": [
    "<br/>**3.**\n",
    "Which of the following groups are not of Machine Learning techniques?\n",
    " \n",
    " **Numpy, Scipy and Scikit-Learn**"
   ]
  },
  {
   "cell_type": "markdown",
   "metadata": {},
   "source": [
    "<br/>**4.**\n",
    "\"Regression\" technique in Machine Learning is a group of algorithms that are used for:\n",
    "\n",
    "**predicting a continuous value, for example predicting price of a house based on its characteristics.**"
   ]
  },
  {
   "cell_type": "markdown",
   "metadata": {},
   "source": [
    "<br/>**5.**\n",
    "Comparison of supervised with unsupervised learning, is this sentence TRUE or FALSE?\n",
    "\n",
    "In contrast to Supervised learning, Unsupervised learning has more models and more evaluation methods that can be used in order to ensure the outcome of the model is accurate.\n",
    "\n",
    "**FALSE**"
   ]
  }
 ],
 "metadata": {
  "kernelspec": {
   "display_name": "Python 3",
   "language": "python",
   "name": "python3"
  },
  "language_info": {
   "codemirror_mode": {
    "name": "ipython",
    "version": 3
   },
   "file_extension": ".py",
   "mimetype": "text/x-python",
   "name": "python",
   "nbconvert_exporter": "python",
   "pygments_lexer": "ipython3",
   "version": "3.6.5"
  }
 },
 "nbformat": 4,
 "nbformat_minor": 2
}
