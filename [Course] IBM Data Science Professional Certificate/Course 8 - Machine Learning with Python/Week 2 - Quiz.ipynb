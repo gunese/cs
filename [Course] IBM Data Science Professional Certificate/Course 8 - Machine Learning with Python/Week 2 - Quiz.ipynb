{
 "cells": [
  {
   "cell_type": "markdown",
   "metadata": {},
   "source": [
    "## Week 2 - Quiz: Regression"
   ]
  },
  {
   "cell_type": "markdown",
   "metadata": {},
   "source": [
    "<br/>**1.**\n",
    "Multiple Linear Regression is proper for:\n",
    " \n",
    " **Predicting tomorrow's rainfall amount based on the wind speed and temperature**"
   ]
  },
  {
   "cell_type": "markdown",
   "metadata": {},
   "source": [
    "<br/>**2.**\n",
    "What one is the meaning of \"Out of Sample Accuracy\" in the context of evaluation of models?\n",
    "\n",
    "**\"Out of Sample Accuracy\" is the percentage of correct predictions that the model makes on data that the model has NOT been trained on.**"
   ]
  },
  {
   "cell_type": "markdown",
   "metadata": {},
   "source": [
    "<br/>**3.**\n",
    "When we should use Multiple Linear Regression?\n",
    " \n",
    "**When we would like to identify the strength of the effect that the independent variables have on a dependent variable.**\n",
    " \n",
    "**When we would like to predict impacts of changes in independent variables on a dependent variable.** "
   ]
  },
  {
   "cell_type": "markdown",
   "metadata": {},
   "source": [
    "<br/>**4.**\n",
    "Which of the following options are TRUE about Polynomial Regression?\n",
    "\n",
    "**Polynomial regression models can fit using the method of Least Square method.**\n",
    "\n",
    "**Polynomial regression fits a curve line to your data.**\n",
    "\n",
    "**Polynomial regression can use the same mechanism as Multiple Linear Regression to find the parameters.**"
   ]
  },
  {
   "cell_type": "markdown",
   "metadata": {},
   "source": [
    "<br/>**5.**\n",
    "Which sentence is NOT TRUE about Non-linear Regression?\n",
    "\n",
    "In contrast to Supervised learning, Unsupervised learning has more models and more evaluation methods that can be used in order to ensure the outcome of the model is accurate.\n",
    "\n",
    "**Non-linear regression must have more than one dependent variable.**"
   ]
  }
 ],
 "metadata": {
  "kernelspec": {
   "display_name": "Python 3",
   "language": "python",
   "name": "python3"
  },
  "language_info": {
   "codemirror_mode": {
    "name": "ipython",
    "version": 3
   },
   "file_extension": ".py",
   "mimetype": "text/x-python",
   "name": "python",
   "nbconvert_exporter": "python",
   "pygments_lexer": "ipython3",
   "version": "3.6.5"
  }
 },
 "nbformat": 4,
 "nbformat_minor": 2
}
