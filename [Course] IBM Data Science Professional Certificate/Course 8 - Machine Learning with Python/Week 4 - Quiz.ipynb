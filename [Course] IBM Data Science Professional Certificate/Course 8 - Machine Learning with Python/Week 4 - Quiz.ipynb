{
 "cells": [
  {
   "cell_type": "markdown",
   "metadata": {},
   "source": [
    "## Week 4 - Quiz: Clustering"
   ]
  },
  {
   "cell_type": "markdown",
   "metadata": {},
   "source": [
    "<br/>**1.**\n",
    "Which one is NOT TRUE about k-means clustering?\n",
    " \n",
    " **As k-means is an iterative algorithm, it guarantees that it will always converge to the global optimum.**"
   ]
  },
  {
   "cell_type": "markdown",
   "metadata": {},
   "source": [
    "<br/>**2.**\n",
    "Which ones are the characteristics of DBSCAN?\n",
    " \n",
    "**DBSCAN can find arbitrarily shaped clusters.**\n",
    "\n",
    "**DBSCAN can find a cluster completely surrounded by a different cluster.**\n",
    "\n",
    "**DBSCAN has a notion of noise, and is robust to outliers.**\n",
    "\n",
    "**DBSCAN does not require one to specify the number of clusters such as k in k-means**"
   ]
  },
  {
   "cell_type": "markdown",
   "metadata": {},
   "source": [
    "<br/>**3.**\n",
    "Which of the following is an application of clustering?\n",
    " \n",
    "**The probability that a person has a heart attack within a specified time period using person's age and sex.**"
   ]
  },
  {
   "cell_type": "markdown",
   "metadata": {},
   "source": [
    "<br/>**4.**\n",
    "Which approach can be used to calculate dissimilarity of objects in clustering?\n",
    "\n",
    "**All of the above**"
   ]
  },
  {
   "cell_type": "markdown",
   "metadata": {},
   "source": [
    "<br/>**5.**\n",
    "How a center point (centroid) is picked for each cluster in k-means?\n",
    "\n",
    "**We can randomly choose some observations out of the data set and use these observations as the initial means.**\n",
    "\n",
    "**We can create some random points as centroids of the clusters.**"
   ]
  }
 ],
 "metadata": {
  "kernelspec": {
   "display_name": "Python 3",
   "language": "python",
   "name": "python3"
  },
  "language_info": {
   "codemirror_mode": {
    "name": "ipython",
    "version": 3
   },
   "file_extension": ".py",
   "mimetype": "text/x-python",
   "name": "python",
   "nbconvert_exporter": "python",
   "pygments_lexer": "ipython3",
   "version": "3.6.5"
  }
 },
 "nbformat": 4,
 "nbformat_minor": 2
}
