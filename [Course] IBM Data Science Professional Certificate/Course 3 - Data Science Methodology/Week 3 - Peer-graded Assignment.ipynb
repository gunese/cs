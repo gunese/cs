{
 "cells": [
  {
   "cell_type": "markdown",
   "metadata": {},
   "source": [
    "## Week 3 - Peer-graded Assignment: Final Assignment"
   ]
  },
  {
   "cell_type": "markdown",
   "metadata": {},
   "source": [
    "<br/>**1.**\n",
    "Which topic did you choose to apply the data science methodology to? (2 marks)\n",
    " \n",
    " **I pick the credit cards topic.**"
   ]
  },
  {
   "cell_type": "markdown",
   "metadata": {},
   "source": [
    "<br/>**2.**\n",
    "Next, you will play the role of the client and the data scientist.\n",
    "\n",
    "Using the topic that you selected, complete the Business Understanding stage by coming up with a problem that you would like to solve and phrasing it in the form of a question that you will use data to answer. (3 marks)\n",
    "\n",
    "You are required to:\n",
    "\n",
    "1. Describe the problem, related to the topic you selected.\n",
    "\n",
    "2. Phrase the problem as a question to be answered using data.\n",
    "\n",
    "For example, using the food recipes use case discussed in the labs, the question that we defined was, \"Can we automatically determine the cuisine of a given dish based on its ingredients?\".\n",
    "\n",
    "**The problem related to the credit cards topic is the money and information theft.**\n",
    "\n",
    "**The question is \"Can we predict a credit card is stolen or not based on their purchasing behaviors?\".**"
   ]
  },
  {
   "cell_type": "markdown",
   "metadata": {},
   "source": [
    "<br/>**3.**\n",
    "Briefly explain how you would complete each of the following stages for the problem that you described in the Business Understanding stage, so that you are ultimately able to answer the question that you came up with. (5 marks):\n",
    "\n",
    "1. Analytic Approach\n",
    "2. Data Requirements\n",
    "3. Data Collection\n",
    "4. Data Understanding and Preparation\n",
    "5. Modeling and Evaluation\n",
    "\n",
    "\n",
    "You can always refer to the labs as a reference with describing how you would complete each stage for your problem.\n",
    "\n",
    "**1. Analytic Approach:**\n",
    "\n",
    "**Using predictive analytics and classification algorithms.**\n",
    "\n",
    "**2. Data Requirements:**\n",
    "\n",
    "**Data such as purchase location, purchased item, purchase frequency combined with stolen cards' data,**\n",
    "\n",
    "**3. Data Collection:**\n",
    "\n",
    "**Those data can be mined from the bank's database.**\n",
    "\n",
    "**4. Data Understanding and Preparation:**\n",
    "\n",
    "**Data Understanding:**\n",
    "**At this stage the data is needed to be checked to see whether it is representative of the problem. A histogram can be used for data such as location and item, so the unusual values can be separated from the more frequent ones. The unusual values are more likely to belong to a stolen card.**\n",
    "\n",
    "**Data Preparation:**\n",
    "**I would make the stolen card's data just the same format as regular cards data, so it can be ready for modeling.**\n",
    "\n",
    "**5. Modeling and Evaluation:**\n",
    "\n",
    "**Modeling:**\n",
    "**I would use a predictive model. A historical data about the stolen cards can be used as a training set.**\n",
    "\n",
    "**Evaluation:**\n",
    "**I would use a decision tree to do the diagnostic measures since the model is predictive.**"
   ]
  }
 ],
 "metadata": {
  "kernelspec": {
   "display_name": "Python 3",
   "language": "python",
   "name": "python3"
  },
  "language_info": {
   "codemirror_mode": {
    "name": "ipython",
    "version": 3
   },
   "file_extension": ".py",
   "mimetype": "text/x-python",
   "name": "python",
   "nbconvert_exporter": "python",
   "pygments_lexer": "ipython3",
   "version": "3.6.5"
  }
 },
 "nbformat": 4,
 "nbformat_minor": 2
}
