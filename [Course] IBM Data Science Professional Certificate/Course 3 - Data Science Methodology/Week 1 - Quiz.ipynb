{
 "cells": [
  {
   "cell_type": "markdown",
   "metadata": {},
   "source": [
    "## Week 1 - Quiz: From Problem to Approach"
   ]
  },
  {
   "cell_type": "markdown",
   "metadata": {},
   "source": [
    "<br/>**1.**\n",
    "Select the correct statement.\n",
    " \n",
    " **A methodology is a system of methods used in a particular area of study or activity.**"
   ]
  },
  {
   "cell_type": "markdown",
   "metadata": {},
   "source": [
    "<br/>**2.**\n",
    "Select the correct statement.\n",
    "\n",
    "**The first stage of the data science methodology is Business Understanding.**"
   ]
  },
  {
   "cell_type": "markdown",
   "metadata": {},
   "source": [
    "<br/>**3.**\n",
    "Business Understanding is an important stage in the data science methodology. Why?\n",
    "\n",
    "**Because it involves domain expertise.**\n",
    "\n",
    "**Because it clearly defines the problem and the needs from a business perspective.**\n",
    "\n",
    "**Because it ensures that the work generates the intended solution.**\n",
    "\n",
    "**Because it shapes the rest of the methodological steps.**"
   ]
  },
  {
   "cell_type": "markdown",
   "metadata": {},
   "source": [
    "<br/>**4.**\n",
    "Which of the following statements about the analytic approach are correct?\n",
    "\n",
    "**If the question defined in the business understanding deals with exploring relationships between different factors, then a descriptive approach, where clusters of similar activities based on events and preferences are examined, would be the right analytic method.**\n",
    "\n",
    "**If the question defined in the business understanding stage can be answered by determining probabilities of an action, then a predictive model would be the right analytic approach.**"
   ]
  },
  {
   "cell_type": "markdown",
   "metadata": {},
   "source": [
    "<br/>**5.**\n",
    "Which machine learning algorithm was implement in the case study discussed in the videos?\n",
    "\n",
    "**Decision Tree Classification.**"
   ]
  },
  {
   "cell_type": "markdown",
   "metadata": {},
   "source": [
    "## Week 1 - Quiz: From Requirements to Collection"
   ]
  },
  {
   "cell_type": "markdown",
   "metadata": {},
   "source": [
    "<br/>**1.**\n",
    "Which of the following analogies is used in the videos to explain the Data Requirements and Data Collection stages of the data science methodology?\n",
    " \n",
    " **You can think of the Data Requirements and Data Collection stages as a cooking task, where the problem at hand is a recipe, and the data to answer the question is the ingredients.**"
   ]
  },
  {
   "cell_type": "markdown",
   "metadata": {},
   "source": [
    "<br/>**2.**\n",
    "The Data Requirements stage of the data science methodology involves identifying the necessary data content, formats and sources for initial data collection.\n",
    "\n",
    "**True**"
   ]
  },
  {
   "cell_type": "markdown",
   "metadata": {},
   "source": [
    "<br/>**3.**\n",
    "Which of the following statements are correct?\n",
    "\n",
    "**Data scientists determine how to collect the data.**\n",
    "\n",
    "**Data scientists identify the data that is required for data modeling.**\n",
    "\n",
    "**Data scientists determine how to prepare the data.**"
   ]
  },
  {
   "cell_type": "markdown",
   "metadata": {},
   "source": [
    "<br/>**4.**\n",
    "In the Data Collection stage, the data requirements are revised and decisions are made as to whether or not more data is needed.\n",
    "\n",
    "**True.**"
   ]
  },
  {
   "cell_type": "markdown",
   "metadata": {},
   "source": [
    "<br/>**5.**\n",
    "In the Data Collection stage, techniques such as supervised methods and unsupervised methods can be applied to the data set, to assess the content, quality, and initial insights about the data\n",
    "\n",
    "**False.**"
   ]
  }
 ],
 "metadata": {
  "kernelspec": {
   "display_name": "Python 3",
   "language": "python",
   "name": "python3"
  },
  "language_info": {
   "codemirror_mode": {
    "name": "ipython",
    "version": 3
   },
   "file_extension": ".py",
   "mimetype": "text/x-python",
   "name": "python",
   "nbconvert_exporter": "python",
   "pygments_lexer": "ipython3",
   "version": "3.6.5"
  }
 },
 "nbformat": 4,
 "nbformat_minor": 2
}
