{
 "cells": [
  {
   "cell_type": "markdown",
   "metadata": {},
   "source": [
    "## Week 3 - Quiz: From Deployment to Feedback"
   ]
  },
  {
   "cell_type": "markdown",
   "metadata": {},
   "source": [
    "<br/>**1.**\n",
    "The final stages of the data science methodology are an iterative cycle between which of the different stages?\n",
    " \n",
    " **Modelling, , Evaluation, Deployment, and Feedback.**"
   ]
  },
  {
   "cell_type": "markdown",
   "metadata": {},
   "source": [
    "<br/>**2.**\n",
    "Feedback is not required once the model is deployed because the Model Evaluation stage would have assessed the model and made sure that it performed well.\n",
    "\n",
    "**False.**"
   ]
  },
  {
   "cell_type": "markdown",
   "metadata": {},
   "source": [
    "<br/>**3.**\n",
    "Deploying a model into production represents the end of the iterative process that includes Feedback, Model Refinement, and Redeployment.\n",
    "\n",
    "**False.**"
   ]
  },
  {
   "cell_type": "markdown",
   "metadata": {},
   "source": [
    "<br/>**4.**\n",
    "Select the correct sentence about the data science methodology explained in the course\n",
    "\n",
    "**The data science methodology provides the data scientist with a framework on how to proceed to obtain answers.**"
   ]
  },
  {
   "cell_type": "markdown",
   "metadata": {},
   "source": [
    "<br/>**5.**\n",
    "A data scientist determines that building a recommender system is the solution for a particular business problem at hand. What stage of the data science methodology does this represent?\n",
    "\n",
    "**Analytic Approach.**"
   ]
  },
  {
   "cell_type": "markdown",
   "metadata": {},
   "source": [
    "<br/>**6.**\n",
    "The final stages of the data science methodology are an iterative cycle between which of the different stages?\n",
    " \n",
    "**Feature engineering.**\n",
    "\n",
    "**Transforming the data into more useful variables.**\n",
    " \n",
    "**Addressing missing/invalid values.**\n",
    "\n",
    "**Combining the data from the various sources.** "
   ]
  },
  {
   "cell_type": "markdown",
   "metadata": {},
   "source": [
    "<br/>**7.**\n",
    "What do data scientists typically use for exploratory analysis of data and to get acquainted with it?\n",
    "\n",
    "**They use descriptive statistics and data visualization techniques.**"
   ]
  },
  {
   "cell_type": "markdown",
   "metadata": {},
   "source": [
    "<br/>**8.**\n",
    "Which of the following represent the two important characteristics of the data science methodology?\n",
    "\n",
    "**It is a highly iterative process and it never ends.**"
   ]
  },
  {
   "cell_type": "markdown",
   "metadata": {},
   "source": [
    "<br/>**9.**\n",
    "Data scientists may use either a “top-down” approach or a “bottom-up” approach to data science. These two approaches refer to:\n",
    "\n",
    "**“Top-down” approach – first defining a business problem then analyzing the data to find a solution. “Bottom-up” approach – starting with the data, and then coming up with a business problem based on the data.**"
   ]
  },
  {
   "cell_type": "markdown",
   "metadata": {},
   "source": [
    "<br/>**10.**\n",
    "Data scientists should maintain continuous communication with stakeholders throughout a project so that business stakeholders can ensure the work remains on track to generate the intended solution.\n",
    "\n",
    "**True.**"
   ]
  }
 ],
 "metadata": {
  "kernelspec": {
   "display_name": "Python 3",
   "language": "python",
   "name": "python3"
  },
  "language_info": {
   "codemirror_mode": {
    "name": "ipython",
    "version": 3
   },
   "file_extension": ".py",
   "mimetype": "text/x-python",
   "name": "python",
   "nbconvert_exporter": "python",
   "pygments_lexer": "ipython3",
   "version": "3.6.5"
  }
 },
 "nbformat": 4,
 "nbformat_minor": 2
}
