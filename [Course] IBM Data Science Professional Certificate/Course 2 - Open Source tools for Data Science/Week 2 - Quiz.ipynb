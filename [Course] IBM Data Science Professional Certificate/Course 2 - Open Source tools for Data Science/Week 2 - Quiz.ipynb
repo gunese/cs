{
 "cells": [
  {
   "cell_type": "markdown",
   "metadata": {},
   "source": [
    "## Week 2 - Quiz: Quiz 3 - Zeppelin Notebooks"
   ]
  },
  {
   "cell_type": "markdown",
   "metadata": {},
   "source": [
    "<br/>**1.**\n",
    "Apache Zeppelin lets you:\n",
    "\n",
    "**All of the above**"
   ]
  },
  {
   "cell_type": "markdown",
   "metadata": {},
   "source": [
    "<br/>**2.**\n",
    "Which IS NOT an interpreter supported by Zeppelin?\n",
    "\n",
    "**Matlab**"
   ]
  },
  {
   "cell_type": "markdown",
   "metadata": {},
   "source": [
    "<br/>**3.**\n",
    "Major benefits to using Zeppelin over Jupyter notebooks include:\n",
    "\n",
    "**Both of the above**"
   ]
  },
  {
   "cell_type": "markdown",
   "metadata": {},
   "source": [
    "<br/>**4.**\n",
    "True or False? You cannot customize the width of your cells in a Zeppelin notebook.\n",
    "\n",
    "**False**"
   ]
  },
  {
   "cell_type": "markdown",
   "metadata": {},
   "source": [
    "<br/>**5.**\n",
    "True or False? You can use multiple programming languages within the same Zeppelin notebook, and they can even operate on the same data.\n",
    "\n",
    "**True**"
   ]
  },
  {
   "cell_type": "markdown",
   "metadata": {},
   "source": [
    "## Week 2 - Quiz: Quiz 4 - RStudio IDE"
   ]
  },
  {
   "cell_type": "markdown",
   "metadata": {},
   "source": [
    "<br/>**1.**\n",
    "RStudio IDE allows you to…\n",
    " \n",
    "**All of the above**"
   ]
  },
  {
   "cell_type": "markdown",
   "metadata": {},
   "source": [
    "<br/>**2.**\n",
    "The reason why 'sc' is one of the default variables in RStudio IDE on Cognitive Class Labs is because:\n",
    " \n",
    " **IPython notebooks**"
   ]
  },
  {
   "cell_type": "markdown",
   "metadata": {},
   "source": [
    "<br/>**3.**\n",
    "What are ways that you can execute R code in RStudio?\n",
    "\n",
    "\n",
    " \n",
    "**C. From the script editor & console**"
   ]
  },
  {
   "cell_type": "markdown",
   "metadata": {},
   "source": [
    "<br/>**4.**\n",
    "True or False? You can view a history of code you have previously executed on RStudio IDE.\n",
    "\n",
    "**True**"
   ]
  },
  {
   "cell_type": "markdown",
   "metadata": {},
   "source": [
    "<br/>**5.**\n",
    "Which of the following options are True? Select all that apply:\n",
    "\n",
    "**You can use built-in datasets (\"dataframes\") in RStudio, such as \"mtcars\".**"
   ]
  }
 ],
 "metadata": {
  "kernelspec": {
   "display_name": "Python 3",
   "language": "python",
   "name": "python3"
  },
  "language_info": {
   "codemirror_mode": {
    "name": "ipython",
    "version": 3
   },
   "file_extension": ".py",
   "mimetype": "text/x-python",
   "name": "python",
   "nbconvert_exporter": "python",
   "pygments_lexer": "ipython3",
   "version": "3.6.6"
  }
 },
 "nbformat": 4,
 "nbformat_minor": 2
}
