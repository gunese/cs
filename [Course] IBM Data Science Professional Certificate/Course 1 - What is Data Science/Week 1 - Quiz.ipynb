{
 "cells": [
  {
   "cell_type": "markdown",
   "metadata": {},
   "source": [
    "## Week 1 - Quiz: Data Science: The Sexiest Job in the 21st Century"
   ]
  },
  {
   "cell_type": "markdown",
   "metadata": {},
   "source": [
    "<br/>**1.**\n",
    "Harvard Business Review called data science the sexiest job in the 21st century.\n",
    " \n",
    " **True**"
   ]
  },
  {
   "cell_type": "markdown",
   "metadata": {},
   "source": [
    "<br/>**2.**\n",
    "According to the report by the McKinsey Global Institute, by 2018, it is projected that there will \n",
    "be a shortage of 140,000 – 190,000 people with deep analytical skills in the world.\n",
    "\n",
    "**False.**"
   ]
  },
  {
   "cell_type": "markdown",
   "metadata": {},
   "source": [
    "<br/>**3.**\n",
    "How is Walmart reported to have addressed its analytical needs?\n",
    "\n",
    "**Crowdsourcing**"
   ]
  },
  {
   "cell_type": "markdown",
   "metadata": {},
   "source": [
    "<br/>**4.**\n",
    "What is the average base salary of a data scientist reported by the New York Times?\n",
    "\n",
    "**$112,000**"
   ]
  },
  {
   "cell_type": "markdown",
   "metadata": {},
   "source": [
    "<br/>**5.**\n",
    "According to professor Haider, the three important qualities to possess in order to succeed as a data scientist are curious, judgemental, and proficient in programming.\n",
    "\n",
    "**False.**"
   ]
  },
  {
   "cell_type": "markdown",
   "metadata": {},
   "source": [
    "<br/>**6.**\n",
    "The New York Times reported that the average base salary of a data scientist is $85,000 + competitive bonus.\n",
    "\n",
    "**False.**\n",
    "<br/>"
   ]
  },
  {
   "cell_type": "markdown",
   "metadata": {},
   "source": [
    "## Week 1 - Quiz: Data Science: What Makes Someone a Data Scientist?"
   ]
  },
  {
   "cell_type": "markdown",
   "metadata": {},
   "source": [
    "<br/>**1.**\n",
    "Hal Varian, the chief economist at Google, declared that \"the sexy job in the next ten years will be computer scientists\".\n",
    " \n",
    " **False**"
   ]
  },
  {
   "cell_type": "markdown",
   "metadata": {},
   "source": [
    "<br/>**2.**\n",
    "The author defines a data scientist as someone who finds solutions to problems by analyzing data using appropriate tool and then tells stories to communicate their finding to the relevant stakeholders.\n",
    " \n",
    " **True**"
   ]
  },
  {
   "cell_type": "markdown",
   "metadata": {},
   "source": [
    "<br/>**3.**\n",
    "According to the reading, the author defines data science as the art of uncovering the hidden secrets in data.\n",
    "\n",
    " \n",
    " **False**"
   ]
  },
  {
   "cell_type": "markdown",
   "metadata": {},
   "source": [
    "<br/>**4.**\n",
    "According to the reading, what is admirable about Dr. Patil’s definition of a data scientist?\n",
    "\n",
    "**His definition is inclusive of individuals from various academic backgrounds and training.**"
   ]
  },
  {
   "cell_type": "markdown",
   "metadata": {},
   "source": [
    "<br/>**5.**\n",
    "According to the reading, what characteristics are said to be exhibited by the best data scientists?\n",
    "\n",
    "**Curious individuals who ask good questions and are O.K. dealing with unstructured situations.**"
   ]
  }
 ],
 "metadata": {
  "kernelspec": {
   "display_name": "Python 3",
   "language": "python",
   "name": "python3"
  },
  "language_info": {
   "codemirror_mode": {
    "name": "ipython",
    "version": 3
   },
   "file_extension": ".py",
   "mimetype": "text/x-python",
   "name": "python",
   "nbconvert_exporter": "python",
   "pygments_lexer": "ipython3",
   "version": "3.6.6"
  }
 },
 "nbformat": 4,
 "nbformat_minor": 2
}
