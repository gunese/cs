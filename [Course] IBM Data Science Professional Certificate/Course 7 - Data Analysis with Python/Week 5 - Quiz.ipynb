{
 "cells": [
  {
   "cell_type": "markdown",
   "metadata": {},
   "source": [
    "## Week 5 - Quiz: Model Evaluation"
   ]
  },
  {
   "cell_type": "markdown",
   "metadata": {},
   "source": [
    "<br/>**1.**\n",
    "What function randomly splits a dataset into training and testing subsets"
   ]
  },
  {
   "cell_type": "markdown",
   "metadata": {},
   "source": [
    "**train_test_split**"
   ]
  },
  {
   "cell_type": "markdown",
   "metadata": {},
   "source": [
    "<br/>**2.**\n",
    "whats the problem with the In-sample evaluation\n",
    "\n",
    "**It does not tell us how well the trained model can be used to predict new data**"
   ]
  },
  {
   "cell_type": "markdown",
   "metadata": {},
   "source": [
    "## Week 5 - Quiz: Overfitting, Underfitting and Model Selection"
   ]
  },
  {
   "cell_type": "markdown",
   "metadata": {},
   "source": [
    "<br/>**1.**\n",
    "In the following plot, the vertical axis shows the mean square error and the horizontal axis represents the order of the polynomial. The red line represents the training error the blue line is the test error. Should you select the 16 order polynomial.\n",
    "\n",
    "<br/>![picture alt](https://d3c33hcgiwev3.cloudfront.net/imageAssetProxy.v1/zvkBIjdwEeiTdwrluHC9aA_d911f48cdca511df5e35160377e51941_Screen-Shot-2018-04-03-at-2.56.50-PM.png?expiry=1539475200000&hmac=oFFDF9v48tK8WyMqg-3NtVq1nLheTH1CbQesp2knZ2s)"
   ]
  },
  {
   "cell_type": "markdown",
   "metadata": {},
   "source": [
    "**no**"
   ]
  },
  {
   "cell_type": "markdown",
   "metadata": {},
   "source": [
    "<br/>**2.**\n",
    "what model would have the lowest training error\n",
    "\n",
    "<br/>![picture alt](https://d3c33hcgiwev3.cloudfront.net/imageAssetProxy.v1/P-hq2zrDEeiUEwpDBScAAA_f641d37e16d856555e58f334031ba94f_Screen-Shot-2018-04-07-at-8.15.17-PM.png?expiry=1539475200000&hmac=eAK8loKoEJ8Pf3Gpc3vlas3mS0trcm13skBmjvuvaaI)\n",
    "\n",
    "**c**"
   ]
  },
  {
   "cell_type": "markdown",
   "metadata": {},
   "source": [
    "## Week 5 - Quiz: Ridge Regression"
   ]
  },
  {
   "cell_type": "markdown",
   "metadata": {},
   "source": [
    "<br/>**1.**\n",
    "consider the three polynomial regression models, select the model that would most benefit from Ridge Regression:\n",
    "\n",
    "<br/>![picture alt](https://d3c33hcgiwev3.cloudfront.net/imageAssetProxy.v1/_ZzfDjrDEeiC8g5Ch625hA_5daa88298ff1b900b589bbe41d9b0176_Screen-Shot-2018-04-07-at-8.15.17-PM.png?expiry=1539561600000&hmac=ubGcmzeVVA1kJ4-26KqGmhQepJkemrczNV-gbOclkCA)"
   ]
  },
  {
   "cell_type": "markdown",
   "metadata": {},
   "source": [
    "**c**"
   ]
  },
  {
   "cell_type": "markdown",
   "metadata": {},
   "source": [
    "<br/>**2.**\n",
    "the following models were all trained on the same data, select the model with the lowest value for alpha:\n",
    "\n",
    "<br/>![picture alt](https://d3c33hcgiwev3.cloudfront.net/imageAssetProxy.v1/KlDHuTrHEeidXxL-BXBIhA_be0c7b719b34c05cd0ada4e839c480d6_Screen-Shot-2018-04-07-at-8.44.32-PM.png?expiry=1539561600000&hmac=qSf-pjkV2hT8aoenuO3zEl_7eZM7JQQrTAQI1-PVqt0)\n",
    "\n",
    "**a**"
   ]
  },
  {
   "cell_type": "markdown",
   "metadata": {},
   "source": [
    "## Week 5 - Quiz: Model Refinement"
   ]
  },
  {
   "cell_type": "markdown",
   "metadata": {},
   "source": [
    "<br/>**1.**\n",
    "What is the correct use of the \"train_test_split\" function such that 40% of the data samples will be utilized for testing, the parameter \"random_state\" is set to zero, and the input variables for the features and targets are x_data, y_data respectively."
   ]
  },
  {
   "cell_type": "markdown",
   "metadata": {},
   "source": [
    "**train_test_split(x_data, y_data, test_size=0.4, random_state=0)**"
   ]
  },
  {
   "cell_type": "markdown",
   "metadata": {},
   "source": [
    "<br/>**2.**\n",
    "What is the output of:\n",
    "\n",
    "cross_val_score(lre, x_data, y_data, cv=2)\n",
    "\n",
    "**The average R^2 on the test data for each of the two folds**"
   ]
  },
  {
   "cell_type": "markdown",
   "metadata": {},
   "source": [
    "<br/>**3.**\n",
    "What is the code to create a ridge regression object RR with an alpha term equal to 10"
   ]
  },
  {
   "cell_type": "markdown",
   "metadata": {},
   "source": [
    "**RR=Ridge(alpha=10)**"
   ]
  },
  {
   "cell_type": "markdown",
   "metadata": {},
   "source": [
    "<br/>**4.**\n",
    "What dictionary value would we use to perform a grid search for the following values of alpha: 1,10, 100. No other parameter values should be tested\n",
    "\n",
    "**[{'alpha':[1,10,100],'normalize':[True,False]} ]**"
   ]
  },
  {
   "cell_type": "markdown",
   "metadata": {},
   "source": [
    "<br/>**5.**\n",
    "You train a ridge regression model, you get a R^2 of 1 on your training data and you get a R^2 of 0 on your validation data, what should you do:\n",
    "\n",
    "**your model is overfitting, increase the parameter alpha**"
   ]
  },
  {
   "cell_type": "markdown",
   "metadata": {},
   "source": [
    "<br/>**6.**\n",
    "The following is an example of:\n",
    "\n",
    "<br/>![picture alt](https://d3c33hcgiwev3.cloudfront.net/imageAssetProxy.v1/bQe6jTd-EeiXeAoF3sTtsA_a2e60ade500ba6d3b93fe11037f0593d_Screen-Shot-2018-04-03-at-4.34.36-PM.png?expiry=1539561600000&hmac=CAxjKngfYzOUq-0Q6zGbkOpM5vQaPxmUJQla3Nj2Klo)"
   ]
  },
  {
   "cell_type": "markdown",
   "metadata": {},
   "source": [
    "**overfitting**"
   ]
  },
  {
   "cell_type": "markdown",
   "metadata": {},
   "source": [
    "<br/>**7.**\n",
    "The following is an example of:\n",
    "\n",
    "<br/>![picture alt](https://d3c33hcgiwev3.cloudfront.net/imageAssetProxy.v1/SBkr8zeEEeissBKg1xWY5A_00227225a1f9f10045c83602ccef31e7_Screen-Shot-2018-04-03-at-5.17.08-PM.png?expiry=1539561600000&hmac=7Ez28vpjthWZgyWfze6Xx2my59p7vEy_oTwD_YKuHlc)\n",
    "\n",
    "**underfitting**"
   ]
  }
 ],
 "metadata": {
  "kernelspec": {
   "display_name": "Python 3",
   "language": "python",
   "name": "python3"
  },
  "language_info": {
   "codemirror_mode": {
    "name": "ipython",
    "version": 3
   },
   "file_extension": ".py",
   "mimetype": "text/x-python",
   "name": "python",
   "nbconvert_exporter": "python",
   "pygments_lexer": "ipython3",
   "version": "3.6.5"
  }
 },
 "nbformat": 4,
 "nbformat_minor": 2
}
