{
 "cells": [
  {
   "cell_type": "markdown",
   "metadata": {},
   "source": [
    "## Week 3 - Quiz: Advanced Visualization Tools"
   ]
  },
  {
   "cell_type": "markdown",
   "metadata": {},
   "source": [
    "<br/>**1.**\n",
    "Seaborn is a Python visualization library that is built on top of Matplotlib.\n",
    "\n",
    " **True**"
   ]
  },
  {
   "cell_type": "markdown",
   "metadata": {},
   "source": [
    "<br/>**2.**\n",
    "The following code"
   ]
  },
  {
   "cell_type": "code",
   "execution_count": null,
   "metadata": {},
   "outputs": [],
   "source": [
    "import seaborn as sns\n",
    "ax = sns.regplot(x=\"year\", y=\"total\", data=data_df, color=\"green\")"
   ]
  },
  {
   "cell_type": "markdown",
   "metadata": {},
   "source": [
    "<br/>creates the following regression plot.\n",
    "<br/>![picture alt](https://d3c33hcgiwev3.cloudfront.net/imageAssetProxy.v1/DHsNn1KxEeiR6g55Hcwzvg_251ca7a75b83bfb7444059e6d29eac21_Screen-Shot-2017-07-24-at-9.25.35-AM.png?expiry=1539216000000&hmac=kQXlMIKup6nrpxIQp_C4yXqd0jGLDMlvWMjHqbu4Qm0)\n"
   ]
  },
  {
   "cell_type": "markdown",
   "metadata": {},
   "source": [
    "**False.**"
   ]
  },
  {
   "cell_type": "markdown",
   "metadata": {},
   "source": [
    "<br/>**3.**\n",
    "A waffle chart is a great way to visualize data in relation to a whole, or to highlight progress against a given threshold."
   ]
  },
  {
   "cell_type": "markdown",
   "metadata": {},
   "source": [
    "**True.**"
   ]
  },
  {
   "cell_type": "markdown",
   "metadata": {},
   "source": [
    "<br/>**4.**\n",
    "In Python, creating a waffle chart is straightforward since we can easily create one using the scripting layer of Matplotlib."
   ]
  },
  {
   "cell_type": "markdown",
   "metadata": {},
   "source": [
    "**False**"
   ]
  },
  {
   "cell_type": "markdown",
   "metadata": {},
   "source": [
    "<br/>**5.**\n",
    "A word cloud is a depiction of the meaningful words in some textual data, where the more a specific word appears in the text, bigger and bolder it appears in the word cloud.\n",
    "\n",
    "**True.**"
   ]
  },
  {
   "cell_type": "markdown",
   "metadata": {},
   "source": [
    "## Week 3 - Quiz: Visualizing Geospatial Data"
   ]
  },
  {
   "cell_type": "markdown",
   "metadata": {},
   "source": [
    "<br/>**1.**\n",
    "Which of following are tile styles of Folium maps (choose all that apply)?\n",
    "\n",
    "**Mapbox Bright**\n",
    " \n",
    "**Stamen Toner**\n",
    "  \n",
    "**Stamen Terrain**"
   ]
  },
  {
   "cell_type": "markdown",
   "metadata": {},
   "source": [
    "<br/>**2.**\n",
    "Stamen Terrain is the right tile style of Folium maps for visualizing and exploring river meanders and coastal zones of a given geographical area\n",
    "\n",
    "**False.**"
   ]
  },
  {
   "cell_type": "markdown",
   "metadata": {},
   "source": [
    "<br/>**3.**\n",
    "You cluster markers superimposed onto a map in Folium using a feature group object."
   ]
  },
  {
   "cell_type": "markdown",
   "metadata": {},
   "source": [
    "**False**"
   ]
  },
  {
   "cell_type": "markdown",
   "metadata": {},
   "source": [
    "<br/>**4.**\n",
    "The following code will generate a map of Spain, displaying its hill shading and natural vegetation."
   ]
  },
  {
   "cell_type": "markdown",
   "metadata": {},
   "source": [
    "**True.**"
   ]
  },
  {
   "cell_type": "markdown",
   "metadata": {},
   "source": [
    "<br/>**5.**\n",
    "In choropleth maps, the higher the measurement of the statistical variable being displayed on the map, the lighter the color.\n",
    "\n",
    "**False.**"
   ]
  }
 ],
 "metadata": {
  "kernelspec": {
   "display_name": "Python 3",
   "language": "python",
   "name": "python3"
  },
  "language_info": {
   "codemirror_mode": {
    "name": "ipython",
    "version": 3
   },
   "file_extension": ".py",
   "mimetype": "text/x-python",
   "name": "python",
   "nbconvert_exporter": "python",
   "pygments_lexer": "ipython3",
   "version": "3.6.5"
  }
 },
 "nbformat": 4,
 "nbformat_minor": 2
}
