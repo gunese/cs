{
 "cells": [
  {
   "cell_type": "markdown",
   "metadata": {},
   "source": [
    "## Week 2 - Quiz: List and Tuples"
   ]
  },
  {
   "cell_type": "markdown",
   "metadata": {},
   "source": [
    "<br/>**1.**\n",
    "Consider the tuple tuple1=(\"A\",\"B\",\"C\" ), what is the result of the following operation tuple1[-1]?\n",
    " \n",
    " **\"C\"**"
   ]
  },
  {
   "cell_type": "markdown",
   "metadata": {},
   "source": [
    "<br/>**2.**\n",
    "Consider the tuple A=((1,),[2,3],[4]), that contains a tuple and list. What is the result of the following operation A[2]:\n",
    "\n",
    "**[2,3]**"
   ]
  },
  {
   "cell_type": "markdown",
   "metadata": {},
   "source": [
    "<br/>**3.**\n",
    "Consider the tuple A=((11,12),[21,22]), that contains a tuple and list. What is the result of the following operation A[0][1]:\n",
    "\n",
    "**12**"
   ]
  },
  {
   "cell_type": "markdown",
   "metadata": {},
   "source": [
    "<br/>**4.**\n",
    "What is the result of the following operation: 'A,B,C,D'.split(',')\n",
    "\n",
    "**['A', 'B', 'C', 'D']**"
   ]
  },
  {
   "cell_type": "markdown",
   "metadata": {},
   "source": [
    "<br/>**5.**\n",
    "After applying the following method, L.append(['a','b']), the following list will only be one element longer.\n",
    "\n",
    "**True**"
   ]
  },
  {
   "cell_type": "markdown",
   "metadata": {},
   "source": [
    "<br/>**6.**\n",
    "lists are mutable\n",
    "\n",
    "**True**"
   ]
  },
  {
   "cell_type": "markdown",
   "metadata": {},
   "source": [
    "<br/>**7.**\n",
    "consider the following list : A=[\"hard rock\",10,1.2]\n",
    "\n",
    "what will list A contain affter the following command is run: del(A[1])\n",
    "\n",
    "**[\"hard rock\",1.2]**"
   ]
  },
  {
   "cell_type": "markdown",
   "metadata": {},
   "source": [
    "<br/>**8.**\n",
    "if A is a list what does the following syntax do: B=A[:]\n",
    "\n",
    "**variable B references a new copy or clone of the original list A**"
   ]
  },
  {
   "cell_type": "markdown",
   "metadata": {},
   "source": [
    "<br/>**9.**\n",
    "what is the result of the following: len((“disco”,10,1.2, “hard rock”,10))\n",
    "\n",
    "**5**"
   ]
  },
  {
   "cell_type": "markdown",
   "metadata": {},
   "source": [
    "## Week 2 - Quiz: Dictionaries"
   ]
  },
  {
   "cell_type": "markdown",
   "metadata": {},
   "source": [
    "<br/>**1.**\n",
    "Consider the following dictionary:\n",
    "\n",
    "{ \"The Bodyguard\":\"1992\", \"Saturday Night Fever\":\"1977\"}\n",
    "\n",
    "select the keys\n",
    " \n",
    " **\"Saturday Night Fever\"**\n",
    "\n",
    "**\"The Bodyguard\"**"
   ]
  },
  {
   "cell_type": "markdown",
   "metadata": {},
   "source": [
    "<br/>**2.**\n",
    "The variable release_year_dict is a Python Dictionary, what is the result of applying the following method: release_year_dict.keys()\n",
    "\n",
    "**retrieve the keys of the dictionary**"
   ]
  },
  {
   "cell_type": "markdown",
   "metadata": {},
   "source": [
    "<br/>**3.**\n",
    "how many identical keys can a dictionary have\n",
    "\n",
    "**0**"
   ]
  },
  {
   "cell_type": "markdown",
   "metadata": {},
   "source": [
    "## Week 2 - Quiz: Sets"
   ]
  },
  {
   "cell_type": "markdown",
   "metadata": {},
   "source": [
    "<br/>**1.**\n",
    "Consider the list A, what will be the result of the following operation: set(A)\n",
    " \n",
    " **\"the result will be a set\"**"
   ]
  },
  {
   "cell_type": "markdown",
   "metadata": {},
   "source": [
    "<br/>**2.**\n",
    "Consider the Set: V={'A','B'}, what is the result of V.add('C')?\n",
    "\n",
    "**{'A','B','C'}**"
   ]
  },
  {
   "cell_type": "markdown",
   "metadata": {},
   "source": [
    "<br/>**3.**\n",
    "how many identical keys can a dictionary have\n",
    "\n",
    "**0**"
   ]
  }
 ],
 "metadata": {
  "kernelspec": {
   "display_name": "Python 3",
   "language": "python",
   "name": "python3"
  },
  "language_info": {
   "codemirror_mode": {
    "name": "ipython",
    "version": 3
   },
   "file_extension": ".py",
   "mimetype": "text/x-python",
   "name": "python",
   "nbconvert_exporter": "python",
   "pygments_lexer": "ipython3",
   "version": "3.6.5"
  }
 },
 "nbformat": 4,
 "nbformat_minor": 2
}
