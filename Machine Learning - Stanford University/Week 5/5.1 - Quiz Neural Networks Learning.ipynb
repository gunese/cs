{
 "cells": [
  {
   "cell_type": "markdown",
   "metadata": {},
   "source": [
    "## Week 5 - Quiz: Neural Networks: Learning"
   ]
  },
  {
   "cell_type": "markdown",
   "metadata": {},
   "source": [
    "<br/>**1.**\n",
    "You are training a three layer neural network and would like to use backpropagation to compute the gradient of the cost function. In the backpropagation algorithm, one of the steps is to update Δij(2) := Δij(2) + δi(3) ∗ (a(2))j for every i,j. Which of the following is a correct vectorization of this step?\n",
    "\n",
    "**Δ \n",
    "(2)\n",
    " :=Δ \n",
    "(2)\n",
    " +δ \n",
    "(3)\n",
    " ∗(a \n",
    "(2)\n",
    " ) \n",
    "T**"
   ]
  },
  {
   "cell_type": "markdown",
   "metadata": {},
   "source": [
    "<br/>**2.**\n",
    "Suppose Theta1 is a 5x3 matrix, and Theta2 is a 4x6 matrix. You set thetaVec = [Theta1(:) ; Theta2(:)]. Which of the following correctly recovers Theta2?\n",
    "\n",
    "**reshape(thetaVec(16:39),4,6)**"
   ]
  },
  {
   "cell_type": "markdown",
   "metadata": {},
   "source": [
    "<br/>**3.**\n",
    "Let J(θ) = 3θ^3 + 2. Let θ=1, and ϵ=0.01. Use the formula J(θ + ϵ) - J(θ - ϵ) / 2ϵ to numerically compute an approximation to the derivative at θ=1. What value do you get? (When θ=1, the true/exact derivative is dJ(θ) / dθ = 9.)\n",
    "\n",
    "**9.0003**"
   ]
  },
  {
   "cell_type": "markdown",
   "metadata": {},
   "source": [
    "<br/>**4.**\n",
    "Which of the following statements are true? Check all that apply.\n",
    "\n",
    "\n",
    "**For computational efficiency, after we have performed gradient checking to verify that our backpropagation code is correct, we usually disable gradient checking before using backpropagation to train the network.**\n",
    "\n",
    "**Using gradient checking can help verify if one's implementation of backpropagation is bug-free.**"
   ]
  },
  {
   "cell_type": "markdown",
   "metadata": {},
   "source": [
    "<br/>**5.**\n",
    "Which of the following statements are true? Check all that apply.\n",
    "\n",
    "**Suppose you are training a neural network using gradient descent. Depending on your random initialization, your algorithm may converge to different local optima (i.e., if you run the algorithm twice with different random initializations, gradient descent may converge to two different solutions).**\n",
    "\n",
    "**If we are training a neural network using gradient descent, one reasonable \"debugging\" step to make sure it is working is to plot J(\\Theta)J(Θ) as a function of the number of iterations, and make sure it is decreasing (or at least non-increasing) after each iteration.**"
   ]
  }
 ],
 "metadata": {
  "kernelspec": {
   "display_name": "Python 3",
   "language": "python",
   "name": "python3"
  },
  "language_info": {
   "codemirror_mode": {
    "name": "ipython",
    "version": 3
   },
   "file_extension": ".py",
   "mimetype": "text/x-python",
   "name": "python",
   "nbconvert_exporter": "python",
   "pygments_lexer": "ipython3",
   "version": "3.6.5"
  }
 },
 "nbformat": 4,
 "nbformat_minor": 2
}
