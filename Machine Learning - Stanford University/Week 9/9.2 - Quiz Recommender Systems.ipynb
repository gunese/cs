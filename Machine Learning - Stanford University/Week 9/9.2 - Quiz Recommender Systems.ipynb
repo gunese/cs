{
 "cells": [
  {
   "cell_type": "markdown",
   "metadata": {},
   "source": [
    "## Week 9 - Quiz: Recommender Systems"
   ]
  },
  {
   "cell_type": "markdown",
   "metadata": {},
   "source": [
    "<br/>**1.**\n",
    "Suppose you run a bookstore, and have ratings (1 to 5 stars) of books. Your collaborative filtering algorithm has learned a parameter vector $\\theta^{(j)}$ for user $j$, and a feature vector $x^{(i)}$  for each book. You would like to compute the \"training error\", meaning the average squared error of your system's predictions on all the ratings that you have gotten from your users. Which of these are correct ways of doing so (check all that apply)? For this problem, let mm be the total number of ratings you have gotten from your users. (Another way of saying this is that $m = \\sum_{i=1}^{n_m} \\sum_{j=1}^{n_u} r(i,j)$. [Hint: Two of the four options below are correct.]\n",
    "\n",
    "$\n",
    "1/m\n",
    "​\t ∑ \n",
    "j=1\n",
    "n \n",
    "u\n",
    "​\t \n",
    "​\t ∑ \n",
    "i:r(i,j)=1\n",
    "​\t (∑ \n",
    "k=1\n",
    "n\n",
    "​\t (θ \n",
    "(j)\n",
    " ) \n",
    "k\n",
    "​\t x \n",
    "k\n",
    "(i)\n",
    "​\t −y \n",
    "(i,j)\n",
    " ) \n",
    "2$\n",
    "\n",
    "$\n",
    "1/m\n",
    "​\t ∑ \n",
    "(i,j):r(i,j)=1\n",
    "​\t (∑ \n",
    "k=1\n",
    "n\n",
    "​\t (θ \n",
    "(j)\n",
    " ) \n",
    "k\n",
    "​\t x \n",
    "k\n",
    "(i)\n",
    "​\t −y \n",
    "(i,j)\n",
    " ) \n",
    "2$"
   ]
  },
  {
   "cell_type": "markdown",
   "metadata": {},
   "source": [
    "<br/>**2.**\n",
    "In which of the following situations will a collaborative filtering system be the most appropriate learning algorithm (compared to linear or logistic regression)?\n",
    "\n",
    "**You manage an online bookstore and you have the book ratings from many users. For each user, you want to recommend other books she will enjoy, based on her own ratings and the ratings of other users.**\n",
    "\n",
    "**You run an online news aggregator, and for every user, you know some subset of articles that the user likes and some different subset that the user dislikes. You'd want to use this to find other articles that the user likes.**"
   ]
  },
  {
   "cell_type": "markdown",
   "metadata": {},
   "source": [
    "<br/>**3.**\n",
    "You run a movie empire, and want to build a movie recommendation system based on collaborative filtering. There were three popular review websites (which we'll call A, B and C) which users to go to rate movies, and you have just acquired all three companies that run these websites. You'd like to merge the three companies' datasets together to build a single/unified system. On website A, users rank a movie as having 1 through 5 stars. On website B, users rank on a scale of 1 - 10, and decimal values (e.g., 7.5) are allowed. On website C, the ratings are from 1 to 100. You also have enough information to identify users/movies on one website with users/movies on a different website. Which of the following statements is true?\n",
    "\n",
    "**You can merge the three datasets into one, but you should first normalize each dataset separately by subtracting the mean and then dividing by (max - min) where the max and min (5-1) or (10-1) or (100-1) for the three websites respectively.**"
   ]
  },
  {
   "cell_type": "markdown",
   "metadata": {},
   "source": [
    "<br/>**4.**\n",
    "Which of the following are true of collaborative filtering systems? Check all that apply.\n",
    "\n",
    "**If you have a dataset of users ratings' on some products, you can use these to predict one user's preferences on products he has not rated.**\n",
    "\n",
    "**Recall that the cost function for the content-based recommendation system is $J(θ)= \n",
    "1/2 ∑ \n",
    "j=1\n",
    "n \n",
    "u\n",
    " ∑ \n",
    "i:r(i,j)=1\n",
    "​\t ((θ \n",
    "(j)\n",
    " ) \n",
    "T\n",
    " x \n",
    "(i)\n",
    " −y \n",
    "(i,j)\n",
    " ) \n",
    "2\n",
    " + \n",
    "2\n",
    "λ\n",
    "​\t ∑ \n",
    "j=1\n",
    "n \n",
    "u\n",
    "​\t \n",
    "​\t ∑ \n",
    "k=1\n",
    "n\n",
    "​\t (θ \n",
    "k\n",
    "(j)\n",
    "​\t ) \n",
    "2\n",
    " . $ Suppose there is only one user and he has rated every movie in the training set. This implies that $n_u = 1$ and $r(i,j) = 1$ for every $i,j$. In this case, the cost function $J(\\theta)$ is equivalent to the one used for regularized linear regression.**"
   ]
  },
  {
   "cell_type": "markdown",
   "metadata": {},
   "source": [
    "<br/>**5.**\n",
    "Suppose you have two matrices $A$ and $B$, where $A$ is 5x3 and $B$ is 3x5. Their product is $C = AB$, a 5x5 matrix. Furthermore, you have a 5x5 matrix $R$ where every entry is 0 or 1. You want to find the sum of all elements $C(i,j)$ for which the corresponding $R(i,j)$ is 1, and ignore all elements $C(i,j)$ where $R(i,j) = 0$. One way to do so is the following code:\n",
    "\n",
    "![picture alt](https://i.ibb.co/V2w4wgT/1.png)\n",
    "\n",
    "Which of the following pieces of Octave code will also correctly compute this total? Check all that apply. Assume all options are in code.\n",
    "\n",
    "**total = sum(sum((A * B) .* R))**\n",
    "\n",
    "**C = (A * B) .* R; total = sum(C(:));**"
   ]
  }
 ],
 "metadata": {
  "kernelspec": {
   "display_name": "Python 3",
   "language": "python",
   "name": "python3"
  },
  "language_info": {
   "codemirror_mode": {
    "name": "ipython",
    "version": 3
   },
   "file_extension": ".py",
   "mimetype": "text/x-python",
   "name": "python",
   "nbconvert_exporter": "python",
   "pygments_lexer": "ipython3",
   "version": "3.6.5"
  }
 },
 "nbformat": 4,
 "nbformat_minor": 2
}
