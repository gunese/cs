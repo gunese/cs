{
 "cells": [
  {
   "cell_type": "markdown",
   "metadata": {},
   "source": [
    "## Week 10 - Quiz: Large Scale Machine Learning"
   ]
  },
  {
   "cell_type": "markdown",
   "metadata": {},
   "source": [
    "<br/>**1.**\n",
    "Suppose you are training a logistic regression classifier using stochastic gradient descent. You find that the cost (say, $cost(\\theta,(x^{(i)}, y^{(i)}))$, averaged over the last 500 examples), plotted as a function of the number of iterations, is slowly increasing over time. Which of the following changes are likely to help?\n",
    "\n",
    "**Try using a smaller learning rate $\\alpha$.**"
   ]
  },
  {
   "cell_type": "markdown",
   "metadata": {},
   "source": [
    "<br/>**2.**\n",
    "Which of the following statements about stochastic gradient descent are true? Check all that apply.\n",
    "\n",
    "**In each iteration of stochastic gradient descent, the algorithm needs to examine/use only one training example.**\n",
    "\n",
    "**One of the advantages of stochastic gradient descent is that it can start progress in improving the parameters $\\theta$ after looking at just a single training example; in contrast, batch gradient descent needs to take a pass over the entire training set before it starts to make progress in improving the parameters' values.**"
   ]
  },
  {
   "cell_type": "markdown",
   "metadata": {},
   "source": [
    "<br/>**3.**\n",
    "Which of the following statements about online learning are true? Check all that apply.\n",
    "\n",
    "**Online learning algorithms are usually best suited to problems were we have a continuous/non-stop stream of data that we want to learn from.**\n",
    "\n",
    "**One of the advantages of online learning is that if the function we're modeling changes over time (such as if we are modeling the probability of users clicking on different URLs, and user tastes/preferences are changing over time), the online learning algorithm will automatically adapt to these changes.**"
   ]
  },
  {
   "cell_type": "markdown",
   "metadata": {},
   "source": [
    "<br/>**4.**\n",
    "Assuming that you have a very large training set, which of the following algorithms do you think can be parallelized using map-reduce and splitting the training set across different machines? Check all that apply.\n",
    "\n",
    "**Logistic regression trained using batch gradient descent.**\n",
    "\n",
    "**Computing the average of all the features in your training set $\\mu = \\frac{1}{m} \\sum_{i=1}^m x^{(i)}$ (say in order to perform mean normalization).**"
   ]
  },
  {
   "cell_type": "markdown",
   "metadata": {},
   "source": [
    "<br/>**5.**\n",
    "Which of the following statements about map-reduce are true? Check all that apply.\n",
    "\n",
    "**If you have only 1 computer with 1 computing core, then map-reduce is unlikely to help.**\n",
    "\n",
    "**Because of network latency and other overhead associated with map-reduce, if we run map-reduce using $N$ computers, we might get less than an $N$-fold speedup compared to using 1 computer.**\n",
    "\n",
    "**When using map-reduce with gradient descent, we usually use a single machine that accumulates the gradients from each of the map-reduce machines, in order to compute the parameter update for that iteration.**"
   ]
  }
 ],
 "metadata": {
  "kernelspec": {
   "display_name": "Python 3",
   "language": "python",
   "name": "python3"
  },
  "language_info": {
   "codemirror_mode": {
    "name": "ipython",
    "version": 3
   },
   "file_extension": ".py",
   "mimetype": "text/x-python",
   "name": "python",
   "nbconvert_exporter": "python",
   "pygments_lexer": "ipython3",
   "version": "3.6.5"
  }
 },
 "nbformat": 4,
 "nbformat_minor": 2
}
