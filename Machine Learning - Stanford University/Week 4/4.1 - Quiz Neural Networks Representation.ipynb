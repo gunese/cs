{
 "cells": [
  {
   "cell_type": "markdown",
   "metadata": {},
   "source": [
    "## Week 4 - Quiz: Neural Networks: Representation"
   ]
  },
  {
   "cell_type": "markdown",
   "metadata": {},
   "source": [
    "<br/>**1.**\n",
    "Which of the following statements are true? Check all that apply.\n",
    "\n",
    "**The activation values of the hidden units in a neural network, with the sigmoid activation function applied at every layer, are always in the range (0, 1).**\n",
    "\n",
    "**Any logical function over binary-valued (0 or 1) inputs x1 and x2 can be (approximately) represented using some neural network.**"
   ]
  },
  {
   "cell_type": "markdown",
   "metadata": {},
   "source": [
    "<br/>**2.**\n",
    "Consider the following neural network which takes two binary-valued inputs x1, x2 ∈ {0, 1} and outputs hΘ(x). Which of the following logical functions does it (approximately) compute?\n",
    "\n",
    "![picture alt](https://d3c33hcgiwev3.cloudfront.net/i6ah-L5yEeShsSIACwKbzw_Screen-Shot-2015-02-27-at-3.18.19-AM.png?Expires=1543017600&Signature=SCrzGFchB3kgGexeSNYK~tnIoqkL1lehMNKgxxTf0talM5YcKHOFiwaahfpelOTLKQo1fjp5HhaDUTolJHWi3aanTqoOAMcWKEyD2Wj7XAItlx6RD7VUKkfky1iq~sTRUWqP5eSHvsspyhfFMi0w3a~x8zgMYI70LZRSz-fyW1k_&Key-Pair-Id=APKAJLTNE6QMUY6HBC5A)\n",
    "\n",
    "**OR**"
   ]
  },
  {
   "cell_type": "markdown",
   "metadata": {},
   "source": [
    "<br/>**3.**\n",
    "Consider the neural network given below. Which of the following equations correctly computes the activation a1^(3)? Note: g(z) is the sigmoid activation function.\n",
    "\n",
    "![picture alt](https://d3c33hcgiwev3.cloudfront.net/z6orvr5zEeSGOCIAC3iXdw_Screen-Shot-2015-02-27-at-3.28.08-AM.png?Expires=1543017600&Signature=GixBnhHAHX-qZpmTeWrN0SO9cqxvGq4VSEyv6sRJZsYM39nKDwi0bDoQgfMMe-iFOPqCPzk8IqzNdswgsLI-ns-fNqb-6VU3Im7~iq1Ab-WOlZZpDjHiWCLveiHflZ6V5VUiZmdKm8J5tdtjvhcV50UxLXMg2dl5p6maXby~aPU_&Key-Pair-Id=APKAJLTNE6QMUY6HBC5A)\n",
    "\n",
    "**a \n",
    "1\n",
    "(3)\n",
    "​\t =g(Θ \n",
    "1,0\n",
    "(2)\n",
    "​\t a \n",
    "0\n",
    "(2)\n",
    "​\t +Θ \n",
    "1,1\n",
    "(2)\n",
    "​\t a \n",
    "1\n",
    "(2)\n",
    "​\t +Θ \n",
    "1,2\n",
    "(2)\n",
    "​\t a \n",
    "2\n",
    "(2)\n",
    "​\t )**"
   ]
  },
  {
   "cell_type": "markdown",
   "metadata": {},
   "source": [
    "<br/>**4.**\n",
    "You have the following neural network:\n",
    "\n",
    "![picture alt](https://d3c33hcgiwev3.cloudfront.net/UHMdWb51EeSVRiIAC2sM-Q_Screen-Shot-2015-02-27-at-3.32.25-AM.png?Expires=1543017600&Signature=cF2Xb63LVTtj1LyfXJhE5hEyGNaqFCPMR~tOpj1WsGAh-nYjzPKtuJcGPC9EQvsiL6ffI1AneR0kyxUm6MBgelumxDd1eggUZzNkxVQtHfvNDnSSg~PL2uZIYrx2zC9chSlS-~ew1x5xgGmv9QRMEijs6N7AyFLuRt~kwBecrvk_&Key-Pair-Id=APKAJLTNE6QMUY6HBC5A)\n",
    "\n",
    "You'd like to compute the activations of the hidden layer a^(2) ∈R^3. One way to do so is the following Octave code:\n",
    "\n",
    "![picture alt](https://d3c33hcgiwev3.cloudfront.net/X3PAer51EeSVRiIAC2sM-Q_Screen-Shot-2015-02-27-at-3.32.38-AM.png?Expires=1543017600&Signature=K-L4KgNtpgquH-DX8gL2IQN7A-pmKLZMtjg3-RyWs-x~oTMx72LDSqTahoejZbAcZCnnf56RK1q-z3~OE10pKGvDFOkhlFLUsmtnFN6TKpMCLOhcAJGYph7hfjYwGW2TnckCTGJ5tZH4R6AdWk52hltlcXyzwQrw3NfNNr-hzw0_&Key-Pair-Id=APKAJLTNE6QMUY6HBC5A)\n",
    "\n",
    "You want to have a vectorized implementation of this (i.e., one that does not use for loops). Which of the following implementations correctly compute a(2)? Check all that apply.\n",
    "\n",
    "**z = Theta1 * x; a2 = sigmoid (z);**"
   ]
  },
  {
   "cell_type": "markdown",
   "metadata": {},
   "source": [
    "<br/>**5.**\n",
    "You are using the neural network pictured below and have learned the parameters Θ(1) = [[1, 2.1, 1.3], [1, 0.6, -1.2]] (used to compute a(2) and Θ(2) =[1, 4.5, 3.1] (used to compute a(3) as a function of a(2). Suppose you swap the parameters for the first hidden layer between its two units so Θ(1) = [[1, 0.6, -1.2], [1, 2.1, 1.3]] and also swap the output layer so Θ(2) = [1, 3.1, 4.5]. How will this change the value of the output hΘ(x)?\n",
    "\n",
    "![picture alt](https://d3c33hcgiwev3.cloudfront.net/DnZ0rb52EeSVRiIAC2sM-Q_Screen-Shot-2015-02-27-at-3.42.00-AM.png?Expires=1543017600&Signature=fhRgTX1dwS5qUrad8MWVvsDSvzxP40xY5qwfF8N5Snzgp-ZXsxcO0nNfGZ41U32SLKqYkkRwcYBuqtk8-AP6lLJ4q8jaJGTnUvhmQAsOjr5i4~h-a89nkaPQzPF9TJaPjxB3jj0VbaccQ250awvwOvXEutOpjCz6ZGoflG28wDE_&Key-Pair-Id=APKAJLTNE6QMUY6HBC5A)\n",
    "\n",
    "**It will stay the same.**"
   ]
  }
 ],
 "metadata": {
  "kernelspec": {
   "display_name": "Python 3",
   "language": "python",
   "name": "python3"
  },
  "language_info": {
   "codemirror_mode": {
    "name": "ipython",
    "version": 3
   },
   "file_extension": ".py",
   "mimetype": "text/x-python",
   "name": "python",
   "nbconvert_exporter": "python",
   "pygments_lexer": "ipython3",
   "version": "3.6.5"
  }
 },
 "nbformat": 4,
 "nbformat_minor": 2
}
