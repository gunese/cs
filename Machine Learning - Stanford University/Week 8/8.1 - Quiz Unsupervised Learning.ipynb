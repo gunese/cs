{
 "cells": [
  {
   "cell_type": "markdown",
   "metadata": {},
   "source": [
    "## Week 8 - Quiz: Unsupervised Learning"
   ]
  },
  {
   "cell_type": "markdown",
   "metadata": {},
   "source": [
    "<br/>**1.**\n",
    "For which of the following tasks might K-means clustering be a suitable algorithm? Select all that apply.\n",
    "\n",
    "**Given a set of news articles from many different news websites, find out what are the main topics covered.**\n",
    "\n",
    "**From the user usage patterns on a website, figure out what different groups of users exist.**"
   ]
  },
  {
   "cell_type": "markdown",
   "metadata": {},
   "source": [
    "<br/>**2.**\n",
    "Suppose we have three cluster centroids μ1 = [1, 2], μ2 = [-3, 0], μ3 = [4, 2]. Furthermore, we have a training example x^(i) = [−1, 2]. After a cluster assignment step, what will c^(i) be?\n",
    "\n",
    "**c(i)=1**"
   ]
  },
  {
   "cell_type": "markdown",
   "metadata": {},
   "source": [
    "<br/>**3.**\n",
    "K-means is an iterative algorithm, and two of the following steps are repeatedly carried out in its inner-loop. Which two?\n",
    "\n",
    "**The cluster assignment step, where the parameters c^(i) are updated.**\n",
    "\n",
    "**Move the cluster centroids, where the centroids μk are updated.**"
   ]
  },
  {
   "cell_type": "markdown",
   "metadata": {},
   "source": [
    "<br/>**4.**\n",
    "Suppose you have an unlabeled dataset {x^(1), ..., x^(m)}. You run K-means with 50 different random initializations, and obtain 50 different clusterings of the data. What is the recommended way for choosing which one of these 50 clusterings to use?\n",
    "\n",
    "**For each of the clusterings, compute\n",
    "m\n",
    "1\n",
    "​\t ∑ \n",
    "i=1\n",
    "m\n",
    "​\t ∣∣x \n",
    "(i)\n",
    " −μ \n",
    "c \n",
    "(i) \n",
    "​\t ∣∣ \n",
    "2\n",
    " , and pick the one that minimizes this.**"
   ]
  },
  {
   "cell_type": "markdown",
   "metadata": {},
   "source": [
    "<br/>**5.**\n",
    "Which of the following statements are true? Select all that apply.\n",
    "\n",
    "**For some datasets, the \"right\" or \"correct\" value of K (the number of clusters) can be ambiguous, and hard even for a human expert looking carefully at the data to decide.**\n",
    "\n",
    "**If we are worried about K-means getting stuck in bad local optima, one way to ameliorate (reduce) this problem is if we try using multiple random initializations.**"
   ]
  }
 ],
 "metadata": {
  "kernelspec": {
   "display_name": "Python 3",
   "language": "python",
   "name": "python3"
  },
  "language_info": {
   "codemirror_mode": {
    "name": "ipython",
    "version": 3
   },
   "file_extension": ".py",
   "mimetype": "text/x-python",
   "name": "python",
   "nbconvert_exporter": "python",
   "pygments_lexer": "ipython3",
   "version": "3.6.5"
  }
 },
 "nbformat": 4,
 "nbformat_minor": 2
}
