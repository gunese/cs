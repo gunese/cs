{
 "cells": [
  {
   "cell_type": "markdown",
   "metadata": {},
   "source": [
    "## Week 6 - Quiz: Machine Learning System Design"
   ]
  },
  {
   "cell_type": "markdown",
   "metadata": {},
   "source": [
    "<br/>**1.**\n",
    "You are working on a spam classification system using regularized logistic regression. \"Spam\" is a positive class (y = 1) and \"not spam\" is the negative class (y = 0). You have trained your classifier and there are m = 1000 examples in the cross-validation set. The chart of predicted class vs. actual class is:\n",
    "\n",
    "| . | Actual Class: 1 | Actual Class: 0 |\n",
    "|--------------------|-----------------|-----------------|\n",
    "| Predicted Class: 1 | 85 | 890 |\n",
    "| Predicted Class: 0 | 15 | 10 |\n",
    "\n",
    "For reference:\n",
    "\n",
    "* Accuracy = (true positives + true negatives) / (total examples)\n",
    "* Precision = (true positives) / (true positives + false positives)\n",
    "* Recall = (true positives) / (true positives + false negatives)\n",
    "* F1 score = (2 * precision * recall) / (precision + recall)\n",
    "\n",
    "What is the classifier's precision (as a value from 0 to 1)?\n",
    "\n",
    "Enter your answer in the box below. If necessary, provide at least two values after the decimal point.\n",
    "\n",
    "\n",
    "**0.08**"
   ]
  },
  {
   "cell_type": "markdown",
   "metadata": {},
   "source": [
    "<br/>**2.**\n",
    "Suppose a massive dataset is available for training a learning algorithm. Training on a lot of data is likely to give good performance when two of the following conditions hold true. Which are the two?\n",
    "\n",
    "**We train a learning algorithm with a large number of parameters (that is able to learn/represent fairly complex functions).**\n",
    "\n",
    "**The features x contain sufficient information to predict y accurately. (For example, one way to verify this is if a human expert on the domain can confidently predict y when given only x).**"
   ]
  },
  {
   "cell_type": "markdown",
   "metadata": {},
   "source": [
    "<br/>**3.**\n",
    "Suppose you have trained a logistic regression classifier which is outputing hθ(x). Currently, you predict 1 if hθ(x) ≥ threshold, and predict 0 if hθ(x) < threshold, where currently the threshold is set to 0.5. Suppose you decrease the threshold to 0.3. Which of the following are true? Check all that apply.\n",
    "\n",
    "**The classifier is likely to now have higher recall.**"
   ]
  },
  {
   "cell_type": "markdown",
   "metadata": {},
   "source": [
    "<br/>**4.**\n",
    "Suppose you are working on a spam classifier, where spam emails are positive examples (y=1) and non-spam emails are negative examples (y=0). You have a training set of emails in which 99% of the emails are non-spam and the other 1% is spam. Which of the following statements are true? Check all that apply.\n",
    "\n",
    "**If you always predict non-spam (output y=0), your classifier will have a recall of 0%.**\n",
    "\n",
    "**If you always predict spam (output y=1),  your classifier will have a recall of 100% and precision of 1%.**\n",
    "\n",
    "**If you always predict non-spam (output y=0), your classifier will have an accuracy of 99%.**"
   ]
  },
  {
   "cell_type": "markdown",
   "metadata": {},
   "source": [
    "<br/>**5.**\n",
    "Which of the following statements are true? Check all that apply.\n",
    "\n",
    "**Using a very large training set makes it unlikely for model to overfit the training data.**\n",
    "\n",
    "**The \"error analysis\" process of manually examining the examples which your algorithm got wrong can help suggest what are good steps to take (e.g., developing new features) to improve your algorithm's performance.**"
   ]
  }
 ],
 "metadata": {
  "kernelspec": {
   "display_name": "Python 3",
   "language": "python",
   "name": "python3"
  },
  "language_info": {
   "codemirror_mode": {
    "name": "ipython",
    "version": 3
   },
   "file_extension": ".py",
   "mimetype": "text/x-python",
   "name": "python",
   "nbconvert_exporter": "python",
   "pygments_lexer": "ipython3",
   "version": "3.6.5"
  }
 },
 "nbformat": 4,
 "nbformat_minor": 2
}
