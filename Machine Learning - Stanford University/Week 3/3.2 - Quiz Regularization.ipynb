{
 "cells": [
  {
   "cell_type": "markdown",
   "metadata": {},
   "source": [
    "## Week 3 - Quiz: Regularization"
   ]
  },
  {
   "cell_type": "markdown",
   "metadata": {},
   "source": [
    "<br/>**1.**\n",
    "You are training a classification model with logistic regression. Which of the following statements are true? Check all that apply.\n",
    "\n",
    "**Adding many new features to the model makes it more likely to overfit the training set.**"
   ]
  },
  {
   "cell_type": "markdown",
   "metadata": {},
   "source": [
    "<br/>**2.**\n",
    "Suppose you ran logistic regression twice, once with λ=0, and once with λ=1. One of the times, you got parameters θ = [[26.29], [65.41]], and the other time you got θ = [[2.75], [1.32]]. However, you forgot which value of λ corresponds to which value of θ. Which one do you think corresponds to λ=1?\n",
    "\n",
    "**θ = [[2.75], [1.32]]**"
   ]
  },
  {
   "cell_type": "markdown",
   "metadata": {},
   "source": [
    "<br/>**3.**\n",
    "Which of the following statements about regularization are true? Check all that apply.\n",
    "\n",
    "**Using too large a value of λ can cause your hypothesis to underfit the data.**"
   ]
  },
  {
   "cell_type": "markdown",
   "metadata": {},
   "source": [
    "<br/>**4.**\n",
    "In which one of the following figures do you think the hypothesis has overfit the training set?\n",
    "\n",
    "**![picture alt](https://d3c33hcgiwev3.cloudfront.net/6w-qg77oEeSZtCIACx4DqA_Screen-Shot-2015-02-27-at-5.24.59-PM.png?Expires=1542844800&Signature=XuMc4n5VShR8Kq1mqn-XS4W4Zpg2gB2yDeBaQfsqqPVxEfOnEY8iPPKpRqhdnzLKfhxnBna6dcbFCz0prFb3kM8xuNDvx~2J5~pc9~RqRDZLKPnKSThUgJYafAyLl9fMJZpzglZ5MFhmWBylHZB2ulSPMk5ilIT4RhOQAB4H0QY_&Key-Pair-Id=APKAJLTNE6QMUY6HBC5A)**"
   ]
  },
  {
   "cell_type": "markdown",
   "metadata": {},
   "source": [
    "<br/>**5.**\n",
    "In which one of the following figures do you think the hypothesis has underfit the training set?\n",
    "\n",
    "**![picture alt](https://d3c33hcgiwev3.cloudfront.net/4qRnjr7pEeSjMiIAC7MDiQ_Screen-Shot-2015-02-27-at-5.30.48-PM.png?Expires=1542844800&Signature=hoWRAuEczQDQ6m4nvL1XTlpBH0UXB0ww4Cv9dWwKA4iaBP39s7pciOIIelOu7VZ5YhyKOjaCPm5evoC2QU6rxj6Y1BLiJr6vo8v3Fv2dU03Le5CSXAeowX5XKvFQCuyNb0q9g4d1nOSiBmkZtjHEyivB7cTxINUb-jAD-BpS02A_&Key-Pair-Id=APKAJLTNE6QMUY6HBC5A)**"
   ]
  }
 ],
 "metadata": {
  "kernelspec": {
   "display_name": "Python 3",
   "language": "python",
   "name": "python3"
  },
  "language_info": {
   "codemirror_mode": {
    "name": "ipython",
    "version": 3
   },
   "file_extension": ".py",
   "mimetype": "text/x-python",
   "name": "python",
   "nbconvert_exporter": "python",
   "pygments_lexer": "ipython3",
   "version": "3.6.5"
  }
 },
 "nbformat": 4,
 "nbformat_minor": 2
}
