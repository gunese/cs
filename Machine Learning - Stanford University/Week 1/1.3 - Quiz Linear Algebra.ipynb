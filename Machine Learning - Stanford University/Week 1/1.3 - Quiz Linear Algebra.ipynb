{
 "cells": [
  {
   "cell_type": "markdown",
   "metadata": {},
   "source": [
    "## Week 1 - Quiz: Linear Algebra"
   ]
  },
  {
   "cell_type": "markdown",
   "metadata": {},
   "source": [
    "<br/>**1.**\n",
    "Let two matrices be\n",
    "\n",
    "A = [[4, 6],[3, 9]] B = [[-2, -5], [9, 2]]\n",
    "\n",
    "\n",
    "What is A + B?\n",
    "\n",
    " \n",
    " **[[2, 1], [12, 11]]**"
   ]
  },
  {
   "cell_type": "markdown",
   "metadata": {},
   "source": [
    "<br/>**2.**\n",
    "Let x = [[2], [7], [4], [1]]\n",
    "\n",
    "What is 1/2 * x?\n",
    "\n",
    "**[[1], [7/2], [2], [1/2]]**"
   ]
  },
  {
   "cell_type": "markdown",
   "metadata": {},
   "source": [
    "<br/>**3.**\n",
    "Let u be a 3-dimensional vector, where specifically\n",
    "\n",
    "u = [[2], [1], [8]\n",
    "\n",
    "What is u^T?\n",
    "\n",
    "**[2, 1, 8]**"
   ]
  },
  {
   "cell_type": "markdown",
   "metadata": {},
   "source": [
    "<br/>**4.**\n",
    "Let u and v be 3-dimensional vectors, where specifically\n",
    "\n",
    "u = [[4], [4], [3]]\n",
    "\n",
    "and\n",
    "\n",
    "v = [[4], [2], [4]]\n",
    "\n",
    "What is u^Tv?\n",
    "\n",
    "(Hint: u^T is a 1x3 dimensional matrix, and v can also be seen as a 3x1 matrix. The answer you want can be obtained by taking the matrix product of u^T and v.) Do not add brackets to your answer.\n",
    "\n",
    "**-4**"
   ]
  },
  {
   "cell_type": "markdown",
   "metadata": {},
   "source": [
    "<br/>**5.**\n",
    "Let A and B be 3x3 (square) matrices. Which of the following\n",
    "\n",
    "must necessarily hold true? Check all that apply.\n",
    "\n",
    "**A+B=B+A**\n",
    "\n",
    "**If v is a 3 dimensional vector, then A * B * vA∗B∗v is a 3 dimensional vector.**"
   ]
  }
 ],
 "metadata": {
  "kernelspec": {
   "display_name": "Python 3",
   "language": "python",
   "name": "python3"
  },
  "language_info": {
   "codemirror_mode": {
    "name": "ipython",
    "version": 3
   },
   "file_extension": ".py",
   "mimetype": "text/x-python",
   "name": "python",
   "nbconvert_exporter": "python",
   "pygments_lexer": "ipython3",
   "version": "3.6.5"
  }
 },
 "nbformat": 4,
 "nbformat_minor": 2
}
