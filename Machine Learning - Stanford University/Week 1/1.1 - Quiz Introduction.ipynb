{
 "cells": [
  {
   "cell_type": "markdown",
   "metadata": {},
   "source": [
    "## Week 1 - Quiz: Introduction"
   ]
  },
  {
   "cell_type": "markdown",
   "metadata": {},
   "source": [
    "<br/>**1.**\n",
    "A computer program is said to learn from experience E with\n",
    "\n",
    "respect to some task T and some performance measure P if its\n",
    "\n",
    "performance on T, as measured by P, improves with experience E.\n",
    "\n",
    "Suppose we feed a learning algorithm a lot of historical weather\n",
    "\n",
    "data, and have it learn to predict weather. In this setting, what is T?\n",
    " \n",
    " **The weather prediction task.**"
   ]
  },
  {
   "cell_type": "markdown",
   "metadata": {},
   "source": [
    "<br/>**2.**\n",
    "The amount of rain that falls in a day is usually measured in\n",
    "\n",
    "either millimeters (mm) or inches. Suppose you use a learning\n",
    "\n",
    "algorithm to predict how much rain will fall tomorrow.\n",
    "\n",
    "Would you treat this as a classification or a regression problem?\n",
    "\n",
    "**Regression**"
   ]
  },
  {
   "cell_type": "markdown",
   "metadata": {},
   "source": [
    "<br/>**3.**\n",
    "Suppose you are working on stock market prediction. You would like to predict whether or not a certain company will win a patent infringement lawsuit (by training on data of companies that had to defend against similar lawsuits). Would you treat this as a classification or a regression problem?\n",
    "\n",
    "**Classification**"
   ]
  },
  {
   "cell_type": "markdown",
   "metadata": {},
   "source": [
    "<br/>**4.**\n",
    "Some of the problems below are best addressed using a supervised learning algorithm, and the others with an unsupervised learning algorithm. Which of the following would you apply supervised learning to? (Select all that apply.) In each case, assume some appropriate dataset is available for your algorithm to learn from.\n",
    "\n",
    "**Given genetic (DNA) data from a person, predict the odds of him/her developing diabetes over the next 10 years.**\n",
    "\n",
    "**Examine the statistics of two football teams, and predict which team will win tomorrow's match (given historical data of teams' wins/losses to learn from).**"
   ]
  },
  {
   "cell_type": "markdown",
   "metadata": {},
   "source": [
    "<br/>**5.**\n",
    "Which of these is a reasonable definition of machine learning?\n",
    "\n",
    "**Machine learning is the field of study that gives computers the ability to learn without being explicitly programmed.**"
   ]
  }
 ],
 "metadata": {
  "kernelspec": {
   "display_name": "Python 3",
   "language": "python",
   "name": "python3"
  },
  "language_info": {
   "codemirror_mode": {
    "name": "ipython",
    "version": 3
   },
   "file_extension": ".py",
   "mimetype": "text/x-python",
   "name": "python",
   "nbconvert_exporter": "python",
   "pygments_lexer": "ipython3",
   "version": "3.6.5"
  }
 },
 "nbformat": 4,
 "nbformat_minor": 2
}
