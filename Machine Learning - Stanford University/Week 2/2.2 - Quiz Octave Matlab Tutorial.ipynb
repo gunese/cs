{
 "cells": [
  {
   "cell_type": "markdown",
   "metadata": {},
   "source": [
    "## Week 2 - Quiz: Octave/Matlab Tutorial"
   ]
  },
  {
   "cell_type": "markdown",
   "metadata": {},
   "source": [
    "<br/>**1.**\n",
    "Suppose I first execute the following in Octave/Matlab:\n",
    "\n",
    "`A = [1 2; 3 4; 5 6];\n",
    "B = [1 2 3; 4 5 6];`\n",
    "\n",
    "Which of the following are then valid commands? Check all that apply. (Hint: A' denotes the transpose of A.)\n",
    "\n",
    "**C = A' + B;**\n",
    "\n",
    "**C = B * A;**"
   ]
  },
  {
   "cell_type": "markdown",
   "metadata": {},
   "source": [
    "<br/>**2.**\n",
    "Let `A = [16 2 3 13;5 11 10 8;9 7 6 12;4 14 15 1]`\n",
    "\n",
    "Which of the following indexing expressions gives `B = [16 2;5 11;9 7;4 14]`\n",
    "\n",
    "\n",
    "**B = A(:, 1:2);**\n",
    "\n",
    "**B = A(1:4, 1:2);**"
   ]
  },
  {
   "cell_type": "markdown",
   "metadata": {},
   "source": [
    "<br/>**3.**\n",
    "Let A be a 10x10 matrix and x be a 10-element vector. Your friend wants to compute the product Ax and writes the following code:\n",
    "\n",
    "`v = zeros(10, 1);\n",
    "for i = 1:10\n",
    "  for j = 1:10\n",
    "    v(i) = v(i) + A(i, j) * x(j);\n",
    "  end\n",
    "end`\n",
    "\n",
    "**v = A * x;**"
   ]
  },
  {
   "cell_type": "markdown",
   "metadata": {},
   "source": [
    "<br/>**4.**\n",
    "Say you have two column vectors v and w, each with 7 elements (i.e., they have dimensions 7x1). Consider the following code:\n",
    "\n",
    "`z = 0;\n",
    "for i = 1:7\n",
    "  z = z + v(i) * w(i)\n",
    "end`\n",
    "\n",
    "Which of the following vectorizations correctly compute z? Check all that apply.\n",
    "\n",
    "**z = sum (v .* w);**\n",
    "\n",
    "**z = v' * w;**"
   ]
  },
  {
   "cell_type": "markdown",
   "metadata": {},
   "source": [
    "<br/>**5.**\n",
    "In Octave/Matlab, many functions work on single numbers, vectors, and matrices. For example, the sin function when applied to a matrix will return a new matrix with the sin of each element. But you have to be careful, as certain functions have different behavior. Suppose you have an 7x7 matrix X. You want to compute the log of every element, the square of every element, add 1 to every element, and divide every element by 4. You will store the results in four matrices, A, B, C, D. One way to do so is the following code:\n",
    "\n",
    "`for i = 1:7\n",
    "  for j = 1:7\n",
    "    A(i, j) = log(X(i, j));\n",
    "    B(i, j) = X(i, j) ^ 2;\n",
    "    C(i, j) = X(i, j) + 1;\n",
    "    D(i, j) = X(i, j) / 4;\n",
    "  end\n",
    "end`\n",
    "\n",
    "Which of the following correctly compute A, B, C,A,B,C, or DD? Check all that apply.\n",
    "\n",
    "**C = X + 1;**\n",
    "\n",
    "**D = X / 4;**\n",
    "\n",
    "**B = X .^ 2;**"
   ]
  }
 ],
 "metadata": {
  "kernelspec": {
   "display_name": "Python 3",
   "language": "python",
   "name": "python3"
  },
  "language_info": {
   "codemirror_mode": {
    "name": "ipython",
    "version": 3
   },
   "file_extension": ".py",
   "mimetype": "text/x-python",
   "name": "python",
   "nbconvert_exporter": "python",
   "pygments_lexer": "ipython3",
   "version": "3.6.5"
  }
 },
 "nbformat": 4,
 "nbformat_minor": 2
}
