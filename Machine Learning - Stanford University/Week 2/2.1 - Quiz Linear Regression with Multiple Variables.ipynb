{
 "cells": [
  {
   "cell_type": "markdown",
   "metadata": {},
   "source": [
    "## Week 2 - Quiz: Linear Regression with Multiple Variables"
   ]
  },
  {
   "cell_type": "markdown",
   "metadata": {},
   "source": [
    "<br/>**1.**\n",
    "Suppose m=4 students have taken some class, and the class had a midterm exam and a final exam. You have collected a dataset of their scores on the two exams, which is as follows:\n",
    "\n",
    "| midterm exam | (midterm exam)^2 | final exam |\n",
    "|--------------|------------------|------------|\n",
    "| 89 | 7921 | 96 |\n",
    "| 72 | 5184 | 74 |\n",
    "| 94 | 8836 | 87 |\n",
    "| 69 | 4761 | 78 |\n",
    "\n",
    "\n",
    "You'd like to use polynomial regression to predict a student's final exam score from their midterm exam score. Concretely, suppose you want to fit a model of the form θ(x) = θ0 + θ1x1 + θ2x2, where x1 is the midterm score and x2 is (midterm score)^2. Further, you plan to use both feature scaling (dividing by the \"max-min\", or range, of a feature) and mean normalization.\n",
    "\n",
    "What is the normalized feature x1^1? (Hint: midterm = 89, final = 96 is training example 2.) Please round off your answer to two decimal places and enter in the text box below.\n",
    "\n",
    "**0.32**"
   ]
  },
  {
   "cell_type": "markdown",
   "metadata": {},
   "source": [
    "<br/>**2.**\n",
    "You run gradient descent for 15 iterations with α = 0.3 and compute J(θ) after each iteration. You find that the value of J(θ) decreases slowly and is still decreasing after 15 iterations. Based on this, which of the following conclusions seems most plausible?\n",
    "\n",
    "\n",
    "**Rather than use the current value of α, it'd be more promising to try a larger value of α (say α=1.0).**"
   ]
  },
  {
   "cell_type": "markdown",
   "metadata": {},
   "source": [
    "<br/>**3.**\n",
    "Suppose you have m=28 training examples with n=4 features (excluding the additional all-ones feature for the intercept term, which you should add). The normal equation is θ = (X^TX)^-1 * X^Ty. For the given values of m and n, what are the dimensions of θ, X, and y in this equation?\n",
    "\n",
    "**X is 28×5, y is 28×1, θ is 5×1**"
   ]
  },
  {
   "cell_type": "markdown",
   "metadata": {},
   "source": [
    "<br/>**4.**\n",
    "Suppose you have a dataset with m=50 examples and n=200000 features for each example. You want to use multivariate linear regression to fit the parameters θ to our data. Should you prefer gradient descent or the normal equation?\n",
    "\n",
    "**Gradient descent, since (X^TX)^-1 will be very slow to compute in the normal equation.**"
   ]
  },
  {
   "cell_type": "markdown",
   "metadata": {},
   "source": [
    "<br/>**5.**\n",
    "Which of the following are reasons for using feature scaling?\n",
    "\n",
    "**It speeds up gradient descent by making it require fewer iterations to get to a good solution.**"
   ]
  }
 ],
 "metadata": {
  "kernelspec": {
   "display_name": "Python 3",
   "language": "python",
   "name": "python3"
  },
  "language_info": {
   "codemirror_mode": {
    "name": "ipython",
    "version": 3
   },
   "file_extension": ".py",
   "mimetype": "text/x-python",
   "name": "python",
   "nbconvert_exporter": "python",
   "pygments_lexer": "ipython3",
   "version": "3.6.5"
  }
 },
 "nbformat": 4,
 "nbformat_minor": 2
}
