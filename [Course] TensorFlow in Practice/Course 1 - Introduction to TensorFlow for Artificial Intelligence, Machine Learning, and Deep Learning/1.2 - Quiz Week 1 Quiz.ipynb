{
  "nbformat": 4,
  "nbformat_minor": 0,
  "metadata": {
    "kernelspec": {
      "display_name": "Python 3",
      "language": "python",
      "name": "python3"
    },
    "language_info": {
      "codemirror_mode": {
        "name": "ipython",
        "version": 3
      },
      "file_extension": ".py",
      "mimetype": "text/x-python",
      "name": "python",
      "nbconvert_exporter": "python",
      "pygments_lexer": "ipython3",
      "version": "3.7.4"
    },
    "colab": {
      "name": "Quiz Template",
      "provenance": []
    }
  },
  "cells": [
    {
      "cell_type": "markdown",
      "metadata": {
        "id": "J7mnY7Ywcw9j",
        "colab_type": "text"
      },
      "source": [
        "## Week 1 - Week 1 Quiz"
      ]
    },
    {
      "cell_type": "markdown",
      "metadata": {
        "id": "ZouE_TOxcw9o",
        "colab_type": "text"
      },
      "source": [
        "<br/>**1.**\n",
        "The diagram for traditional programming had Rules and Data In, but what came out?\n",
        "\n",
        "**Answers**"
      ]
    },
    {
      "cell_type": "markdown",
      "metadata": {
        "colab_type": "text",
        "id": "ydA-UwXGeRIF"
      },
      "source": [
        "<br/>**2.**\n",
        "The diagram for Machine Learning had Answers and Data In, but what came out?\n",
        "\n",
        "**Rules**"
      ]
    },
    {
      "cell_type": "markdown",
      "metadata": {
        "colab_type": "text",
        "id": "-WpdYNeleUMH"
      },
      "source": [
        "<br/>**3.**\n",
        "When I tell a computer what the data represents (i.e. this data is for walking, this data is for running), what is that process called?\n",
        "\n",
        "**Labelling the Data**"
      ]
    },
    {
      "cell_type": "markdown",
      "metadata": {
        "colab_type": "text",
        "id": "igv9frUseT7U"
      },
      "source": [
        "<br/>**4.**\n",
        "What is a Dense?\n",
        "\n",
        "**A layer of connected neurons**"
      ]
    },
    {
      "cell_type": "markdown",
      "metadata": {
        "colab_type": "text",
        "id": "m0sGT8QseTgm"
      },
      "source": [
        "<br/>**5.**\n",
        "What does a Loss function do?\n",
        "\n",
        "**Measures how good the current ‘guess’ is**"
      ]
    },
    {
      "cell_type": "markdown",
      "metadata": {
        "colab_type": "text",
        "id": "MQEd8xwLeS2f"
      },
      "source": [
        "<br/>**6.**\n",
        "What does the optimizer do?\n",
        "\n",
        "**Generates a new and improved guess**"
      ]
    },
    {
      "cell_type": "markdown",
      "metadata": {
        "colab_type": "text",
        "id": "waOYJjFDeR52"
      },
      "source": [
        "<br/>**7.**\n",
        "What is Convergence?\n",
        "\n",
        "**The process of getting very close to the correct answer**"
      ]
    },
    {
      "cell_type": "markdown",
      "metadata": {
        "id": "Wqy027zHe3pl",
        "colab_type": "text"
      },
      "source": [
        "<br/>**8.**\n",
        "What does model.fit do?\n",
        "\n",
        "**It trains the neural network to fit one set of values to another**"
      ]
    }
  ]
}