{
  "nbformat": 4,
  "nbformat_minor": 0,
  "metadata": {
    "kernelspec": {
      "display_name": "Python 3",
      "language": "python",
      "name": "python3"
    },
    "language_info": {
      "codemirror_mode": {
        "name": "ipython",
        "version": 3
      },
      "file_extension": ".py",
      "mimetype": "text/x-python",
      "name": "python",
      "nbconvert_exporter": "python",
      "pygments_lexer": "ipython3",
      "version": "3.7.4"
    },
    "colab": {
      "name": "Quiz Template",
      "provenance": []
    }
  },
  "cells": [
    {
      "cell_type": "markdown",
      "metadata": {
        "id": "J7mnY7Ywcw9j",
        "colab_type": "text"
      },
      "source": [
        "## Week 2 - Week 2 Quiz"
      ]
    },
    {
      "cell_type": "markdown",
      "metadata": {
        "id": "ZouE_TOxcw9o",
        "colab_type": "text"
      },
      "source": [
        "<br/>**1.**\n",
        "What’s the name of the dataset of Fashion images used in this week’s code?\n",
        "\n",
        "**Fashion MNIST**"
      ]
    },
    {
      "cell_type": "markdown",
      "metadata": {
        "colab_type": "text",
        "id": "ydA-UwXGeRIF"
      },
      "source": [
        "<br/>**2.**\n",
        "What do the above mentioned Images look like?\n",
        "\n",
        "**28x28 Greyscale**"
      ]
    },
    {
      "cell_type": "markdown",
      "metadata": {
        "colab_type": "text",
        "id": "-WpdYNeleUMH"
      },
      "source": [
        "<br/>**3.**\n",
        "How many images are in the Fashion MNIST dataset?\n",
        "\n",
        "**70,000**"
      ]
    },
    {
      "cell_type": "markdown",
      "metadata": {
        "colab_type": "text",
        "id": "igv9frUseT7U"
      },
      "source": [
        "<br/>**4.**\n",
        "Why are there 10 output neurons?\n",
        "\n",
        "**There are 10 different labels**"
      ]
    },
    {
      "cell_type": "markdown",
      "metadata": {
        "colab_type": "text",
        "id": "m0sGT8QseTgm"
      },
      "source": [
        "<br/>**5.**\n",
        "What does Relu do?\n",
        "\n",
        "**It only returns x if x is greater than zero**"
      ]
    },
    {
      "cell_type": "markdown",
      "metadata": {
        "colab_type": "text",
        "id": "MQEd8xwLeS2f"
      },
      "source": [
        "<br/>**6.**\n",
        "Why do you split data into training and test sets?\n",
        "\n",
        "**To test a network with previously unseen data**"
      ]
    },
    {
      "cell_type": "markdown",
      "metadata": {
        "colab_type": "text",
        "id": "waOYJjFDeR52"
      },
      "source": [
        "<br/>**7.**\n",
        "What method gets called when an epoch finishes?\n",
        "\n",
        "**on_epoch_end**"
      ]
    },
    {
      "cell_type": "markdown",
      "metadata": {
        "id": "Wqy027zHe3pl",
        "colab_type": "text"
      },
      "source": [
        "<br/>**8.**\n",
        "What parameter to you set in your fit function to tell it to use callbacks?\n",
        "\n",
        "**callbacks=**"
      ]
    }
  ]
}