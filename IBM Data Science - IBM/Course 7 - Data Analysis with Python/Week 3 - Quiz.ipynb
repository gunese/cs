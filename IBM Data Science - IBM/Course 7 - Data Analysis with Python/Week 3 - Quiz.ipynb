{
 "cells": [
  {
   "cell_type": "markdown",
   "metadata": {},
   "source": [
    "## Week 3 - Quiz: Descriptive Statistics"
   ]
  },
  {
   "cell_type": "markdown",
   "metadata": {},
   "source": [
    "<br/>**1.**\n",
    "select the appropriate table for the following line of code:\n",
    "\n",
    "df1=pd.DataFrame({'A':[\"a\",\"b\",\"a\",\"c\",\"a\",\"c\",\"b\"]})\n",
    "\n",
    "df1['A'].value_counts()\n",
    "\n",
    "\n",
    " \n",
    "**value counts\n",
    "  a     3\n",
    "  b     2\n",
    "  c     2**"
   ]
  },
  {
   "cell_type": "markdown",
   "metadata": {},
   "source": [
    "<br/>**2.**\n",
    "Consider the following scatter plot, what kind of relationship do the two variables have\n",
    "\n",
    "<br/>![picture alt](https://d3c33hcgiwev3.cloudfront.net/imageAssetProxy.v1/BV6fQznTEeiM9Q4Js9CcVg_34ff8f3f543d6bcbb6a6ec6d86ac101c_Screen-Shot-2018-04-06-at-3.29.04-PM.png?expiry=1539388800000&hmac=R5scf9KUGNUUsHYt2Cup2dSk0cWa1-IOxQlSx94y0q0)\n",
    "\n",
    "**positive linear relationship**"
   ]
  },
  {
   "cell_type": "markdown",
   "metadata": {},
   "source": [
    "## Week 3 - Quiz: GroupBy in Python"
   ]
  },
  {
   "cell_type": "markdown",
   "metadata": {},
   "source": [
    "<br/>**1.**\n",
    "consider the dataframe df , how many different groups would there be if you applied the groupby method to the column 'A'\n",
    "\n",
    "<br/>![picture alt](https://d3c33hcgiwev3.cloudfront.net/imageAssetProxy.v1/fpm1RjnVEeiUEwpDBScAAA_e85476a605f6a21596cfdb779136efe2_Screen-Shot-2018-04-06-at-4.03.42-PM.png?expiry=1539388800000&hmac=iiubt2NAm599TXe06pPcH9LfqCgC-JU4gsE-h7dmI24)\n",
    " \n",
    "**3**"
   ]
  },
  {
   "cell_type": "markdown",
   "metadata": {},
   "source": [
    "<br/>**2.**\n",
    "Select the appropriate description of a pivot table\n",
    "\n",
    "**A pivot table has one variable displayed along the columns and the other variable displayed along the rows.**"
   ]
  },
  {
   "cell_type": "markdown",
   "metadata": {},
   "source": [
    "## Week 3 - Quiz: Correlation"
   ]
  },
  {
   "cell_type": "markdown",
   "metadata": {},
   "source": [
    "<br/>**1.**\n",
    "What is Correlation\n",
    " \n",
    "**measures to what extent different variables are interdependent**"
   ]
  },
  {
   "cell_type": "markdown",
   "metadata": {},
   "source": [
    "<br/>**2.**\n",
    "select the scatter plot with weak correlation\n",
    "\n",
    "<br/>![picture alt](https://d3c33hcgiwev3.cloudfront.net/imageAssetProxy.v1/fNVzuTnZEeidXxL-BXBIhA_996b146835e42b8c2288f2f0d5e8d26f_Screen-Shot-2018-04-06-at-4.28.18-PM.png?expiry=1539388800000&hmac=TfZHd-VNHwaIZSrbY_O4in6mKUKz3h_suwScqwqOWJU)\n",
    "\n",
    "**b**"
   ]
  },
  {
   "cell_type": "markdown",
   "metadata": {},
   "source": [
    "## Week 3 - Quiz: Correlation - Statistics"
   ]
  },
  {
   "cell_type": "markdown",
   "metadata": {},
   "source": [
    "<br/>**1.**\n",
    "Select the scatter plot with the correlation coefficient of -1\n",
    " \n",
    "<br/>![picture alt](https://d3c33hcgiwev3.cloudfront.net/imageAssetProxy.v1/KU6oDznjEeidXxL-BXBIhA_c53c131579b2994bb907f775a33aec18_Screen-Shot-2018-04-06-at-4.51.49-PM.png?expiry=1539388800000&hmac=90cfZIrJQfznW2es0JXvoY4905Ue3PDh3D31K7j1m1I) \n",
    "\n",
    "**c**"
   ]
  },
  {
   "cell_type": "markdown",
   "metadata": {},
   "source": [
    "<br/>**2.**\n",
    "Consider the following scatter plots a,b and c. What plot would have the highest correlation coefficient (this one is harder than it seems)\n",
    "\n",
    "<br/>![picture alt](https://d3c33hcgiwev3.cloudfront.net/imageAssetProxy.v1/A7kdbTnkEeiUEwpDBScAAA_f4555bfc2772dc4a173fcf275795d0e1_Screen-Shot-2018-04-06-at-5.45.21-PM.png?expiry=1539388800000&hmac=2NVmxZY7I01HvujSPu0z3mUFiH9b7Xzw9Axk6O4TiT4)\n",
    "\n",
    "**they all have the same value**"
   ]
  },
  {
   "cell_type": "markdown",
   "metadata": {},
   "source": [
    "## Week 3 - Quiz: Exploratory Data Analysis"
   ]
  },
  {
   "cell_type": "markdown",
   "metadata": {},
   "source": [
    "<br/>**1.**\n",
    "Consider the dataframe df, what method provides the summary statistics?\n",
    " \n",
    "**describe()**"
   ]
  },
  {
   "cell_type": "markdown",
   "metadata": {},
   "source": [
    "<br/>**2.**\n",
    "What does the horizontal axis in a scatter plot represent\n",
    "\n",
    "**independent variable**"
   ]
  },
  {
   "cell_type": "markdown",
   "metadata": {},
   "source": [
    "<br/>**3.**\n",
    "what is the largest possible element resulting in the following operation df.corr()\n",
    " \n",
    "**1**"
   ]
  },
  {
   "cell_type": "markdown",
   "metadata": {},
   "source": [
    "<br/>**4.**\n",
    "if the p-value of the Pearson Correlation is 1\n",
    "\n",
    "**none of the above**"
   ]
  },
  {
   "cell_type": "markdown",
   "metadata": {},
   "source": [
    "<br/>**5.**\n",
    "Consider the following dataframe:\n",
    "\n",
    "df_test = df['body-style', 'price']\n",
    "\n",
    "The following operation is applied:\n",
    "\n",
    "df_grp = df_test.groupby(['body-style'], as_index=False).mean()\n",
    "\n",
    "**The average price for each body style**"
   ]
  },
  {
   "cell_type": "markdown",
   "metadata": {},
   "source": [
    "<br/>**6.**\n",
    "What is the minimum possible value of Pearson's Correlation :\n",
    " \n",
    "**-1**"
   ]
  },
  {
   "cell_type": "markdown",
   "metadata": {},
   "source": [
    "<br/>**7.**\n",
    "What is the Pearson correlation between variables X and Y, if X=Y:\n",
    "\n",
    "**1**"
   ]
  }
 ],
 "metadata": {
  "kernelspec": {
   "display_name": "Python 3",
   "language": "python",
   "name": "python3"
  },
  "language_info": {
   "codemirror_mode": {
    "name": "ipython",
    "version": 3
   },
   "file_extension": ".py",
   "mimetype": "text/x-python",
   "name": "python",
   "nbconvert_exporter": "python",
   "pygments_lexer": "ipython3",
   "version": "3.6.5"
  }
 },
 "nbformat": 4,
 "nbformat_minor": 2
}
