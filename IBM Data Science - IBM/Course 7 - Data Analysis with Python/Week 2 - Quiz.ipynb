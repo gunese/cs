{
 "cells": [
  {
   "cell_type": "markdown",
   "metadata": {},
   "source": [
    "## Week 2 - Quiz: Dealing with Missing Values in Python"
   ]
  },
  {
   "cell_type": "markdown",
   "metadata": {},
   "source": [
    "<br/>**1.**\n",
    "how would you access the column ”body-style\" from the dataframe df\n",
    " \n",
    " **df[ ”bodystyle\"]**"
   ]
  },
  {
   "cell_type": "markdown",
   "metadata": {},
   "source": [
    "<br/>**2.**\n",
    "how would you drop the row with the missing value in the column price\n",
    "\n",
    "**df.dropna(subset=[\"price\"], axis=0, inplace = True)**"
   ]
  },
  {
   "cell_type": "markdown",
   "metadata": {},
   "source": [
    "<br/>**3.**\n",
    "what is the correct symbol for missing data\n",
    "\n",
    "**nan**"
   ]
  },
  {
   "cell_type": "markdown",
   "metadata": {},
   "source": [
    "## Week 2 - Quiz: Data Formatting in Python"
   ]
  },
  {
   "cell_type": "markdown",
   "metadata": {},
   "source": [
    "<br/>**1.**\n",
    "How would you add one to each element in the column df[\"a\"] and assign it back to the column df[\"a\"]\n",
    " \n",
    " **df[\"a\"]=df[\"a\"]+1**"
   ]
  },
  {
   "cell_type": "markdown",
   "metadata": {},
   "source": [
    "<br/>**2.**\n",
    "How would you cast each element in the column \"price\" to an integer\n",
    "\n",
    "**df[\"price\"] = df[\"price\"].astype(\"int\")**"
   ]
  },
  {
   "cell_type": "markdown",
   "metadata": {},
   "source": [
    "## Week 2 - Quiz: Data Normalization in Python"
   ]
  },
  {
   "cell_type": "markdown",
   "metadata": {},
   "source": [
    "<br/>**1.**\n",
    "what is the maximum value for feature scaling\n",
    " \n",
    " **1**"
   ]
  },
  {
   "cell_type": "markdown",
   "metadata": {},
   "source": [
    "<br/>**2.**\n",
    "consider the column \"length\", select the correct code for z-score or standard score.\n",
    "\n",
    "**df[\"length\"] = (df[\"length\"]-df[\"length\"].mean())/df[\"length\"].std()**"
   ]
  },
  {
   "cell_type": "markdown",
   "metadata": {},
   "source": [
    "## Week 2 - Quiz: Turning categorical variables into quantitative variables in Python"
   ]
  },
  {
   "cell_type": "markdown",
   "metadata": {},
   "source": [
    "<br/>**1.**\n",
    "consider the column diesel, what should the value for car B be:\n",
    "\n",
    "<br/>![picture alt](https://d3c33hcgiwev3.cloudfront.net/imageAssetProxy.v1/u8YveDnIEeig8Q74SlgkIA_6468dfb4d33c2187a523b99e7014afa1_Screen-Shot-2018-04-06-at-2.32.19-PM.png?expiry=1539388800000&hmac=D7eOGj2jDirky7OaW6FN061uHv9JV_hifcuE1D19WKs)\n",
    "\n",
    " \n",
    " **1**"
   ]
  },
  {
   "cell_type": "markdown",
   "metadata": {},
   "source": [
    "<br/>**2.**\n",
    "what is the correct line of code to perform One-hot encoding on the column 'fuel'\n",
    "\n",
    "**pd.get_dummies(df['fuel'])**"
   ]
  },
  {
   "cell_type": "markdown",
   "metadata": {},
   "source": [
    "## Week 2 - Quiz: Data Wrangling"
   ]
  },
  {
   "cell_type": "markdown",
   "metadata": {},
   "source": [
    "<br/>**1.**\n",
    "What task does the following line of code perform:\n",
    "\n",
    "df['peak-rpm'].mean()\n",
    "\n",
    "**calculate the mean of the column 'peak-rpm'**"
   ]
  },
  {
   "cell_type": "markdown",
   "metadata": {},
   "source": [
    "<br/>**2.**\n",
    "what task does the following lines of code perform:\n",
    "\n",
    "avg=df['bore'].mean(axis=0)\n",
    "df['bore'].replace(np.nan, avg, inplace= True)\n",
    "\n",
    "**calculate the mean value for the 'bore' column and replace all the NaN values of that column by the mean value**"
   ]
  },
  {
   "cell_type": "markdown",
   "metadata": {},
   "source": [
    "<br/>**3.**\n",
    "how would you rename column name from \"highway-mpg\" to \"highway-L/100km\"\n",
    "\n",
    "**df.rename(columns={'\"highway-mpg\"':'highway-L/100km'}, inplace=True)**"
   ]
  },
  {
   "cell_type": "markdown",
   "metadata": {},
   "source": [
    "<br/>**4.**\n",
    "what data type is the following set of numbers: 666, 1.1,232,23.12\n",
    "\n",
    "**float**"
   ]
  },
  {
   "cell_type": "markdown",
   "metadata": {},
   "source": [
    "<br/>**5.**\n",
    "The following code is an example of:\n",
    "\n",
    "df['length'] = df['length']/df['length'].max()\n",
    "\n",
    "**Simple feature scaling**"
   ]
  },
  {
   "cell_type": "markdown",
   "metadata": {},
   "source": [
    "<br/>**6.**\n",
    "Consider the two columns 'horsepower', and 'horsepower-binned', from the dataframe df, how many categories are there:\n",
    "\n",
    "<br/>![picture alt](https://d3c33hcgiwev3.cloudfront.net/imageAssetProxy.v1/HNPUdjOYEeiP-Qrke_kVoA_5cd6eb4e5587dc6cbb6a6ed79a95f98c_Screen-Shot-2018-03-29-at-5.29.19-PM.png?expiry=1539388800000&hmac=fTCA0TIn3vrjRfGRrs0VcsT8JYG9AyT3hcgGMF3EtWk)\n",
    "\n",
    " \n",
    " **3**"
   ]
  }
 ],
 "metadata": {
  "kernelspec": {
   "display_name": "Python 3",
   "language": "python",
   "name": "python3"
  },
  "language_info": {
   "codemirror_mode": {
    "name": "ipython",
    "version": 3
   },
   "file_extension": ".py",
   "mimetype": "text/x-python",
   "name": "python",
   "nbconvert_exporter": "python",
   "pygments_lexer": "ipython3",
   "version": "3.6.5"
  }
 },
 "nbformat": 4,
 "nbformat_minor": 2
}
