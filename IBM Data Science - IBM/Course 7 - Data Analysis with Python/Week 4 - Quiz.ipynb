{
 "cells": [
  {
   "cell_type": "markdown",
   "metadata": {},
   "source": [
    "## Week 4 - Quiz: Linear Regression and Multiple Linear Regression"
   ]
  },
  {
   "cell_type": "markdown",
   "metadata": {},
   "source": [
    "<br/>**1.**\n",
    "consider the following lines of code, what is the name of the column that contains the target values: "
   ]
  },
  {
   "cell_type": "code",
   "execution_count": null,
   "metadata": {},
   "outputs": [],
   "source": [
    "from sklearn.linear_model import LinearRegression \n",
    "lm=LinearRegression()\n",
    "X = df[['highway-mpg']]\n",
    "Y = df['price']\n",
    "lm.fit(X, Y)\n",
    "Yhat=lm.predict(X)"
   ]
  },
  {
   "cell_type": "markdown",
   "metadata": {},
   "source": [
    "**'price'**"
   ]
  },
  {
   "cell_type": "markdown",
   "metadata": {},
   "source": [
    "<br/>**2.**\n",
    "consider the following equation:\n",
    "\n",
    "<br/>![picture alt](https://d3c33hcgiwev3.cloudfront.net/imageAssetProxy.v1/mrc50jdfEeiKpA6ZQCE7wA_d5b99b98180e37f67b0659d10a8104f5_eq.png?expiry=1539475200000&hmac=FY4Oe0OjUN26wJPGP07X9_cJHRWHH85B6gNRIASKmIw)\n",
    "\n",
    "the variable y is?\n",
    "\n",
    "**target or dependent variable**"
   ]
  },
  {
   "cell_type": "markdown",
   "metadata": {},
   "source": [
    "## Week 4 - Quiz: Model Evaluation using Visualization"
   ]
  },
  {
   "cell_type": "markdown",
   "metadata": {},
   "source": [
    "<br/>**1.**\n",
    "Consider the following Residual Plot, is our linear model correct :\n",
    "\n",
    "<br/>![picture alt](https://d3c33hcgiwev3.cloudfront.net/imageAssetProxy.v1/Ul4kvjnnEeiM9Q4Js9CcVg_ced175ed7d43ea88b0ae95751bd3c150_Screen-Shot-2018-04-06-at-6.07.40-PM.png?expiry=1539475200000&hmac=T-srXB9gaKLYdaN48letcDXyuo92gV2ksnuQ2JDco4E)\n",
    "\n",
    "**'no'**"
   ]
  },
  {
   "cell_type": "markdown",
   "metadata": {},
   "source": [
    "<br/>**2.**\n",
    "Consider the following Residual Plot, is our linear model correct :\n",
    "\n",
    "<br/>![picture alt](https://d3c33hcgiwev3.cloudfront.net/imageAssetProxy.v1/1yk9oznoEeidXxL-BXBIhA_a46e1332db70e96251d52551b9e6950f_Screen-Shot-2018-04-06-at-6.21.38-PM.png?expiry=1539475200000&hmac=-mo5p2ZHihfRmKEQASH1ndF5WLpkOq0eqtC5QuzbmSk)\n",
    "\n",
    "**no**"
   ]
  },
  {
   "cell_type": "markdown",
   "metadata": {},
   "source": [
    "## Week 4 - Quiz: Polynomial Regression and Pipelines"
   ]
  },
  {
   "cell_type": "markdown",
   "metadata": {},
   "source": [
    "<br/>**1.**\n",
    "What functions are used to generate Polynomial Regression with more than one dimension"
   ]
  },
  {
   "cell_type": "markdown",
   "metadata": {},
   "source": [
    "**pr=PolynomialFeatures(degree=2)**\n",
    "\n",
    "**pr.fit_transform([1,2], include_bias=False)**"
   ]
  },
  {
   "cell_type": "markdown",
   "metadata": {},
   "source": [
    "<br/>**2.**\n",
    "Select the line of code that imports the module required for Pipelines\n",
    "\n",
    "**from sklearn.pipeline import Pipeline**"
   ]
  },
  {
   "cell_type": "markdown",
   "metadata": {},
   "source": [
    "## Week 4 - Quiz: Measures for In-Sample Evaluation"
   ]
  },
  {
   "cell_type": "markdown",
   "metadata": {},
   "source": [
    "<br/>**1.**\n",
    "Given the following values, what is the minimum value of R^2:\n",
    "\n",
    "**0**"
   ]
  },
  {
   "cell_type": "markdown",
   "metadata": {},
   "source": [
    "<br/>**2.**\n",
    "What value of R^2 (coefficient of determination) indicates your model performs worst\n",
    "\n",
    "**0**"
   ]
  },
  {
   "cell_type": "markdown",
   "metadata": {},
   "source": [
    "## Week 4 - Quiz: Model Development"
   ]
  },
  {
   "cell_type": "markdown",
   "metadata": {},
   "source": [
    "<br/>**1.**\n",
    "What does the following line of code do:"
   ]
  },
  {
   "cell_type": "code",
   "execution_count": null,
   "metadata": {},
   "outputs": [],
   "source": [
    "lm = LinearRegression()"
   ]
  },
  {
   "cell_type": "markdown",
   "metadata": {},
   "source": [
    "**create a linear regression object**"
   ]
  },
  {
   "cell_type": "markdown",
   "metadata": {},
   "source": [
    "<br/>**2.**\n",
    "What steps do the following lines of code perform:"
   ]
  },
  {
   "cell_type": "code",
   "execution_count": null,
   "metadata": {},
   "outputs": [],
   "source": [
    "Input=[('scale',StandardScaler()),('model',LinearRegression())]\n",
    "pipe=Pipeline(Input)\n",
    "pipe.fit(Z,y)\n",
    "ypipe=pipe.predict(Z)"
   ]
  },
  {
   "cell_type": "markdown",
   "metadata": {},
   "source": [
    "**Standardize the data, then perform a prediction using a linear regression model using the features Z and targets y**"
   ]
  },
  {
   "cell_type": "markdown",
   "metadata": {},
   "source": [
    "<br/>**3.**\n",
    "Let X be a dataframe with 100 rows and 5 columns, let y be the target with 100 samples, assuming all the relevant libraries and data have been imported, the following line of code has been executed:"
   ]
  },
  {
   "cell_type": "code",
   "execution_count": null,
   "metadata": {},
   "outputs": [],
   "source": [
    "LR = LinearRegression()\n",
    "LR.fit(X, y)\n",
    "yhat = LR.predict(X)"
   ]
  },
  {
   "cell_type": "markdown",
   "metadata": {},
   "source": [
    "**100**"
   ]
  },
  {
   "cell_type": "markdown",
   "metadata": {},
   "source": [
    "<br/>**4.**\n",
    "What statement is true about Polynomial linear regression\n",
    "\n",
    "**Although the predictor variables of Polynomial linear regression are not linear the relationship between the parameters or coefficients is linear.**"
   ]
  },
  {
   "cell_type": "markdown",
   "metadata": {},
   "source": [
    "<br/>**5.**\n",
    "Consider the plot of one independent and one dependent variable. This is an example of:\n",
    "\n",
    "<br/>![picture alt](https://d3c33hcgiwev3.cloudfront.net/imageAssetProxy.v1/TySjQTdcEeinvxKfGmYdOg_c57dd678f7a1bdb52eb2b4f801e46335_Screen-Shot-2018-04-03-at-12.30.27-PM.png?expiry=1539475200000&hmac=_ecJL8N8YJ8IPNoiOystoCd6dYgdM9vyOG6-nf9kD68)\n",
    "\n",
    "**Polynomial Regressions**"
   ]
  },
  {
   "cell_type": "markdown",
   "metadata": {},
   "source": [
    "<br/>**6.**\n",
    "consider the following equation:\n",
    "\n",
    "<br/>![picture alt](https://d3c33hcgiwev3.cloudfront.net/imageAssetProxy.v1/cjdhDDdgEeiKpA6ZQCE7wA_53d1eb84343024b9e3647268e3c69f5e_eq.png?expiry=1539475200000&hmac=N3-nOx-ci1OCvE0JEeGdv8NQV8eINl7pXkHRUkRTQQQ)\n",
    "\n",
    "what is the parameter b_0 (b subscript 0)\n",
    "\n",
    "**the intercept**"
   ]
  }
 ],
 "metadata": {
  "kernelspec": {
   "display_name": "Python 3",
   "language": "python",
   "name": "python3"
  },
  "language_info": {
   "codemirror_mode": {
    "name": "ipython",
    "version": 3
   },
   "file_extension": ".py",
   "mimetype": "text/x-python",
   "name": "python",
   "nbconvert_exporter": "python",
   "pygments_lexer": "ipython3",
   "version": "3.6.5"
  }
 },
 "nbformat": 4,
 "nbformat_minor": 2
}
