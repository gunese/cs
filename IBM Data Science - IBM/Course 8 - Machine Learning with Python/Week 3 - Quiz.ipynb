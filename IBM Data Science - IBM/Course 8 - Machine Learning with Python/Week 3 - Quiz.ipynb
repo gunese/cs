{
 "cells": [
  {
   "cell_type": "markdown",
   "metadata": {},
   "source": [
    "## Week 3 - Quiz: Classification"
   ]
  },
  {
   "cell_type": "markdown",
   "metadata": {},
   "source": [
    "<br/>**1.**\n",
    "Which one IS NOT a sample of classification problem?\n",
    " \n",
    " **To predict the amount of money a customer will spend in one year.**"
   ]
  },
  {
   "cell_type": "markdown",
   "metadata": {},
   "source": [
    "<br/>**2.**\n",
    "Which of the following sentences are TRUE about Logistic Regression (select all the options that are correct)??\n",
    "\n",
    "**Logistic regression can be used both for binary classification and multi-class classification**\n",
    "\n",
    "**Logistic regression is analogous to linear regression but takes a categorical/discrete target field instead of a numeric one.**\n",
    "\n",
    "**In logistic regression, the dependent variable is binary.**"
   ]
  },
  {
   "cell_type": "markdown",
   "metadata": {},
   "source": [
    "<br/>**3.**\n",
    "Which of the following examples is/are a sample application of Logistic Regression (select all the options that are correct)?\n",
    " \n",
    "**The probability that a person has a heart attack within a specified time period using person's age and sex.**\n",
    " \n",
    "**Customer's propensity to purchase a product or halt a subscription in marketing applications.** \n",
    "\n",
    "**Likelihood of a homeowner defaulting on a mortgage.**"
   ]
  },
  {
   "cell_type": "markdown",
   "metadata": {},
   "source": [
    "<br/>**4.**\n",
    "Which one is TRUE about kNN algorithm?\n",
    "\n",
    "**kNN algorithm can be used to estimate values for a continuous target.**"
   ]
  },
  {
   "cell_type": "markdown",
   "metadata": {},
   "source": [
    "<br/>**5.**\n",
    "What is \"information gain\" in decision trees??\n",
    "\n",
    "**It is entropy of a tree before split minus weighted entropy after split by an attribute.**"
   ]
  }
 ],
 "metadata": {
  "kernelspec": {
   "display_name": "Python 3",
   "language": "python",
   "name": "python3"
  },
  "language_info": {
   "codemirror_mode": {
    "name": "ipython",
    "version": 3
   },
   "file_extension": ".py",
   "mimetype": "text/x-python",
   "name": "python",
   "nbconvert_exporter": "python",
   "pygments_lexer": "ipython3",
   "version": "3.6.5"
  }
 },
 "nbformat": 4,
 "nbformat_minor": 2
}
