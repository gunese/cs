{
 "cells": [
  {
   "cell_type": "markdown",
   "metadata": {},
   "source": [
    "## Week 2 - Quiz: String Patterns, Ranges, Sorting and Grouping"
   ]
  },
  {
   "cell_type": "markdown",
   "metadata": {},
   "source": [
    "<br/>**1.**\n",
    "You want to select author's last name from a table, but you only remember the author’s last name starts with the letter B, which string pattern can you use?\n",
    " \n",
    " **SELECT lastname from author where lastname like ‘B%’**"
   ]
  },
  {
   "cell_type": "markdown",
   "metadata": {},
   "source": [
    "<br/>**2.**\n",
    "In a SELECT statement, which SQL clause controls how the result set is displayed?\n",
    "\n",
    "**ORDER BY clause**"
   ]
  },
  {
   "cell_type": "markdown",
   "metadata": {},
   "source": [
    "<br/>**3.**\n",
    "Which SELECT statement eliminates duplicates in the result set?\n",
    "\n",
    "**SELECT distinct(country) from author**"
   ]
  },
  {
   "cell_type": "markdown",
   "metadata": {},
   "source": [
    "<br/>**4.**\n",
    "What is the default sorting mode of the ORDER BY clause?\n",
    "\n",
    "**Ascending**"
   ]
  },
  {
   "cell_type": "markdown",
   "metadata": {},
   "source": [
    "<br/>**5.**\n",
    "Which of the following can be used in a SELECT statement to restrict a result set?\n",
    "\n",
    "**All of the above**"
   ]
  },
  {
   "cell_type": "markdown",
   "metadata": {},
   "source": [
    "## Week 2 - Quiz: JOIN operations"
   ]
  },
  {
   "cell_type": "markdown",
   "metadata": {},
   "source": [
    "<br/>**1.**\n",
    "An INNER JOIN returns only the rows that match. (T/F)\n",
    " \n",
    " **True**"
   ]
  },
  {
   "cell_type": "markdown",
   "metadata": {},
   "source": [
    "<br/>**2.**\n",
    "A LEFT OUTER JOIN displays all the rows from the right table, and combines matching rows from the left table. (T/F)\n",
    "\n",
    "**False**"
   ]
  },
  {
   "cell_type": "markdown",
   "metadata": {},
   "source": [
    "<br/>**3.**\n",
    "When using an OUTER JOIN, you must explicitly state what kind of OUTER JOIN you want - a LEFT JOIN, a RIGHT JOIN, or a FULL JOIN. (T/F)\n",
    "\n",
    "**True**"
   ]
  },
  {
   "cell_type": "markdown",
   "metadata": {},
   "source": [
    "<br/>**4.**\n",
    "Which of the following are valid types of JOINs?\n",
    "\n",
    "**LEFT OUTER JOIN**\n",
    "\n",
    "**RIGHT OUTER JOIN**\n",
    "\n",
    "**FULL OUTER JOIN**"
   ]
  },
  {
   "cell_type": "markdown",
   "metadata": {},
   "source": [
    "<br/>**5.**\n",
    "A FULL JOIN returns only the rows that match. (T/F)\n",
    "\n",
    "**False**"
   ]
  },
  {
   "cell_type": "markdown",
   "metadata": {},
   "source": [
    "## Week 2 - Practice Quiz: Review of Database Constraints"
   ]
  },
  {
   "cell_type": "markdown",
   "metadata": {},
   "source": [
    "<br/>**1.**\n",
    "Now let us try and apply the concepts you have learned about relational model constraints to a real world example of a database. We will be working on a relational database schema called Car dealership. The diagram below show the schema diagram for the Car Dealership relational database schema.\n",
    "\n",
    "<br/>![picture alt](https://d3c33hcgiwev3.cloudfront.net/imageAssetProxy.v1/eEEuaWp3Eei5FgrpHNEYyg_5aea3f10a8e89713521baf576553b72f_CarDealershipDB.jpg?expiry=1538956800000&hmac=PPqTM4H4sDdnW14AqCmvawKdhaQPZwoRwbQdZPxB-2w)\n",
    "\n",
    "Please answer the following questions based on the above schema:\n",
    "\n",
    "Identify the primary key of the relation CAR.\n",
    " \n",
    " **Serial_no**"
   ]
  },
  {
   "cell_type": "markdown",
   "metadata": {},
   "source": [
    "<br/>**2.**\n",
    "Referring to diagram for the Car Dealership database schema in the previous question about the, answer:\n",
    "\n",
    "Identify the Foreign Key(s) of the relation SALE.\n",
    "\n",
    "**Salesperson_id and Serial_no**"
   ]
  },
  {
   "cell_type": "markdown",
   "metadata": {},
   "source": [
    "<br/>**3.**\n",
    "Referring to the Car Dealership database schema given above, answer:\n",
    "\n",
    "Which which attribute(s) is/are used to enforce Referential Integrity Constraint in the relation SALE?\n",
    "\n",
    "**Salesperson_id and Serial_no**"
   ]
  },
  {
   "cell_type": "markdown",
   "metadata": {},
   "source": [
    "## Week 2 - Practice Quiz: Optional Not Graded Quiz on Constraints"
   ]
  },
  {
   "cell_type": "markdown",
   "metadata": {},
   "source": [
    "<br/>**1.**\n",
    "Which Relational Constraint prevents duplicate rows in a table?\n",
    " \n",
    " **Entity Integrity constraint**"
   ]
  },
  {
   "cell_type": "markdown",
   "metadata": {},
   "source": [
    "<br/>**2.**\n",
    "Which Relational Constraint ensures the validity of the data using a combination of Primary Keys and Foreign Keys.\n",
    "\n",
    "**Referential Integrity Constraint**"
   ]
  },
  {
   "cell_type": "markdown",
   "metadata": {},
   "source": [
    "<br/>**3.**\n",
    "Which of the following statement(s) are correct about primary keys?\n",
    "\n",
    "**The value of the Primary Key must be unique for each instance of the entity.**\n",
    "\n",
    "**The Primary Key is immutable.i.e., once created the value of the Primary Key cannot be changed.**\n",
    "\n",
    "**Primary keys can not have missing values (or NULL) values.**"
   ]
  },
  {
   "cell_type": "markdown",
   "metadata": {},
   "source": [
    "<br/>**4.**\n",
    "Which of the following statements is true?\n",
    "\n",
    "**A Foreign Key refers to a primary key of another table**"
   ]
  }
 ],
 "metadata": {
  "kernelspec": {
   "display_name": "Python 3",
   "language": "python",
   "name": "python3"
  },
  "language_info": {
   "codemirror_mode": {
    "name": "ipython",
    "version": 3
   },
   "file_extension": ".py",
   "mimetype": "text/x-python",
   "name": "python",
   "nbconvert_exporter": "python",
   "pygments_lexer": "ipython3",
   "version": "3.6.5"
  }
 },
 "nbformat": 4,
 "nbformat_minor": 2
}
