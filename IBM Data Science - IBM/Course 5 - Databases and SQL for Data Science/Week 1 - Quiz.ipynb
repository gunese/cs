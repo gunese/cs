{
 "cells": [
  {
   "cell_type": "markdown",
   "metadata": {},
   "source": [
    "## Week 1 - Quiz: Databases"
   ]
  },
  {
   "cell_type": "markdown",
   "metadata": {},
   "source": [
    "<br/>**1.**\n",
    "Which of the following statements are correct about databases :\n",
    " \n",
    " **All of the above**"
   ]
  },
  {
   "cell_type": "markdown",
   "metadata": {},
   "source": [
    "<br/>**2.**\n",
    "Which of the following statements about a Database is/are correct?\n",
    "\n",
    "**A database is a logically coherent collection of data with some inherent meaning**"
   ]
  },
  {
   "cell_type": "markdown",
   "metadata": {},
   "source": [
    "<br/>**3.**\n",
    "Select the statements below that are correct about database services or database instances:\n",
    "\n",
    "**All of the above**"
   ]
  },
  {
   "cell_type": "markdown",
   "metadata": {},
   "source": [
    "<br/>**4.**\n",
    "The 5 basic SQL commands are...\n",
    "\n",
    "**CREATE, SELECT, INSERT, UPDATE, DELETE**"
   ]
  },
  {
   "cell_type": "markdown",
   "metadata": {},
   "source": [
    "<br/>**5.**\n",
    "A database stores data in tabular form only. True or False?\n",
    "\n",
    "**False**"
   ]
  },
  {
   "cell_type": "markdown",
   "metadata": {},
   "source": [
    "## Week 1 - Quiz: Basic SQL"
   ]
  },
  {
   "cell_type": "markdown",
   "metadata": {},
   "source": [
    "<br/>**1.**\n",
    "The primary key of a relational table uniquely identifies each row in a table. True or False?\n",
    " \n",
    " **True**"
   ]
  },
  {
   "cell_type": "markdown",
   "metadata": {},
   "source": [
    "<br/>**2.**\n",
    "The INSERT statement cannot be used to insert multiple rows in a single statement. (T/F)\n",
    "\n",
    "**False**"
   ]
  },
  {
   "cell_type": "markdown",
   "metadata": {},
   "source": [
    "<br/>**3.**\n",
    "The SELECT statement is called a Query, and the output we get from executing the query is called a Result Set.\n",
    "\n",
    "**True**"
   ]
  },
  {
   "cell_type": "markdown",
   "metadata": {},
   "source": [
    "<br/>**4.**\n",
    "The CREATE TABLE statement is a....\n",
    "\n",
    "**DDL statement**"
   ]
  },
  {
   "cell_type": "markdown",
   "metadata": {},
   "source": [
    "<br/>**5.**\n",
    "What are the basic categories of the SQL language based on functionality?\n",
    "\n",
    "**Both of the above**"
   ]
  },
  {
   "cell_type": "markdown",
   "metadata": {},
   "source": [
    "## Week 1 - Practice Quiz: Review of Relational Database Concepts"
   ]
  },
  {
   "cell_type": "markdown",
   "metadata": {},
   "source": [
    "<br/>**1.**\n",
    "So far you learned that Entity-Relationship Diagrams are a tool to design relational databases, and the concepts of a relational model including the terms entity, attribute, degree, and cardinality. Now let us try and apply the concepts we have learned to a real world example of a database. We will be working on a relational database schema called Car dealership.The diagram below show the schema diagram for the Car Dealership relational database schema.\n",
    "\n",
    "![picture alt](https://d3c33hcgiwev3.cloudfront.net/imageAssetProxy.v1/iR_wskzFEeivHgqn57QrAg_5007ab10c776b62af45223728899f724_Module1_Car_Schema.png?expiry=1538956800000&hmac=2jJF34akh8N9lGErxuKKHFaqWAxvsmX5oxWnVvaTGy8 \"Title is optional\")\n",
    "\n",
    "\n",
    "<br/>A database has to be designed to keep track of automobile sales in a car dealership. Please answer the following questions based on the above schema.\n",
    "\n",
    "How many relations does the Car dealership Schema contain?\n",
    " \n",
    " **3**"
   ]
  },
  {
   "cell_type": "markdown",
   "metadata": {},
   "source": [
    "<br/>**2.**\n",
    "Referring to the CAR DEALERSHIP Database schema above, indicate:\n",
    "\n",
    "How many attributes does the relation CAR contain?\n",
    "\n",
    "**4**"
   ]
  },
  {
   "cell_type": "markdown",
   "metadata": {},
   "source": [
    "<br/>**3.**\n",
    "Referring to the CAR DEALERSHIP Database schema above, indicate:\n",
    "\n",
    "What is the degree of the relation Salesperson?\n",
    "\n",
    "**3**"
   ]
  },
  {
   "cell_type": "markdown",
   "metadata": {},
   "source": [
    "## Week 1 - Practice Quiz: Optional Not Graded Quiz on Relational Concepts"
   ]
  },
  {
   "cell_type": "markdown",
   "metadata": {},
   "source": [
    "<br/>**1.**\n",
    "Advantages of the relational model include:\n",
    " \n",
    " **All of the above**"
   ]
  },
  {
   "cell_type": "markdown",
   "metadata": {},
   "source": [
    "<br/>**2.**\n",
    "A table containing one or more foreign keys is called a Dependent table. True or False?\n",
    "\n",
    "**True**"
   ]
  },
  {
   "cell_type": "markdown",
   "metadata": {},
   "source": [
    "<br/>**3.**\n",
    "The Primary Key of a relational table uniquely identifies each _____ in a table.\n",
    "\n",
    "**row**"
   ]
  }
 ],
 "metadata": {
  "kernelspec": {
   "display_name": "Python 3",
   "language": "python",
   "name": "python3"
  },
  "language_info": {
   "codemirror_mode": {
    "name": "ipython",
    "version": 3
   },
   "file_extension": ".py",
   "mimetype": "text/x-python",
   "name": "python",
   "nbconvert_exporter": "python",
   "pygments_lexer": "ipython3",
   "version": "3.6.5"
  }
 },
 "nbformat": 4,
 "nbformat_minor": 2
}
