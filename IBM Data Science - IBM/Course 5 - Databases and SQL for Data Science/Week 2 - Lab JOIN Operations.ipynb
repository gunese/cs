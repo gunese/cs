{
 "cells": [
  {
   "cell_type": "markdown",
   "metadata": {},
   "source": [
    "## Week 2 - Lab: JOIN Operations"
   ]
  },
  {
   "cell_type": "markdown",
   "metadata": {},
   "source": [
    "<br/>**1.**\n",
    "Follow these steps to create and run the queries indicated below\n",
    "\n",
    "1) Navigate to the Run SQL tool in Db2 on Cloud\n",
    "\n",
    "2) Compose query and run it.\n",
    "\n",
    "3) Check the Logs created under the Results section. Looking at the contents of the\n",
    "Log explains whether the SQL statement ran successfully. Also look at the query\n",
    "results to ensure the output is what you expected."
   ]
  },
  {
   "cell_type": "markdown",
   "metadata": {},
   "source": [
    "<br/>**Query 1A: Select the names and job start dates of all employees who work for\n",
    "the department number 5**\n",
    "\n",
    "[Hint: Use the Inner join operation with the EMPLOYEES table as the left table and\n",
    "the JOB_HISTORY table as the right table.]\n",
    "\n",
    "\n",
    "`select E.F_NAME, E.L_NAME, JH.START_DATE from EMPLOYEES as E INNER JOIN JOB_HISTORY as JH on E.EMP_ID=JH.EMPL_ID where E.DEP_ID ='5';`"
   ]
  },
  {
   "cell_type": "markdown",
   "metadata": {},
   "source": [
    "<br/>**Query 1B: Select the names, job start dates, and job titles of all employees\n",
    "who work for the department number 5.**\n",
    "\n",
    "[Hint: Perform an INNER JOIN with 3 tables – EMPLOYEES, JOB_HISTORY,\n",
    "JOBS]\n",
    "\n",
    "`select E.F_NAME,E.L_NAME, JH.START_DATE, J.JOB_TITLE from EMPLOYEES as E INNER JOIN JOB_HISTORY as JH on E.EMP_ID=JH.EMPL_ID INNER JOIN JOBS as J on E.JOB_ID=J.JOB_IDENT where E.DEP_ID ='5';`"
   ]
  },
  {
   "cell_type": "markdown",
   "metadata": {},
   "source": [
    "<br/>**Query 2A: Perform a Left Outer Join on the EMPLOYEES and DEPARTMENT\n",
    "tables and select employee id, last name, department id and department name\n",
    "for all employees**\n",
    "\n",
    "[Hint: Use the Left Outer Join operation with the EMPLOYEES table as the left table\n",
    "and the DEPARTMENTS table as the right table.] \n",
    "\n",
    "`select E.EMP_ID,E.L_NAME,E.DEP_ID,D.DEP_NAME from EMPLOYEES AS E LEFT OUTER JOIN DEPARTMENTS AS D ON E.DEP_ID=D.DEPT_ID_DEP;`"
   ]
  },
  {
   "cell_type": "markdown",
   "metadata": {},
   "source": [
    "<br/>**Query 2B: Re-write the query for 2A to limit the result set to include only the\n",
    "rows for employees born before 1980.**\n",
    "\n",
    "[Hint: use a WHERE clause. Could also use an INNER JOIN]\n",
    "\n",
    "`select E.EMP_ID,E.L_NAME,E.DEP_ID,D.DEP_NAME from EMPLOYEES AS E LEFT OUTER JOIN DEPARTMENTS AS D ON E.DEP_ID=D.DEPT_ID_DEP where YEAR(E.B_DATE) < 1980;`"
   ]
  },
  {
   "cell_type": "markdown",
   "metadata": {},
   "source": [
    "<br/>**Query 2C: Re-write the query for 2A to have the result set include all the\n",
    "employees but department names for only the employees who were born\n",
    "before 1980.**\n",
    "\n",
    "[Hint: use an AND in the INNER JOIN ON clause]\n",
    "\n",
    "`select E.EMP_ID,E.L_NAME,E.DEP_ID,D.DEP_NAME from EMPLOYEES AS E LEFT OUTER JOIN DEPARTMENTS AS D ON E.DEP_ID=D.DEPT_ID_DEP AND YEAR(E.B_DATE) < 1980;`"
   ]
  },
  {
   "cell_type": "markdown",
   "metadata": {},
   "source": [
    "<br/>**Query 3A: Perform a Full Join on the EMPLOYEES and DEPARTMENT tables\n",
    "and select the First name, Last name and Department name of all employees.**\n",
    "\n",
    "[Hint: Use the Full Outer Join operation with the EMPLOYEES table as the left table\n",
    "and the DEPARTMENTS table as the right table.] \n",
    "\n",
    "`select E.F_NAME,E.L_NAME,D.DEP_NAME from EMPLOYEES AS E FULL OUTER JOIN DEPARTMENTS AS D ON E.DEP_ID=D.DEPT_ID_DEP;`"
   ]
  },
  {
   "cell_type": "markdown",
   "metadata": {},
   "source": [
    "<br/>**Query 3B: Re-write Query 3A to have the result set include all employee\n",
    "names but department id and department names only for male employees**\n",
    "\n",
    "[Hint: Add an AND in Query 3A to filter on male employees in the ON clause. Can\n",
    "also use Left Outer Join] \n",
    "\n",
    "`select E.F_NAME,E.L_NAME,D.DEPT_ID_DEP, D.DEP_NAME from EMPLOYEES AS E FULL OUTER JOIN DEPARTMENTS AS D ON E.DEP_ID=D.DEPT_ID_DEP AND E.SEX = 'M';`"
   ]
  }
 ],
 "metadata": {
  "kernelspec": {
   "display_name": "Python 3",
   "language": "python",
   "name": "python3"
  },
  "language_info": {
   "codemirror_mode": {
    "name": "ipython",
    "version": 3
   },
   "file_extension": ".py",
   "mimetype": "text/x-python",
   "name": "python",
   "nbconvert_exporter": "python",
   "pygments_lexer": "ipython3",
   "version": "3.6.5"
  }
 },
 "nbformat": 4,
 "nbformat_minor": 2
}
