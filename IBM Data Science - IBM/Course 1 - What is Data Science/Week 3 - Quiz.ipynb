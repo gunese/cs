{
 "cells": [
  {
   "cell_type": "markdown",
   "metadata": {},
   "source": [
    "## Week 3 - Quiz: The Final Deliverable"
   ]
  },
  {
   "cell_type": "markdown",
   "metadata": {},
   "source": [
    "<br/>**1.**\n",
    "The ultimate purpose of analytics is to communicate findings to stakeholders to formulate policy or strategy.\n",
    " \n",
    " **True.**"
   ]
  },
  {
   "cell_type": "markdown",
   "metadata": {},
   "source": [
    "<br/>**2.**\n",
    "The reading mentions a common role of a data scientist is to use analytics insights to build a narrative to communicate findings to stakeholders.\n",
    "\n",
    "**True.**"
   ]
  },
  {
   "cell_type": "markdown",
   "metadata": {},
   "source": [
    "<br/>**3.**\n",
    "The United States Economic Forecast is a publication by:\n",
    "\n",
    "**Deloitte University Press**"
   ]
  },
  {
   "cell_type": "markdown",
   "metadata": {},
   "source": [
    "<br/>**4.**\n",
    "The report discussed in the reading successfully did the job of:\n",
    "\n",
    "**Using data and analytics to generate the likely economic scenarios.**"
   ]
  },
  {
   "cell_type": "markdown",
   "metadata": {},
   "source": [
    "<br/>**5.**\n",
    "According to the reading, in order to produce a compelling narrative, initial planning and conceptualizing of the final deliverable is of extreme importance.\n",
    "\n",
    "**True.**"
   ]
  },
  {
   "cell_type": "markdown",
   "metadata": {},
   "source": [
    "## Week 3 - Quiz: The Report Structure"
   ]
  },
  {
   "cell_type": "markdown",
   "metadata": {},
   "source": [
    "<br/>**1.**\n",
    "Regardless of the length of the final deliverable, which of the following does the author recommend that you include:\n",
    " \n",
    " \n",
    "**A cover page.**\n",
    "\n",
    "**Detailed contents.**\n",
    "\n",
    "**Table of contents.**\n",
    "\n",
    "**References**"
   ]
  },
  {
   "cell_type": "markdown",
   "metadata": {},
   "source": [
    "<br/>**2.**\n",
    "An introductory section is always helpful in introducing the research methods and presenting the statistical calculations.\n",
    " \n",
    " **False.**"
   ]
  },
  {
   "cell_type": "markdown",
   "metadata": {},
   "source": [
    "<br/>**3.**\n",
    "The results section is where you craft your main arguments and present your conclusion.\n",
    "\n",
    " \n",
    " **False.**"
   ]
  },
  {
   "cell_type": "markdown",
   "metadata": {},
   "source": [
    "<br/>**4.**\n",
    "The discussion section is where you introduce the research methods and data sources used for the analysis.\n",
    "\n",
    "**False.**"
   ]
  },
  {
   "cell_type": "markdown",
   "metadata": {},
   "source": [
    "<br/>**5.**\n",
    "Adding a list of references and an acknowledgment section are examples of housekeeping, according to the author.\n",
    "\n",
    "**True.**"
   ]
  }
 ],
 "metadata": {
  "kernelspec": {
   "display_name": "Python 3",
   "language": "python",
   "name": "python3"
  },
  "language_info": {
   "codemirror_mode": {
    "name": "ipython",
    "version": 3
   },
   "file_extension": ".py",
   "mimetype": "text/x-python",
   "name": "python",
   "nbconvert_exporter": "python",
   "pygments_lexer": "ipython3",
   "version": "3.6.6"
  }
 },
 "nbformat": 4,
 "nbformat_minor": 2
}
