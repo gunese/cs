{
 "cells": [
  {
   "cell_type": "markdown",
   "metadata": {},
   "source": [
    "## Week 2 - Quiz: Basic Visualization Tools"
   ]
  },
  {
   "cell_type": "markdown",
   "metadata": {},
   "source": [
    "<br/>**1.**\n",
    "Area plots are stacked by default.\n",
    " \n",
    " **True**"
   ]
  },
  {
   "cell_type": "markdown",
   "metadata": {},
   "source": [
    "<br/>**2.**\n",
    "The following code uses the artist layer to create a stacked area plot of the data in the pandas dataframe, area_df."
   ]
  },
  {
   "cell_type": "code",
   "execution_count": null,
   "metadata": {},
   "outputs": [],
   "source": [
    "series_df.plot(kind='area', figsize=(20, 10))\n",
    "\n",
    "plt.title('Plot Title')\n",
    "plt.ylabel('Vertical Axis Label')\n",
    "plt.xlabel('Horizontal Axis Label')\n",
    "\n",
    "plt.show()"
   ]
  },
  {
   "cell_type": "markdown",
   "metadata": {},
   "source": [
    "**False.**"
   ]
  },
  {
   "cell_type": "markdown",
   "metadata": {},
   "source": [
    "<br/>**3.**\n",
    "The following code will create a stacked area plot of the data in the pandas dataframe, area_df, with a transparency value of 0.35?"
   ]
  },
  {
   "cell_type": "code",
   "execution_count": null,
   "metadata": {},
   "outputs": [],
   "source": [
    "import matplotlib.pyplot as plt\n",
    "\n",
    "transparency = 0.35 \n",
    "area_df.plot(kind='area', alpha=transparency, figsize=(20, 10))\n",
    "\n",
    "plt.title('Plot Title')\n",
    "plt.ylabel('Vertical Axis Label')\n",
    "plt.xlabel('Horizontal Axis Label')\n",
    "\n",
    "plt.show()"
   ]
  },
  {
   "cell_type": "markdown",
   "metadata": {},
   "source": [
    "**True.**"
   ]
  },
  {
   "cell_type": "markdown",
   "metadata": {},
   "source": [
    "<br/>**4.**\n",
    "Given a pandas series, series_data, which of the following will create a histogram of series_data and align the bin edges with the horizontal tick marks?"
   ]
  },
  {
   "cell_type": "code",
   "execution_count": null,
   "metadata": {},
   "outputs": [],
   "source": [
    "count, bin_edges = np.histogram(series_data)\n",
    "series_data.plot(kind='hist', xticks = bin_edges)"
   ]
  },
  {
   "cell_type": "markdown",
   "metadata": {},
   "source": [
    "<br/>**5.**\n",
    "question.plot(type='bar', rot=90)\n",
    "\n",
    "**False.**"
   ]
  },
  {
   "cell_type": "markdown",
   "metadata": {},
   "source": [
    "## Week 2 - Quiz: Specialized Visualization Tools"
   ]
  },
  {
   "cell_type": "markdown",
   "metadata": {},
   "source": [
    "<br/>**1.**\n",
    "Bar charts are less confusing than pie charts and should be your first attempt when creating a visual to explore a dataset.\n",
    " \n",
    "**True.**"
   ]
  },
  {
   "cell_type": "markdown",
   "metadata": {},
   "source": [
    "<br/>**2.**\n",
    "\n",
    "![picture alt](https://d3c33hcgiwev3.cloudfront.net/imageAssetProxy.v1/uYkg-DhJEeizZhIWROSU4A_1ed0d92500c6ce66e00996a01b5aa592_boxplot.png?expiry=1539129600000&hmac=o_ELxGznfEUEfKsfUKAkqUDFuiHWqoUozalgB3DbZmE)\n",
    "\n",
    "<br/>What do the letters in the box plot above represent?\n",
    "\n",
    "**A = Median, B = Third Quartile, C = First Quartile, D = Inter Quartile Range, E = Minimum, and F = Outliers**"
   ]
  },
  {
   "cell_type": "markdown",
   "metadata": {},
   "source": [
    "<br/>**3.**\n",
    "What is the correct combination of function and parameter to create a box plot in Matplotlib?"
   ]
  },
  {
   "cell_type": "markdown",
   "metadata": {},
   "source": [
    "**Function = plot, and Parameter = kind with value = \"box\"**"
   ]
  },
  {
   "cell_type": "markdown",
   "metadata": {},
   "source": [
    "<br/>**4.**\n",
    "Which of the lines of code below will create the following scatter plot, given the pandas dataframe, df_total?\n",
    "\n",
    "<br/>![picture alt](https://d3c33hcgiwev3.cloudfront.net/imageAssetProxy.v1/XlfvbDwOEeiUEwpDBScAAA_3f3f034b93daff111b04b102b76f4926_scatter_plot.png?expiry=1539129600000&hmac=rMFA4VRvtTHoLc7cmrv0o2KbC5cvrWtNbzEmmN7ua1A)"
   ]
  },
  {
   "cell_type": "code",
   "execution_count": null,
   "metadata": {},
   "outputs": [],
   "source": [
    "import matplotlib.pyplot as plt\n",
    "\n",
    "df_total.plot(kind='scatter', x='year', y='total')\n",
    "\n",
    "plt.title('Total Immigrant population to Canada from 1980 - 2013')\n",
    "plt.xlabel ('Year')\n",
    "plt.ylabel('Number of Immigrants')"
   ]
  },
  {
   "cell_type": "markdown",
   "metadata": {},
   "source": [
    "<br/>**5.**\n",
    "A bubble plot is a variation of the scatter plot that displays one dimension of data.\n",
    "\n",
    "**False.**"
   ]
  }
 ],
 "metadata": {
  "kernelspec": {
   "display_name": "Python 3",
   "language": "python",
   "name": "python3"
  },
  "language_info": {
   "codemirror_mode": {
    "name": "ipython",
    "version": 3
   },
   "file_extension": ".py",
   "mimetype": "text/x-python",
   "name": "python",
   "nbconvert_exporter": "python",
   "pygments_lexer": "ipython3",
   "version": "3.6.5"
  }
 },
 "nbformat": 4,
 "nbformat_minor": 2
}
