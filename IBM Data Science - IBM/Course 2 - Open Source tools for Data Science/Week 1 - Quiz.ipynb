{
 "cells": [
  {
   "cell_type": "markdown",
   "metadata": {},
   "source": [
    "## Week 1 - Practice Quiz: Practice Quiz"
   ]
  },
  {
   "cell_type": "markdown",
   "metadata": {},
   "source": [
    "<br/>**1.**\n",
    "Cognitive Class Labs includes tools hosted in the cloud so you can access the data science tools directly in your web browser\n",
    " \n",
    " **True.**"
   ]
  },
  {
   "cell_type": "markdown",
   "metadata": {},
   "source": [
    "## Week 1 - Quiz: Quiz 1 - Cognitive Class Labs"
   ]
  },
  {
   "cell_type": "markdown",
   "metadata": {},
   "source": [
    "<br/>**1.**\n",
    "What is Cognitive Class Labs?\n",
    "\n",
    "**All of the above**"
   ]
  },
  {
   "cell_type": "markdown",
   "metadata": {},
   "source": [
    "<br/>**2.**\n",
    "Cognitive Class Labs provides an integrated environment to…\n",
    "\n",
    "**All of the above**"
   ]
  },
  {
   "cell_type": "markdown",
   "metadata": {},
   "source": [
    "<br/>**3.**\n",
    "Zeppelin and Jupyter Notebooks are great for …\n",
    "\n",
    "**Interactive Data Analytics**"
   ]
  },
  {
   "cell_type": "markdown",
   "metadata": {},
   "source": [
    "<br/>**4.**\n",
    "Which of the following feature of RStudio specifically enables you to create interactive apps or visualizations?\n",
    "\n",
    "**Shiny**"
   ]
  },
  {
   "cell_type": "markdown",
   "metadata": {},
   "source": [
    "<br/>**5.**\n",
    "True or False: Basic charts are already included in Apache Zeppelin, allowing you to convert data tables directly into visualizations without any code.\n",
    "\n",
    "**True**"
   ]
  },
  {
   "cell_type": "markdown",
   "metadata": {},
   "source": [
    "## Week 1 - Quiz: Quiz 2 - Jupyter Notebooks"
   ]
  },
  {
   "cell_type": "markdown",
   "metadata": {},
   "source": [
    "<br/>**1.**\n",
    "What can you write in Jupyter Notebooks? Select all that apply:\n",
    " \n",
    "**Code to be executed in one of the kernels (e.g. Python, R or Scala)**\n",
    "\n",
    "**Stylized text in a format called \"Markdown\".**\n",
    "\n",
    "**HTML code -- HTML can be written and rendered via Markdown cells.**"
   ]
  },
  {
   "cell_type": "markdown",
   "metadata": {},
   "source": [
    "<br/>**2.**\n",
    "What were Jupyter notebooks called before the name was changed to “Jupyter”?\n",
    " \n",
    " **IPython notebooks**"
   ]
  },
  {
   "cell_type": "markdown",
   "metadata": {},
   "source": [
    "<br/>**3.**\n",
    "Which of the following can specifically enable you to leverage big data with Jupyter Notebooks? \n",
    "\n",
    "\n",
    " \n",
    " **Apache Spark**"
   ]
  },
  {
   "cell_type": "markdown",
   "metadata": {},
   "source": [
    "<br/>**4.**\n",
    "Which of the following options are TRUE? Select all that apply.\n",
    "\n",
    "**You can download and save Jupyter Notebooks as .ipynb files.**\n",
    "\n",
    "**You can change kernels within a Jupyter Notebook (e.g., to R or Python or Scala).**\n",
    "\n",
    "**You can connect to databases from within Jupyter Notebooks.**"
   ]
  },
  {
   "cell_type": "markdown",
   "metadata": {},
   "source": [
    "<br/>**5.**\n",
    "True or False? Although you can change the kernel of the Jupyter Notebook between different programming languages (e.g., Python, R, Scala), you cannot use multiple kernels within the same Jupyter notebook (e.g., running Python, R and Scala within the same notebook).\n",
    "\n",
    "**True**"
   ]
  }
 ],
 "metadata": {
  "kernelspec": {
   "display_name": "Python 3",
   "language": "python",
   "name": "python3"
  },
  "language_info": {
   "codemirror_mode": {
    "name": "ipython",
    "version": 3
   },
   "file_extension": ".py",
   "mimetype": "text/x-python",
   "name": "python",
   "nbconvert_exporter": "python",
   "pygments_lexer": "ipython3",
   "version": "3.6.6"
  }
 },
 "nbformat": 4,
 "nbformat_minor": 2
}
