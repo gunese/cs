{
 "cells": [
  {
   "cell_type": "markdown",
   "metadata": {},
   "source": [
    "## Week 2 - Quiz: Angles between vectors using a non-standard inner product"
   ]
  },
  {
   "cell_type": "markdown",
   "metadata": {},
   "source": [
    "<br/>**1.**\n",
    "\n",
    "![picture alt](https://i.ibb.co/RNS5ry0/G0-MVag-Q8-Eeib-gphs-IDdp-A-71b7b9ab5277b2bb9c46163aaa88a29e-week2-2vec.png)\n",
    "\n",
    "Compute the angle between \n",
    "$\\mathbf{x}=\n",
    "\\begin{bmatrix} \n",
    "1 \\\\\n",
    "1 \n",
    "\\end{bmatrix}$ and\n",
    "$\\mathbf{y}=\n",
    "\\begin{bmatrix} \n",
    "-1 \\\\\n",
    "1 \n",
    "\\end{bmatrix}$ using the inner product defined by\n",
    "$\\langle \\mathbf{x}, \\mathbf{y} \\rangle = \\mathbf{x}^T\n",
    "\\begin{bmatrix} \n",
    "2 & -1 \\\\\n",
    "-1 & 4\n",
    "\\end{bmatrix} \\mathbf{y}$\n",
    "\n",
    "\n",
    "**1.2 rad $(69^\\circ)$**"
   ]
  },
  {
   "cell_type": "markdown",
   "metadata": {},
   "source": [
    "<br/>**2.**\n",
    "\n",
    "![picture alt](https://i.ibb.co/g9tYht0/G0-MVag-Q8-Eeib-gphs-IDdp-A-71b7b9ab5277b2bb9c46163aaa88a29e-week2-2vec.png)\n",
    "\n",
    "Compute the angle between \n",
    "$\\mathbf{x}=\n",
    "\\begin{bmatrix} \n",
    "0 \\\\\n",
    "-1 \n",
    "\\end{bmatrix}$ and\n",
    "$\\mathbf{y}=\n",
    "\\begin{bmatrix} \n",
    "1 \\\\\n",
    "1 \n",
    "\\end{bmatrix}$ using the inner product defined by\n",
    "$\\langle \\mathbf{x}, \\mathbf{y} \\rangle = \\mathbf{x}^T\n",
    "\\begin{bmatrix} \n",
    "1 & \\frac{-1}{2} \\\\\n",
    "\\frac{-1}{2} & 5\n",
    "\\end{bmatrix} \\mathbf{y}$\n",
    "\n",
    "\n",
    "**2.69 rad $(154^\\circ)$**"
   ]
  },
  {
   "cell_type": "markdown",
   "metadata": {},
   "source": [
    "<br/>**3.**\n",
    "\n",
    "![picture alt](https://i.ibb.co/TkntJ5q/G0-MVag-Q8-Eeib-gphs-IDdp-A-71b7b9ab5277b2bb9c46163aaa88a29e-week2-2vec.png)\n",
    "\n",
    "Compute the angle between \n",
    "$\\mathbf{x}=\n",
    "\\begin{bmatrix} \n",
    "2 \\\\\n",
    "2 \n",
    "\\end{bmatrix}$ and\n",
    "$\\mathbf{y}=\n",
    "\\begin{bmatrix} \n",
    "-2 \\\\\n",
    "-2 \n",
    "\\end{bmatrix}$ using the inner product defined by\n",
    "$\\langle \\mathbf{x}, \\mathbf{y} \\rangle = \\mathbf{x}^T\n",
    "\\begin{bmatrix} \n",
    "2 & 1 \\\\\n",
    "1 & 4\n",
    "\\end{bmatrix} \\mathbf{y}$\n",
    "\n",
    "\n",
    "**3.14 rad $(180^\\circ)$**"
   ]
  },
  {
   "cell_type": "markdown",
   "metadata": {},
   "source": [
    "<br/>**4.**\n",
    "\n",
    "![picture alt](https://i.ibb.co/8d7WpWZ/G0-MVag-Q8-Eeib-gphs-IDdp-A-71b7b9ab5277b2bb9c46163aaa88a29e-week2-2vec.png)\n",
    "\n",
    "Compute the angle between \n",
    "$\\mathbf{x}=\n",
    "\\begin{bmatrix} \n",
    "1 \\\\\n",
    "1 \n",
    "\\end{bmatrix}$ and\n",
    "$\\mathbf{y}=\n",
    "\\begin{bmatrix} \n",
    "1 \\\\\n",
    "-1 \n",
    "\\end{bmatrix}$ using the inner product defined by\n",
    "$\\langle \\mathbf{x}, \\mathbf{y} \\rangle = \\mathbf{x}^T\n",
    "\\begin{bmatrix} \n",
    "1 & 0 \\\\\n",
    "0 & 5\n",
    "\\end{bmatrix} \\mathbf{y}$\n",
    "\n",
    "\n",
    "**2.3 rad $(131^\\circ)$**"
   ]
  },
  {
   "cell_type": "markdown",
   "metadata": {},
   "source": [
    "<br/>**5.**\n",
    "Compute the angle between \n",
    "$\\mathbf{x}=\n",
    "\\begin{bmatrix} \n",
    "1 \\\\\n",
    "1 \\\\\n",
    "1\n",
    "\\end{bmatrix}$ and\n",
    "$\\mathbf{y}=\n",
    "\\begin{bmatrix} \n",
    "2 \\\\\n",
    "-1 \\\\\n",
    "0\n",
    "\\end{bmatrix}$ using the inner product defined by\n",
    "$\\langle \\mathbf{x}, \\mathbf{y} \\rangle = \\mathbf{x}^T\n",
    "\\begin{bmatrix} \n",
    "1 & 0 & 0 \\\\\n",
    "0 & 2 & -1 \\\\\n",
    "0 & -1 & 3\n",
    "\\end{bmatrix} \\mathbf{y}$\n",
    "\n",
    "\n",
    "**1.37 rad $(78^\\circ)$**"
   ]
  }
 ],
 "metadata": {
  "kernelspec": {
   "display_name": "Python 3",
   "language": "python",
   "name": "python3"
  },
  "language_info": {
   "codemirror_mode": {
    "name": "ipython",
    "version": 3
   },
   "file_extension": ".py",
   "mimetype": "text/x-python",
   "name": "python",
   "nbconvert_exporter": "python",
   "pygments_lexer": "ipython3",
   "version": "3.6.6"
  }
 },
 "nbformat": 4,
 "nbformat_minor": 2
}
