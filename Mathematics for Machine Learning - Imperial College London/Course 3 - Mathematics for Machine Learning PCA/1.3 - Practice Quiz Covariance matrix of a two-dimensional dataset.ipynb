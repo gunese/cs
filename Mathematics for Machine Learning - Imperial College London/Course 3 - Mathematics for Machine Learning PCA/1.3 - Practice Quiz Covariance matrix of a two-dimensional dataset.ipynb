{
 "cells": [
  {
   "cell_type": "markdown",
   "metadata": {},
   "source": [
    "## Week 1 - Practice Quiz: Covariance matrix of a two-dimensional dataset"
   ]
  },
  {
   "cell_type": "markdown",
   "metadata": {},
   "source": [
    "<br/>**1.**\n",
    "Compute the covariance matrix for the following dataset\n",
    "\n",
    "$D={\\Big\\{} \n",
    "\\begin{bmatrix} \n",
    "1 \\\\\n",
    "2 \n",
    "\\end{bmatrix},\n",
    "\\begin{bmatrix} \n",
    "5 \\\\\n",
    "4 \n",
    "\\end{bmatrix}\n",
    "{\\Big\\}}$\n",
    "\n",
    "Here, every column vector represents a data point.\n",
    "\n",
    "Do the exercise using pen and paper.\n",
    "\n",
    "**$\\begin{bmatrix} \n",
    "4 & 2 \\\\\n",
    "2 & 1\n",
    "\\end{bmatrix}$**"
   ]
  },
  {
   "cell_type": "markdown",
   "metadata": {},
   "source": [
    "<br/>**2.**\n",
    "Consider a data set $\\mathcal D$ with covariance matrix \n",
    "$\\begin{bmatrix} \n",
    "3 & 2 \\\\\n",
    "2 & 4\n",
    "\\end{bmatrix}$.\n",
    "\n",
    "What is the covariance matrix if we multiply every vector in $\\mathcal D$ by 2?\n",
    "\n",
    "$\\begin{bmatrix} \n",
    "12 & 8 \\\\\n",
    "8 & 16\n",
    "\\end{bmatrix}$"
   ]
  },
  {
   "cell_type": "markdown",
   "metadata": {},
   "source": [
    "<br/>**3.**\n",
    "Consider the data set $\\mathcal D={\\Big\\{} \n",
    "\\begin{bmatrix} \n",
    "1 \\\\\n",
    "2 \n",
    "\\end{bmatrix},\n",
    "\\begin{bmatrix} \n",
    "7 \\\\\n",
    "4 \n",
    "\\end{bmatrix}\n",
    "{\\Big\\}}$ with covariance matrix\n",
    "$\\begin{bmatrix} \n",
    "9 & 3 \\\\\n",
    "3 & 1\n",
    "\\end{bmatrix}$.\n",
    "\n",
    "Compute the new covariance matrix when we add \n",
    "$\\begin{bmatrix} \n",
    "2 \\\\\n",
    "2 \n",
    "\\end{bmatrix}$  to each element in $\\mathcal D$.\n",
    "\n",
    "**$\\begin{bmatrix} \n",
    "9 & 3 \\\\\n",
    "3 & 1\n",
    "\\end{bmatrix}$**"
   ]
  },
  {
   "cell_type": "markdown",
   "metadata": {},
   "source": [
    "<br/>**4.**\n",
    "Provide a valid 2x2 covariance matrix by replacing the -1 entries in the code below."
   ]
  },
  {
   "cell_type": "code",
   "execution_count": 47,
   "metadata": {},
   "outputs": [
    {
     "name": "stdout",
     "output_type": "stream",
     "text": [
      "[[9 3]\n",
      " [3 1]]\n"
     ]
    }
   ],
   "source": [
    "def covariance_matrix():\n",
    "  \"\"\"Return a valid 2x2 covariance matrix\"\"\"\n",
    "  covariance_matrix = np.array([[9, 3], \n",
    "                                [3, 1]])\n",
    "  return covariance_matrix\n",
    "  \n",
    "print(covariance_matrix())"
   ]
  },
  {
   "cell_type": "markdown",
   "metadata": {},
   "source": [
    "<br/>**5.**\n",
    "We are looking at a data set $\\mathcal D$ where every element in $\\mathcal D$ consists of an $x$ and $y$ coordinate. The data covariance matrix is given by\n",
    "\n",
    "$\\begin{bmatrix} \n",
    "1 & 0.8 \\\\\n",
    "0.8 & 1\n",
    "\\end{bmatrix}$\n",
    "\n",
    "Which of the following statements is correct?\n",
    "\n",
    "**$x$ and $y$ are positively correlated, i.e., when $x$ increases then $y$ increases on average, and vice versa.**"
   ]
  }
 ],
 "metadata": {
  "kernelspec": {
   "display_name": "Python 3",
   "language": "python",
   "name": "python3"
  },
  "language_info": {
   "codemirror_mode": {
    "name": "ipython",
    "version": 3
   },
   "file_extension": ".py",
   "mimetype": "text/x-python",
   "name": "python",
   "nbconvert_exporter": "python",
   "pygments_lexer": "ipython3",
   "version": "3.6.6"
  }
 },
 "nbformat": 4,
 "nbformat_minor": 2
}
