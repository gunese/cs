{
 "cells": [
  {
   "cell_type": "markdown",
   "metadata": {},
   "source": [
    "Check out the basics of Lagrange multipliers at the corresponding  [Wikipedia page](https://en.wikipedia.org/wiki/Lagrange_multiplier).\n",
    "\n",
    "The important things are\n",
    "\n",
    "1. We can solve a constrained optimization problem of the form $\\displaystyle \\min_x f(x), s.t. g(x) = 0$ where $g(x)$ is an equality constraint.\n",
    "\n",
    "2. The constraints can be absorbed into a single objective function, the Lagrangian, which combines the original loss function and the constraints as $\\displaystyle \\mathcal L(x,\\lambda) = f(x) - \\lambda g(x) . \\lambda$ is called a Lagrange multiplier.\n",
    "\n",
    "3. We solve the constrained optimization problem by computing the partial derivatives $\\partial \\mathcal L/\\partial x$ and $\\partial \\mathcal L/\\partial\\lambda$, setting them to $0$ and solving for $\\lambda$ and $x$."
   ]
  }
 ],
 "metadata": {
  "kernelspec": {
   "display_name": "Python 3",
   "language": "python",
   "name": "python3"
  },
  "language_info": {
   "codemirror_mode": {
    "name": "ipython",
    "version": 3
   },
   "file_extension": ".py",
   "mimetype": "text/x-python",
   "name": "python",
   "nbconvert_exporter": "python",
   "pygments_lexer": "ipython3",
   "version": "3.6.6"
  }
 },
 "nbformat": 4,
 "nbformat_minor": 2
}
