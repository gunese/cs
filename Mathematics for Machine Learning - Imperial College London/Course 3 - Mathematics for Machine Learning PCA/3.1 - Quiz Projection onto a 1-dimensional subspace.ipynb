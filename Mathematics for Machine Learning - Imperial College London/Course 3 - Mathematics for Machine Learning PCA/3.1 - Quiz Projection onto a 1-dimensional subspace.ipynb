{
 "cells": [
  {
   "cell_type": "markdown",
   "metadata": {},
   "source": [
    "## Week 3 - Quiz: Projection onto a 1-dimensional subspace"
   ]
  },
  {
   "cell_type": "markdown",
   "metadata": {},
   "source": [
    "<br/>**1.**\n",
    "Compute the projection matrix that allows us to project any vector $\\mathbf{x}\\in\\mathbb{R}^3x$ onto the subspace spanned by the basis vector  $\\mathbf{b} =\n",
    "\\begin{bmatrix} \n",
    "1 \\\\\n",
    "2 \\\\\n",
    "2\n",
    "\\end{bmatrix}\n",
    "$.\n",
    "\n",
    "Do the exercise using pen and paper. You can use the formula slide that comes with the corresponding lecture.\n",
    "\n",
    "**$\\frac{1}{9}\n",
    "\\begin{bmatrix} \n",
    "1 & 2 & 2 \\\\\n",
    "2 & 4 & 4 \\\\\n",
    "2 & 4 & 4 \n",
    "\\end{bmatrix}$**"
   ]
  },
  {
   "cell_type": "markdown",
   "metadata": {},
   "source": [
    "<br/>**2.**\n",
    "Given the projection matrix\n",
    "\n",
    "$\\frac{1}{25}\n",
    "\\begin{bmatrix} \n",
    "9 & 0 & 12 \\\\\n",
    "0 & 0 & 0 \\\\\n",
    "12 & 0 & 16\n",
    "\\end{bmatrix}$\n",
    "\n",
    "project \n",
    "$\\begin{bmatrix} \n",
    "1 \\\\\n",
    "1 \\\\\n",
    "1\n",
    "\\end{bmatrix}$ onto the corresponding subspace, which is spanned by\n",
    "$\\mathbf{b} =\n",
    "\\begin{bmatrix} \n",
    "3 \\\\\n",
    "0 \\\\\n",
    "4\n",
    "\\end{bmatrix}\n",
    "$.\n",
    "\n",
    "Do the exercise using pen and paper.\n",
    "\n",
    "$\\frac{1}{25}\n",
    "\\begin{bmatrix} \n",
    "21 \\\\\n",
    "0 \\\\\n",
    "28\n",
    "\\end{bmatrix}$"
   ]
  },
  {
   "cell_type": "markdown",
   "metadata": {},
   "source": [
    "<br/>**3.**\n",
    "Now, we compute the **reconstruction error**, i.e., the distance between the original data point and its projection onto a lower-dimensional subspace.\n",
    "\n",
    "Assume our original data point is\n",
    "$\\begin{bmatrix} \n",
    "1 \\\\\n",
    "1 \\\\\n",
    "1\n",
    "\\end{bmatrix}$ and its projection\n",
    "$\\frac{1}{9}\n",
    "\\begin{bmatrix} \n",
    "5 \\\\\n",
    "10 \\\\\n",
    "10\n",
    "\\end{bmatrix}$. What is the reconstruction error?\n",
    "\n",
    "**0.47**"
   ]
  }
 ],
 "metadata": {
  "kernelspec": {
   "display_name": "Python 3",
   "language": "python",
   "name": "python3"
  },
  "language_info": {
   "codemirror_mode": {
    "name": "ipython",
    "version": 3
   },
   "file_extension": ".py",
   "mimetype": "text/x-python",
   "name": "python",
   "nbconvert_exporter": "python",
   "pygments_lexer": "ipython3",
   "version": "3.6.6"
  }
 },
 "nbformat": 4,
 "nbformat_minor": 2
}
