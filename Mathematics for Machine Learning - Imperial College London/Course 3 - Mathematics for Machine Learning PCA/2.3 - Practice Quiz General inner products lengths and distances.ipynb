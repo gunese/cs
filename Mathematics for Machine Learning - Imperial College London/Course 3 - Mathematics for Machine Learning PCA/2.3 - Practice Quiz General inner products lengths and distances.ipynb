{
 "cells": [
  {
   "cell_type": "markdown",
   "metadata": {},
   "source": [
    "## Week 2 - Practice Quiz: General inner products: lengths and distances"
   ]
  },
  {
   "cell_type": "markdown",
   "metadata": {},
   "source": [
    "<br/>**1.**\n",
    "Compute the length of\n",
    "\n",
    "$\\mathbf{x}=\n",
    "\\begin{bmatrix} \n",
    "1 \\\\\n",
    "-1 \\\\\n",
    "3\n",
    "\\end{bmatrix}$\n",
    "\n",
    "using the inner product defined\n",
    "\n",
    "$\\langle \\mathbf{a}, \\mathbf{b} \\rangle = \\mathbf{a}^T\n",
    "\\begin{bmatrix} \n",
    "2 & 1 & 0 \\\\\n",
    "1 & 2 & -1 \\\\\n",
    "0 & -1 & 2\n",
    "\\end{bmatrix} \\mathbf{b}$\n",
    "\n",
    "\n",
    "**$\\sqrt{26}$**"
   ]
  },
  {
   "cell_type": "markdown",
   "metadata": {},
   "source": [
    "<br/>**2.**\n",
    "Compute the squared distance between\n",
    "\n",
    "$\\mathbf{x}=\n",
    "\\begin{bmatrix} \n",
    "\\frac{1}{2} \\\\\n",
    "-1 \\\\\n",
    "\\frac{-1}{2}\n",
    "\\end{bmatrix}$\n",
    "\n",
    "and\n",
    "\n",
    "$\\mathbf{y}=\n",
    "\\begin{bmatrix} \n",
    "0 \\\\\n",
    "1 \\\\\n",
    "0\n",
    "\\end{bmatrix}$\n",
    "\n",
    "using the inner product defined as\n",
    "\n",
    "$\\langle \\mathbf{a}, \\mathbf{b} \\rangle = \\mathbf{a}^T\n",
    "\\begin{bmatrix} \n",
    "2 & 1 & 0 \\\\\n",
    "1 & 2 & -1 \\\\\n",
    "0 & -1 & 2\n",
    "\\end{bmatrix} \\mathbf{b}$\n",
    "\n",
    "Do the exercise using pen and paper.\n",
    "\n",
    "**5**"
   ]
  },
  {
   "cell_type": "markdown",
   "metadata": {},
   "source": [
    "<br/>**3.**\n",
    "\n",
    "![picture alt](https://i.ibb.co/SJMHB1f/j-DLvq-AQ7-Eei0-Mh-KZx9h-CGA-bfaa1376cef9a59470ada7cb973ea0bb-week2-vec-11.png)\n",
    "\n",
    "Compute the length of \n",
    "$\\mathbf{x}=\n",
    "\\begin{bmatrix} \n",
    "-1 \\\\\n",
    "1 \\\\\n",
    "\\frac{-1}{2}\n",
    "\\end{bmatrix}$ using the inner product defined by\n",
    "\n",
    "$\\langle \\mathbf{a}, \\mathbf{b} \\rangle = \\mathbf{a}^T \\frac{1}{2}\n",
    "\\begin{bmatrix} \n",
    "5 & -1 \\\\\n",
    "-1 & 5\n",
    "\\end{bmatrix} \\mathbf{b}$\n",
    "\n",
    "Do the exercise using pen and paper.\n",
    "\n",
    "**$\\sqrt{6}$**"
   ]
  },
  {
   "cell_type": "markdown",
   "metadata": {},
   "source": [
    "<br/>**4.**\n",
    "Compute the distance (not squared) between\n",
    "\n",
    "$\\mathbf{x}=\n",
    "\\begin{bmatrix} \n",
    "4 \\\\\n",
    "2 \\\\\n",
    "1\n",
    "\\end{bmatrix}$\n",
    "\n",
    "and\n",
    "\n",
    "$\\mathbf{y}=\n",
    "\\begin{bmatrix} \n",
    "0 \\\\\n",
    "1 \\\\\n",
    "0\n",
    "\\end{bmatrix}$\n",
    "\n",
    "using the inner product defined as\n",
    "\n",
    "$\\langle \\mathbf{a}, \\mathbf{b} \\rangle = \\mathbf{a}^T\n",
    "\\begin{bmatrix} \n",
    "2 & 1 & 0 \\\\\n",
    "1 & 2 & -1 \\\\\n",
    "0 & -1 & 2\n",
    "\\end{bmatrix} \\mathbf{b}$\n",
    "\n",
    "Do the exercise using pen and paper (and calculator if necessary). Please enter a decimal number.\n",
    "\n",
    "**6.48**"
   ]
  },
  {
   "cell_type": "markdown",
   "metadata": {},
   "source": [
    "<br/>**5.**\n",
    "Compute the length of \n",
    "$\\mathbf{x}=\n",
    "\\begin{bmatrix} \n",
    "-1 \\\\\n",
    "-1 \\\\\n",
    "-1\n",
    "\\end{bmatrix}$ using the inner product defined as \n",
    "$\\langle \\mathbf{a}, \\mathbf{b} \\rangle = \\mathbf{a}^T \\mathbf{I} \\mathbf{b}$ where $\\mathbf{I}$ is the identity matrix.\n",
    "\n",
    "Do the exercise using pen and paper.\n",
    "\n",
    "**$\\sqrt{3}$**"
   ]
  }
 ],
 "metadata": {
  "kernelspec": {
   "display_name": "Python 3",
   "language": "python",
   "name": "python3"
  },
  "language_info": {
   "codemirror_mode": {
    "name": "ipython",
    "version": 3
   },
   "file_extension": ".py",
   "mimetype": "text/x-python",
   "name": "python",
   "nbconvert_exporter": "python",
   "pygments_lexer": "ipython3",
   "version": "3.6.6"
  }
 },
 "nbformat": 4,
 "nbformat_minor": 2
}
