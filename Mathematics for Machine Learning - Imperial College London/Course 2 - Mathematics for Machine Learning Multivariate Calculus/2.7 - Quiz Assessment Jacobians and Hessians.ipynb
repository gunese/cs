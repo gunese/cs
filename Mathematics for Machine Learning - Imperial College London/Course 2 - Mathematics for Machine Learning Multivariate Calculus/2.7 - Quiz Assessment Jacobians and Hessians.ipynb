{
 "cells": [
  {
   "cell_type": "markdown",
   "metadata": {},
   "source": [
    "## Week 2 - Quiz: Assessment: Jacobians and Hessians"
   ]
  },
  {
   "cell_type": "markdown",
   "metadata": {},
   "source": [
    "<br/>**1.**\n",
    "In this assessment, you will be tested on all of the different topics you have in covered this module. Good luck!\n",
    "\n",
    "Calculate the Jacobian of the function $f(x, y, z) = x^2 cos(y) + e^z sin(y)$ and evaluate at the point $(x, y, z) = (\\pi, \\pi, 1)$.\n",
    "\n",
    "$J(x,y,z)=(−2\\pi,−e,0)$"
   ]
  },
  {
   "cell_type": "markdown",
   "metadata": {},
   "source": [
    "<br/>**2.**\n",
    "Calculate the Jacobian of the vector valued functions:\n",
    "\n",
    "$u(x,y)=x^2y − cos(x)sin(y)$ and $v(x,y)=e^{x+y}$ and evaluate at the point $(0,\\pi)$.\n",
    "\n",
    "$H=\n",
    "\\begin{bmatrix} \n",
    "0 & 1 \\\\ \n",
    "e^\\pi & e^\\pi\n",
    "\\end{bmatrix}$"
   ]
  },
  {
   "cell_type": "markdown",
   "metadata": {},
   "source": [
    "<br/>**3.**\n",
    "Calculate the Hessian for the function $f(x,y) = x^3 cos(y) - x sin(y)$.\n",
    "\n",
    "$H=\n",
    "\\begin{bmatrix} \n",
    "6x cos(y) & -3x^2 sin(y) - cos(y) \\\\ \n",
    "-3x^2 sin(y) - cos(y) & x sin(y) - x^3 cos(y)\n",
    "\\end{bmatrix}$"
   ]
  },
  {
   "cell_type": "markdown",
   "metadata": {},
   "source": [
    "<br/>**4.**\n",
    "Calculate the Hessian for the function $f(x,y,z) = xy + sin(y) sin(z) + z^3 e^x$.\n",
    "\n",
    "$H=\n",
    "\\begin{bmatrix} \n",
    "e^x z^3 & 1 & 3e^x z^2 \\\\ \n",
    "1 & -sin(y) sin(z) & cos(y) cos(z) \\\\ \n",
    "3e^x z^2 & cos(y) cos(z) & 6e^x z - sin(y) sin(z) \\\\ \n",
    "\\end{bmatrix}$"
   ]
  },
  {
   "cell_type": "markdown",
   "metadata": {},
   "source": [
    "<br/>**5.**\n",
    "Calculate the Hessian for the function $f(x,y,z) = xy cos(z) sin(x) e^y z^3$ and evaluate at the point $(x, y, z) = (0, 0, 0)$\n",
    "\n",
    "$H=\n",
    "\\begin{bmatrix} \n",
    "0 & 1 & 0 \\\\\n",
    "1 & 0 & 0 \\\\\n",
    "0 & 0 & 0 \\\\\n",
    "\\end{bmatrix}$"
   ]
  }
 ],
 "metadata": {
  "kernelspec": {
   "display_name": "Python 3",
   "language": "python",
   "name": "python3"
  },
  "language_info": {
   "codemirror_mode": {
    "name": "ipython",
    "version": 3
   },
   "file_extension": ".py",
   "mimetype": "text/x-python",
   "name": "python",
   "nbconvert_exporter": "python",
   "pygments_lexer": "ipython3",
   "version": "3.6.6"
  }
 },
 "nbformat": 4,
 "nbformat_minor": 2
}
