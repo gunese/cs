{
 "cells": [
  {
   "cell_type": "markdown",
   "metadata": {},
   "source": [
    "## Week 2 - Practice Quiz: Calculating Hessians"
   ]
  },
  {
   "cell_type": "markdown",
   "metadata": {},
   "source": [
    "<br/>**1.**\n",
    "In this quiz, you will calculate the Hessian for some functions of 2 variables and functions of 3 variables.\n",
    "\n",
    "For the function $f(x,y) = x^3y + x + 2y$, calculate the Hessian matrix\n",
    "\n",
    "$H=\n",
    "\\begin{bmatrix} \n",
    "{\\partial{}}_{x,x}f & {\\partial{}}_{x,y}f \\\\ \n",
    "{\\partial{}}_{y,x}f & {\\partial{}}_{y,y}f \\\\ \n",
    "\\end{bmatrix}$\n",
    "\n",
    "$H=\n",
    "\\begin{bmatrix} \n",
    "6xy & 3x^2 \\\\ \n",
    "3x^2 & 0\n",
    "\\end{bmatrix}$"
   ]
  },
  {
   "cell_type": "markdown",
   "metadata": {},
   "source": [
    "<br/>**2.**\n",
    "For the function $f(x,y) = e^x cos(y)$, calculate the Hessian matrix.\n",
    "\n",
    "$H=\n",
    "\\begin{bmatrix} \n",
    "e^x cos(y) & -e^x sin(y) \\\\ \n",
    "-e^x sin(y) & -e^x cos(y)\n",
    "\\end{bmatrix}$"
   ]
  },
  {
   "cell_type": "markdown",
   "metadata": {},
   "source": [
    "<br/>**3.**\n",
    "For the function $f(x,y) = \\frac{x^2}{2} + xy + \\frac{y^2}{2}$, calculate the Hessian matrix.\n",
    "\n",
    "Notice something interesting when you calculate $\\frac{1}{2} [x,y]H\\begin{bmatrix} \n",
    "x \\\\ \n",
    "y\n",
    "\\end{bmatrix}!$\n",
    "\n",
    "$H=\n",
    "\\begin{bmatrix} \n",
    "1 & 1 \\\\ \n",
    "1 & 1\n",
    "\\end{bmatrix}$"
   ]
  },
  {
   "cell_type": "markdown",
   "metadata": {},
   "source": [
    "<br/>**4.**\n",
    "For the function $f(x,y,z) = x^2 e^{-y} cos(z)$, calculate the Hessian matrix\n",
    "\n",
    "$H=\n",
    "\\begin{bmatrix} \n",
    "{\\partial{}}_{x,x}f & {\\partial{}}_{x,y}f & {\\partial{}}_{x,z}f \\\\ \n",
    "{\\partial{}}_{y,x}f & {\\partial{}}_{y,y}f & {\\partial{}}_{y,z}f \\\\ \n",
    "{\\partial{}}_{z,x}f & {\\partial{}}_{z,y}f & {\\partial{}}_{z,z}f \n",
    "\\end{bmatrix}$\n",
    "\n",
    "$H=\n",
    "\\begin{bmatrix} \n",
    "2e^{-y}cos(z) & -2xe^{-y}cos(z) & -2xe^{-y}sin(z) \\\\ \n",
    "2xe^{-y}cos(z) & x^2e^{-y}cos(z) & x^2e^{-y}sin(z) \\\\ \n",
    "-2xe^{-y}sin(z) & x^2e^{-y}sin(z) & -x^2e^{-y}cos(z) \\\\ \n",
    "\\end{bmatrix}$"
   ]
  },
  {
   "cell_type": "markdown",
   "metadata": {},
   "source": [
    "<br/>**5.**\n",
    "For the function $f(x,y,z) = xe^{y} +y^2 cos(z)$, calculate the Hessian matrix.\n",
    "\n",
    "$H=\n",
    "\\begin{bmatrix} \n",
    "0 & e^y & 0 \\\\ \n",
    "e^y & x e^y + 2cos(z) & -2y sin(z) \\\\ \n",
    "0 & -2y sin(z) & -y^2 cos(z) \\\\ \n",
    "\\end{bmatrix}$"
   ]
  }
 ],
 "metadata": {
  "kernelspec": {
   "display_name": "Python 3",
   "language": "python",
   "name": "python3"
  },
  "language_info": {
   "codemirror_mode": {
    "name": "ipython",
    "version": 3
   },
   "file_extension": ".py",
   "mimetype": "text/x-python",
   "name": "python",
   "nbconvert_exporter": "python",
   "pygments_lexer": "ipython3",
   "version": "3.6.6"
  }
 },
 "nbformat": 4,
 "nbformat_minor": 2
}
