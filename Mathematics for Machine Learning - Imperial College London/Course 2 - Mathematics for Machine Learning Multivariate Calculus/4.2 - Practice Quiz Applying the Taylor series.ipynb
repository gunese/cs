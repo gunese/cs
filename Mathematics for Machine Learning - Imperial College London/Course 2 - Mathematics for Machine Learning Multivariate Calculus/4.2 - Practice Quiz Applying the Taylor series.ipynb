{
 "cells": [
  {
   "cell_type": "markdown",
   "metadata": {},
   "source": [
    "## Week 4 - Practice Quiz: Applying the Taylor series"
   ]
  },
  {
   "cell_type": "markdown",
   "metadata": {},
   "source": [
    "<br/>**1.**\n",
    "In the two previous videos, we have shown the short mathematical proofs for the Taylor series, and for special cases when the starting point is $x=0$, the Maclaurin series. In these set of questions, we will begin to work on applying the Taylor and Maclaurin series formula to obtain approximations of functions.\n",
    "\n",
    "![picture alt](https://i.ibb.co/sj9XsJz/c-NS7jw-XWEei-ZQ6-W1-G11d-A-72db4ad96281994251a74f5fae030ab2-cos0.png)\n",
    "\n",
    "For the function $f(x) = e^{x^2}$ about $x = 0$, using the the Maclaurin series formula, obtain an approximation up to the first three non zero terms.\n",
    "\n",
    "**$f(x)=1+x^2+\\frac{x^4}{2}+\\ldots$**"
   ]
  },
  {
   "cell_type": "markdown",
   "metadata": {},
   "source": [
    "<br/>**2.**\n",
    "\n",
    "![picture alt](https://i.ibb.co/DwrBhMz/c-NS7jw-XWEei-ZQ6-W1-G11d-A-72db4ad96281994251a74f5fae030ab2-cos0.png)\n",
    "\n",
    "Use the Taylor series formula to approximate the first three terms of the function $f(x) = 1/x$, expanded around the point $p = 4$.\n",
    "\n",
    "**$f(x)=\\frac{1}{4}-\\frac{(x-4)}{16}+\\frac{(x-4)^2}{64}+\\ldots$**"
   ]
  },
  {
   "cell_type": "markdown",
   "metadata": {},
   "source": [
    "<br/>**3.**\n",
    "\n",
    "![picture alt](https://i.ibb.co/xfTWRNG/c-NS7jw-XWEei-ZQ6-W1-G11d-A-72db4ad96281994251a74f5fae030ab2-cos0.png)\n",
    "\n",
    "By finding the first three terms of the Taylor series shown above for the function $f(x) = \\ln(x)$ (green line) about $x = 10$, determine the difference of using the second order taylor expansion against the first order Taylor expansion when approximating to find the value of $f(2)$.\n",
    "\n",
    "**$\\Delta f(2)=0.32$**"
   ]
  },
  {
   "cell_type": "markdown",
   "metadata": {},
   "source": [
    "<br/>**4.**\n",
    "In some cases, a Taylor series can be expressed in a general equation that allows us to find a particular $n^{th}$ term of our series. For example the function $f(x) = e^x$ has the general equation $f(x)=\\Sigma^{\\infty}_{n=0} \\frac{x^n}{n!}$.  Therefore if we want to find the $3^{rd}$ term in our Taylor series, substituting $n=2$ into the general equation gives us the term $\\frac{x^2}{2}$. We know the Taylor series of the function $e^x$ is $f(x) = 1 + x + \\frac{x^2}{2} + \\frac{x^3}{3} + \\ldots$. Now let us try a further working example of using general equations with Taylor series.\n",
    "\n",
    "![picture alt](https://i.ibb.co/9YKzCZp/c-NS7jw-XWEei-ZQ6-W1-G11d-A-72db4ad96281994251a74f5fae030ab2-cos0.png)\n",
    "\n",
    "By evaluating the function $f(x) = \\frac{1}{(1-x)^2}$ about the origin $x=0$, determine which general equation for the $n^{th}$ order term correctly represents $f(x)$.\n",
    "\n",
    "**$f(x)=\\Sigma^{\\infty}_{n=0} (1+n)x^n$**"
   ]
  },
  {
   "cell_type": "markdown",
   "metadata": {},
   "source": [
    "<br/>**5.**\n",
    "\n",
    "![picture alt](https://i.ibb.co/1Rxk06r/c-NS7jw-XWEei-ZQ6-W1-G11d-A-72db4ad96281994251a74f5fae030ab2-cos0.png)\n",
    "\n",
    "By evaluating the function $f(x) = \\sqrt{4-x}$ at $x = 0$, find the quadratic equation that approximates this function.\n",
    "\n",
    "**$f(x)=2-\\frac{x}{4}-\\frac{x^2}{64} \\ldots$**"
   ]
  }
 ],
 "metadata": {
  "kernelspec": {
   "display_name": "Python 3",
   "language": "python",
   "name": "python3"
  },
  "language_info": {
   "codemirror_mode": {
    "name": "ipython",
    "version": 3
   },
   "file_extension": ".py",
   "mimetype": "text/x-python",
   "name": "python",
   "nbconvert_exporter": "python",
   "pygments_lexer": "ipython3",
   "version": "3.6.6"
  }
 },
 "nbformat": 4,
 "nbformat_minor": 2
}
