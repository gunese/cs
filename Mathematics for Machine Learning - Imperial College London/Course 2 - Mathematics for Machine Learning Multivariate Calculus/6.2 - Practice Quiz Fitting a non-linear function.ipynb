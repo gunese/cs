{
 "cells": [
  {
   "cell_type": "markdown",
   "metadata": {},
   "source": [
    "## Week 5 - Practice Quiz: Fitting a non-linear function"
   ]
  },
  {
   "cell_type": "markdown",
   "metadata": {},
   "source": [
    "<br/>**1.**\n",
    "The previous quiz tested our knowledge of linear regression, and how we can begin to model sets of data. In the last video, we developed on this idea further, looking at the case for data that cannot be effectively modeled by linear approximations. As such, we were introduced to the nonlinear least squares method, as a way of fitting nonlinear curves to data.\n",
    "\n",
    "In this question, we have a set of graphs highlighting different distributions of data. Select the appropriate graphs where the nonlinear least squares method can be adapted to provide an effective fit to this data.\n",
    "\n",
    "**Option A**\n",
    "\n",
    "**![picture alt](https://i.ibb.co/7p9Rt9X/Ckh-Ntg-FCEeio-Q5-TVYls-AA-a028e79b16175acfb4a1e6184dcb5938-2x.png)**\n",
    "\n",
    "**Option B**\n",
    "\n",
    "**![picture alt](https://i.ibb.co/hmqw4Qw/Ckh-Ntg-FCEeio-Q5-TVYls-AA-a028e79b16175acfb4a1e6184dcb5938-2x.png)**\n",
    "\n",
    "**Option C**\n",
    "\n",
    "**![picture alt](https://i.ibb.co/N6trwmx/Ckh-Ntg-FCEeio-Q5-TVYls-AA-a028e79b16175acfb4a1e6184dcb5938-2x.png)**\n",
    "\n",
    "**Option E**\n",
    "\n",
    "**![picture alt](https://i.ibb.co/JvNpJvt/Ckh-Ntg-FCEeio-Q5-TVYls-AA-a028e79b16175acfb4a1e6184dcb5938-2x.png)**"
   ]
  },
  {
   "cell_type": "markdown",
   "metadata": {},
   "source": [
    "<br/>**2.**\n",
    "In the previous lecture, you were taken through the example of $\\chi^2$ and how it is important in utilizing the sum of the differences and the least squares method. We were also introduced to the expression $\\chi^2 = \\sum_{i=1}^{n} \\frac{[y_i - y(x_i ; a_k)]^2}{\\sigma^2}$. For the parameter $\\chi^2$, select all the statements below that are true.\n",
    "\n",
    "**The parameter $\\chi$ is squared so that positive and negative residuals are penalized equally.**\n",
    "\n",
    "**Taking the gradient of $\\chi^2$ and setting this to zero allows us to determine effective fitting parameters.**"
   ]
  },
  {
   "cell_type": "markdown",
   "metadata": {},
   "source": [
    "<br/>**3.**\n",
    "In the previous lecture, we took the derivative of $\\chi^2$ with respect to our fitting parameters $\\mathbf{a}$, the form of which is shown below.\n",
    "\n",
    "$\\frac{\\partial \\chi^2}{\\partial a_j} = -2 \\sum_{i=1}^{n} \\frac{y_i - f(x_i, \\mathbf{a})}{\\sigma_i^2} \\frac{\\partial f(x_i, \\mathbf{a})}{\\partial a_j} for \\space j=1......n$ \n",
    "\n",
    "Here we will define the matrix $Z_{ij} = \\frac{\\partial f(x_i, \\mathbf{a})}{\\partial a_j}$\n",
    "\n",
    "Assuming $f(x_i, \\mathbf{a} ) = a_1 x^3 -a_2 x^2 + e^{-a_3 x}$, select the option that correctly shows the partial differentiation for this function.\n",
    "\n",
    "**$\\frac{\\partial f}{\\partial a_1} = x^3 , \\frac{\\partial f}{\\partial a_2} = -x^2 , \\frac{\\partial f}{\\partial a_3} = -xe^{-a_3x}$**"
   ]
  },
  {
   "cell_type": "markdown",
   "metadata": {},
   "source": [
    "<br/>**4.**\n",
    "In this question, we want to put our working knowledge of the partial differentiation of our functions and arrange this into the Jacobian. As a reminder, the Jacobian for the nonlinear least squares method will take the form: $\\boldsymbol{J} = \n",
    "\\begin{bmatrix}\n",
    "\\frac{\\partial{(\\chi^2)}}{\\partial{a}_k}\n",
    "\\end{bmatrix} =\n",
    "\\begin{bmatrix}\n",
    "\\frac{\\partial{(\\chi^2)}}{\\partial{a}_1}, \\frac{\\partial{(\\chi^2)}}{\\partial{a}_2}\n",
    "\\end{bmatrix}$.\n",
    "\n",
    "For the equation $y(x_i ; \\boldsymbol{a}) = a_1 (1-e^{-a_2 x_i^2})$ and assuming $\\sigma^2 = 1$, select the correct Jacobian that should be evaluated for our fit function.\n",
    "\n",
    "**$\\frac{\\partial{(\\chi^2)}}{\\partial{a}_1} = -2 \\sum\\limits_{i=1}^n [y_i - a_1(1-e^{-a_2 x^2_i})] (1-e^{-a_2x^2_i})$**\n",
    "\n",
    "**$\\frac{\\partial{(\\chi^2)}}{\\partial{a}_2} = -2 \\sum\\limits_{i=1}^n [y_i - a_1(1-e^{-a_2 x^2_i})] (a_1 x^2_i e^{-a_2x^2_i})$**"
   ]
  },
  {
   "cell_type": "markdown",
   "metadata": {},
   "source": [
    "<br/>**5.**\n",
    "In this question, we will develop our idea of building the Jacobian further by looking at a function with more fitting parameters. The function below is of a Gaussian distribution with 4 fitting parameters $(\\sigma, x_p, I, b)$ which are to be used in the nonlinear least squares method.\n",
    "\n",
    "$y(x; \\sigma, x_p, I, b) = b + \\frac{I}{\\sigma \\sqrt{2 \\pi} } \\exp \\bigg\\{ \\frac{-(x-x_p)^2}{2 \\sigma^2} \\bigg\\}$\n",
    "\n",
    "In the lectures, we also showed how to find $\\chi^2$ and how this forms the Jacobian shown below: $\\boldsymbol{J} = \n",
    "\\begin{bmatrix}\n",
    "\\frac{\\partial{(\\chi^2)}}{\\partial{a}_k}\n",
    "\\end{bmatrix} =\n",
    "\\begin{bmatrix}\n",
    "\\frac{\\partial{(\\chi^2)}}{\\partial{\\sigma}}, \\frac{\\partial{(\\chi^2)}}{\\partial{x}_p}, \\frac{\\partial{(\\chi^2)}}{\\partial{I}}, \\frac{\\partial{(\\chi^2)}}{\\partial{b}}.\n",
    "\\end{bmatrix}$\n",
    "\n",
    "where\n",
    "\n",
    "$\\frac{\\partial \\chi^2}{\\partial a_j} = -2 \\sum_{i=1}^{n} \\frac{\\boldsymbol{y_i} - y(x_i; \\boldsymbol{a})}{\\sigma_i^2} \\frac{\\partial y(x_i; \\boldsymbol{a})}{\\partial a_j} for \\space j=1......n$\n",
    "\n",
    "For the Gaussian function above, determine the partial differential\n",
    "\n",
    "\n",
    "$\\frac{\\partial y}{\\partial x_p}$\n",
    "\n",
    "**$\\frac{\\partial y}{\\partial x_p} = \\frac{I}{\\sqrt{2 \\pi}} \\frac{(x-x_p)}{\\sigma^3} \\exp \\bigg\\{ \\frac{-(x-x_p)^2}{2\\sigma^2} \\bigg\\}$**"
   ]
  }
 ],
 "metadata": {
  "kernelspec": {
   "display_name": "Python 3",
   "language": "python",
   "name": "python3"
  },
  "language_info": {
   "codemirror_mode": {
    "name": "ipython",
    "version": 3
   },
   "file_extension": ".py",
   "mimetype": "text/x-python",
   "name": "python",
   "nbconvert_exporter": "python",
   "pygments_lexer": "ipython3",
   "version": "3.6.6"
  }
 },
 "nbformat": 4,
 "nbformat_minor": 2
}
