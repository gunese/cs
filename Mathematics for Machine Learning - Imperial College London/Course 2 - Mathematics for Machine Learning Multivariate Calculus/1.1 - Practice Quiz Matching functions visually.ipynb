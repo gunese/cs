{
 "cells": [
  {
   "cell_type": "markdown",
   "metadata": {},
   "source": [
    "## Week 1 - Practice Quiz: Matching functions visually"
   ]
  },
  {
   "cell_type": "markdown",
   "metadata": {},
   "source": [
    "<br/>**1.**\n",
    "In this quiz you will get a refresher in functions - in particular, matching a description of a function to the graph of the function.\n",
    "\n",
    "Water is poured **at a constant rate** into a vase with the following shape:\n",
    "\n",
    "![picture alt](https://i.ibb.co/g3Rzb11/4-HUp7g-Ex-Eei-Ii-Qpri-P2g2-A-dd592bbce38fa2f8d3464218f0a581bc-1100.png)\n",
    "\n",
    "If the vase is never full, which graph best describes how the volume of water in the vase changes with time?\n",
    "\n",
    "\n",
    "**![picture alt](https://i.ibb.co/Prm2XCM/4-HUp7g-Ex-Eei-Ii-Qpri-P2g2-A-dd592bbce38fa2f8d3464218f0a581bc-1100.png)**"
   ]
  },
  {
   "cell_type": "markdown",
   "metadata": {},
   "source": [
    "<br/>**2.**\n",
    "A sample of Carbon-11 has a half life of approximately 20 minutes (that is, after 20 minutes, the mass of Carbon-11 remaining will have halved). If we start with a sample of 100g, which graph best describes how the mass of carbon-11 changes with time?\n",
    "\n",
    "![picture alt](https://i.ibb.co/9s6JDqx/4-HUp7g-Ex-Eei-Ii-Qpri-P2g2-A-dd592bbce38fa2f8d3464218f0a581bc-1100.png)"
   ]
  },
  {
   "cell_type": "markdown",
   "metadata": {},
   "source": [
    "<br/>**3.**\n",
    "A person jumps out of a plane. After 4 seconds, the person reaches terminal velocity. After a further 8 seconds, the person deploys their parachute, and decelerates sharply for 4 seconds before starting to accelerate again. Which graph best describes the person's speed against time?\n",
    "\n",
    "![picture alt](https://i.ibb.co/pbmBPgc/4-HUp7g-Ex-Eei-Ii-Qpri-P2g2-A-dd592bbce38fa2f8d3464218f0a581bc-1100.png)"
   ]
  },
  {
   "cell_type": "markdown",
   "metadata": {},
   "source": [
    "<br/>**4.**\n",
    "Bags of flour labelled 1kg from a supermarket are weighed. What does the frequency-weight graph approximately look like?\n",
    "\n",
    "![picture alt](https://i.ibb.co/2qBnRPp/4-HUp7g-Ex-Eei-Ii-Qpri-P2g2-A-dd592bbce38fa2f8d3464218f0a581bc-1100.png)"
   ]
  },
  {
   "cell_type": "markdown",
   "metadata": {},
   "source": [
    "<br/>**5.**\n",
    "A pendulum swings with a frequency of 0.5 Hz. Assuming negligible air resistance, which graph is a plausible description of its horizontal displacement from the equilibrium as a function of time?\n",
    "\n",
    "![picture alt](https://i.ibb.co/pXD8DFN/4-HUp7g-Ex-Eei-Ii-Qpri-P2g2-A-dd592bbce38fa2f8d3464218f0a581bc-1100.png)"
   ]
  }
 ],
 "metadata": {
  "kernelspec": {
   "display_name": "Python 3",
   "language": "python",
   "name": "python3"
  },
  "language_info": {
   "codemirror_mode": {
    "name": "ipython",
    "version": 3
   },
   "file_extension": ".py",
   "mimetype": "text/x-python",
   "name": "python",
   "nbconvert_exporter": "python",
   "pygments_lexer": "ipython3",
   "version": "3.6.6"
  }
 },
 "nbformat": 4,
 "nbformat_minor": 2
}
