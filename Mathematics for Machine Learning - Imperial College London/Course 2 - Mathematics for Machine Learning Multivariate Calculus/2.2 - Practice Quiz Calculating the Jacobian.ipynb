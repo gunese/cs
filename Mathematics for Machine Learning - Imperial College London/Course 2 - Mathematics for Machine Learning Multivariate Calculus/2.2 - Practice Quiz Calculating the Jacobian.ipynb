{
 "cells": [
  {
   "cell_type": "markdown",
   "metadata": {},
   "source": [
    "## Week 2 - Practice Quiz: Calculating the Jacobian"
   ]
  },
  {
   "cell_type": "markdown",
   "metadata": {},
   "source": [
    "<br/>**1.**\n",
    "In this quiz you will put into practice how to calculate the Jacobian from the lecture video.\n",
    "\n",
    "For $f(x,y) = x^2y + \\frac{3}{4}xy + 10$, calculate the Jacobian row vector $J$.\n",
    "\n",
    "**$J=[2xy+\\frac{3}{4}y,x^2+\\frac{3}{4}x]$,**"
   ]
  },
  {
   "cell_type": "markdown",
   "metadata": {},
   "source": [
    "<br/>**2.**\n",
    "For $f(x,y) = e^x cos(y) + x e^{3y} - 2$, calculate the Jacobian row vector $J$.\n",
    "\n",
    "**$J=[e^x cos(y) + e^{3y},-e^x sin(y) + 3xe^{3y}]$,**"
   ]
  },
  {
   "cell_type": "markdown",
   "metadata": {},
   "source": [
    "<br/>**3.**\n",
    "For $f(x,y,z) = e^x cos(y) + x^2 y^2 z^2$, calculate the Jacobian row vector $J$.\n",
    "\n",
    "**$J=[e^x cos(y) + 2 x y^2 z^2,-e^x sin(y) + 2x^2 y z^2,2x^2 y^2 z]$,**"
   ]
  },
  {
   "cell_type": "markdown",
   "metadata": {},
   "source": [
    "<br/>**4.**\n",
    "For $f(x,y,z) = x^2 + 3e^y e^z + cos(x) sin(z)$, calculate the the Jacobian row vector and evaluate at the point $(0, 0, 0)$.\n",
    "\n",
    "**$J(0,0,0)=[0,3,4]$**"
   ]
  },
  {
   "cell_type": "markdown",
   "metadata": {},
   "source": [
    "<br/>**5.**\n",
    "For $f(x,y,z) = x e^y cos(z) + 5x^2 sin(y) e^z)$, calculate the the Jacobian row vector and evaluate at the point $(0, 0, 0)$.\n",
    "\n",
    "**$J(0,0,0)=[1,0,0]$**"
   ]
  }
 ],
 "metadata": {
  "kernelspec": {
   "display_name": "Python 3",
   "language": "python",
   "name": "python3"
  },
  "language_info": {
   "codemirror_mode": {
    "name": "ipython",
    "version": 3
   },
   "file_extension": ".py",
   "mimetype": "text/x-python",
   "name": "python",
   "nbconvert_exporter": "python",
   "pygments_lexer": "ipython3",
   "version": "3.6.6"
  }
 },
 "nbformat": 4,
 "nbformat_minor": 2
}
