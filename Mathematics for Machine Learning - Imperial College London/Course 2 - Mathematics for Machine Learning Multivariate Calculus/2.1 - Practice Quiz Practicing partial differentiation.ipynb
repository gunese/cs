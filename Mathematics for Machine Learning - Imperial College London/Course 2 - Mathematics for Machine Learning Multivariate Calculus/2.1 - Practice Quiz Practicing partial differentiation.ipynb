{
 "cells": [
  {
   "cell_type": "markdown",
   "metadata": {},
   "source": [
    "## Week 2 - Practice Quiz: Practicing partial differentiation"
   ]
  },
  {
   "cell_type": "markdown",
   "metadata": {},
   "source": [
    "<br/>**1.**\n",
    "In this quiz, you will practice doing partial differentiation, and calculating the total derivative.\n",
    "\n",
    "Given $f(x,y) = \\pi x^3 + xy^2 + my^4$, with $m$ a constant, what are $\\frac{\\partial f}{\\partial x}$ and $\\frac{\\partial f}{\\partial y}$?\n",
    "\n",
    "\n",
    "**$\\frac{\\partial f}{\\partial x} = 3 \\pi x^2 + y^2$,**\n",
    "\n",
    "**$\\frac{\\partial f}{\\partial y} = 2xy + 4my^3$**"
   ]
  },
  {
   "cell_type": "markdown",
   "metadata": {},
   "source": [
    "<br/>**2.**\n",
    "Given $f(x,y,z) = x^2y+y^2z+z^2x$, what are $\\frac{\\partial f}{\\partial x}$, $\\frac{\\partial f}{\\partial y}$ and $\\frac{\\partial f}{\\partial z}$?\n",
    "\n",
    "**$\\frac{\\partial f}{\\partial x} = 2xy + z^2$,**\n",
    "\n",
    "**$\\frac{\\partial f}{\\partial y} = x^2 + 2yz$,**\n",
    "\n",
    "**$\\frac{\\partial f}{\\partial z} = y^2 + 2zx$,**"
   ]
  },
  {
   "cell_type": "markdown",
   "metadata": {},
   "source": [
    "<br/>**3.**\n",
    "Given $f(x,y,z) = e^{2x}sin(y)z^2+cos(z)e^x e^y$, what are $\\frac{\\partial f}{\\partial x}$, $\\frac{\\partial f}{\\partial y}$ and $\\frac{\\partial f}{\\partial z}$?\n",
    "\n",
    "**$\\frac{\\partial f}{\\partial x} = 2e^{2x} sin(y)z^2 + cos(z)e^x e^y$,**\n",
    "\n",
    "**$\\frac{\\partial f}{\\partial y} = e^{2x} cos(y) z^2 + cos(z) e^x e^y$,**\n",
    "\n",
    "**$\\frac{\\partial f}{\\partial z} =  2e^{2x} sin(y)z + sin(z) e^x e^y$,**"
   ]
  },
  {
   "cell_type": "markdown",
   "metadata": {},
   "source": [
    "<br/>**4.**\n",
    "Recall the formula for the total derivative, that is, for $f(x,y), x = x(t)$ and $y = y(t)$, one can calculate $\\frac{df}{dt} = \\frac{\\partial f}{\\partial x} \\frac{dx}{dt} + \\frac{\\partial f}{\\partial y} \\frac{dy}{dt}$.\n",
    "\n",
    "Given that  $f(x,y) = \\pi x^2y$, $x(t) = t^2+1$ and $y(t) = t^2-1$, calculate the total derivative $\\frac{df}{dt}$.\n",
    "\n",
    "**$\\frac{df}{dt} = 4 \\pi t(t^2+1) (t^2-1) + 2 \\pi t(t^2+1)^2$**"
   ]
  },
  {
   "cell_type": "markdown",
   "metadata": {},
   "source": [
    "<br/>**5.**\n",
    "Recall the formula for the total derivative, that is, for $f(x,y,z), x = x(t)$, $y = y(t)$ and $z = z(t)$, one can calculate $\\frac{df}{dt} = \\frac{\\partial f}{\\partial x} \\frac{dx}{dt} + \\frac{\\partial f}{\\partial y} \\frac{dy}{dt} + \\frac{\\partial f}{\\partial z} \\frac{dz}{dt}$.\n",
    "\n",
    "Given that  $f(x,y,z) = cos(x) sin(y) e^{2z}$, $x(t) = t+1$, $y(t) = t-1$, $z(t) = t^2$, calculate the total derivative $\\frac{df}{dt}$.\n",
    "\n",
    "**$\\frac{df}{dt} = [-sin(t+1) sin(t-1) + cos(t+1) cos(t-1) + 4 t cos(t+1) sin(t-1)]e^{2t^2}$**"
   ]
  }
 ],
 "metadata": {
  "kernelspec": {
   "display_name": "Python 3",
   "language": "python",
   "name": "python3"
  },
  "language_info": {
   "codemirror_mode": {
    "name": "ipython",
    "version": 3
   },
   "file_extension": ".py",
   "mimetype": "text/x-python",
   "name": "python",
   "nbconvert_exporter": "python",
   "pygments_lexer": "ipython3",
   "version": "3.6.6"
  }
 },
 "nbformat": 4,
 "nbformat_minor": 2
}
