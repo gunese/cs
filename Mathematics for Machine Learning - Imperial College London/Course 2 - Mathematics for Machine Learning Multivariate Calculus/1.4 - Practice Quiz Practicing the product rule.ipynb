{
 "cells": [
  {
   "cell_type": "markdown",
   "metadata": {},
   "source": [
    "## Week 1 - Practice Quiz: Practicing the product rule"
   ]
  },
  {
   "cell_type": "markdown",
   "metadata": {},
   "source": [
    "<br/>**1.**\n",
    "In the following quiz, you will practice how to use the product rule. Some questions look tricky, but just stick to the rules you know!\n",
    "\n",
    "What is the differential of $f(x)g(x)$?\n",
    "\n",
    "**$f′(x)g(x)+f(x)g′(x)$**"
   ]
  },
  {
   "cell_type": "markdown",
   "metadata": {},
   "source": [
    "<br/>**2.**\n",
    "Using the product rule, differentiate with respect to $x$ the function $f(x) = (x+2)(3x-3)$.\n",
    "\n",
    "**$f'(x)=6𝑥+3$**"
   ]
  },
  {
   "cell_type": "markdown",
   "metadata": {},
   "source": [
    "<br/>**3.**\n",
    "Using the product rule, differentiate with respect to $x$ the function $f(x)=e^x(x^2+7x−3−sin(x))$.\n",
    "\n",
    "**$f′(x)=e^x(x^2+9x+4−sin(x)−cos(x))$**"
   ]
  },
  {
   "cell_type": "markdown",
   "metadata": {},
   "source": [
    "<br/>**4.**\n",
    "Using the product rule, differentiate with respect to $x$ the function $f(x)=(x^2-2x+5)(sin(x)+cos(x))$.\n",
    "\n",
    "**$f′(x)=(x^2+3)cos(x)−(x^2−4x+7)sin(x)$**"
   ]
  },
  {
   "cell_type": "markdown",
   "metadata": {},
   "source": [
    "<br/>**5.**\n",
    "Using the product rule, differentiate with respect to $x$ the function $f(x)=e^x(3x-2) sin(x)$.\n",
    "\n",
    "Hint: consider $f(x)g(x)h(x)$ as $[f(x)g(x)]h(x)$, and use the product rule twice.\n",
    "\n",
    "**$f′(x)=(x^2+3)cos(x)−(x^2−4x+7)sin(x)$**"
   ]
  }
 ],
 "metadata": {
  "kernelspec": {
   "display_name": "Python 3",
   "language": "python",
   "name": "python3"
  },
  "language_info": {
   "codemirror_mode": {
    "name": "ipython",
    "version": 3
   },
   "file_extension": ".py",
   "mimetype": "text/x-python",
   "name": "python",
   "nbconvert_exporter": "python",
   "pygments_lexer": "ipython3",
   "version": "3.6.6"
  }
 },
 "nbformat": 4,
 "nbformat_minor": 2
}
