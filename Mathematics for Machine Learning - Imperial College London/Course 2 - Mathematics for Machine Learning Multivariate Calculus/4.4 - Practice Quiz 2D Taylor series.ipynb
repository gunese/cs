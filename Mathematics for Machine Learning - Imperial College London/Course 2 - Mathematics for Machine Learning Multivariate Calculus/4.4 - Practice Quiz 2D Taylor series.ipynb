{
 "cells": [
  {
   "cell_type": "markdown",
   "metadata": {},
   "source": [
    "## Week 4 - Practice Quiz: 2D Taylor series"
   ]
  },
  {
   "cell_type": "markdown",
   "metadata": {},
   "source": [
    "<br/>**1.**\n",
    "Now you have seen how to calculate the multivariate Taylor series, and what zeroth, first and second order approximations look like for a function of 2 variables. In this course we won't be considering anything higher than second order for functions of more than one variable.\n",
    "\n",
    "In the following questions you will practice recognizing these approximations by thinking about how they behave with different $x$ and $y$, then you will calculate some terms in the multivariate Taylor series yourself.\n",
    "\n",
    "The following plot features a surface and its Taylor series approximation in red, around a point given by a red circle. What order is the Taylor series approximation?\n",
    "\n",
    "![picture alt](https://i.ibb.co/jLL6fQr/0-Ny-D-AX8-Eeiu6g4-2-Ac-Sq-A-ebec026f13ec95ab245ab74cfca0c460-Q1a-BZ.gif)\n",
    "\n",
    "**Zeroth order**"
   ]
  },
  {
   "cell_type": "markdown",
   "metadata": {},
   "source": [
    "<br/>**2.**\n",
    "What order Taylor series approximation, expanded around the red circle, is the red surface in the following plot?\n",
    "\n",
    "![picture alt](https://i.ibb.co/xXW2gZg/0-Ny-D-AX8-Eeiu6g4-2-Ac-Sq-A-ebec026f13ec95ab245ab74cfca0c460-Q1a-BZ.gif)\n",
    "\n",
    "**Second order**"
   ]
  },
  {
   "cell_type": "markdown",
   "metadata": {},
   "source": [
    "<br/>**3.**\n",
    "Which red surface in the following images is a first order Taylor series approximation of the blue surface? The original functions are given, but you don't need to do any calculations.\n",
    "\n",
    "**$f(x,y)=xsin(x^2/2+y^2/4)$**\n",
    "\n",
    "**![picture alt](https://i.ibb.co/x7yVQS1/0-Ny-D-AX8-Eeiu6g4-2-Ac-Sq-A-ebec026f13ec95ab245ab74cfca0c460-Q1a-BZ.gif)**"
   ]
  },
  {
   "cell_type": "markdown",
   "metadata": {},
   "source": [
    "<br/>**4.**\n",
    "Recall that up to second order the multivariate Taylor series is given by $f(\\mathbf{x}+\\boldsymbol{\\Delta}\\mathbf{x}) = f(\\mathbf{x}) + J_f\\boldsymbol{\\Delta}\\mathbf{x} + \\frac{1}{2}\\boldsymbol{\\Delta}\\mathbf{x}^TH_f\\boldsymbol{\\Delta}\\mathbf{x} +\\ldots$\n",
    "\n",
    "Consider the function of 2 variables, $f(x,y) = xy^2e^{-x^4-y^2/2}$. Which of the following is the first order Taylor series expansion of $f$ around the point $(-1,2)$?\n",
    "\n",
    "**$f_1(−1+\\Delta x,2+\\Delta y) = -4e^{-3}-12e^{-3}\\Delta x+4e^{-3}\\Delta y$**"
   ]
  },
  {
   "cell_type": "markdown",
   "metadata": {},
   "source": [
    "<br/>**5.**\n",
    "Now consider the function $f(x,y) = \\sin(\\pi x - x^2y)$. What is the Hessian matrix $H_f$ that is associated with the second order term in the Taylor expansion of $f$ around $(1,\\pi)$?\n",
    "\n",
    "**$\\begin{bmatrix}\n",
    "-2\\pi & -2 \\\\ \n",
    "-2 & 0 \n",
    "\\end{bmatrix}$**"
   ]
  }
 ],
 "metadata": {
  "kernelspec": {
   "display_name": "Python 3",
   "language": "python",
   "name": "python3"
  },
  "language_info": {
   "codemirror_mode": {
    "name": "ipython",
    "version": 3
   },
   "file_extension": ".py",
   "mimetype": "text/x-python",
   "name": "python",
   "nbconvert_exporter": "python",
   "pygments_lexer": "ipython3",
   "version": "3.6.6"
  }
 },
 "nbformat": 4,
 "nbformat_minor": 2
}
