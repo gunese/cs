{
 "cells": [
  {
   "cell_type": "markdown",
   "metadata": {},
   "source": [
    "## Week 5 - Practice Quiz: Newton-Raphson in one dimension"
   ]
  },
  {
   "cell_type": "markdown",
   "metadata": {},
   "source": [
    "<br/>**1.**\n",
    "In this quiz we shall explore using the Newton-Raphson method for root finding.\n",
    "\n",
    "Consider the following graph of a function,\n",
    "\n",
    "![picture alt](https://i.ibb.co/qsJ0RYh/CYhx-QQFIEei-E3x-KZx9h-CGA-458b3fd73ea3e7c0e152d3e9ea782f7b-1a.png)\n",
    "\n",
    "There are two places that this function goes through zero, i.e. two roots, one is near $x=-4$ and the other is near $x=1$.\n",
    "\n",
    "Recall that if we linearize about a particular point $x_0$, we can ask what the value of the function is at the point $x_0 + \\delta x$, a short distance away.\n",
    "\n",
    "$f(x_0 + \\delta x) = f(x_0) + f'(x_0) \\delta x$\n",
    "\n",
    "Then, if we assume that the function goes to zero somewhere nearby, we can re-arrange to find how far away, i.e. assume $f(x_0 + \\delta x) = 0$ and solve for $\\delta x$. This becomes,\n",
    "\n",
    "$\\delta x = -\\frac{f(x_0)}{f'(x_0)}$\n",
    "\n",
    "Since the function, $f(x)$ is not a line, this formula will (try) to get closer to the root, but won't exactly hit it. But this is OK, because we can repeat the process from the new starting point to get even closer,\n",
    "\n",
    "$x_{n+1} = x_n - \\frac{f(x_n)}{f'(x_n)}$,\n",
    "\n",
    "This is the Newton-Raphson method, and it (or a variant) is used widely to find the roots of functions.\n",
    "\n",
    "For the graph we showed above, the equation of the function is,\n",
    "\n",
    "$f(x) = \\frac{x^6}{6} - 3x^4 - \\frac{2x^3}{3} + \\frac{27x^2}{2} + 18x -30.$\n",
    "\n",
    "We'll explore the Newton-Raphson method for this function in this quiz, when it works, and how it can go wrong.\n",
    "\n",
    "To start, differentiate the function $f(x)$, as we'll need $f'(x)$ later on.\n",
    "\n",
    "(Type your answer as you would Python code, i.e with * to multiply and \\*\\* to raise to a power. e.g., 4*x\\**3 - 2*x\\**2/5)\n",
    "\n",
    "**Preview**\n",
    "\n",
    "**$x^{5} - 12 x^{3} - 2 x^{2} + 27 x + 18$**\n",
    "\n",
    "x\\*\\*5-12*x**3-2*x\\*\\*2+27*x+18"
   ]
  },
  {
   "cell_type": "markdown",
   "metadata": {},
   "source": [
    "<br/>**2.**\n",
    "We'll first try to find the location of the root near $x=1$.\n",
    "\n",
    "By using $x_0=1$ as a starting point and calculating $-f(1) / f'(1)$ by hand, find the first iteration of the Newton-Raphson method, i.e., find $x_1$.\n",
    "\n",
    "Give your answer to 3 decimal places.,\n",
    "\n",
    "**1.0625**"
   ]
  },
  {
   "cell_type": "markdown",
   "metadata": {},
   "source": [
    "<br/>**3.**\n",
    "Let's use code to find the other root, near $x=-4$.\n",
    "\n",
    "Complete the d_f function in the code block with your answer to Q1, i.e. with $f'(x)$. The code block will then perform iterations of the Newton-Raphson method."
   ]
  },
  {
   "cell_type": "code",
   "execution_count": null,
   "metadata": {},
   "outputs": [],
   "source": [
    "def f (x) :\n",
    "  return x**6/6 - 3*x**4 - 2*x**3/3 + 27*x**2/2 + 18*x - 30\n",
    "\n",
    "def d_f (x) :\n",
    "  return x**5 - # Complete this line with the derivative you have calculated.\n",
    "\n",
    "x = -4.0\n",
    "\n",
    "d = {\"x\" : [x], \"f(x)\": [f(x)]}\n",
    "for i in range(0, 20):\n",
    "  x = x - f(x) / d_f(x)\n",
    "  d[\"x\"].append(x)\n",
    "  d[\"f(x)\"].append(f(x))\n",
    "\n",
    "pd.DataFrame(d, columns=['x', 'f(x)'])"
   ]
  },
  {
   "cell_type": "markdown",
   "metadata": {},
   "source": [
    "What is the $x$ value of the root near $x=-4x$? (to 3 decimal places.)\n",
    "\n",
    "return x\\*\\*5-12*x**3-2*x\\*\\*2+27*x+18\n",
    "\n",
    "**-3.760**"
   ]
  },
  {
   "cell_type": "markdown",
   "metadata": {},
   "source": [
    "<br/>**4.**\n",
    "Let's explore where things can go wrong with Newton-Raphson.\n",
    "\n",
    "Since the step size is given by $\\delta x = -f(x) / f'(x)$, this can get big when $f'(x)$ is very small. In fact $f'(x)$f is exactly zero at turning points of $f(x)$. This is where Newton-Raphson behaves the worst since the step size is infinite.\n",
    "\n",
    "Use the code block in the previous question for a starting point of $x_0 = 1.99$ and observe what happens.\n",
    "\n",
    "Select all true statements.\n",
    "\n",
    "**The method converges to the root nearest x=-4x=−4**\n",
    "\n",
    "**The method takes over 15 iterations to converge.**"
   ]
  },
  {
   "cell_type": "markdown",
   "metadata": {},
   "source": [
    "<br/>**5.**\n",
    "Some starting points on the curve do not converge, nor do they diverge, but oscillate without settling. Try $x_0 = 3.1$ as a starting point; it does just this.\n",
    "\n",
    "Again, this is behaviour that happens in areas where the curve is not well described by a straight line - therefore our initial linearization assumption was not a good one for such a starting point.\n",
    "\n",
    "Use the code block from previously to observe this.\n",
    "\n",
    "In practice, often you will not need to hand craft optimisation methods, as they can be called from libraries, such as scipy. Use the code block below to test $x_0 = 3.1$."
   ]
  },
  {
   "cell_type": "code",
   "execution_count": 4,
   "metadata": {},
   "outputs": [
    {
     "data": {
      "text/plain": [
       "1.063070629709697"
      ]
     },
     "execution_count": 4,
     "metadata": {},
     "output_type": "execute_result"
    }
   ],
   "source": [
    "from scipy import optimize\n",
    "\n",
    "def f (x) :\n",
    "  return x**6/6 - 3*x**4 - 2*x**3/3 + 27*x**2/2 + 18*x - 30\n",
    "  \n",
    "x0 = 3.1\n",
    "optimize.newton(f, x0)"
   ]
  },
  {
   "cell_type": "markdown",
   "metadata": {},
   "source": [
    "Did it settle to a root?\n",
    "\n",
    "**Yes, to the root nearest $x=1$.**"
   ]
  }
 ],
 "metadata": {
  "kernelspec": {
   "display_name": "Python 3",
   "language": "python",
   "name": "python3"
  },
  "language_info": {
   "codemirror_mode": {
    "name": "ipython",
    "version": 3
   },
   "file_extension": ".py",
   "mimetype": "text/x-python",
   "name": "python",
   "nbconvert_exporter": "python",
   "pygments_lexer": "ipython3",
   "version": "3.6.6"
  }
 },
 "nbformat": 4,
 "nbformat_minor": 2
}
