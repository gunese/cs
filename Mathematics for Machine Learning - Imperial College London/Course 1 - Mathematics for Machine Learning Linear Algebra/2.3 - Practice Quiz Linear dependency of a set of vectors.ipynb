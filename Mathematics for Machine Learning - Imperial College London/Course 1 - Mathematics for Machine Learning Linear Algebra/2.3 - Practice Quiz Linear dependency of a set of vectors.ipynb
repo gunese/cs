{
 "cells": [
  {
   "cell_type": "markdown",
   "metadata": {},
   "source": [
    "## Week 2 - Practice Quiz: Linear dependency of a set of vectors"
   ]
  },
  {
   "cell_type": "markdown",
   "metadata": {},
   "source": [
    "<br/>**1.**\n",
    "In this quiz, you will check if some simple collection of vectors are linearly independent or not.\n",
    "\n",
    "Are the following set of vectors linearly independent?\n",
    "\n",
    "$\\mathbf{a} = \\begin{bmatrix} 1 \\\\ 1 \\end{bmatrix}$ and $\\mathbf{b} = \\begin{bmatrix} 2 \\\\ 1 \\end{bmatrix}$.\n",
    "\n",
    "**Yes**"
   ]
  },
  {
   "cell_type": "markdown",
   "metadata": {},
   "source": [
    "<br/>**2.**\n",
    "Are the following set of vectors linearly independent?\n",
    "\n",
    "$\\mathbf{a} = \\begin{bmatrix} 1 \\\\ 1 \\end{bmatrix}$ and $\\mathbf{b} = \\begin{bmatrix} 2 \\\\ 2 \\end{bmatrix}$.\n",
    "\n",
    "**No**"
   ]
  },
  {
   "cell_type": "markdown",
   "metadata": {},
   "source": [
    "<br/>**3.**\n",
    "Are the following set of vectors linearly independent?\n",
    "\n",
    "$\\mathbf{a} = \\begin{bmatrix} 1 \\\\ 2 \\\\ 0 \\end{bmatrix}$ and $\\mathbf{b} = \\begin{bmatrix} -2 \\\\ 1 \\\\ 0 \\end{bmatrix}$.\n",
    "\n",
    "**Yes**"
   ]
  },
  {
   "cell_type": "markdown",
   "metadata": {},
   "source": [
    "<br/>**4.**\n",
    "Are the following set of vectors linearly independent?\n",
    "\n",
    "$\\mathbf{a} = \\begin{bmatrix} 1 \\\\ 0 \\\\ 0 \\end{bmatrix}$, $\\mathbf{b} = \\begin{bmatrix} 1 \\\\ 1 \\\\ 0 \\end{bmatrix}$ and $\\mathbf{c} = \\begin{bmatrix} 1 \\\\ 0 \\\\ 1 \\end{bmatrix}$.\n",
    "\n",
    "**Yes**"
   ]
  },
  {
   "cell_type": "markdown",
   "metadata": {},
   "source": [
    "<br/>**5.**\n",
    "Are the following set of vectors linearly independent?\n",
    "\n",
    "$\\mathbf{a} = \\begin{bmatrix} 1 \\\\ 0 \\\\ 1 \\end{bmatrix}$, $\\mathbf{b} = \\begin{bmatrix} 2 \\\\ -1 \\\\ 1 \\end{bmatrix}$ and $\\mathbf{c} = \\begin{bmatrix} -3 \\\\ 1 \\\\ -2 \\end{bmatrix}$.\n",
    "\n",
    "**No**"
   ]
  }
 ],
 "metadata": {
  "kernelspec": {
   "display_name": "Python 3",
   "language": "python",
   "name": "python3"
  },
  "language_info": {
   "codemirror_mode": {
    "name": "ipython",
    "version": 3
   },
   "file_extension": ".py",
   "mimetype": "text/x-python",
   "name": "python",
   "nbconvert_exporter": "python",
   "pygments_lexer": "ipython3",
   "version": "3.6.5"
  }
 },
 "nbformat": 4,
 "nbformat_minor": 2
}
