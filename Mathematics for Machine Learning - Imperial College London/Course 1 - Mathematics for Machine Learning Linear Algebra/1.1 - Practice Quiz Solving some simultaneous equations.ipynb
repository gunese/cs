{
 "cells": [
  {
   "cell_type": "markdown",
   "metadata": {},
   "source": [
    "## Week 1 - Practice Quiz: Solving some simultaneous equations"
   ]
  },
  {
   "cell_type": "markdown",
   "metadata": {},
   "source": [
    "<br/>**1.**\n",
    "This quiz is a refresher in solving simultaneous equations, which you should already be familiar with. If you need a reminder on how to do these, feel free to search online for a handy guide!\n",
    "\n",
    "Solve the system of equations given by:\n",
    "\n",
    "$3x + 2y = 7$\n",
    "\n",
    "$2x + 3y = 8$\n",
    "\n",
    "**$x=1,y=2$**"
   ]
  },
  {
   "cell_type": "markdown",
   "metadata": {},
   "source": [
    "<br/>**2.**\n",
    "Solve the system of equations given by:\n",
    "\n",
    "$9x - 17y = -20$\n",
    "\n",
    "$-13x + 7y = -94$\n",
    "\n",
    "**$x=11,y=7$**"
   ]
  },
  {
   "cell_type": "markdown",
   "metadata": {},
   "source": [
    "<br/>**3.**\n",
    "Solve the system of equations given by:\n",
    "\n",
    "$5x - 2y = -13$\n",
    "\n",
    "$4x + 5y = -6$\n",
    "\n",
    "**$x = \\frac{-7}{3}, y = \\frac{2}{3}$**"
   ]
  },
  {
   "cell_type": "markdown",
   "metadata": {},
   "source": [
    "<br/>**4.**\n",
    "Solve the system of equations given by:\n",
    "\n",
    "$5x + 7y = 11$\n",
    "\n",
    "$20x - 18y = 39$\n",
    "\n",
    "**$x = \\frac{471}{230}, y = \\frac{5}{46}$**"
   ]
  },
  {
   "cell_type": "markdown",
   "metadata": {},
   "source": [
    "<br/>**5.**\n",
    "Solve the system of equations given by:\n",
    "\n",
    "$3x - 2y + z = 7$\n",
    "\n",
    "$x + y + z = 2$\n",
    "\n",
    "$3x - 2y - z = 3$\n",
    "\n",
    "**$x=1,y=−1,z=2$**"
   ]
  }
 ],
 "metadata": {
  "kernelspec": {
   "display_name": "Python 3",
   "language": "python",
   "name": "python3"
  },
  "language_info": {
   "codemirror_mode": {
    "name": "ipython",
    "version": 3
   },
   "file_extension": ".py",
   "mimetype": "text/x-python",
   "name": "python",
   "nbconvert_exporter": "python",
   "pygments_lexer": "ipython3",
   "version": "3.6.5"
  }
 },
 "nbformat": 4,
 "nbformat_minor": 2
}
