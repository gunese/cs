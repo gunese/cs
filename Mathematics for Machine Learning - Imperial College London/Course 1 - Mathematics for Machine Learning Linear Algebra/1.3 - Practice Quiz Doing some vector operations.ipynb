{
 "cells": [
  {
   "cell_type": "markdown",
   "metadata": {},
   "source": [
    "## Week 1 - Practice Quiz: Doing some vector operations"
   ]
  },
  {
   "cell_type": "markdown",
   "metadata": {},
   "source": [
    "<br/>**1.**\n",
    "This quiz will be to familiarise yourself with vectors and some basic vector operations.\n",
    "\n",
    "For the following questions, the vectors $\\mathbf{a}$, $\\mathbf{b}$, $\\mathbf{c}$, $\\mathbf{d}$ and $\\mathbf{e}$ refer to those in this diagram:\n",
    "\n",
    "![picture alt](https://i.ibb.co/3Mm4QzR/Mauq-Be-TVEeecp-Qo-q-ZJ4-g-a42e08b665b90cd0f91ec3a1c4085c33-vectors.png)\n",
    "\n",
    "What is the numerical representation of the vector $\\mathbf{a}$?\n",
    "\n",
    "**$\\begin{bmatrix} 2 \\\\ 2 \\end{bmatrix}$**"
   ]
  },
  {
   "cell_type": "markdown",
   "metadata": {},
   "source": [
    "<br/>**2.**\n",
    "Which vector corresponds to $\\begin{bmatrix} -1 \\\\ 2 \\end{bmatrix}$?\n",
    "\n",
    "**Vector $\\mathbf{d}$**"
   ]
  },
  {
   "cell_type": "markdown",
   "metadata": {},
   "source": [
    "<br/>**3.**\n",
    "What vector is $2\\mathbf{c}$?\n",
    "\n",
    "Please select all correct answers.\n",
    "\n",
    "**$\\begin{bmatrix} 2 \\\\ 2 \\end{bmatrix}$**\n",
    "\n",
    "**$\\mathbf{a}$**"
   ]
  },
  {
   "cell_type": "markdown",
   "metadata": {},
   "source": [
    "<br/>**4.**\n",
    "What vector is $2\\mathbf{-b}$?\n",
    "\n",
    "Please select all correct answers.\n",
    "\n",
    "**$\\begin{bmatrix} -1 \\\\ 2 \\end{bmatrix}$**\n",
    "\n",
    "**$\\mathbf{d}$**"
   ]
  },
  {
   "cell_type": "markdown",
   "metadata": {},
   "source": [
    "<br/>**5.**\n",
    "What is the vector $\\mathbf{b}+\\mathbf{e}$?\n",
    "\n",
    "**$\\begin{bmatrix} -1 \\\\ -1 \\end{bmatrix}$**"
   ]
  },
  {
   "cell_type": "markdown",
   "metadata": {},
   "source": [
    "<br/>**6.**\n",
    "What is the vector $\\mathbf{d} - \\mathbf{b}$?\n",
    "\n",
    "**$\\begin{bmatrix} -2 \\\\ 4 \\end{bmatrix}$**"
   ]
  }
 ],
 "metadata": {
  "kernelspec": {
   "display_name": "Python 3",
   "language": "python",
   "name": "python3"
  },
  "language_info": {
   "codemirror_mode": {
    "name": "ipython",
    "version": 3
   },
   "file_extension": ".py",
   "mimetype": "text/x-python",
   "name": "python",
   "nbconvert_exporter": "python",
   "pygments_lexer": "ipython3",
   "version": "3.6.5"
  }
 },
 "nbformat": 4,
 "nbformat_minor": 2
}
