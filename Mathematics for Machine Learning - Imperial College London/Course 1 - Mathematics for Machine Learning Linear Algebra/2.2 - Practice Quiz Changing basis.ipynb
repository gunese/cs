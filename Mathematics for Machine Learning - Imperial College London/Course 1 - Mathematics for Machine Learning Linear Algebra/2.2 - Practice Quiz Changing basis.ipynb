{
 "cells": [
  {
   "cell_type": "markdown",
   "metadata": {},
   "source": [
    "## Week 2 - Practice Quiz: Changing basis"
   ]
  },
  {
   "cell_type": "markdown",
   "metadata": {},
   "source": [
    "<br/>**1.**\n",
    "In this quiz, you will practice changing from the standard basis to a basis consisting of orthogonal vectors.\n",
    "\n",
    "Given vectors $\\mathbf{v} = \\begin{bmatrix} 5 \\\\ -1 \\end{bmatrix}$, $\\mathbf{b_1} = \\begin{bmatrix} 1 \\\\ 1 \\end{bmatrix}$ and $\\mathbf{b_2} = \\begin{bmatrix} 1 \\\\ -1 \\end{bmatrix}$ all written in the standard basis, what is $\\mathbf{v}$ in the basis defined by $\\mathbf{b_1}$ and $\\mathbf{b_2}$? You are given that $\\mathbf{b_1}$ and $\\mathbf{b_2}$ are orthogonal to each other.\n",
    "\n",
    "**$\\mathbf{v_b} = \\begin{bmatrix} 2 \\\\ 3 \\end{bmatrix}$**"
   ]
  },
  {
   "cell_type": "markdown",
   "metadata": {},
   "source": [
    "<br/>**2.**\n",
    "Given vectors $\\mathbf{v} = \\begin{bmatrix} 10 \\\\ -5 \\end{bmatrix}$, $\\mathbf{b_1} = \\begin{bmatrix} 3 \\\\ 4 \\end{bmatrix}$ and $\\mathbf{b_2} = \\begin{bmatrix} 4 \\\\ -3 \\end{bmatrix}$ all written in the standard basis, what is $\\mathbf{v}$ in the basis defined by $\\mathbf{b_1}$ and $\\mathbf{b_2}$? You are given that $\\mathbf{b_1}$ and $\\mathbf{b_2}$ are orthogonal to each other.\n",
    "\n",
    "**$\\mathbf{v_b} = \\begin{bmatrix} \\frac{2}{5} \\\\ \\frac{11}{5} \\end{bmatrix}$**"
   ]
  },
  {
   "cell_type": "markdown",
   "metadata": {},
   "source": [
    "<br/>**3.**\n",
    "Given vectors $\\mathbf{v} = \\begin{bmatrix} 2 \\\\ 2 \\end{bmatrix}$, $\\mathbf{b_1} = \\begin{bmatrix} -3 \\\\ 1 \\end{bmatrix}$ and $\\mathbf{b_2} = \\begin{bmatrix} 1 \\\\ 3 \\end{bmatrix}$ all written in the standard basis, what is $\\mathbf{v}$ in the basis defined by $\\mathbf{b_1}$ and $\\mathbf{b_2}$? You are given that $\\mathbf{b_1}$ and $\\mathbf{b_2}$ are orthogonal to each other.\n",
    "\n",
    "**$\\mathbf{v_b} = \\begin{bmatrix} \\frac{-2}{5} \\\\ \\frac{4}{5} \\end{bmatrix}$**"
   ]
  },
  {
   "cell_type": "markdown",
   "metadata": {},
   "source": [
    "<br/>**4.**\n",
    "Given vectors $\\mathbf{v} = \\begin{bmatrix} 1 \\\\ 1 \\\\ 1 \\end{bmatrix}$, $\\mathbf{b_1} = \\begin{bmatrix} 2 \\\\ 1 \\\\ 0 \\end{bmatrix}$, $\\mathbf{b_2} = \\begin{bmatrix} 1 \\\\ -2 \\\\ -1 \\end{bmatrix}$ and $\\mathbf{b_3} = \\begin{bmatrix} -1 \\\\ 2 \\\\ -5 \\end{bmatrix}$ all written in the standard basis, what is $\\mathbf{v}$ in the basis defined by $\\mathbf{b_1}$, $\\mathbf{b_2}$ and $\\mathbf{b_3}$? You are given that $\\mathbf{b_1}$, $\\mathbf{b_2}$ and $\\mathbf{b_3}$ are all pairwise orthogonal to each other.\n",
    "\n",
    "**$\\begin{bmatrix} \\frac{3}{5} \\\\ \\frac{-1}{3} \\\\ \\frac{-2}{15} \\end{bmatrix}$**"
   ]
  },
  {
   "cell_type": "markdown",
   "metadata": {},
   "source": [
    "<br/>**5.**\n",
    "Given vectors $\\mathbf{v} = \\begin{bmatrix} 1 \\\\ 1 \\\\ 2 \\\\ 3 \\end{bmatrix}$, $\\mathbf{b_1} = \\begin{bmatrix} 1 \\\\ 0 \\\\ 0 \\\\ 0 \\end{bmatrix}$, $\\mathbf{b_2} = \\begin{bmatrix} 0 \\\\ 2 \\\\ -1 \\\\ 0 \\end{bmatrix}$, $\\mathbf{b_3} = \\begin{bmatrix} 0 \\\\ 1 \\\\ 2 \\\\ 0 \\end{bmatrix}$ and $\\mathbf{b_4} = \\begin{bmatrix} 0 \\\\ 0 \\\\ 0 \\\\ 3 \\end{bmatrix}$ all written in the standard basis, what is $\\mathbf{v}$ in the basis defined by $\\mathbf{b_1}$, $\\mathbf{b_2}$, $\\mathbf{b_3}$ and $\\mathbf{b_4}$? You are given that $\\mathbf{b_1}$, $\\mathbf{b_2}$, $\\mathbf{b_3}$ and $\\mathbf{b_4}$ are all pairwise orthogonal to each other.\n",
    "\n",
    "**$\\mathbf{v_b} = \\begin{bmatrix} 1 \\\\ 0 \\\\ 1 \\\\ 1\\end{bmatrix}$**"
   ]
  }
 ],
 "metadata": {
  "kernelspec": {
   "display_name": "Python 3",
   "language": "python",
   "name": "python3"
  },
  "language_info": {
   "codemirror_mode": {
    "name": "ipython",
    "version": 3
   },
   "file_extension": ".py",
   "mimetype": "text/x-python",
   "name": "python",
   "nbconvert_exporter": "python",
   "pygments_lexer": "ipython3",
   "version": "3.6.5"
  }
 },
 "nbformat": 4,
 "nbformat_minor": 2
}
