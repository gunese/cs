{
 "cells": [
  {
   "cell_type": "markdown",
   "metadata": {},
   "source": [
    "## Week 5 - Practice Quiz: Diagonalisation and applications"
   ]
  },
  {
   "cell_type": "markdown",
   "metadata": {},
   "source": [
    "<br/>**1.**\n",
    "In this quiz you will diagonalise some matrices and apply this to simplify calculations.\n",
    "\n",
    "\n",
    "Given the matrix $T =\n",
    "\\begin{bmatrix}\n",
    "6 & -1 \\\\\n",
    "2 & 3 \\\\\n",
    "\\end{bmatrix}$ and change of basis matrix $C =\n",
    "\\begin{bmatrix}\n",
    "1 & 1 \\\\\n",
    "1 & 2 \\\\\n",
    "\\end{bmatrix}$ (whose columns are eigenvectors of $T$), calculate the diagonal matrix $D = C^{-1}TC$.\n",
    "\n",
    "\n",
    "**$\\begin{bmatrix}\n",
    "5 & 0 \\\\\n",
    "0 & 4 \\\\\n",
    "\\end{bmatrix}$**"
   ]
  },
  {
   "cell_type": "markdown",
   "metadata": {},
   "source": [
    "<br/>**2.**\n",
    "Given the matrix $T =\n",
    "\\begin{bmatrix}\n",
    "2 & 7 \\\\\n",
    "0 & -1 \\\\\n",
    "\\end{bmatrix}$ and change of basis matrix $C =\n",
    "\\begin{bmatrix}\n",
    "7 & 1 \\\\\n",
    "-3 & 0 \\\\\n",
    "\\end{bmatrix}$ (whose columns are eigenvectors of $T$), calculate the diagonal matrix $D = C^{-1}TC$.\n",
    "\n",
    "\n",
    "**$\\begin{bmatrix}\n",
    "-1 & 0 \\\\\n",
    "0 & 2 \\\\\n",
    "\\end{bmatrix}$**"
   ]
  },
  {
   "cell_type": "markdown",
   "metadata": {},
   "source": [
    "<br/>**3.**\n",
    "Given the matrix $T =\n",
    "\\begin{bmatrix}\n",
    "1 & 0 \\\\\n",
    "2 & -1 \\\\\n",
    "\\end{bmatrix}$ and change of basis matrix $C =\n",
    "\\begin{bmatrix}\n",
    "1 & 0 \\\\\n",
    "1 & 1 \\\\\n",
    "\\end{bmatrix}$ (whose columns are eigenvectors of $T$), calculate the diagonal matrix $D = C^{-1}TC$.\n",
    "\n",
    "\n",
    "**$\\begin{bmatrix}\n",
    "1 & 0 \\\\\n",
    "0 & -1 \\\\\n",
    "\\end{bmatrix}$**"
   ]
  },
  {
   "cell_type": "markdown",
   "metadata": {},
   "source": [
    "<br/>**4.**\n",
    "Given a diagonal matrix $D =\n",
    "\\begin{bmatrix}\n",
    "a & 0 \\\\\n",
    "0 & a \\\\\n",
    "\\end{bmatrix}$, and change of basis matrix $C =\n",
    "\\begin{bmatrix}\n",
    "1 & 2 \\\\\n",
    "0 & 1 \\\\\n",
    "\\end{bmatrix}$ with inverse $C =\n",
    "\\begin{bmatrix}\n",
    "1 & -2 \\\\\n",
    "0 & 1 \\\\\n",
    "\\end{bmatrix}$, calculate $T = CDC^{-1}$.\n",
    "\n",
    "**$\\begin{bmatrix}\n",
    "a & 0 \\\\\n",
    "0 & a \\\\\n",
    "\\end{bmatrix}$**"
   ]
  },
  {
   "cell_type": "markdown",
   "metadata": {},
   "source": [
    "<br/>**5.**\n",
    "Given that $T =\n",
    "\\begin{bmatrix}\n",
    "6 & -1 \\\\\n",
    "2 & 3 \\\\\n",
    "\\end{bmatrix} =\n",
    "\\begin{bmatrix}\n",
    "1 & 1 \\\\\n",
    "1 & 2 \\\\\n",
    "\\end{bmatrix}\n",
    "\\begin{bmatrix}\n",
    "5 & 0 \\\\\n",
    "0 & 4 \\\\\n",
    "\\end{bmatrix}\n",
    "\\begin{bmatrix}\n",
    "2 & -1 \\\\\n",
    "-1 & 1 \\\\\n",
    "\\end{bmatrix}$, calculate $T^3.$\n",
    "\n",
    "**$\\begin{bmatrix}\n",
    "186 & -61 \\\\\n",
    "122 & 3 \\\\\n",
    "\\end{bmatrix}$**"
   ]
  },
  {
   "cell_type": "markdown",
   "metadata": {},
   "source": [
    "<br/>**6.**\n",
    "Given that $T =\n",
    "\\begin{bmatrix}\n",
    "2 & 7 \\\\\n",
    "0 & -1 \\\\\n",
    "\\end{bmatrix} =\n",
    "\\begin{bmatrix}\n",
    "7 & 1 \\\\\n",
    "-3 & 0 \\\\\n",
    "\\end{bmatrix}\n",
    "\\begin{bmatrix}\n",
    "-1 & 0 \\\\\n",
    "0 & 2 \\\\\n",
    "\\end{bmatrix}\n",
    "\\begin{bmatrix}\n",
    "0 & -1/3 \\\\\n",
    "1 & 7/3 \\\\\n",
    "\\end{bmatrix}$, calculate $T^3.$\n",
    "\n",
    "**$\\begin{bmatrix}\n",
    "8 & 21 \\\\\n",
    "0 & -1 \\\\\n",
    "\\end{bmatrix}$**"
   ]
  },
  {
   "cell_type": "markdown",
   "metadata": {},
   "source": [
    "<br/>**7.**\n",
    "Given that $T =\n",
    "\\begin{bmatrix}\n",
    "1 & 0 \\\\\n",
    "2 & -1 \\\\\n",
    "\\end{bmatrix} =\n",
    "\\begin{bmatrix}\n",
    "1 & 0 \\\\\n",
    "1 & 1 \\\\\n",
    "\\end{bmatrix}\n",
    "\\begin{bmatrix}\n",
    "1 & 0 \\\\\n",
    "0 & -1 \\\\\n",
    "\\end{bmatrix}\n",
    "\\begin{bmatrix}\n",
    "1 & 0 \\\\\n",
    "-1 & 1 \\\\\n",
    "\\end{bmatrix}$, calculate $T^5.$\n",
    "\n",
    "**$\\begin{bmatrix}\n",
    "1 & 0 \\\\\n",
    "2 & -1 \\\\\n",
    "\\end{bmatrix}$**"
   ]
  }
 ],
 "metadata": {
  "kernelspec": {
   "display_name": "Python 3",
   "language": "python",
   "name": "python3"
  },
  "language_info": {
   "codemirror_mode": {
    "name": "ipython",
    "version": 3
   },
   "file_extension": ".py",
   "mimetype": "text/x-python",
   "name": "python",
   "nbconvert_exporter": "python",
   "pygments_lexer": "ipython3",
   "version": "3.6.6"
  }
 },
 "nbformat": 4,
 "nbformat_minor": 2
}
