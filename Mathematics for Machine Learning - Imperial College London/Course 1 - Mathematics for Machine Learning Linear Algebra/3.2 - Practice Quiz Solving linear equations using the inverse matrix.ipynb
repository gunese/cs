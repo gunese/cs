{
 "cells": [
  {
   "cell_type": "markdown",
   "metadata": {},
   "source": [
    "## Week 3 - Practice Quiz: Solving linear equations using the inverse matrix"
   ]
  },
  {
   "cell_type": "markdown",
   "metadata": {},
   "source": [
    "<br/>**1.**\n",
    "You go to the shops on Monday and buy 1 apple, 1 banana, and 1 carrot; the whole transaction totals €15. On Tuesday you buy 3 apples, 2 bananas, 1 carrot, all for €28. Then on Wednesday 2 apples, 1 banana, 2 carrots, for €23.\n",
    "\n",
    "Construct a matrix and vector for this linear algebra system. That is, for\n",
    "\n",
    "$\\mathbf{A} \\begin{bmatrix} a \\\\ b \\\\ c \\end{bmatrix} = \\begin{bmatrix} s_{Mon} \\\\ s_{Tue} \\\\ s_{Wed} \\end{bmatrix}  $\n",
    "\n",
    "Where $a$, $b$, $c$, are the prices of apples, bananas, and carrots. And each $s$ is the total for that day.\n",
    "\n",
    "Fill in the components of $A$ and $\\mathbf{s}$."
   ]
  },
  {
   "cell_type": "code",
   "execution_count": null,
   "metadata": {},
   "outputs": [],
   "source": [
    "# Replace A and s with the correct values below:\n",
    "A = [[A11, A12, A13],\n",
    "     [A21, A22, A23],\n",
    "     [A31, A32, A33]]\n",
    "\n",
    "s = [sMon, sTue, sWed]"
   ]
  },
  {
   "cell_type": "markdown",
   "metadata": {},
   "source": [
    "**A = [[1, 1, 1],\n",
    "     [3, 2, 1],\n",
    "     [2, 1, 2]]**\n",
    "\n",
    "**s = [15, 28, 23]**"
   ]
  },
  {
   "cell_type": "markdown",
   "metadata": {},
   "source": [
    "<br/>**2.**\n",
    "Given another system, $B\\mathbf{r} = \\mathbf{t}$,\n",
    "\n",
    "$\\begin{array}{c c} &\n",
    "\\begin{array}{c c c} \\\\\n",
    "\\end{array} \n",
    "\\\\\n",
    "\\begin{array}{c c c}\n",
    "①: \\\\\n",
    "②: \\\\\n",
    "③:\n",
    "\\end{array} \n",
    "&\n",
    "\\left[\n",
    "\\begin{array}{c c c}\n",
    "4 & 6 & 2 \\\\\n",
    "3 & 4 & 1 \\\\ \n",
    "2 & 8 & 13\n",
    "\\end{array}\n",
    "\\right] \n",
    "\\end{array} \n",
    "\\begin{bmatrix} a \\\\ b \\\\ c \\end{bmatrix} = \\begin{bmatrix} 9 \\\\ 7 \\\\ 2 \\end{bmatrix}$\n",
    "\n",
    "We wish to convert this to echelon form, by using elimination. Starting with the first row, ①, if we divide the whole row by 4, then the top-left element of the matrix becomes 1,\n",
    "\n",
    "$\\begin{array}{c c} &\n",
    "\\begin{array}{c c c} \\\\\n",
    "\\end{array} \n",
    "\\\\\n",
    "\\begin{array}{c c c}\n",
    "①': \\\\\n",
    "②': \\\\\n",
    "③':\n",
    "\\end{array} \n",
    "&\n",
    "\\left[\n",
    "\\begin{array}{c c c}\n",
    "1 & 3/2 & 1/2 \\\\\n",
    "3 & 4 & 1 \\\\ \n",
    "2 & 8 & 13\n",
    "\\end{array}\n",
    "\\right] \n",
    "\\end{array} \n",
    "\\begin{bmatrix} a \\\\ b \\\\ c \\end{bmatrix} = \\begin{bmatrix} 9/4 \\\\ 7 \\\\ 2 \\end{bmatrix}$\n",
    "\n",
    "Next, we need to fix the second row. This results in the following,\n",
    "\n",
    "$\\begin{array}{c c} &\n",
    "\\begin{array}{c c c} \\\\\n",
    "\\end{array} \n",
    "\\\\\n",
    "\\begin{array}{c c c}\n",
    "①'': \\\\\n",
    "②'': \\\\\n",
    "③'':\n",
    "\\end{array} \n",
    "&\n",
    "\\left[\n",
    "\\begin{array}{c c c}\n",
    "1 & 3/2 & 1/2 \\\\\n",
    "0 & 1 & 1 \\\\ \n",
    "2 & 8 & 13\n",
    "\\end{array}\n",
    "\\right] \n",
    "\\end{array} \n",
    "\\begin{bmatrix} a \\\\ b \\\\ c \\end{bmatrix} = \\begin{bmatrix} 9/4 \\\\ -1/2 \\\\ 2 \\end{bmatrix}$\n",
    "\n",
    "What steps did we take?\n",
    "\n",
    "**The new second row, $②′′$ is the old second row minus three times the old first row, then all multiplied by -2, i.e., $②′′=[②′−3①′]×(−2).$**"
   ]
  },
  {
   "cell_type": "markdown",
   "metadata": {},
   "source": [
    "<br/>**3.**\n",
    "From the previous question, our system is almost in echelon form.\n",
    "\n",
    "$\\begin{array}{c c} &\n",
    "\\begin{array}{c c c} \\\\\n",
    "\\end{array} \n",
    "\\\\\n",
    "\\begin{array}{c c c}\n",
    "①'': \\\\\n",
    "②'': \\\\\n",
    "③'':\n",
    "\\end{array} \n",
    "&\n",
    "\\left[\n",
    "\\begin{array}{c c c}\n",
    "1 & 3/2 & 1/2 \\\\\n",
    "0 & 1 & 1 \\\\ \n",
    "2 & 8 & 13\n",
    "\\end{array}\n",
    "\\right] \n",
    "\\end{array} \n",
    "\\begin{bmatrix} a \\\\ b \\\\ c \\end{bmatrix} = \\begin{bmatrix} 9/4 \\\\ -1/2 \\\\ 2 \\end{bmatrix}$\n",
    "\n",
    "Fix row 3 to be a linear combination of the other two. What is the echelon form of the system?\n",
    "\n",
    "**$\\begin{array}{c c} &\n",
    "\\begin{array}{c c c} \\\\\n",
    "\\end{array} \n",
    "\\\\\n",
    "\\begin{array}{c c c}\n",
    "①'': \\\\\n",
    "②'': \\\\\n",
    "③'':\n",
    "\\end{array} \n",
    "&\n",
    "\\left[\n",
    "\\begin{array}{c c c}\n",
    "1 & 3/2 & 1/2 \\\\\n",
    "0 & 1 & 1 \\\\ \n",
    "0 & 0 & 1\n",
    "\\end{array}\n",
    "\\right] \n",
    "\\end{array} \n",
    "\\begin{bmatrix} a \\\\ b \\\\ c \\end{bmatrix} = \\begin{bmatrix} 9/4 \\\\ -1/2 \\\\ 0 \\end{bmatrix}$**"
   ]
  },
  {
   "cell_type": "markdown",
   "metadata": {},
   "source": [
    "<br/>**4.**\n",
    "Taking your answer from the previous part, use back substitution to solve the system.\n",
    "\n",
    "What is the value of $\\begin{bmatrix} a \\\\ b \\\\ c \\end{bmatrix}$?\n",
    "\n",
    "**$\\mathbf{r} = \\begin{bmatrix} 3 \\\\ -1/2 \\\\ 0 \\end{bmatrix}$**"
   ]
  },
  {
   "cell_type": "markdown",
   "metadata": {},
   "source": [
    "<br/>**5.**\n",
    "Let's return to the apples and bananas from Question 1.\n",
    "\n",
    "Take your answer to Question 1 and convert the system to echelon form. I.e.,\n",
    "\n",
    "$\\begin{bmatrix}\n",
    "1 & \\mathrm{A}'_{12} & \\mathrm{A}'_{13} \\\\\n",
    "0 & 1 & \\mathrm{A}'_{23} \\\\ \n",
    "0 & 0 & 1\n",
    "\\end{bmatrix}\n",
    "\\begin{bmatrix} a \\\\ b \\\\ c \\end{bmatrix} = \\begin{bmatrix} \\mathbf{s}'_{1} \\\\ \\mathbf{s}'_{2} \\\\ \\mathbf{s}'_{3} \\end{bmatrix}$\n",
    "\n",
    "Find values for $\\mathrm{A}'$ and $\\mathbf{s}'$."
   ]
  },
  {
   "cell_type": "code",
   "execution_count": null,
   "metadata": {},
   "outputs": [],
   "source": [
    "# Replace A and s with the correct values below:\n",
    "A = [[ 1 , A12, A13],\n",
    "     [ 0,  1 ,  A23],\n",
    "     [ 0,  0 ,  1  ]]\n",
    "s = [s1, s2, s3]"
   ]
  },
  {
   "cell_type": "markdown",
   "metadata": {},
   "source": [
    "**A = [[ 1 , 1, 1],\n",
    "     [ 0,  1 ,  2],\n",
    "     [ 0,  0 ,  1  ]]**\n",
    "     \n",
    "**s = [15, 17, 5]**"
   ]
  },
  {
   "cell_type": "markdown",
   "metadata": {},
   "source": [
    "<br/>**6.**\n",
    "Following on from the previous question; now let's solve the system using back substitution.\n",
    "\n",
    "What is the price of apples, bananas, and carrots?"
   ]
  },
  {
   "cell_type": "code",
   "execution_count": null,
   "metadata": {},
   "outputs": [],
   "source": [
    "# Replace a, b, and c with the correct values below:\n",
    "s = [a, b, c]"
   ]
  },
  {
   "cell_type": "markdown",
   "metadata": {},
   "source": [
    "**s = [3, 7, 5]**"
   ]
  },
  {
   "cell_type": "markdown",
   "metadata": {},
   "source": [
    "<br/>**7.**\n",
    "If every week, you go to the shops and buy the same amount of apples, bananas, and oranges on Monday, Tuesday, and Wednesday; and every week you get a new list of daily totals - then you should solve the system in general.\n",
    "\n",
    "That is, find the inverse of the matrix you used in Question 1."
   ]
  },
  {
   "cell_type": "code",
   "execution_count": null,
   "metadata": {},
   "outputs": [],
   "source": [
    "# Replace the matrix elements with the correct values below:\n",
    "Ainv = [[A11, A12, A13],\n",
    "        [A21, A22, A23],\n",
    "        [A31, A32, A33]]"
   ]
  },
  {
   "cell_type": "markdown",
   "metadata": {},
   "source": [
    "**Ainv = [[-1.5, 0.5, 0.5],\n",
    "        [2, 0, -1],\n",
    "        [0.5, -0.5, 0.5]]**"
   ]
  },
  {
   "cell_type": "markdown",
   "metadata": {},
   "source": [
    "<br/>**8.**\n",
    "In practice, for larger systems, one never solves a linear system by hand as there are software packages that can do this for you - such as _numpy_ in Python.\n",
    "\n",
    "Use this code block to see numpy invert a matrix.\n",
    "\n",
    "You can try to invert any matrix you like. Try it out on your answers to the previous question."
   ]
  },
  {
   "cell_type": "code",
   "execution_count": 2,
   "metadata": {},
   "outputs": [
    {
     "data": {
      "text/plain": [
       "array([[ 0., -1.,  2.],\n",
       "       [-2.,  1.,  1.],\n",
       "       [ 1., -0., -1.]])"
      ]
     },
     "execution_count": 2,
     "metadata": {},
     "output_type": "execute_result"
    }
   ],
   "source": [
    "import numpy as np\n",
    "\n",
    "A = [[1, 1, 3],\n",
    "     [1, 2, 4],\n",
    "     [1, 1, 2]]\n",
    "Ainv = np.linalg.inv(A)\n",
    "Ainv"
   ]
  },
  {
   "cell_type": "markdown",
   "metadata": {},
   "source": [
    "In general, one shouldn't calculate the inverse of a matrix unless absolutely necessary. It is more computationally efficient to solve the linear algebra system if that is all you need.\n",
    "\n",
    "Use this code block to solve the following linear system with numpy. $A \\mathbf{r} = \\mathbf{s}$,\n",
    "\n",
    "$\\begin{bmatrix}\n",
    "4 & 6 & 2 \\\\\n",
    "3 & 4 & 1 \\\\ \n",
    "2 & 8 & 13\n",
    "\\end{bmatrix}\n",
    "\\begin{bmatrix} a \\\\ b \\\\ c \\end{bmatrix} = \\begin{bmatrix} 9 \\\\ 7 \\\\ 2 \\end{bmatrix}$"
   ]
  },
  {
   "cell_type": "code",
   "execution_count": 5,
   "metadata": {},
   "outputs": [
    {
     "data": {
      "text/plain": [
       "array([ 3.00000000e+00, -5.00000000e-01, -1.98254112e-17])"
      ]
     },
     "execution_count": 5,
     "metadata": {},
     "output_type": "execute_result"
    }
   ],
   "source": [
    "import numpy as np\n",
    "A = [[4, 6, 2],\n",
    "     [3, 4, 1],\n",
    "     [2, 8, 13]]\n",
    "\n",
    "s = [9, 7, 2]\n",
    "\n",
    "r = np.linalg.solve(A, s)\n",
    "r"
   ]
  }
 ],
 "metadata": {
  "kernelspec": {
   "display_name": "Python 3",
   "language": "python",
   "name": "python3"
  },
  "language_info": {
   "codemirror_mode": {
    "name": "ipython",
    "version": 3
   },
   "file_extension": ".py",
   "mimetype": "text/x-python",
   "name": "python",
   "nbconvert_exporter": "python",
   "pygments_lexer": "ipython3",
   "version": "3.6.5"
  }
 },
 "nbformat": 4,
 "nbformat_minor": 2
}
