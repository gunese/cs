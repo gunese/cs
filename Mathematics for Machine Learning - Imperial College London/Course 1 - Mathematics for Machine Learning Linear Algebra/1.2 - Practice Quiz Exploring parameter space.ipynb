{
 "cells": [
  {
   "cell_type": "markdown",
   "metadata": {},
   "source": [
    "## Week 1 - Practice Quiz: Exploring parameter space"
   ]
  },
  {
   "cell_type": "markdown",
   "metadata": {},
   "source": [
    "<br/>**1.**\n",
    "In this quiz, we shall see how quantities in machine learning can be represented as vectors. These could be in the form of data itself, or model parameters, and so on. We will begin to explore why framing our problem in this form might be a useful thing to do.\n",
    "\n",
    "The problem we shall focus on in this exercise is the distribution of heights in a population.\n",
    "\n",
    "Since a vector is just a list of numbers, one of the vectors that we can define relates to data that we measure. That is, in this case, we can record the frequency of people with heights between 150cm and 152.5cm, between 152.5cm and 155cm, and so on. We can define this as the vector $\\mathbf{f}$ with components,\n",
    "\n",
    "$ \\mathbf{f} = \\begin{bmatrix} f150.0−152.5 \\\\ f152.5−155.0 \\\\ f155.0−157.5 \\\\ f157.5−160.0 \\\\ f160.0−162.5 \\\\ ...\\end{bmatrix}$\n",
    "\n",
    "This vector can also be represented by the histogram,\n",
    "\n",
    "![picture alt](https://i.ibb.co/rFcXkxw/roc7g-N6-Eeez-Ywo5md-Qmh-A-426951d71c5d161dcc26db0e9116f747-f1.png)\n",
    "\n",
    "**If another sample was taken under the same conditions, the frequencies would be broadly similar.**\n",
    "\n",
    "**The total area of all the bins sums to one.**\n",
    "\n",
    "**There are at least 15 elements in the frequency vector, $\\mathbf{f}$.**"
   ]
  },
  {
   "cell_type": "markdown",
   "metadata": {},
   "source": [
    "<br/>**2.**\n",
    "One of the tasks of machine learning is to fit a model to data in order to predict the underlying distribution.\n",
    "\n",
    "For the heights of a population, a model we may use to predict frequencies is the Normal (or Gaussian) distribution. This is a model for a bell-shaped curve, which looks like this,\n",
    "\n",
    "![picture alt](https://i.ibb.co/zVs0KhQ/roc7g-N6-Eeez-Ywo5md-Qmh-A-426951d71c5d161dcc26db0e9116f747-f1.png)\n",
    "\n",
    "It has an equation,\n",
    "\n",
    "$g(x) = \\frac{1}{\\sigma\\sqrt{2\\pi}}\\exp\\left(-\\frac{(x-\\mu)^2}{2\\sigma^2}\\right),$\n",
    "\n",
    "the exact form of which is unimportant, except that it is dependant on two parameters, the mean, $\\mu$, where the curve is centred, and the standard deviation, $\\sigma$, which is the characteristic width of the bell curve.\n",
    "\n",
    "We can put these two parameters in a vector, $\\mathbf{p} = \\begin{bmatrix} \\mu \\\\ \\sigma \\end{bmatrix}$\n",
    "\n",
    "Pick the parameter vector $\\mathbf{p}$ which best describes the distribution pictured.\n",
    "\n",
    "**$\\mathbf{p} = \\begin{bmatrix} 155 \\\\ 12 \\end{bmatrix}$**"
   ]
  },
  {
   "cell_type": "markdown",
   "metadata": {},
   "source": [
    "<br/>**3.**\n",
    "Pick the Normal distribution that corresponds the closest to the parameter vector $$\\mathbf{p} = \\begin{bmatrix} 3 \\\\ 3 \\end{bmatrix}$$\n",
    "\n",
    "**![picture alt](https://i.ibb.co/8B8vVWp/roc7g-N6-Eeez-Ywo5md-Qmh-A-426951d71c5d161dcc26db0e9116f747-f1.png)**"
   ]
  },
  {
   "cell_type": "markdown",
   "metadata": {},
   "source": [
    "<br/>**4.**\n",
    "A model allows us to predict the data in a distribution. In our example we can start with a parameter vector $\\mathbf{p}$ and convert it to a vector of expected frequencies $\\mathbf{g}_\\mathbf{p}$, for example,\n",
    "\n",
    "$ \\mathbf{g}_\\mathbf{p} = \\begin{bmatrix} f150.0−152.5 \\\\ f152.5−155.0 \\\\ f155.0−157.5 \\\\ f157.5−160.0 \\\\ f160.0−162.5 \\\\ ...\\end{bmatrix}$\n",
    "\n",
    "A model is only considered good if it fits the measured data well. Some specific values for the parameters will be better than others for a model. We need a way fit a model's parameters to data and quantify how good that fit is.\n",
    "\n",
    "One way of doing so is to calculate the \"residuals\", which is the difference between the measured data and the modelled prediction for each histogram bin.\n",
    "\n",
    "This is illustrated below. The model is shown in pink, the measured data is shown in orange and where they overlap is shown in green. The height of the pink and orange bars are the residuals.\n",
    "\n",
    "![picture alt](https://i.ibb.co/d0XtrHn/roc7g-N6-Eeez-Ywo5md-Qmh-A-426951d71c5d161dcc26db0e9116f747-f1.png)\n",
    "\n",
    "A better fit would have as much overlap as it can, reducing the residuals as much as possible.\n",
    "\n",
    "How could the model be improved to give the best fit to the data?\n",
    "\n",
    "**Increase the mean, $\\mu$.**\n",
    "\n",
    "**Keep the standard deviation, $\\sigma$, approximately the same.**"
   ]
  },
  {
   "cell_type": "markdown",
   "metadata": {},
   "source": [
    "<br/>**5.**\n",
    "The performance of a model can be quantified in a single number. One measure we can use is the _Sum of Squared Residuals_, $\\mathrm{SSR}$. Here we take all of the residuals (the difference between the measured and predicted data), square them and add them together.\n",
    "\n",
    "In the language of vectors we can write this as, $\\mathrm{SSR}(\\mathbf{p}) = |\\mathbf{f}-\\mathbf{g}_\\mathbf{p}|^2$, which will be explained further on in this course.\n",
    "\n",
    "Use the following code block to play with parameters of a model, and try to get the best fit to the data."
   ]
  },
  {
   "cell_type": "code",
   "execution_count": null,
   "metadata": {},
   "outputs": [],
   "source": [
    "# Play with values of μ and σ to find the best fit.\n",
    "μ = 160 ; σ = 6\n",
    "p = [μ, σ]\n",
    "histogram(p)"
   ]
  },
  {
   "cell_type": "markdown",
   "metadata": {},
   "source": [
    "Find a set of parameters with a fit $\\mathrm{SSR} \\le 0.00051$\n",
    "\n",
    "Input your fitted parameters into the code block below."
   ]
  },
  {
   "cell_type": "code",
   "execution_count": 2,
   "metadata": {},
   "outputs": [],
   "source": [
    "μ = 178.5 ; σ = 7.5\n",
    "p = [μ, σ]"
   ]
  },
  {
   "cell_type": "markdown",
   "metadata": {},
   "source": [
    "<br/>**6.**\n",
    "Since each parameter vector $\\mathbf{p}$ represents a different function, each with its own value for the sum of squared residuals, $\\mathrm{SSR}$, we can draw the surface of $\\mathrm{SSR}$ values over the space spanned by $\\mathbf{p}$, such as $\\mu$ and $\\sigma$ in this example.\n",
    "\n",
    "Here is an illustration of this surface for our data.\n",
    "\n",
    "![picture alt](https://i.ibb.co/Cwyz47P/roc7g-N6-Eeez-Ywo5md-Qmh-A-426951d71c5d161dcc26db0e9116f747-f1.png)\n",
    "\n",
    "We can also take a ‘top-down’ view of the surface, and view it as a contour map, where each of the contours (in green here) represent a constant value for the $\\mathrm{SSR}$.\n",
    "\n",
    "![picture alt](https://i.ibb.co/SyLK7M7/roc7g-N6-Eeez-Ywo5md-Qmh-A-426951d71c5d161dcc26db0e9116f747-f1.png)\n",
    "\n",
    "The goal in machine learning is to find the parameter set where the model fits the data as well as it possibly can. This translates into finding the lowest point, the global minimum, in this space.\n",
    "\n",
    "Select all true statements below.\n",
    "\n",
    "**Each point on the surface represents a set of parameters $\\mathbf{p} = \\begin{bmatrix} \\mu \\\\ \\sigma \\end{bmatrix}$**\n",
    "\n",
    "**Moving at right angles to contour lines in the parameter space will have the greatest effect on the fit than moving in other directions.**"
   ]
  },
  {
   "cell_type": "markdown",
   "metadata": {},
   "source": [
    "<br/>**7.**\n",
    "We can define another vector, $\\Delta\\mathbf{p}$, in the same space as $\\mathbf{p}$ that tells us what change can be made to $\\mathbf{p}$ to get a better fit.\n",
    "\n",
    "For example, a model with parameters $\\mathbf{p}' = \\mathbf{p} + \\Delta\\mathbf{p}$ will produce a better fit to data, if we can find a suitable $\\Delta\\mathbf{p}$.\n",
    "\n",
    "The second course in this specialisation will detail how to calculate these changes in parameters, $\\Delta\\mathbf{p}$.\n",
    "\n",
    "Given the following contour map,\n",
    "\n",
    "![picture alt](https://i.ibb.co/stFsBn1/roc7g-N6-Eeez-Ywo5md-Qmh-A-426951d71c5d161dcc26db0e9116f747-f1.png)\n",
    "\n",
    "What $\\Delta\\mathbf{p}$ will give the best improvement in the model?\n",
    "\n",
    "**$\\Delta\\mathbf{p} = \\begin{bmatrix} -2 \\\\ 2 \\end{bmatrix}$**"
   ]
  }
 ],
 "metadata": {
  "kernelspec": {
   "display_name": "Python 3",
   "language": "python",
   "name": "python3"
  },
  "language_info": {
   "codemirror_mode": {
    "name": "ipython",
    "version": 3
   },
   "file_extension": ".py",
   "mimetype": "text/x-python",
   "name": "python",
   "nbconvert_exporter": "python",
   "pygments_lexer": "ipython3",
   "version": "3.6.5"
  }
 },
 "nbformat": 4,
 "nbformat_minor": 2
}
