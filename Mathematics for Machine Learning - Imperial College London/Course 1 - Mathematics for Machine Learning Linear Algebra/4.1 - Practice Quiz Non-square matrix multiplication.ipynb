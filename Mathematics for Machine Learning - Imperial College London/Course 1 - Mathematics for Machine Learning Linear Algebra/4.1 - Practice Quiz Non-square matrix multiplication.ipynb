{
 "cells": [
  {
   "cell_type": "markdown",
   "metadata": {},
   "source": [
    "## Week 4 - Practice Quiz: Non-square matrix multiplication"
   ]
  },
  {
   "cell_type": "markdown",
   "metadata": {},
   "source": [
    "<br/>**1.**\n",
    "In this quiz, you will practice multiplying together matrices which are not square.\n",
    "\n",
    "Calculate the product:\n",
    "\n",
    "$\\begin{bmatrix}\n",
    "2 & 4 & 5 & 6 \\\\\n",
    "\\end{bmatrix}\n",
    "\\begin{bmatrix} 1 \\\\ 3 \\\\ 2 \\\\ 1 \\end{bmatrix}$\n",
    "\n",
    "**30**"
   ]
  },
  {
   "cell_type": "markdown",
   "metadata": {},
   "source": [
    "<br/>**2.**\n",
    "Calculate the product:\n",
    "\n",
    "$\\begin{bmatrix} 1 \\\\ 3 \\\\ 2 \\\\ 1 \\end{bmatrix}\n",
    "\\begin{bmatrix}\n",
    "2 & 4 & 5 & 6 \\\\\n",
    "\\end{bmatrix}$\n",
    "\n",
    "**$\\begin{bmatrix}\n",
    "2 & 4 & 5 & 6 \\\\\n",
    "6 & 12 & 15 & 18 \\\\ \n",
    "4 & 8 & 10 & 12 \\\\ \n",
    "2 & 4 & 5 & 6\n",
    "\\end{bmatrix}$**"
   ]
  },
  {
   "cell_type": "markdown",
   "metadata": {},
   "source": [
    "<br/>**3.**\n",
    "Calculate the product:\n",
    "\n",
    "$\\begin{bmatrix}\n",
    "1 & 2 & 3 \\\\\n",
    "4 & 0 & 1  \\\\\n",
    "\\end{bmatrix}\n",
    "\\begin{bmatrix}\n",
    "1 & 1 & 0 \\\\\n",
    "0 & 1 & 1 \\\\ \n",
    "1 & 0 & 1 \\\\\n",
    "\\end{bmatrix}$\n",
    "\n",
    "**$\\begin{bmatrix}\n",
    "4 & 3 & 5 \\\\\n",
    "5 & 4 & 1  \\\\\n",
    "\\end{bmatrix}$**"
   ]
  },
  {
   "cell_type": "markdown",
   "metadata": {},
   "source": [
    "<br/>**4.**\n",
    "Calculate the product:\n",
    "\n",
    "$\\begin{bmatrix}\n",
    "2 & -1 \\\\\n",
    "0 & 3 \\\\\n",
    "1 & 0 \\\\\n",
    "\\end{bmatrix}\n",
    "\\begin{bmatrix}\n",
    "0 & 1 & 4 & -1 \\\\\n",
    "-2 & 0 & 0 & 2 \\\\\n",
    "\\end{bmatrix}$\n",
    "\n",
    "**$\\begin{bmatrix}\n",
    "2 & 2 & 8 & -4 \\\\\n",
    "-6 & 0 & 0 & 6 \\\\\n",
    "0 & 1 & 4 & -1 \\\\\n",
    "\\end{bmatrix}$**"
   ]
  },
  {
   "cell_type": "markdown",
   "metadata": {},
   "source": [
    "<br/>**5.**\n",
    "Calculate the product:\n",
    "\n",
    "$\\begin{bmatrix}\n",
    "1 & 0 \\\\\n",
    "0 & 1 \\\\\n",
    "\\end{bmatrix}\n",
    "\\begin{bmatrix}\n",
    "1 & 2 & 3 \\\\\n",
    "4 & 5 & 6 \\\\\n",
    "\\end{bmatrix}$\n",
    "\n",
    "**$\\begin{bmatrix}\n",
    "1 & 2 & 3 \\\\\n",
    "4 & 5 & 6 \\\\\n",
    "\\end{bmatrix}$**"
   ]
  }
 ],
 "metadata": {
  "kernelspec": {
   "display_name": "Python 3",
   "language": "python",
   "name": "python3"
  },
  "language_info": {
   "codemirror_mode": {
    "name": "ipython",
    "version": 3
   },
   "file_extension": ".py",
   "mimetype": "text/x-python",
   "name": "python",
   "nbconvert_exporter": "python",
   "pygments_lexer": "ipython3",
   "version": "3.6.5"
  }
 },
 "nbformat": 4,
 "nbformat_minor": 2
}
