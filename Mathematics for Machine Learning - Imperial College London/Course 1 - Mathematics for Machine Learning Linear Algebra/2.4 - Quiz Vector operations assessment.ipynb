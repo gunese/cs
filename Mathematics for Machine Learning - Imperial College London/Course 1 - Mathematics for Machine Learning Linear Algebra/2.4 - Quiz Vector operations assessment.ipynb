{
 "cells": [
  {
   "cell_type": "markdown",
   "metadata": {},
   "source": [
    "## Week 2 - Quiz: Vector operations assessment"
   ]
  },
  {
   "cell_type": "markdown",
   "metadata": {},
   "source": [
    "<br/>**1.**\n",
    "In this assessment, you will be tested on all of the different topics you have in covered this module. Good luck!\n",
    "\n",
    "A ship travels with velocity given by $\\begin{bmatrix} 1 \\\\ 2 \\end{bmatrix}$, with current flowing in the direction given by $\\begin{bmatrix} 1 \\\\ 1 \\end{bmatrix}$ with respect to some co-ordinate axes.\n",
    "\n",
    "What is the velocity of the ship in the direction of the current?\n",
    "\n",
    "**$\\begin{bmatrix} \\frac{3}{2} \\\\ \\frac{3}{2} \\end{bmatrix}$**"
   ]
  },
  {
   "cell_type": "markdown",
   "metadata": {},
   "source": [
    "<br/>**2.**\n",
    "A ball travels with velocity given by $\\begin{bmatrix} 2 \\\\ 1 \\end{bmatrix}$, with wind blowing in the direction given by $\\begin{bmatrix} 3 \\\\ -4 \\end{bmatrix}$ with respect to some co-ordinate axes.\n",
    "\n",
    "What is the size of the velocity of the ball in the direction of the wind?\n",
    "\n",
    "**$\\frac{2}{5}$**"
   ]
  },
  {
   "cell_type": "markdown",
   "metadata": {},
   "source": [
    "<br/>**3.**\n",
    "Given vectors $\\mathbf{v} = \\begin{bmatrix} -4 \\\\ -3 \\\\ 8 \\end{bmatrix}$, $\\mathbf{b_1} = \\begin{bmatrix} 1 \\\\ 2 \\\\ 3 \\end{bmatrix}$, $\\mathbf{b_2} = \\begin{bmatrix} -2 \\\\ 1 \\\\ 0 \\end{bmatrix}$ and $\\mathbf{b_3} = \\begin{bmatrix} -3 \\\\ -6 \\\\ 5 \\end{bmatrix}$ all written in the standard basis, what is $\\mathbf{v}$ in the basis defined by $\\mathbf{b_1}$, $\\mathbf{b_2}$ and $\\mathbf{b_3}$? You are given that $\\mathbf{b_1}$, $\\mathbf{b_2}$ and $\\mathbf{b_3}$ are all pairwise orthogonal to each other.\n",
    "\n",
    "**$\\begin{bmatrix} 1 \\\\ 1 \\\\ 1 \\end{bmatrix}$**"
   ]
  },
  {
   "cell_type": "markdown",
   "metadata": {},
   "source": [
    "<br/>**4.**\n",
    "Are the following vectors linearly independent?\n",
    "\n",
    "$\\mathbf{a} = \\begin{bmatrix} 1 \\\\ 2 \\\\ -1 \\end{bmatrix}$, $\\mathbf{b} = \\begin{bmatrix} 3 \\\\ -4 \\\\ 5 \\end{bmatrix}$ and $\\mathbf{c} = \\begin{bmatrix} 1 \\\\ -8 \\\\ 7 \\end{bmatrix}$.\n",
    "\n",
    "**No**"
   ]
  },
  {
   "cell_type": "markdown",
   "metadata": {},
   "source": [
    "<br/>**5.**\n",
    "At 12:00 pm, a spaceship is at position $\\begin{bmatrix} 3 \\\\ 2 \\\\ 4 \\end{bmatrix} km$ away from the origin with respect to some 3 dimensional co ordinate system. The ship is travelling with velocity \n",
    "$\\begin{bmatrix} 3 \\\\ 2 \\\\ 4 \\end{bmatrix} km/h$. What is the location of the spaceship after 2 hours have passed?\n",
    "\n",
    "**$\\begin{bmatrix} 1 \\\\ 6 \\\\ -2 \\end{bmatrix}$**"
   ]
  }
 ],
 "metadata": {
  "kernelspec": {
   "display_name": "Python 3",
   "language": "python",
   "name": "python3"
  },
  "language_info": {
   "codemirror_mode": {
    "name": "ipython",
    "version": 3
   },
   "file_extension": ".py",
   "mimetype": "text/x-python",
   "name": "python",
   "nbconvert_exporter": "python",
   "pygments_lexer": "ipython3",
   "version": "3.6.5"
  }
 },
 "nbformat": 4,
 "nbformat_minor": 2
}
