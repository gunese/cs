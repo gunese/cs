{
 "cells": [
  {
   "cell_type": "markdown",
   "metadata": {},
   "source": [
    "## Week 4 - Quiz: Special applications: Face recognition & Neural style transfer"
   ]
  },
  {
   "cell_type": "markdown",
   "metadata": {},
   "source": [
    "<br/>**1.**\n",
    "Face verification requires comparing a new picture against one person’s face, whereas face recognition requires comparing a new picture against K person’s faces.\n",
    "\n",
    "**True**"
   ]
  },
  {
   "cell_type": "markdown",
   "metadata": {},
   "source": [
    "<br/>**2.**\n",
    "Why do we learn a function $d(img1, img2)$ for face verification? (Select all that apply.)\n",
    "\n",
    "**We need to solve a one-shot learning problem.**\n",
    "\n",
    "**This allows us to learn to recognize a new person given just a single image of that person.**"
   ]
  },
  {
   "cell_type": "markdown",
   "metadata": {},
   "source": [
    "<br/>**3.**\n",
    "In order to train the parameters of a face recognition system, it would be reasonable to use a training set comprising 100,000 pictures of 100,000 different persons.\n",
    "\n",
    "**False**"
   ]
  },
  {
   "cell_type": "markdown",
   "metadata": {},
   "source": [
    "<br/>**4.**\n",
    "Which of the following is a correct definition of the triplet loss? Consider that $\\alpha > 0$. (We encourage you to figure out the answer from first principles, rather than just refer to the lecture.)\n",
    "\n",
    "**$max(∣∣f(A)−f(P)∣∣^2 − ∣∣f(A)−f(N)∣∣^2+α,0)$**"
   ]
  },
  {
   "cell_type": "markdown",
   "metadata": {},
   "source": [
    "<br/>**5.**\n",
    "Consider the following Siamese network architecture:\n",
    "\n",
    "![picture alt](https://i.ibb.co/VS3PwcK/xry-VS70-VEee3-Nh-Lzoh-Ksog-98c778df87f041af9903bd66d2d98bbd-Screen-Shot-2017-10-29-at-6-57-51-PM.png)\n",
    "\n",
    "The upper and lower neural networks have different input images, but have exactly the same parameters.\n",
    "\n",
    "**True**"
   ]
  },
  {
   "cell_type": "markdown",
   "metadata": {},
   "source": [
    "<br/>**6.**\n",
    "You train a ConvNet on a dataset with 100 different classes. You wonder if you can find a hidden unit which responds strongly to pictures of cats. (I.e., a neuron so that, of all the input/training images that strongly activate that neuron, the majority are cat pictures.) You are more likely to find this unit in layer 4 of the network than in layer 1.\n",
    "\n",
    "**True**"
   ]
  },
  {
   "cell_type": "markdown",
   "metadata": {},
   "source": [
    "<br/>**7.**\n",
    "Neural style transfer is trained as a supervised learning task in which the goal is to input two images $(x)$, and train a network to output a new, synthesized image $(y)$.\n",
    "\n",
    "**False**"
   ]
  },
  {
   "cell_type": "markdown",
   "metadata": {},
   "source": [
    "<br/>**8.**\n",
    "In the deeper layers of a ConvNet, each channel corresponds to a different feature detector. The style matrix $G^{[l]}$ measures the degree to which the activations of different feature detectors in layer $l$ vary (or correlate) together with each other.\n",
    "\n",
    "**True**"
   ]
  },
  {
   "cell_type": "markdown",
   "metadata": {},
   "source": [
    "<br/>**9.**\n",
    "In neural style transfer, what is updated in each iteration of the optimization algorithm?\n",
    "\n",
    "**The pixel values of the generated image $G$**"
   ]
  },
  {
   "cell_type": "markdown",
   "metadata": {},
   "source": [
    "<br/>**10.**\n",
    "You are working with 3D data. You are building a network layer whose input volume has size 32x32x32x16 (this volume has 16 channels), and applies convolutions with 32 filters of dimension 3x3x3 (no padding, stride 1). What is the resulting output volume?\n",
    "\n",
    "**30x30x30x32**"
   ]
  }
 ],
 "metadata": {
  "kernelspec": {
   "display_name": "Python 3",
   "language": "python",
   "name": "python3"
  },
  "language_info": {
   "codemirror_mode": {
    "name": "ipython",
    "version": 3
   },
   "file_extension": ".py",
   "mimetype": "text/x-python",
   "name": "python",
   "nbconvert_exporter": "python",
   "pygments_lexer": "ipython3",
   "version": "3.6.6"
  }
 },
 "nbformat": 4,
 "nbformat_minor": 2
}
