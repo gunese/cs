{
 "cells": [
  {
   "cell_type": "markdown",
   "metadata": {},
   "source": [
    "## Week 2 - Quiz: Deep convolutional models"
   ]
  },
  {
   "cell_type": "markdown",
   "metadata": {},
   "source": [
    "<br/>**1.**\n",
    "Which of the following do you typically see as you move to deeper layers in a ConvNet?\n",
    "\n",
    "**$n_H$ and $n_W$ decrease, while $n_C$ increases**"
   ]
  },
  {
   "cell_type": "markdown",
   "metadata": {},
   "source": [
    "<br/>**2.**\n",
    "Which of the following do you typically see in a ConvNet? (Check all that apply.)\n",
    "\n",
    "**Multiple CONV layers followed by a POOL layer**\n",
    "\n",
    "**FC layers in the last few layers**"
   ]
  },
  {
   "cell_type": "markdown",
   "metadata": {},
   "source": [
    "<br/>**3.**\n",
    "In order to be able to build very deep networks, we usually only use pooling layers to downsize the height/width of the activation volumes while convolutions are used with “valid” padding. Otherwise, we would downsize the input of the model too quickly.\n",
    "\n",
    "**False**"
   ]
  },
  {
   "cell_type": "markdown",
   "metadata": {},
   "source": [
    "<br/>**4.**\n",
    "Training a deeper network (for example, adding additional layers to the network) allows the network to fit more complex functions and thus almost always results in lower training error. For this question, assume we’re referring to “plain” networks.\n",
    "\n",
    "**False**"
   ]
  },
  {
   "cell_type": "markdown",
   "metadata": {},
   "source": [
    "<br/>**5.**\n",
    "The following equation captures the computation in a ResNet block. What goes into the two blanks above?\n",
    "\n",
    "$ a^{[l+2]} = g(W^{[l+2]} g(W^{[l+1]} a^{[l]} + b^{[l+1]}) + b^{l+2} + \\_\\_\\_\\_\\_\\_ ) + \\_\\_\\_\\_\\_\\_ $\n",
    "\n",
    "**$a^{[l]}$ and 0, respectively**"
   ]
  },
  {
   "cell_type": "markdown",
   "metadata": {},
   "source": [
    "<br/>**6.**\n",
    "Which ones of the following statements on Residual Networks are true? (Check all that apply.)\n",
    "\n",
    "**Using a skip-connection helps the gradient to backpropagate and thus helps you to train deeper networks**\n",
    "\n",
    "**The skip-connection makes it easy for the network to learn an identity mapping between the input and the output within the ResNet block.**"
   ]
  },
  {
   "cell_type": "markdown",
   "metadata": {},
   "source": [
    "<br/>**7.**\n",
    "Suppose you have an input volume of dimension 64x64x16. How many parameters would a single 1x1 convolutional filter have (including the bias)?\n",
    "\n",
    "**17**"
   ]
  },
  {
   "cell_type": "markdown",
   "metadata": {},
   "source": [
    "<br/>**8.**\n",
    "Suppose you have an input volume of dimension $n_H x n_W x n_Cn$. Which of the following statements you agree with? (Assume that “1x1 convolutional layer” below always uses a stride of 1 and no padding.)\n",
    "\n",
    "**You can use a pooling layer to reduce $n_H$, $n_W$, but not $n_C$.**\n",
    "\n",
    "**You can use a 1x1 convolutional layer to reduce $n_C$ but not $n_H$, $n_W$.**"
   ]
  },
  {
   "cell_type": "markdown",
   "metadata": {},
   "source": [
    "<br/>**9.**\n",
    "Which ones of the following statements on Inception Networks are true? (Check all that apply.)\n",
    "\n",
    "**Inception blocks usually use 1x1 convolutions to reduce the input data volume’s size before applying 3x3 and 5x5 convolutions.**\n",
    "\n",
    "**A single inception block allows the network to use a combination of 1x1, 3x3, 5x5 convolutions and pooling.**"
   ]
  },
  {
   "cell_type": "markdown",
   "metadata": {},
   "source": [
    "<br/>**10.**\n",
    "Which of the following are common reasons for using open-source implementations of ConvNets (both the model and/or weights)? Check all that apply.\n",
    "\n",
    "**Parameters trained for one computer vision task are often useful as pretraining for other computer vision tasks.**\n",
    "\n",
    "**It is a convenient way to get working an implementation of a complex ConvNet architecture.**"
   ]
  }
 ],
 "metadata": {
  "kernelspec": {
   "display_name": "Python 3",
   "language": "python",
   "name": "python3"
  },
  "language_info": {
   "codemirror_mode": {
    "name": "ipython",
    "version": 3
   },
   "file_extension": ".py",
   "mimetype": "text/x-python",
   "name": "python",
   "nbconvert_exporter": "python",
   "pygments_lexer": "ipython3",
   "version": "3.6.6"
  }
 },
 "nbformat": 4,
 "nbformat_minor": 2
}
