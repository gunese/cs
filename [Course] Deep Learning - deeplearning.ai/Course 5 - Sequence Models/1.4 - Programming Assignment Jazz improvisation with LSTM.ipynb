{
 "cells": [
  {
   "cell_type": "markdown",
   "metadata": {},
   "source": [
    "# Improvise a Jazz Solo with an LSTM Network\n",
    "\n",
    "Welcome to your final programming assignment of this week! In this notebook, you will implement a model that uses an LSTM to generate music. You will even be able to listen to your own music at the end of the assignment. \n",
    "\n",
    "**You will learn to:**\n",
    "- Apply an LSTM to music generation.\n",
    "- Generate your own jazz music with deep learning.\n",
    "\n",
    "Please run the following cell to load all the packages required in this assignment. This may take a few minutes. "
   ]
  },
  {
   "cell_type": "code",
   "execution_count": 1,
   "metadata": {},
   "outputs": [
    {
     "name": "stderr",
     "output_type": "stream",
     "text": [
      "Using TensorFlow backend.\n"
     ]
    }
   ],
   "source": [
    "from __future__ import print_function\n",
    "import IPython\n",
    "import sys\n",
    "from music21 import *\n",
    "import numpy as np\n",
    "from grammar import *\n",
    "from qa import *\n",
    "from preprocess import * \n",
    "from music_utils import *\n",
    "from data_utils import *\n",
    "from keras.models import load_model, Model\n",
    "from keras.layers import Dense, Activation, Dropout, Input, LSTM, Reshape, Lambda, RepeatVector\n",
    "from keras.initializers import glorot_uniform\n",
    "from keras.utils import to_categorical\n",
    "from keras.optimizers import Adam\n",
    "from keras import backend as K"
   ]
  },
  {
   "cell_type": "markdown",
   "metadata": {},
   "source": [
    "## 1 - Problem statement\n",
    "\n",
    "You would like to create a jazz music piece specially for a friend's birthday. However, you don't know any instruments or music composition. Fortunately, you know deep learning and will solve this problem using an LSTM netwok.  \n",
    "\n",
    "You will train a network to generate novel jazz solos in a style representative of a body of performed work.\n",
    "\n",
    "<img src=\"images/jazz.jpg\" style=\"width:450;height:300px;\">\n",
    "\n",
    "\n",
    "### 1.1 - Dataset\n",
    "\n",
    "You will train your algorithm on a corpus of Jazz music. Run the cell below to listen to a snippet of the audio from the training set:"
   ]
  },
  {
   "cell_type": "code",
   "execution_count": null,
   "metadata": {},
   "outputs": [],
   "source": [
    "IPython.display.Audio('./data/30s_seq.mp3')"
   ]
  },
  {
   "cell_type": "markdown",
   "metadata": {},
   "source": [
    "We have taken care of the preprocessing of the musical data to render it in terms of musical \"values.\" You can informally think of each \"value\" as a note, which comprises a pitch and a duration. For example, if you press down a specific piano key for 0.5 seconds, then you have just played a note. In music theory, a \"value\" is actually more complicated than this--specifically, it also captures the information needed to play multiple notes at the same time. For example, when playing a music piece, you might press down two piano keys at the same time (playng multiple notes at the same time generates what's called a \"chord\"). But we don't need to worry about the details of music theory for this assignment. For the purpose of this assignment, all you need to know is that we will obtain a dataset of values, and will learn an RNN model to generate sequences of values. \n",
    "\n",
    "Our music generation system will use 78 unique values. Run the following code to load the raw music data and preprocess it into values. This might take a few minutes."
   ]
  },
  {
   "cell_type": "code",
   "execution_count": 3,
   "metadata": {},
   "outputs": [
    {
     "name": "stdout",
     "output_type": "stream",
     "text": [
      "shape of X: (60, 30, 78)\n",
      "number of training examples: 60\n",
      "Tx (length of sequence): 30\n",
      "total # of unique values: 78\n",
      "Shape of Y: (30, 60, 78)\n"
     ]
    }
   ],
   "source": [
    "X, Y, n_values, indices_values = load_music_utils()\n",
    "print('shape of X:', X.shape)\n",
    "print('number of training examples:', X.shape[0])\n",
    "print('Tx (length of sequence):', X.shape[1])\n",
    "print('total # of unique values:', n_values)\n",
    "print('Shape of Y:', Y.shape)"
   ]
  },
  {
   "cell_type": "markdown",
   "metadata": {},
   "source": [
    "You have just loaded the following:\n",
    "\n",
    "- `X`: This is an (m, $T_x$, 78) dimensional array. We have m training examples, each of which is a snippet of $T_x =30$ musical values. At each time step, the input is one of 78 different possible values, represented as a one-hot vector. Thus for example, X[i,t,:] is a one-hot vector representating the value of the i-th example at time t. \n",
    "\n",
    "- `Y`: This is essentially the same as `X`, but shifted one step to the left (to the past). Similar to the dinosaurus assignment, we're interested in the network using the previous values to predict the next value, so our sequence model will try to predict $y^{\\langle t \\rangle}$ given $x^{\\langle 1\\rangle}, \\ldots, x^{\\langle t \\rangle}$. However, the data in `Y` is reordered to be dimension $(T_y, m, 78)$, where $T_y = T_x$. This format makes it more convenient to feed to the LSTM later. \n",
    "\n",
    "- `n_values`: The number of unique values in this dataset. This should be 78. \n",
    "\n",
    "- `indices_values`: python dictionary mapping from 0-77 to musical values."
   ]
  },
  {
   "cell_type": "markdown",
   "metadata": {},
   "source": [
    "### 1.2 - Overview of our model\n",
    "\n",
    "Here is the architecture of the model we will use. This is similar to the Dinosaurus model you had used in the previous notebook, except that in you will be implementing it in Keras. The architecture is as follows: \n",
    "\n",
    "<img src=\"images/music_generation.png\" style=\"width:600;height:400px;\">\n",
    "\n",
    "<!--\n",
    "<img src=\"images/djmodel.png\" style=\"width:600;height:400px;\">\n",
    "<br>\n",
    "<caption><center> **Figure 1**: LSTM model. $X = (x^{\\langle 1 \\rangle}, x^{\\langle 2 \\rangle}, ..., x^{\\langle T_x \\rangle})$ is a window of size $T_x$ scanned over the musical corpus. Each $x^{\\langle t \\rangle}$ is an index corresponding to a value (ex: \"A,0.250,< m2,P-4 >\") while $\\hat{y}$ is the prediction for the next value  </center></caption>\n",
    "!--> \n",
    "\n",
    "We will be training the model on random snippets of 30 values taken from a much longer piece of music. Thus, we won't bother to set the first input $x^{\\langle 1 \\rangle} = \\vec{0}$, which we had done previously to denote the start of a dinosaur name, since now most of these snippets of audio start somewhere in the middle of a piece of music. We are setting each of the snippts to have the same length $T_x = 30$ to make vectorization easier. \n"
   ]
  },
  {
   "cell_type": "markdown",
   "metadata": {},
   "source": [
    "## 2 - Building the model\n",
    "\n",
    "In this part you will build and train a model that will learn musical patterns. To do so, you will need to build a model that takes in X of shape $(m, T_x, 78)$ and Y of shape $(T_y, m, 78)$. We will use an LSTM with 64 dimensional hidden states. Lets set `n_a = 64`. \n"
   ]
  },
  {
   "cell_type": "code",
   "execution_count": 4,
   "metadata": {
    "collapsed": true
   },
   "outputs": [],
   "source": [
    "n_a = 64 "
   ]
  },
  {
   "cell_type": "markdown",
   "metadata": {},
   "source": [
    "\n",
    "Here's how you can create a Keras model with multiple inputs and outputs. If you're building an RNN where even at test time entire input sequence $x^{\\langle 1 \\rangle}, x^{\\langle 2 \\rangle}, \\ldots, x^{\\langle T_x \\rangle}$ were *given in advance*, for example if the inputs were words and the output was a label, then Keras has simple built-in functions to build the model. However, for sequence generation, at test time we don't know all the values of $x^{\\langle t\\rangle}$ in advance; instead we generate them one at a time using $x^{\\langle t\\rangle} = y^{\\langle t-1 \\rangle}$. So the code will be a bit more complicated, and you'll need to implement your own for-loop to iterate over the different time steps. \n",
    "\n",
    "The function `djmodel()` will call the LSTM layer $T_x$ times using a for-loop, and it is important that all $T_x$ copies have the same weights. I.e., it should not re-initiaiize the weights every time---the $T_x$ steps should have shared weights. The key steps for implementing layers with shareable weights in Keras are: \n",
    "1. Define the layer objects (we will use global variables for this).\n",
    "2. Call these objects when propagating the input.\n",
    "\n",
    "We have defined the layers objects you need as global variables. Please run the next cell to create them. Please check the Keras documentation to make sure you understand what these layers are: [Reshape()](https://keras.io/layers/core/#reshape), [LSTM()](https://keras.io/layers/recurrent/#lstm), [Dense()](https://keras.io/layers/core/#dense).\n"
   ]
  },
  {
   "cell_type": "code",
   "execution_count": 5,
   "metadata": {
    "collapsed": true
   },
   "outputs": [],
   "source": [
    "reshapor = Reshape((1, 78))                        # Used in Step 2.B of djmodel(), below\n",
    "LSTM_cell = LSTM(n_a, return_state = True)         # Used in Step 2.C\n",
    "densor = Dense(n_values, activation='softmax')     # Used in Step 2.D"
   ]
  },
  {
   "cell_type": "markdown",
   "metadata": {},
   "source": [
    "Each of `reshapor`, `LSTM_cell` and `densor` are now layer objects, and you can use them to implement `djmodel()`. In order to propagate a Keras tensor object X through one of these layers, use `layer_object(X)` (or `layer_object([X,Y])` if it requires multiple inputs.). For example, `reshapor(X)` will propagate X through the `Reshape((1,78))` layer defined above."
   ]
  },
  {
   "cell_type": "markdown",
   "metadata": {},
   "source": [
    " \n",
    "**Exercise**: Implement `djmodel()`. You will need to carry out 2 steps:\n",
    "\n",
    "1. Create an empty list \"outputs\" to save the outputs of the LSTM Cell at every time step.\n",
    "2. Loop for $t \\in 1, \\ldots, T_x$:\n",
    "\n",
    "    A. Select the \"t\"th time-step vector from X. The shape of this selection should be (78,). To do so, create a custom [Lambda](https://keras.io/layers/core/#lambda) layer in Keras by using this line of code:\n",
    "```    \n",
    "           x = Lambda(lambda x: X[:,t,:])(X)\n",
    "``` \n",
    "Look over the Keras documentation to figure out what this does. It is creating a \"temporary\" or \"unnamed\" function (that's what Lambda functions are) that extracts out the appropriate one-hot vector, and making this function a Keras `Layer` object to apply to `X`. \n",
    "\n",
    "    B. Reshape x to be (1,78). You may find the `reshapor()` layer (defined below) helpful.\n",
    "\n",
    "    C. Run x through one step of LSTM_cell. Remember to initialize the LSTM_cell with the previous step's hidden state $a$ and cell state $c$. Use the following formatting:\n",
    "```python\n",
    "a, _, c = LSTM_cell(input_x, initial_state=[previous hidden state, previous cell state])\n",
    "```\n",
    "\n",
    "    D. Propagate the LSTM's output activation value through a dense+softmax layer using `densor`. \n",
    "    \n",
    "    E. Append the predicted value to the list of \"outputs\"\n",
    " \n"
   ]
  },
  {
   "cell_type": "code",
   "execution_count": 6,
   "metadata": {
    "collapsed": true
   },
   "outputs": [],
   "source": [
    "# GRADED FUNCTION: djmodel\n",
    "\n",
    "def djmodel(Tx, n_a, n_values):\n",
    "    \"\"\"\n",
    "    Implement the model\n",
    "    \n",
    "    Arguments:\n",
    "    Tx -- length of the sequence in a corpus\n",
    "    n_a -- the number of activations used in our model\n",
    "    n_values -- number of unique values in the music data \n",
    "    \n",
    "    Returns:\n",
    "    model -- a keras model with the \n",
    "    \"\"\"\n",
    "    \n",
    "    # Define the input of your model with a shape \n",
    "    X = Input(shape=(Tx, n_values))\n",
    "    \n",
    "    # Define s0, initial hidden state for the decoder LSTM\n",
    "    a0 = Input(shape=(n_a,), name='a0')\n",
    "    c0 = Input(shape=(n_a,), name='c0')\n",
    "    a = a0\n",
    "    c = c0\n",
    "    \n",
    "    ### START CODE HERE ### \n",
    "    # Step 1: Create empty list to append the outputs while you iterate (≈1 line)\n",
    "    outputs = []\n",
    "    \n",
    "    # Step 2: Loop\n",
    "    for t in range(Tx):\n",
    "        \n",
    "        # Step 2.A: select the \"t\"th time step vector from X. \n",
    "        x = Lambda(lambda x: X[:,t,:])(X)\n",
    "        # Step 2.B: Use reshapor to reshape x to be (1, n_values) (≈1 line)\n",
    "        x = reshapor(x)\n",
    "        # Step 2.C: Perform one step of the LSTM_cell\n",
    "        a, _, c = LSTM_cell(x, initial_state=[a, c])\n",
    "        # Step 2.D: Apply densor to the hidden state output of LSTM_Cell\n",
    "        out = densor(a)\n",
    "        # Step 2.E: add the output to \"outputs\"\n",
    "        outputs.append(out)\n",
    "        \n",
    "    # Step 3: Create model instance\n",
    "    model = Model(inputs=[X, a0, c0], outputs=outputs)\n",
    "    \n",
    "    ### END CODE HERE ###\n",
    "    \n",
    "    return model"
   ]
  },
  {
   "cell_type": "markdown",
   "metadata": {},
   "source": [
    "Run the following cell to define your model. We will use `Tx=30`, `n_a=64` (the dimension of the LSTM activations), and `n_values=78`. This cell may take a few seconds to run. "
   ]
  },
  {
   "cell_type": "code",
   "execution_count": 7,
   "metadata": {
    "collapsed": true
   },
   "outputs": [],
   "source": [
    "model = djmodel(Tx = 30 , n_a = 64, n_values = 78)"
   ]
  },
  {
   "cell_type": "markdown",
   "metadata": {},
   "source": [
    "You now need to compile your model to be trained. We will Adam and a categorical cross-entropy loss."
   ]
  },
  {
   "cell_type": "code",
   "execution_count": 8,
   "metadata": {
    "collapsed": true
   },
   "outputs": [],
   "source": [
    "opt = Adam(lr=0.01, beta_1=0.9, beta_2=0.999, decay=0.01)\n",
    "\n",
    "model.compile(optimizer=opt, loss='categorical_crossentropy', metrics=['accuracy'])"
   ]
  },
  {
   "cell_type": "markdown",
   "metadata": {},
   "source": [
    "Finally, lets initialize `a0` and `c0` for the LSTM's initial state to be zero. "
   ]
  },
  {
   "cell_type": "code",
   "execution_count": 9,
   "metadata": {
    "collapsed": true,
    "scrolled": true
   },
   "outputs": [],
   "source": [
    "m = 60\n",
    "a0 = np.zeros((m, n_a))\n",
    "c0 = np.zeros((m, n_a))"
   ]
  },
  {
   "cell_type": "markdown",
   "metadata": {},
   "source": [
    "Lets now fit the model! We will turn `Y` to a list before doing so, since the cost function expects `Y` to be provided in this format (one list item per time-step). So `list(Y)` is a list with 30 items, where each of the list items is of shape (60,78). Lets train for 100 epochs. This will take a few minutes. \n",
    "\n"
   ]
  },
  {
   "cell_type": "code",
   "execution_count": 10,
   "metadata": {
    "scrolled": true
   },
   "outputs": [
    {
     "name": "stdout",
     "output_type": "stream",
     "text": [
      "Epoch 1/100\n",
      "60/60 [==============================] - 10s - loss: 125.7099 - dense_1_loss_1: 4.3548 - dense_1_loss_2: 4.3492 - dense_1_loss_3: 4.3420 - dense_1_loss_4: 4.3445 - dense_1_loss_5: 4.3408 - dense_1_loss_6: 4.3350 - dense_1_loss_7: 4.3393 - dense_1_loss_8: 4.3377 - dense_1_loss_9: 4.3409 - dense_1_loss_10: 4.3310 - dense_1_loss_11: 4.3316 - dense_1_loss_12: 4.3310 - dense_1_loss_13: 4.3327 - dense_1_loss_14: 4.3254 - dense_1_loss_15: 4.3324 - dense_1_loss_16: 4.3340 - dense_1_loss_17: 4.3309 - dense_1_loss_18: 4.3348 - dense_1_loss_19: 4.3262 - dense_1_loss_20: 4.3325 - dense_1_loss_21: 4.3349 - dense_1_loss_22: 4.3372 - dense_1_loss_23: 4.3398 - dense_1_loss_24: 4.3233 - dense_1_loss_25: 4.3348 - dense_1_loss_26: 4.3213 - dense_1_loss_27: 4.3329 - dense_1_loss_28: 4.3340 - dense_1_loss_29: 4.3248 - dense_1_loss_30: 0.0000e+00 - dense_1_acc_1: 0.0000e+00 - dense_1_acc_2: 0.0167 - dense_1_acc_3: 0.0500 - dense_1_acc_4: 0.0667 - dense_1_acc_5: 0.0333 - dense_1_acc_6: 0.1167 - dense_1_acc_7: 0.0500 - dense_1_acc_8: 0.0833 - dense_1_acc_9: 0.0500 - dense_1_acc_10: 0.1167 - dense_1_acc_11: 0.0833 - dense_1_acc_12: 0.0500 - dense_1_acc_13: 0.0333 - dense_1_acc_14: 0.1000 - dense_1_acc_15: 0.0667 - dense_1_acc_16: 0.1000 - dense_1_acc_17: 0.0833 - dense_1_acc_18: 0.0667 - dense_1_acc_19: 0.1333 - dense_1_acc_20: 0.0667 - dense_1_acc_21: 0.0167 - dense_1_acc_22: 0.0500 - dense_1_acc_23: 0.0333 - dense_1_acc_24: 0.0500 - dense_1_acc_25: 0.0167 - dense_1_acc_26: 0.1167 - dense_1_acc_27: 0.0667 - dense_1_acc_28: 0.0833 - dense_1_acc_29: 0.0833 - dense_1_acc_30: 0.0000e+00                                                                            \n",
      "Epoch 2/100\n",
      "60/60 [==============================] - 1s - loss: 121.6425 - dense_1_loss_1: 4.3319 - dense_1_loss_2: 4.3041 - dense_1_loss_3: 4.2724 - dense_1_loss_4: 4.2701 - dense_1_loss_5: 4.2368 - dense_1_loss_6: 4.2341 - dense_1_loss_7: 4.2368 - dense_1_loss_8: 4.2165 - dense_1_loss_9: 4.2205 - dense_1_loss_10: 4.1857 - dense_1_loss_11: 4.1791 - dense_1_loss_12: 4.2097 - dense_1_loss_13: 4.1794 - dense_1_loss_14: 4.1636 - dense_1_loss_15: 4.1739 - dense_1_loss_16: 4.1688 - dense_1_loss_17: 4.1598 - dense_1_loss_18: 4.2089 - dense_1_loss_19: 4.1367 - dense_1_loss_20: 4.1566 - dense_1_loss_21: 4.1647 - dense_1_loss_22: 4.1536 - dense_1_loss_23: 4.1576 - dense_1_loss_24: 4.1367 - dense_1_loss_25: 4.1922 - dense_1_loss_26: 4.0838 - dense_1_loss_27: 4.1661 - dense_1_loss_28: 4.1656 - dense_1_loss_29: 4.1769 - dense_1_loss_30: 0.0000e+00 - dense_1_acc_1: 0.1000 - dense_1_acc_2: 0.2000 - dense_1_acc_3: 0.1667 - dense_1_acc_4: 0.1500 - dense_1_acc_5: 0.2167 - dense_1_acc_6: 0.1333 - dense_1_acc_7: 0.1167 - dense_1_acc_8: 0.2000 - dense_1_acc_9: 0.1500 - dense_1_acc_10: 0.1500 - dense_1_acc_11: 0.1167 - dense_1_acc_12: 0.0667 - dense_1_acc_13: 0.1500 - dense_1_acc_14: 0.1333 - dense_1_acc_15: 0.0833 - dense_1_acc_16: 0.1333 - dense_1_acc_17: 0.1833 - dense_1_acc_18: 0.0500 - dense_1_acc_19: 0.1333 - dense_1_acc_20: 0.1333 - dense_1_acc_21: 0.0833 - dense_1_acc_22: 0.0667 - dense_1_acc_23: 0.0833 - dense_1_acc_24: 0.1000 - dense_1_acc_25: 0.0833 - dense_1_acc_26: 0.1667 - dense_1_acc_27: 0.0500 - dense_1_acc_28: 0.1333 - dense_1_acc_29: 0.1167 - dense_1_acc_30: 0.0000e+00         \n",
      "Epoch 3/100\n",
      "60/60 [==============================] - 1s - loss: 115.8337 - dense_1_loss_1: 4.3090 - dense_1_loss_2: 4.2527 - dense_1_loss_3: 4.1842 - dense_1_loss_4: 4.1629 - dense_1_loss_5: 4.0963 - dense_1_loss_6: 4.0910 - dense_1_loss_7: 4.0612 - dense_1_loss_8: 3.9844 - dense_1_loss_9: 3.9657 - dense_1_loss_10: 3.8337 - dense_1_loss_11: 3.8311 - dense_1_loss_12: 4.0364 - dense_1_loss_13: 3.9002 - dense_1_loss_14: 3.9151 - dense_1_loss_15: 3.9427 - dense_1_loss_16: 3.9315 - dense_1_loss_17: 3.9768 - dense_1_loss_18: 4.0361 - dense_1_loss_19: 3.8135 - dense_1_loss_20: 3.9390 - dense_1_loss_21: 4.0068 - dense_1_loss_22: 4.0139 - dense_1_loss_23: 3.8801 - dense_1_loss_24: 3.7565 - dense_1_loss_25: 4.1250 - dense_1_loss_26: 3.6745 - dense_1_loss_27: 3.9165 - dense_1_loss_28: 4.0301 - dense_1_loss_29: 4.1668 - dense_1_loss_30: 0.0000e+00 - dense_1_acc_1: 0.1000 - dense_1_acc_2: 0.1000 - dense_1_acc_3: 0.1833 - dense_1_acc_4: 0.1500 - dense_1_acc_5: 0.2167 - dense_1_acc_6: 0.1333 - dense_1_acc_7: 0.1167 - dense_1_acc_8: 0.1333 - dense_1_acc_9: 0.1333 - dense_1_acc_10: 0.1500 - dense_1_acc_11: 0.0833 - dense_1_acc_12: 0.0333 - dense_1_acc_13: 0.1000 - dense_1_acc_14: 0.1167 - dense_1_acc_15: 0.0667 - dense_1_acc_16: 0.1333 - dense_1_acc_17: 0.1500 - dense_1_acc_18: 0.0333 - dense_1_acc_19: 0.1333 - dense_1_acc_20: 0.0833 - dense_1_acc_21: 0.1000 - dense_1_acc_22: 0.0500 - dense_1_acc_23: 0.0667 - dense_1_acc_24: 0.0667 - dense_1_acc_25: 0.0333 - dense_1_acc_26: 0.1500 - dense_1_acc_27: 0.0833 - dense_1_acc_28: 0.0833 - dense_1_acc_29: 0.0833 - dense_1_acc_30: 0.0000e+00             \n",
      "Epoch 4/100\n",
      "60/60 [==============================] - 1s - loss: 112.0333 - dense_1_loss_1: 4.2873 - dense_1_loss_2: 4.2042 - dense_1_loss_3: 4.0871 - dense_1_loss_4: 4.0656 - dense_1_loss_5: 3.9551 - dense_1_loss_6: 3.9719 - dense_1_loss_7: 3.9087 - dense_1_loss_8: 3.7297 - dense_1_loss_9: 3.8394 - dense_1_loss_10: 3.6523 - dense_1_loss_11: 3.7353 - dense_1_loss_12: 3.9628 - dense_1_loss_13: 3.7447 - dense_1_loss_14: 3.7320 - dense_1_loss_15: 3.7782 - dense_1_loss_16: 3.7462 - dense_1_loss_17: 3.8810 - dense_1_loss_18: 3.8748 - dense_1_loss_19: 3.7156 - dense_1_loss_20: 3.9461 - dense_1_loss_21: 3.9473 - dense_1_loss_22: 3.8122 - dense_1_loss_23: 3.7739 - dense_1_loss_24: 3.6658 - dense_1_loss_25: 3.9894 - dense_1_loss_26: 3.5240 - dense_1_loss_27: 3.6751 - dense_1_loss_28: 3.8281 - dense_1_loss_29: 3.9994 - dense_1_loss_30: 0.0000e+00 - dense_1_acc_1: 0.1000 - dense_1_acc_2: 0.1000 - dense_1_acc_3: 0.1833 - dense_1_acc_4: 0.1500 - dense_1_acc_5: 0.2167 - dense_1_acc_6: 0.1333 - dense_1_acc_7: 0.1167 - dense_1_acc_8: 0.1500 - dense_1_acc_9: 0.1667 - dense_1_acc_10: 0.1500 - dense_1_acc_11: 0.1333 - dense_1_acc_12: 0.1000 - dense_1_acc_13: 0.1167 - dense_1_acc_14: 0.1333 - dense_1_acc_15: 0.1000 - dense_1_acc_16: 0.1667 - dense_1_acc_17: 0.1667 - dense_1_acc_18: 0.0667 - dense_1_acc_19: 0.1167 - dense_1_acc_20: 0.1000 - dense_1_acc_21: 0.0667 - dense_1_acc_22: 0.0667 - dense_1_acc_23: 0.0667 - dense_1_acc_24: 0.0500 - dense_1_acc_25: 0.0833 - dense_1_acc_26: 0.1333 - dense_1_acc_27: 0.0333 - dense_1_acc_28: 0.1167 - dense_1_acc_29: 0.1167 - dense_1_acc_30: 0.0000e+00         \n",
      "Epoch 5/100\n",
      "60/60 [==============================] - 1s - loss: 109.1316 - dense_1_loss_1: 4.2703 - dense_1_loss_2: 4.1601 - dense_1_loss_3: 4.0147 - dense_1_loss_4: 3.9904 - dense_1_loss_5: 3.8506 - dense_1_loss_6: 3.9031 - dense_1_loss_7: 3.8343 - dense_1_loss_8: 3.6111 - dense_1_loss_9: 3.7438 - dense_1_loss_10: 3.5685 - dense_1_loss_11: 3.6509 - dense_1_loss_12: 3.8869 - dense_1_loss_13: 3.5911 - dense_1_loss_14: 3.5668 - dense_1_loss_15: 3.6670 - dense_1_loss_16: 3.6284 - dense_1_loss_17: 3.7487 - dense_1_loss_18: 3.7087 - dense_1_loss_19: 3.5858 - dense_1_loss_20: 3.8453 - dense_1_loss_21: 3.7868 - dense_1_loss_22: 3.6569 - dense_1_loss_23: 3.7054 - dense_1_loss_24: 3.6365 - dense_1_loss_25: 3.9174 - dense_1_loss_26: 3.4812 - dense_1_loss_27: 3.5303 - dense_1_loss_28: 3.7072 - dense_1_loss_29: 3.8832 - dense_1_loss_30: 0.0000e+00 - dense_1_acc_1: 0.1000 - dense_1_acc_2: 0.1000 - dense_1_acc_3: 0.1833 - dense_1_acc_4: 0.1667 - dense_1_acc_5: 0.2167 - dense_1_acc_6: 0.1167 - dense_1_acc_7: 0.1333 - dense_1_acc_8: 0.1833 - dense_1_acc_9: 0.1167 - dense_1_acc_10: 0.1167 - dense_1_acc_11: 0.1667 - dense_1_acc_12: 0.1167 - dense_1_acc_13: 0.2167 - dense_1_acc_14: 0.2167 - dense_1_acc_15: 0.1333 - dense_1_acc_16: 0.1500 - dense_1_acc_17: 0.1667 - dense_1_acc_18: 0.1333 - dense_1_acc_19: 0.1333 - dense_1_acc_20: 0.1000 - dense_1_acc_21: 0.1167 - dense_1_acc_22: 0.1667 - dense_1_acc_23: 0.1000 - dense_1_acc_24: 0.0667 - dense_1_acc_25: 0.0667 - dense_1_acc_26: 0.1667 - dense_1_acc_27: 0.1000 - dense_1_acc_28: 0.1333 - dense_1_acc_29: 0.0667 - dense_1_acc_30: 0.0000e+00         \n",
      "Epoch 6/100\n"
     ]
    },
    {
     "name": "stdout",
     "output_type": "stream",
     "text": [
      "60/60 [==============================] - 1s - loss: 106.2669 - dense_1_loss_1: 4.2537 - dense_1_loss_2: 4.1172 - dense_1_loss_3: 3.9403 - dense_1_loss_4: 3.9150 - dense_1_loss_5: 3.7588 - dense_1_loss_6: 3.8442 - dense_1_loss_7: 3.7530 - dense_1_loss_8: 3.5113 - dense_1_loss_9: 3.6552 - dense_1_loss_10: 3.4772 - dense_1_loss_11: 3.5589 - dense_1_loss_12: 3.7760 - dense_1_loss_13: 3.4916 - dense_1_loss_14: 3.4330 - dense_1_loss_15: 3.5334 - dense_1_loss_16: 3.5670 - dense_1_loss_17: 3.6200 - dense_1_loss_18: 3.5828 - dense_1_loss_19: 3.4409 - dense_1_loss_20: 3.7455 - dense_1_loss_21: 3.6921 - dense_1_loss_22: 3.5346 - dense_1_loss_23: 3.5869 - dense_1_loss_24: 3.5924 - dense_1_loss_25: 3.8368 - dense_1_loss_26: 3.3042 - dense_1_loss_27: 3.4913 - dense_1_loss_28: 3.5475 - dense_1_loss_29: 3.7061 - dense_1_loss_30: 0.0000e+00 - dense_1_acc_1: 0.1000 - dense_1_acc_2: 0.1000 - dense_1_acc_3: 0.2000 - dense_1_acc_4: 0.1667 - dense_1_acc_5: 0.2167 - dense_1_acc_6: 0.1167 - dense_1_acc_7: 0.1000 - dense_1_acc_8: 0.2167 - dense_1_acc_9: 0.1000 - dense_1_acc_10: 0.1167 - dense_1_acc_11: 0.1500 - dense_1_acc_12: 0.1167 - dense_1_acc_13: 0.2000 - dense_1_acc_14: 0.2167 - dense_1_acc_15: 0.1333 - dense_1_acc_16: 0.1500 - dense_1_acc_17: 0.1833 - dense_1_acc_18: 0.1167 - dense_1_acc_19: 0.1667 - dense_1_acc_20: 0.1167 - dense_1_acc_21: 0.1000 - dense_1_acc_22: 0.0833 - dense_1_acc_23: 0.1333 - dense_1_acc_24: 0.1167 - dense_1_acc_25: 0.1000 - dense_1_acc_26: 0.1500 - dense_1_acc_27: 0.0833 - dense_1_acc_28: 0.1667 - dense_1_acc_29: 0.1167 - dense_1_acc_30: 0.0000e+00     \n",
      "Epoch 7/100\n",
      "60/60 [==============================] - 1s - loss: 102.5295 - dense_1_loss_1: 4.2378 - dense_1_loss_2: 4.0772 - dense_1_loss_3: 3.8647 - dense_1_loss_4: 3.8358 - dense_1_loss_5: 3.6397 - dense_1_loss_6: 3.7626 - dense_1_loss_7: 3.6774 - dense_1_loss_8: 3.3930 - dense_1_loss_9: 3.5043 - dense_1_loss_10: 3.3298 - dense_1_loss_11: 3.4191 - dense_1_loss_12: 3.6456 - dense_1_loss_13: 3.3185 - dense_1_loss_14: 3.2062 - dense_1_loss_15: 3.3981 - dense_1_loss_16: 3.4466 - dense_1_loss_17: 3.4256 - dense_1_loss_18: 3.4286 - dense_1_loss_19: 3.2822 - dense_1_loss_20: 3.5511 - dense_1_loss_21: 3.4767 - dense_1_loss_22: 3.3586 - dense_1_loss_23: 3.5800 - dense_1_loss_24: 3.4265 - dense_1_loss_25: 3.6912 - dense_1_loss_26: 3.1767 - dense_1_loss_27: 3.3870 - dense_1_loss_28: 3.4463 - dense_1_loss_29: 3.5426 - dense_1_loss_30: 0.0000e+00 - dense_1_acc_1: 0.1000 - dense_1_acc_2: 0.1000 - dense_1_acc_3: 0.1833 - dense_1_acc_4: 0.1667 - dense_1_acc_5: 0.2167 - dense_1_acc_6: 0.1167 - dense_1_acc_7: 0.1167 - dense_1_acc_8: 0.1833 - dense_1_acc_9: 0.1167 - dense_1_acc_10: 0.1500 - dense_1_acc_11: 0.1667 - dense_1_acc_12: 0.1167 - dense_1_acc_13: 0.1667 - dense_1_acc_14: 0.2333 - dense_1_acc_15: 0.1500 - dense_1_acc_16: 0.1667 - dense_1_acc_17: 0.2000 - dense_1_acc_18: 0.1333 - dense_1_acc_19: 0.1500 - dense_1_acc_20: 0.1500 - dense_1_acc_21: 0.1167 - dense_1_acc_22: 0.1500 - dense_1_acc_23: 0.0833 - dense_1_acc_24: 0.0667 - dense_1_acc_25: 0.1333 - dense_1_acc_26: 0.2667 - dense_1_acc_27: 0.0667 - dense_1_acc_28: 0.1667 - dense_1_acc_29: 0.1500 - dense_1_acc_30: 0.0000e+00     \n",
      "Epoch 8/100\n",
      "60/60 [==============================] - 1s - loss: 98.7513 - dense_1_loss_1: 4.2239 - dense_1_loss_2: 4.0321 - dense_1_loss_3: 3.7987 - dense_1_loss_4: 3.7569 - dense_1_loss_5: 3.5364 - dense_1_loss_6: 3.6659 - dense_1_loss_7: 3.5706 - dense_1_loss_8: 3.2876 - dense_1_loss_9: 3.3679 - dense_1_loss_10: 3.1781 - dense_1_loss_11: 3.2704 - dense_1_loss_12: 3.4841 - dense_1_loss_13: 3.1278 - dense_1_loss_14: 3.0255 - dense_1_loss_15: 3.2464 - dense_1_loss_16: 3.3285 - dense_1_loss_17: 3.2453 - dense_1_loss_18: 3.2994 - dense_1_loss_19: 3.1432 - dense_1_loss_20: 3.3912 - dense_1_loss_21: 3.3092 - dense_1_loss_22: 3.1973 - dense_1_loss_23: 3.4475 - dense_1_loss_24: 3.2225 - dense_1_loss_25: 3.5452 - dense_1_loss_26: 3.0730 - dense_1_loss_27: 3.3791 - dense_1_loss_28: 3.2628 - dense_1_loss_29: 3.3347 - dense_1_loss_30: 0.0000e+00 - dense_1_acc_1: 0.1000 - dense_1_acc_2: 0.1000 - dense_1_acc_3: 0.2000 - dense_1_acc_4: 0.1833 - dense_1_acc_5: 0.2333 - dense_1_acc_6: 0.1167 - dense_1_acc_7: 0.1167 - dense_1_acc_8: 0.2000 - dense_1_acc_9: 0.1167 - dense_1_acc_10: 0.1500 - dense_1_acc_11: 0.1667 - dense_1_acc_12: 0.1167 - dense_1_acc_13: 0.1667 - dense_1_acc_14: 0.2333 - dense_1_acc_15: 0.1667 - dense_1_acc_16: 0.1333 - dense_1_acc_17: 0.2000 - dense_1_acc_18: 0.1333 - dense_1_acc_19: 0.1500 - dense_1_acc_20: 0.1333 - dense_1_acc_21: 0.1167 - dense_1_acc_22: 0.1833 - dense_1_acc_23: 0.0833 - dense_1_acc_24: 0.0833 - dense_1_acc_25: 0.1333 - dense_1_acc_26: 0.1833 - dense_1_acc_27: 0.0833 - dense_1_acc_28: 0.1333 - dense_1_acc_29: 0.1500 - dense_1_acc_30: 0.0000e+00     \n",
      "Epoch 9/100\n",
      "60/60 [==============================] - 1s - loss: 94.7302 - dense_1_loss_1: 4.2125 - dense_1_loss_2: 3.9922 - dense_1_loss_3: 3.7337 - dense_1_loss_4: 3.6808 - dense_1_loss_5: 3.4436 - dense_1_loss_6: 3.5664 - dense_1_loss_7: 3.4494 - dense_1_loss_8: 3.1678 - dense_1_loss_9: 3.2416 - dense_1_loss_10: 3.0303 - dense_1_loss_11: 3.1357 - dense_1_loss_12: 3.2689 - dense_1_loss_13: 2.9885 - dense_1_loss_14: 2.9353 - dense_1_loss_15: 3.1089 - dense_1_loss_16: 3.1757 - dense_1_loss_17: 3.1310 - dense_1_loss_18: 3.1610 - dense_1_loss_19: 3.0217 - dense_1_loss_20: 3.2528 - dense_1_loss_21: 3.1929 - dense_1_loss_22: 3.0517 - dense_1_loss_23: 3.2341 - dense_1_loss_24: 2.9595 - dense_1_loss_25: 3.3334 - dense_1_loss_26: 2.8211 - dense_1_loss_27: 3.2092 - dense_1_loss_28: 3.0766 - dense_1_loss_29: 3.1540 - dense_1_loss_30: 0.0000e+00 - dense_1_acc_1: 0.1000 - dense_1_acc_2: 0.1000 - dense_1_acc_3: 0.2000 - dense_1_acc_4: 0.1833 - dense_1_acc_5: 0.2333 - dense_1_acc_6: 0.1167 - dense_1_acc_7: 0.1167 - dense_1_acc_8: 0.2333 - dense_1_acc_9: 0.1667 - dense_1_acc_10: 0.1167 - dense_1_acc_11: 0.1667 - dense_1_acc_12: 0.1333 - dense_1_acc_13: 0.2000 - dense_1_acc_14: 0.2333 - dense_1_acc_15: 0.2500 - dense_1_acc_16: 0.1833 - dense_1_acc_17: 0.2167 - dense_1_acc_18: 0.1500 - dense_1_acc_19: 0.1833 - dense_1_acc_20: 0.2000 - dense_1_acc_21: 0.1833 - dense_1_acc_22: 0.1833 - dense_1_acc_23: 0.1500 - dense_1_acc_24: 0.1667 - dense_1_acc_25: 0.1833 - dense_1_acc_26: 0.3667 - dense_1_acc_27: 0.2000 - dense_1_acc_28: 0.2000 - dense_1_acc_29: 0.1833 - dense_1_acc_30: 0.0000e+00     \n",
      "Epoch 10/100\n",
      "60/60 [==============================] - 1s - loss: 90.4081 - dense_1_loss_1: 4.2030 - dense_1_loss_2: 3.9522 - dense_1_loss_3: 3.6688 - dense_1_loss_4: 3.5961 - dense_1_loss_5: 3.3341 - dense_1_loss_6: 3.4344 - dense_1_loss_7: 3.3385 - dense_1_loss_8: 3.0317 - dense_1_loss_9: 3.0763 - dense_1_loss_10: 2.8927 - dense_1_loss_11: 3.0379 - dense_1_loss_12: 3.0255 - dense_1_loss_13: 2.7992 - dense_1_loss_14: 2.7579 - dense_1_loss_15: 2.9175 - dense_1_loss_16: 2.9396 - dense_1_loss_17: 2.9286 - dense_1_loss_18: 3.0239 - dense_1_loss_19: 2.8411 - dense_1_loss_20: 3.0722 - dense_1_loss_21: 2.9274 - dense_1_loss_22: 2.8567 - dense_1_loss_23: 3.1265 - dense_1_loss_24: 2.8034 - dense_1_loss_25: 3.2075 - dense_1_loss_26: 2.7130 - dense_1_loss_27: 2.9987 - dense_1_loss_28: 2.9673 - dense_1_loss_29: 2.9362 - dense_1_loss_30: 0.0000e+00 - dense_1_acc_1: 0.1000 - dense_1_acc_2: 0.1167 - dense_1_acc_3: 0.2167 - dense_1_acc_4: 0.1833 - dense_1_acc_5: 0.2500 - dense_1_acc_6: 0.1500 - dense_1_acc_7: 0.1167 - dense_1_acc_8: 0.2500 - dense_1_acc_9: 0.1667 - dense_1_acc_10: 0.1833 - dense_1_acc_11: 0.2167 - dense_1_acc_12: 0.2167 - dense_1_acc_13: 0.3000 - dense_1_acc_14: 0.3000 - dense_1_acc_15: 0.2833 - dense_1_acc_16: 0.2333 - dense_1_acc_17: 0.1500 - dense_1_acc_18: 0.2333 - dense_1_acc_19: 0.3167 - dense_1_acc_20: 0.2500 - dense_1_acc_21: 0.2333 - dense_1_acc_22: 0.2167 - dense_1_acc_23: 0.1500 - dense_1_acc_24: 0.1833 - dense_1_acc_25: 0.1833 - dense_1_acc_26: 0.2667 - dense_1_acc_27: 0.1833 - dense_1_acc_28: 0.1833 - dense_1_acc_29: 0.2500 - dense_1_acc_30: 0.0000e+00     \n",
      "Epoch 11/100\n"
     ]
    },
    {
     "name": "stdout",
     "output_type": "stream",
     "text": [
      "60/60 [==============================] - 1s - loss: 86.1524 - dense_1_loss_1: 4.1934 - dense_1_loss_2: 3.9135 - dense_1_loss_3: 3.6013 - dense_1_loss_4: 3.5135 - dense_1_loss_5: 3.2259 - dense_1_loss_6: 3.2824 - dense_1_loss_7: 3.1980 - dense_1_loss_8: 2.8958 - dense_1_loss_9: 2.9159 - dense_1_loss_10: 2.7465 - dense_1_loss_11: 2.8799 - dense_1_loss_12: 2.8437 - dense_1_loss_13: 2.5987 - dense_1_loss_14: 2.5960 - dense_1_loss_15: 2.7749 - dense_1_loss_16: 2.8220 - dense_1_loss_17: 2.7545 - dense_1_loss_18: 2.8984 - dense_1_loss_19: 2.7496 - dense_1_loss_20: 2.8739 - dense_1_loss_21: 2.7583 - dense_1_loss_22: 2.6439 - dense_1_loss_23: 2.8336 - dense_1_loss_24: 2.6751 - dense_1_loss_25: 3.0484 - dense_1_loss_26: 2.5720 - dense_1_loss_27: 2.8090 - dense_1_loss_28: 2.7565 - dense_1_loss_29: 2.7779 - dense_1_loss_30: 0.0000e+00 - dense_1_acc_1: 0.1000 - dense_1_acc_2: 0.1333 - dense_1_acc_3: 0.2333 - dense_1_acc_4: 0.1833 - dense_1_acc_5: 0.2667 - dense_1_acc_6: 0.1833 - dense_1_acc_7: 0.1667 - dense_1_acc_8: 0.2667 - dense_1_acc_9: 0.1833 - dense_1_acc_10: 0.2167 - dense_1_acc_11: 0.2500 - dense_1_acc_12: 0.2500 - dense_1_acc_13: 0.4000 - dense_1_acc_14: 0.3333 - dense_1_acc_15: 0.2333 - dense_1_acc_16: 0.1833 - dense_1_acc_17: 0.2500 - dense_1_acc_18: 0.2000 - dense_1_acc_19: 0.2833 - dense_1_acc_20: 0.2500 - dense_1_acc_21: 0.1833 - dense_1_acc_22: 0.2000 - dense_1_acc_23: 0.1667 - dense_1_acc_24: 0.2000 - dense_1_acc_25: 0.1833 - dense_1_acc_26: 0.2500 - dense_1_acc_27: 0.2000 - dense_1_acc_28: 0.1667 - dense_1_acc_29: 0.2333 - dense_1_acc_30: 0.0000e+00     \n",
      "Epoch 12/100\n",
      "60/60 [==============================] - 1s - loss: 81.8467 - dense_1_loss_1: 4.1849 - dense_1_loss_2: 3.8755 - dense_1_loss_3: 3.5238 - dense_1_loss_4: 3.4183 - dense_1_loss_5: 3.0979 - dense_1_loss_6: 3.1106 - dense_1_loss_7: 3.0378 - dense_1_loss_8: 2.7313 - dense_1_loss_9: 2.7773 - dense_1_loss_10: 2.6023 - dense_1_loss_11: 2.7714 - dense_1_loss_12: 2.6183 - dense_1_loss_13: 2.4591 - dense_1_loss_14: 2.4526 - dense_1_loss_15: 2.6429 - dense_1_loss_16: 2.6228 - dense_1_loss_17: 2.5905 - dense_1_loss_18: 2.8182 - dense_1_loss_19: 2.5448 - dense_1_loss_20: 2.6520 - dense_1_loss_21: 2.5379 - dense_1_loss_22: 2.4447 - dense_1_loss_23: 2.6910 - dense_1_loss_24: 2.5486 - dense_1_loss_25: 2.8530 - dense_1_loss_26: 2.3912 - dense_1_loss_27: 2.6252 - dense_1_loss_28: 2.5665 - dense_1_loss_29: 2.6562 - dense_1_loss_30: 0.0000e+00 - dense_1_acc_1: 0.1000 - dense_1_acc_2: 0.1333 - dense_1_acc_3: 0.2500 - dense_1_acc_4: 0.1833 - dense_1_acc_5: 0.2833 - dense_1_acc_6: 0.1833 - dense_1_acc_7: 0.2000 - dense_1_acc_8: 0.2833 - dense_1_acc_9: 0.2167 - dense_1_acc_10: 0.2500 - dense_1_acc_11: 0.2667 - dense_1_acc_12: 0.2833 - dense_1_acc_13: 0.3833 - dense_1_acc_14: 0.3333 - dense_1_acc_15: 0.2667 - dense_1_acc_16: 0.2333 - dense_1_acc_17: 0.2333 - dense_1_acc_18: 0.2333 - dense_1_acc_19: 0.2833 - dense_1_acc_20: 0.2667 - dense_1_acc_21: 0.2000 - dense_1_acc_22: 0.2333 - dense_1_acc_23: 0.1833 - dense_1_acc_24: 0.2333 - dense_1_acc_25: 0.1333 - dense_1_acc_26: 0.3000 - dense_1_acc_27: 0.2500 - dense_1_acc_28: 0.2167 - dense_1_acc_29: 0.1333 - dense_1_acc_30: 0.0000e+00     \n",
      "Epoch 13/100\n",
      "60/60 [==============================] - 1s - loss: 77.8059 - dense_1_loss_1: 4.1741 - dense_1_loss_2: 3.8356 - dense_1_loss_3: 3.4441 - dense_1_loss_4: 3.3098 - dense_1_loss_5: 2.9553 - dense_1_loss_6: 2.9331 - dense_1_loss_7: 2.8910 - dense_1_loss_8: 2.5842 - dense_1_loss_9: 2.6015 - dense_1_loss_10: 2.4856 - dense_1_loss_11: 2.6557 - dense_1_loss_12: 2.4755 - dense_1_loss_13: 2.2903 - dense_1_loss_14: 2.3304 - dense_1_loss_15: 2.5266 - dense_1_loss_16: 2.4510 - dense_1_loss_17: 2.3644 - dense_1_loss_18: 2.6514 - dense_1_loss_19: 2.4129 - dense_1_loss_20: 2.4780 - dense_1_loss_21: 2.3662 - dense_1_loss_22: 2.3687 - dense_1_loss_23: 2.5326 - dense_1_loss_24: 2.4135 - dense_1_loss_25: 2.6145 - dense_1_loss_26: 2.2539 - dense_1_loss_27: 2.4436 - dense_1_loss_28: 2.4598 - dense_1_loss_29: 2.5027 - dense_1_loss_30: 0.0000e+00 - dense_1_acc_1: 0.0667 - dense_1_acc_2: 0.1500 - dense_1_acc_3: 0.2333 - dense_1_acc_4: 0.2000 - dense_1_acc_5: 0.2500 - dense_1_acc_6: 0.1833 - dense_1_acc_7: 0.2500 - dense_1_acc_8: 0.3833 - dense_1_acc_9: 0.2667 - dense_1_acc_10: 0.2833 - dense_1_acc_11: 0.2667 - dense_1_acc_12: 0.2667 - dense_1_acc_13: 0.4333 - dense_1_acc_14: 0.4000 - dense_1_acc_15: 0.2500 - dense_1_acc_16: 0.3000 - dense_1_acc_17: 0.3500 - dense_1_acc_18: 0.2167 - dense_1_acc_19: 0.3500 - dense_1_acc_20: 0.3167 - dense_1_acc_21: 0.2667 - dense_1_acc_22: 0.2833 - dense_1_acc_23: 0.2167 - dense_1_acc_24: 0.2167 - dense_1_acc_25: 0.2500 - dense_1_acc_26: 0.4167 - dense_1_acc_27: 0.2667 - dense_1_acc_28: 0.2833 - dense_1_acc_29: 0.2833 - dense_1_acc_30: 0.0000e+00     \n",
      "Epoch 14/100\n",
      "60/60 [==============================] - 1s - loss: 74.0359 - dense_1_loss_1: 4.1645 - dense_1_loss_2: 3.7923 - dense_1_loss_3: 3.3562 - dense_1_loss_4: 3.1862 - dense_1_loss_5: 2.8122 - dense_1_loss_6: 2.7620 - dense_1_loss_7: 2.7679 - dense_1_loss_8: 2.4220 - dense_1_loss_9: 2.4313 - dense_1_loss_10: 2.3068 - dense_1_loss_11: 2.5390 - dense_1_loss_12: 2.3432 - dense_1_loss_13: 2.1670 - dense_1_loss_14: 2.2686 - dense_1_loss_15: 2.4756 - dense_1_loss_16: 2.4052 - dense_1_loss_17: 2.2277 - dense_1_loss_18: 2.4294 - dense_1_loss_19: 2.3132 - dense_1_loss_20: 2.3253 - dense_1_loss_21: 2.1984 - dense_1_loss_22: 2.2198 - dense_1_loss_23: 2.4015 - dense_1_loss_24: 2.2802 - dense_1_loss_25: 2.4991 - dense_1_loss_26: 2.0801 - dense_1_loss_27: 2.2973 - dense_1_loss_28: 2.2575 - dense_1_loss_29: 2.3064 - dense_1_loss_30: 0.0000e+00 - dense_1_acc_1: 0.0667 - dense_1_acc_2: 0.1500 - dense_1_acc_3: 0.2333 - dense_1_acc_4: 0.2000 - dense_1_acc_5: 0.2500 - dense_1_acc_6: 0.2000 - dense_1_acc_7: 0.2333 - dense_1_acc_8: 0.3833 - dense_1_acc_9: 0.3333 - dense_1_acc_10: 0.3167 - dense_1_acc_11: 0.2667 - dense_1_acc_12: 0.2833 - dense_1_acc_13: 0.4667 - dense_1_acc_14: 0.3833 - dense_1_acc_15: 0.3000 - dense_1_acc_16: 0.2833 - dense_1_acc_17: 0.3667 - dense_1_acc_18: 0.2333 - dense_1_acc_19: 0.2833 - dense_1_acc_20: 0.3500 - dense_1_acc_21: 0.2500 - dense_1_acc_22: 0.2667 - dense_1_acc_23: 0.2333 - dense_1_acc_24: 0.2167 - dense_1_acc_25: 0.2167 - dense_1_acc_26: 0.4333 - dense_1_acc_27: 0.2167 - dense_1_acc_28: 0.3167 - dense_1_acc_29: 0.2833 - dense_1_acc_30: 0.0000e+00     \n",
      "Epoch 15/100\n",
      "60/60 [==============================] - 1s - loss: 71.6731 - dense_1_loss_1: 4.1548 - dense_1_loss_2: 3.7489 - dense_1_loss_3: 3.2754 - dense_1_loss_4: 3.0788 - dense_1_loss_5: 2.6866 - dense_1_loss_6: 2.6291 - dense_1_loss_7: 2.6298 - dense_1_loss_8: 2.2647 - dense_1_loss_9: 2.3630 - dense_1_loss_10: 2.2114 - dense_1_loss_11: 2.4293 - dense_1_loss_12: 2.1867 - dense_1_loss_13: 2.0499 - dense_1_loss_14: 2.1809 - dense_1_loss_15: 2.4043 - dense_1_loss_16: 2.3314 - dense_1_loss_17: 2.1454 - dense_1_loss_18: 2.1900 - dense_1_loss_19: 2.1621 - dense_1_loss_20: 2.2226 - dense_1_loss_21: 2.1039 - dense_1_loss_22: 2.2420 - dense_1_loss_23: 2.3723 - dense_1_loss_24: 2.2453 - dense_1_loss_25: 2.4510 - dense_1_loss_26: 2.0938 - dense_1_loss_27: 2.2579 - dense_1_loss_28: 2.2348 - dense_1_loss_29: 2.3269 - dense_1_loss_30: 0.0000e+00 - dense_1_acc_1: 0.0667 - dense_1_acc_2: 0.1500 - dense_1_acc_3: 0.2833 - dense_1_acc_4: 0.2333 - dense_1_acc_5: 0.3333 - dense_1_acc_6: 0.2333 - dense_1_acc_7: 0.2833 - dense_1_acc_8: 0.4167 - dense_1_acc_9: 0.3000 - dense_1_acc_10: 0.3333 - dense_1_acc_11: 0.3000 - dense_1_acc_12: 0.3667 - dense_1_acc_13: 0.4667 - dense_1_acc_14: 0.4000 - dense_1_acc_15: 0.2667 - dense_1_acc_16: 0.3000 - dense_1_acc_17: 0.4167 - dense_1_acc_18: 0.3333 - dense_1_acc_19: 0.3667 - dense_1_acc_20: 0.3833 - dense_1_acc_21: 0.3667 - dense_1_acc_22: 0.2167 - dense_1_acc_23: 0.3000 - dense_1_acc_24: 0.2500 - dense_1_acc_25: 0.2000 - dense_1_acc_26: 0.4000 - dense_1_acc_27: 0.3000 - dense_1_acc_28: 0.3667 - dense_1_acc_29: 0.2833 - dense_1_acc_30: 0.0000e+00     \n",
      "Epoch 16/100\n"
     ]
    },
    {
     "name": "stdout",
     "output_type": "stream",
     "text": [
      "60/60 [==============================] - 1s - loss: 69.5384 - dense_1_loss_1: 4.1458 - dense_1_loss_2: 3.7114 - dense_1_loss_3: 3.2056 - dense_1_loss_4: 2.9878 - dense_1_loss_5: 2.5968 - dense_1_loss_6: 2.5405 - dense_1_loss_7: 2.5066 - dense_1_loss_8: 2.2464 - dense_1_loss_9: 2.3519 - dense_1_loss_10: 2.2249 - dense_1_loss_11: 2.3221 - dense_1_loss_12: 2.0905 - dense_1_loss_13: 2.0386 - dense_1_loss_14: 2.2052 - dense_1_loss_15: 2.3276 - dense_1_loss_16: 2.2986 - dense_1_loss_17: 2.1096 - dense_1_loss_18: 2.2354 - dense_1_loss_19: 2.1195 - dense_1_loss_20: 2.0865 - dense_1_loss_21: 2.0029 - dense_1_loss_22: 2.1692 - dense_1_loss_23: 2.2935 - dense_1_loss_24: 2.2121 - dense_1_loss_25: 2.2486 - dense_1_loss_26: 1.8770 - dense_1_loss_27: 2.1483 - dense_1_loss_28: 2.0916 - dense_1_loss_29: 2.1438 - dense_1_loss_30: 0.0000e+00 - dense_1_acc_1: 0.0667 - dense_1_acc_2: 0.1500 - dense_1_acc_3: 0.3000 - dense_1_acc_4: 0.2333 - dense_1_acc_5: 0.3333 - dense_1_acc_6: 0.2667 - dense_1_acc_7: 0.3000 - dense_1_acc_8: 0.4000 - dense_1_acc_9: 0.3000 - dense_1_acc_10: 0.3667 - dense_1_acc_11: 0.3333 - dense_1_acc_12: 0.4000 - dense_1_acc_13: 0.5500 - dense_1_acc_14: 0.4500 - dense_1_acc_15: 0.2500 - dense_1_acc_16: 0.3333 - dense_1_acc_17: 0.4667 - dense_1_acc_18: 0.3333 - dense_1_acc_19: 0.4333 - dense_1_acc_20: 0.4667 - dense_1_acc_21: 0.4667 - dense_1_acc_22: 0.3833 - dense_1_acc_23: 0.4000 - dense_1_acc_24: 0.4000 - dense_1_acc_25: 0.3333 - dense_1_acc_26: 0.5833 - dense_1_acc_27: 0.4167 - dense_1_acc_28: 0.5000 - dense_1_acc_29: 0.4500 - dense_1_acc_30: 0.0000e+00     \n",
      "Epoch 17/100\n",
      "60/60 [==============================] - 1s - loss: 66.5588 - dense_1_loss_1: 4.1382 - dense_1_loss_2: 3.6703 - dense_1_loss_3: 3.1339 - dense_1_loss_4: 2.8882 - dense_1_loss_5: 2.4960 - dense_1_loss_6: 2.4073 - dense_1_loss_7: 2.3665 - dense_1_loss_8: 2.0769 - dense_1_loss_9: 2.3087 - dense_1_loss_10: 2.1326 - dense_1_loss_11: 2.1933 - dense_1_loss_12: 1.9993 - dense_1_loss_13: 1.9634 - dense_1_loss_14: 2.0535 - dense_1_loss_15: 2.1836 - dense_1_loss_16: 2.1135 - dense_1_loss_17: 2.0677 - dense_1_loss_18: 2.1394 - dense_1_loss_19: 1.9588 - dense_1_loss_20: 2.0104 - dense_1_loss_21: 1.9167 - dense_1_loss_22: 1.9254 - dense_1_loss_23: 2.1385 - dense_1_loss_24: 2.0933 - dense_1_loss_25: 2.1034 - dense_1_loss_26: 1.8029 - dense_1_loss_27: 2.0644 - dense_1_loss_28: 2.0576 - dense_1_loss_29: 2.1554 - dense_1_loss_30: 0.0000e+00 - dense_1_acc_1: 0.0667 - dense_1_acc_2: 0.1500 - dense_1_acc_3: 0.3167 - dense_1_acc_4: 0.2667 - dense_1_acc_5: 0.3333 - dense_1_acc_6: 0.3000 - dense_1_acc_7: 0.3333 - dense_1_acc_8: 0.4833 - dense_1_acc_9: 0.3667 - dense_1_acc_10: 0.4667 - dense_1_acc_11: 0.4167 - dense_1_acc_12: 0.4667 - dense_1_acc_13: 0.5667 - dense_1_acc_14: 0.4833 - dense_1_acc_15: 0.4333 - dense_1_acc_16: 0.4000 - dense_1_acc_17: 0.4167 - dense_1_acc_18: 0.3667 - dense_1_acc_19: 0.4333 - dense_1_acc_20: 0.4000 - dense_1_acc_21: 0.4333 - dense_1_acc_22: 0.4333 - dense_1_acc_23: 0.4000 - dense_1_acc_24: 0.4833 - dense_1_acc_25: 0.3500 - dense_1_acc_26: 0.5333 - dense_1_acc_27: 0.3167 - dense_1_acc_28: 0.4333 - dense_1_acc_29: 0.3167 - dense_1_acc_30: 0.0000e+00     \n",
      "Epoch 18/100\n",
      "60/60 [==============================] - 1s - loss: 62.8262 - dense_1_loss_1: 4.1303 - dense_1_loss_2: 3.6298 - dense_1_loss_3: 3.0617 - dense_1_loss_4: 2.7856 - dense_1_loss_5: 2.4055 - dense_1_loss_6: 2.2942 - dense_1_loss_7: 2.2484 - dense_1_loss_8: 1.9618 - dense_1_loss_9: 2.1956 - dense_1_loss_10: 2.0330 - dense_1_loss_11: 2.0841 - dense_1_loss_12: 1.8485 - dense_1_loss_13: 1.7997 - dense_1_loss_14: 1.9227 - dense_1_loss_15: 2.0115 - dense_1_loss_16: 1.9889 - dense_1_loss_17: 1.9003 - dense_1_loss_18: 1.9368 - dense_1_loss_19: 1.8486 - dense_1_loss_20: 1.8856 - dense_1_loss_21: 1.7659 - dense_1_loss_22: 1.8343 - dense_1_loss_23: 1.9450 - dense_1_loss_24: 1.9560 - dense_1_loss_25: 1.9266 - dense_1_loss_26: 1.6479 - dense_1_loss_27: 1.9001 - dense_1_loss_28: 1.9532 - dense_1_loss_29: 1.9247 - dense_1_loss_30: 0.0000e+00 - dense_1_acc_1: 0.0667 - dense_1_acc_2: 0.1500 - dense_1_acc_3: 0.3167 - dense_1_acc_4: 0.2667 - dense_1_acc_5: 0.3333 - dense_1_acc_6: 0.3333 - dense_1_acc_7: 0.3500 - dense_1_acc_8: 0.5333 - dense_1_acc_9: 0.4333 - dense_1_acc_10: 0.4667 - dense_1_acc_11: 0.4500 - dense_1_acc_12: 0.5333 - dense_1_acc_13: 0.6500 - dense_1_acc_14: 0.5333 - dense_1_acc_15: 0.4333 - dense_1_acc_16: 0.3667 - dense_1_acc_17: 0.4167 - dense_1_acc_18: 0.4500 - dense_1_acc_19: 0.4667 - dense_1_acc_20: 0.4167 - dense_1_acc_21: 0.4833 - dense_1_acc_22: 0.4333 - dense_1_acc_23: 0.4667 - dense_1_acc_24: 0.4500 - dense_1_acc_25: 0.4667 - dense_1_acc_26: 0.5833 - dense_1_acc_27: 0.4167 - dense_1_acc_28: 0.3667 - dense_1_acc_29: 0.3833 - dense_1_acc_30: 0.0000e+00     \n",
      "Epoch 19/100\n",
      "60/60 [==============================] - 1s - loss: 59.7354 - dense_1_loss_1: 4.1205 - dense_1_loss_2: 3.5876 - dense_1_loss_3: 2.9871 - dense_1_loss_4: 2.6892 - dense_1_loss_5: 2.3262 - dense_1_loss_6: 2.1962 - dense_1_loss_7: 2.1471 - dense_1_loss_8: 1.8764 - dense_1_loss_9: 2.0646 - dense_1_loss_10: 1.8938 - dense_1_loss_11: 1.9956 - dense_1_loss_12: 1.7433 - dense_1_loss_13: 1.6253 - dense_1_loss_14: 1.7857 - dense_1_loss_15: 1.8853 - dense_1_loss_16: 1.8576 - dense_1_loss_17: 1.7712 - dense_1_loss_18: 1.8061 - dense_1_loss_19: 1.7220 - dense_1_loss_20: 1.7595 - dense_1_loss_21: 1.6503 - dense_1_loss_22: 1.7320 - dense_1_loss_23: 1.8162 - dense_1_loss_24: 1.8404 - dense_1_loss_25: 1.8213 - dense_1_loss_26: 1.5722 - dense_1_loss_27: 1.8092 - dense_1_loss_28: 1.8406 - dense_1_loss_29: 1.8129 - dense_1_loss_30: 0.0000e+00 - dense_1_acc_1: 0.0667 - dense_1_acc_2: 0.1500 - dense_1_acc_3: 0.3500 - dense_1_acc_4: 0.2833 - dense_1_acc_5: 0.3500 - dense_1_acc_6: 0.3333 - dense_1_acc_7: 0.3667 - dense_1_acc_8: 0.5167 - dense_1_acc_9: 0.4167 - dense_1_acc_10: 0.4667 - dense_1_acc_11: 0.4167 - dense_1_acc_12: 0.5500 - dense_1_acc_13: 0.6833 - dense_1_acc_14: 0.5000 - dense_1_acc_15: 0.4000 - dense_1_acc_16: 0.4667 - dense_1_acc_17: 0.5000 - dense_1_acc_18: 0.5167 - dense_1_acc_19: 0.5000 - dense_1_acc_20: 0.4833 - dense_1_acc_21: 0.5833 - dense_1_acc_22: 0.4167 - dense_1_acc_23: 0.4500 - dense_1_acc_24: 0.3833 - dense_1_acc_25: 0.4167 - dense_1_acc_26: 0.6000 - dense_1_acc_27: 0.4500 - dense_1_acc_28: 0.4500 - dense_1_acc_29: 0.4167 - dense_1_acc_30: 0.0000e+00     \n",
      "Epoch 20/100\n",
      "60/60 [==============================] - 1s - loss: 57.0047 - dense_1_loss_1: 4.1123 - dense_1_loss_2: 3.5429 - dense_1_loss_3: 2.9100 - dense_1_loss_4: 2.6021 - dense_1_loss_5: 2.2482 - dense_1_loss_6: 2.1102 - dense_1_loss_7: 2.0357 - dense_1_loss_8: 1.7810 - dense_1_loss_9: 1.9428 - dense_1_loss_10: 1.7571 - dense_1_loss_11: 1.8925 - dense_1_loss_12: 1.6854 - dense_1_loss_13: 1.5238 - dense_1_loss_14: 1.6913 - dense_1_loss_15: 1.7758 - dense_1_loss_16: 1.7576 - dense_1_loss_17: 1.6516 - dense_1_loss_18: 1.6885 - dense_1_loss_19: 1.6246 - dense_1_loss_20: 1.6890 - dense_1_loss_21: 1.5864 - dense_1_loss_22: 1.6247 - dense_1_loss_23: 1.7174 - dense_1_loss_24: 1.7136 - dense_1_loss_25: 1.7304 - dense_1_loss_26: 1.5596 - dense_1_loss_27: 1.7227 - dense_1_loss_28: 1.6723 - dense_1_loss_29: 1.6552 - dense_1_loss_30: 0.0000e+00 - dense_1_acc_1: 0.0667 - dense_1_acc_2: 0.1500 - dense_1_acc_3: 0.3500 - dense_1_acc_4: 0.3000 - dense_1_acc_5: 0.3667 - dense_1_acc_6: 0.4000 - dense_1_acc_7: 0.3833 - dense_1_acc_8: 0.5667 - dense_1_acc_9: 0.4833 - dense_1_acc_10: 0.5333 - dense_1_acc_11: 0.4667 - dense_1_acc_12: 0.5500 - dense_1_acc_13: 0.6500 - dense_1_acc_14: 0.5667 - dense_1_acc_15: 0.3667 - dense_1_acc_16: 0.4667 - dense_1_acc_17: 0.5333 - dense_1_acc_18: 0.4667 - dense_1_acc_19: 0.5667 - dense_1_acc_20: 0.5500 - dense_1_acc_21: 0.5833 - dense_1_acc_22: 0.4667 - dense_1_acc_23: 0.5000 - dense_1_acc_24: 0.4333 - dense_1_acc_25: 0.4000 - dense_1_acc_26: 0.5500 - dense_1_acc_27: 0.4833 - dense_1_acc_28: 0.5000 - dense_1_acc_29: 0.4500 - dense_1_acc_30: 0.0000e+00     \n",
      "Epoch 21/100\n"
     ]
    },
    {
     "name": "stdout",
     "output_type": "stream",
     "text": [
      "60/60 [==============================] - 1s - loss: 54.2346 - dense_1_loss_1: 4.1045 - dense_1_loss_2: 3.4999 - dense_1_loss_3: 2.8346 - dense_1_loss_4: 2.5090 - dense_1_loss_5: 2.1448 - dense_1_loss_6: 1.9895 - dense_1_loss_7: 1.9006 - dense_1_loss_8: 1.6769 - dense_1_loss_9: 1.8360 - dense_1_loss_10: 1.6785 - dense_1_loss_11: 1.7866 - dense_1_loss_12: 1.5610 - dense_1_loss_13: 1.4256 - dense_1_loss_14: 1.5326 - dense_1_loss_15: 1.6746 - dense_1_loss_16: 1.6599 - dense_1_loss_17: 1.5334 - dense_1_loss_18: 1.6037 - dense_1_loss_19: 1.5421 - dense_1_loss_20: 1.5894 - dense_1_loss_21: 1.5145 - dense_1_loss_22: 1.5344 - dense_1_loss_23: 1.6200 - dense_1_loss_24: 1.6263 - dense_1_loss_25: 1.6369 - dense_1_loss_26: 1.5242 - dense_1_loss_27: 1.6227 - dense_1_loss_28: 1.5355 - dense_1_loss_29: 1.5371 - dense_1_loss_30: 0.0000e+00 - dense_1_acc_1: 0.0667 - dense_1_acc_2: 0.2667 - dense_1_acc_3: 0.3500 - dense_1_acc_4: 0.3167 - dense_1_acc_5: 0.3500 - dense_1_acc_6: 0.4167 - dense_1_acc_7: 0.4833 - dense_1_acc_8: 0.6167 - dense_1_acc_9: 0.4000 - dense_1_acc_10: 0.5667 - dense_1_acc_11: 0.4500 - dense_1_acc_12: 0.5333 - dense_1_acc_13: 0.6833 - dense_1_acc_14: 0.6000 - dense_1_acc_15: 0.4500 - dense_1_acc_16: 0.4500 - dense_1_acc_17: 0.6333 - dense_1_acc_18: 0.5167 - dense_1_acc_19: 0.5833 - dense_1_acc_20: 0.5000 - dense_1_acc_21: 0.6000 - dense_1_acc_22: 0.6500 - dense_1_acc_23: 0.6167 - dense_1_acc_24: 0.5167 - dense_1_acc_25: 0.4833 - dense_1_acc_26: 0.5500 - dense_1_acc_27: 0.5167 - dense_1_acc_28: 0.6833 - dense_1_acc_29: 0.5833 - dense_1_acc_30: 0.0000e+00     \n",
      "Epoch 22/100\n",
      "60/60 [==============================] - 1s - loss: 51.5346 - dense_1_loss_1: 4.0964 - dense_1_loss_2: 3.4550 - dense_1_loss_3: 2.7559 - dense_1_loss_4: 2.4174 - dense_1_loss_5: 2.0481 - dense_1_loss_6: 1.8738 - dense_1_loss_7: 1.8057 - dense_1_loss_8: 1.5781 - dense_1_loss_9: 1.7521 - dense_1_loss_10: 1.5896 - dense_1_loss_11: 1.6852 - dense_1_loss_12: 1.4362 - dense_1_loss_13: 1.3588 - dense_1_loss_14: 1.3929 - dense_1_loss_15: 1.5990 - dense_1_loss_16: 1.5269 - dense_1_loss_17: 1.4313 - dense_1_loss_18: 1.5093 - dense_1_loss_19: 1.4524 - dense_1_loss_20: 1.4489 - dense_1_loss_21: 1.4342 - dense_1_loss_22: 1.4301 - dense_1_loss_23: 1.5127 - dense_1_loss_24: 1.5393 - dense_1_loss_25: 1.5389 - dense_1_loss_26: 1.4068 - dense_1_loss_27: 1.5240 - dense_1_loss_28: 1.4465 - dense_1_loss_29: 1.4892 - dense_1_loss_30: 0.0000e+00 - dense_1_acc_1: 0.0667 - dense_1_acc_2: 0.2667 - dense_1_acc_3: 0.3833 - dense_1_acc_4: 0.3333 - dense_1_acc_5: 0.3833 - dense_1_acc_6: 0.4833 - dense_1_acc_7: 0.5500 - dense_1_acc_8: 0.6333 - dense_1_acc_9: 0.4500 - dense_1_acc_10: 0.5333 - dense_1_acc_11: 0.5500 - dense_1_acc_12: 0.6167 - dense_1_acc_13: 0.7000 - dense_1_acc_14: 0.6167 - dense_1_acc_15: 0.4667 - dense_1_acc_16: 0.5167 - dense_1_acc_17: 0.6667 - dense_1_acc_18: 0.5833 - dense_1_acc_19: 0.7167 - dense_1_acc_20: 0.6833 - dense_1_acc_21: 0.5667 - dense_1_acc_22: 0.7000 - dense_1_acc_23: 0.6500 - dense_1_acc_24: 0.5667 - dense_1_acc_25: 0.4667 - dense_1_acc_26: 0.5833 - dense_1_acc_27: 0.5833 - dense_1_acc_28: 0.6500 - dense_1_acc_29: 0.6500 - dense_1_acc_30: 0.0000e+00     \n",
      "Epoch 23/100\n",
      "60/60 [==============================] - 1s - loss: 49.0214 - dense_1_loss_1: 4.0876 - dense_1_loss_2: 3.4105 - dense_1_loss_3: 2.6745 - dense_1_loss_4: 2.3242 - dense_1_loss_5: 1.9628 - dense_1_loss_6: 1.7786 - dense_1_loss_7: 1.7123 - dense_1_loss_8: 1.4810 - dense_1_loss_9: 1.6338 - dense_1_loss_10: 1.4928 - dense_1_loss_11: 1.5690 - dense_1_loss_12: 1.3573 - dense_1_loss_13: 1.2987 - dense_1_loss_14: 1.2846 - dense_1_loss_15: 1.5115 - dense_1_loss_16: 1.4248 - dense_1_loss_17: 1.3209 - dense_1_loss_18: 1.4114 - dense_1_loss_19: 1.3696 - dense_1_loss_20: 1.3583 - dense_1_loss_21: 1.3712 - dense_1_loss_22: 1.3441 - dense_1_loss_23: 1.3925 - dense_1_loss_24: 1.4837 - dense_1_loss_25: 1.4486 - dense_1_loss_26: 1.2733 - dense_1_loss_27: 1.4325 - dense_1_loss_28: 1.3761 - dense_1_loss_29: 1.4351 - dense_1_loss_30: 0.0000e+00 - dense_1_acc_1: 0.0667 - dense_1_acc_2: 0.2667 - dense_1_acc_3: 0.3833 - dense_1_acc_4: 0.3333 - dense_1_acc_5: 0.4167 - dense_1_acc_6: 0.4667 - dense_1_acc_7: 0.5500 - dense_1_acc_8: 0.6667 - dense_1_acc_9: 0.5500 - dense_1_acc_10: 0.5833 - dense_1_acc_11: 0.6500 - dense_1_acc_12: 0.7000 - dense_1_acc_13: 0.7167 - dense_1_acc_14: 0.7000 - dense_1_acc_15: 0.5333 - dense_1_acc_16: 0.6000 - dense_1_acc_17: 0.7333 - dense_1_acc_18: 0.6333 - dense_1_acc_19: 0.7167 - dense_1_acc_20: 0.7333 - dense_1_acc_21: 0.6500 - dense_1_acc_22: 0.6833 - dense_1_acc_23: 0.6500 - dense_1_acc_24: 0.6500 - dense_1_acc_25: 0.5500 - dense_1_acc_26: 0.7667 - dense_1_acc_27: 0.6000 - dense_1_acc_28: 0.6833 - dense_1_acc_29: 0.6500 - dense_1_acc_30: 0.0000e+00     \n",
      "Epoch 24/100\n",
      "60/60 [==============================] - 1s - loss: 46.6263 - dense_1_loss_1: 4.0798 - dense_1_loss_2: 3.3687 - dense_1_loss_3: 2.5978 - dense_1_loss_4: 2.2292 - dense_1_loss_5: 1.8879 - dense_1_loss_6: 1.7018 - dense_1_loss_7: 1.6210 - dense_1_loss_8: 1.4043 - dense_1_loss_9: 1.5275 - dense_1_loss_10: 1.4053 - dense_1_loss_11: 1.4691 - dense_1_loss_12: 1.3087 - dense_1_loss_13: 1.2374 - dense_1_loss_14: 1.2240 - dense_1_loss_15: 1.3947 - dense_1_loss_16: 1.3574 - dense_1_loss_17: 1.2140 - dense_1_loss_18: 1.2980 - dense_1_loss_19: 1.2785 - dense_1_loss_20: 1.2702 - dense_1_loss_21: 1.2988 - dense_1_loss_22: 1.2901 - dense_1_loss_23: 1.2829 - dense_1_loss_24: 1.4054 - dense_1_loss_25: 1.3521 - dense_1_loss_26: 1.1596 - dense_1_loss_27: 1.3225 - dense_1_loss_28: 1.2972 - dense_1_loss_29: 1.3425 - dense_1_loss_30: 0.0000e+00 - dense_1_acc_1: 0.0667 - dense_1_acc_2: 0.2667 - dense_1_acc_3: 0.3833 - dense_1_acc_4: 0.3667 - dense_1_acc_5: 0.4000 - dense_1_acc_6: 0.5333 - dense_1_acc_7: 0.5667 - dense_1_acc_8: 0.7000 - dense_1_acc_9: 0.6167 - dense_1_acc_10: 0.6500 - dense_1_acc_11: 0.6833 - dense_1_acc_12: 0.7667 - dense_1_acc_13: 0.7000 - dense_1_acc_14: 0.7333 - dense_1_acc_15: 0.5667 - dense_1_acc_16: 0.6667 - dense_1_acc_17: 0.7667 - dense_1_acc_18: 0.6667 - dense_1_acc_19: 0.6833 - dense_1_acc_20: 0.7833 - dense_1_acc_21: 0.6833 - dense_1_acc_22: 0.6833 - dense_1_acc_23: 0.7167 - dense_1_acc_24: 0.6833 - dense_1_acc_25: 0.6333 - dense_1_acc_26: 0.8333 - dense_1_acc_27: 0.6833 - dense_1_acc_28: 0.7500 - dense_1_acc_29: 0.7167 - dense_1_acc_30: 0.0000e+00     \n",
      "Epoch 25/100\n",
      "60/60 [==============================] - 1s - loss: 44.2671 - dense_1_loss_1: 4.0720 - dense_1_loss_2: 3.3234 - dense_1_loss_3: 2.5245 - dense_1_loss_4: 2.1324 - dense_1_loss_5: 1.8143 - dense_1_loss_6: 1.6010 - dense_1_loss_7: 1.5189 - dense_1_loss_8: 1.3391 - dense_1_loss_9: 1.4286 - dense_1_loss_10: 1.2782 - dense_1_loss_11: 1.3921 - dense_1_loss_12: 1.2274 - dense_1_loss_13: 1.1852 - dense_1_loss_14: 1.1662 - dense_1_loss_15: 1.3087 - dense_1_loss_16: 1.2567 - dense_1_loss_17: 1.1522 - dense_1_loss_18: 1.1603 - dense_1_loss_19: 1.1944 - dense_1_loss_20: 1.2011 - dense_1_loss_21: 1.1904 - dense_1_loss_22: 1.2291 - dense_1_loss_23: 1.2305 - dense_1_loss_24: 1.2709 - dense_1_loss_25: 1.2894 - dense_1_loss_26: 1.0851 - dense_1_loss_27: 1.2264 - dense_1_loss_28: 1.2197 - dense_1_loss_29: 1.2488 - dense_1_loss_30: 0.0000e+00 - dense_1_acc_1: 0.0667 - dense_1_acc_2: 0.2833 - dense_1_acc_3: 0.3833 - dense_1_acc_4: 0.3667 - dense_1_acc_5: 0.4000 - dense_1_acc_6: 0.5500 - dense_1_acc_7: 0.6000 - dense_1_acc_8: 0.6833 - dense_1_acc_9: 0.6833 - dense_1_acc_10: 0.7500 - dense_1_acc_11: 0.6500 - dense_1_acc_12: 0.7833 - dense_1_acc_13: 0.7500 - dense_1_acc_14: 0.7833 - dense_1_acc_15: 0.6000 - dense_1_acc_16: 0.8000 - dense_1_acc_17: 0.8500 - dense_1_acc_18: 0.7500 - dense_1_acc_19: 0.6833 - dense_1_acc_20: 0.7667 - dense_1_acc_21: 0.8167 - dense_1_acc_22: 0.7500 - dense_1_acc_23: 0.7667 - dense_1_acc_24: 0.6833 - dense_1_acc_25: 0.6833 - dense_1_acc_26: 0.8500 - dense_1_acc_27: 0.7500 - dense_1_acc_28: 0.7500 - dense_1_acc_29: 0.7500 - dense_1_acc_30: 0.0000e+00         \n",
      "Epoch 26/100\n"
     ]
    },
    {
     "name": "stdout",
     "output_type": "stream",
     "text": [
      "60/60 [==============================] - 1s - loss: 42.0240 - dense_1_loss_1: 4.0648 - dense_1_loss_2: 3.2772 - dense_1_loss_3: 2.4443 - dense_1_loss_4: 2.0365 - dense_1_loss_5: 1.7299 - dense_1_loss_6: 1.5045 - dense_1_loss_7: 1.4158 - dense_1_loss_8: 1.2650 - dense_1_loss_9: 1.3089 - dense_1_loss_10: 1.1824 - dense_1_loss_11: 1.2901 - dense_1_loss_12: 1.1412 - dense_1_loss_13: 1.0889 - dense_1_loss_14: 1.0901 - dense_1_loss_15: 1.2142 - dense_1_loss_16: 1.1419 - dense_1_loss_17: 1.0858 - dense_1_loss_18: 1.0816 - dense_1_loss_19: 1.1211 - dense_1_loss_20: 1.1349 - dense_1_loss_21: 1.1130 - dense_1_loss_22: 1.1621 - dense_1_loss_23: 1.1840 - dense_1_loss_24: 1.1824 - dense_1_loss_25: 1.2275 - dense_1_loss_26: 1.0222 - dense_1_loss_27: 1.1891 - dense_1_loss_28: 1.1634 - dense_1_loss_29: 1.1610 - dense_1_loss_30: 0.0000e+00 - dense_1_acc_1: 0.0333 - dense_1_acc_2: 0.2833 - dense_1_acc_3: 0.3833 - dense_1_acc_4: 0.3667 - dense_1_acc_5: 0.4833 - dense_1_acc_6: 0.6000 - dense_1_acc_7: 0.6333 - dense_1_acc_8: 0.7500 - dense_1_acc_9: 0.7500 - dense_1_acc_10: 0.8000 - dense_1_acc_11: 0.7333 - dense_1_acc_12: 0.8167 - dense_1_acc_13: 0.8667 - dense_1_acc_14: 0.8667 - dense_1_acc_15: 0.7000 - dense_1_acc_16: 0.8833 - dense_1_acc_17: 0.9000 - dense_1_acc_18: 0.8167 - dense_1_acc_19: 0.8500 - dense_1_acc_20: 0.8000 - dense_1_acc_21: 0.9167 - dense_1_acc_22: 0.8667 - dense_1_acc_23: 0.8000 - dense_1_acc_24: 0.7167 - dense_1_acc_25: 0.6667 - dense_1_acc_26: 0.8833 - dense_1_acc_27: 0.7333 - dense_1_acc_28: 0.7833 - dense_1_acc_29: 0.8167 - dense_1_acc_30: 0.0000e+00     \n",
      "Epoch 27/100\n",
      "60/60 [==============================] - 1s - loss: 39.8548 - dense_1_loss_1: 4.0570 - dense_1_loss_2: 3.2322 - dense_1_loss_3: 2.3704 - dense_1_loss_4: 1.9466 - dense_1_loss_5: 1.6451 - dense_1_loss_6: 1.4064 - dense_1_loss_7: 1.3278 - dense_1_loss_8: 1.1746 - dense_1_loss_9: 1.2234 - dense_1_loss_10: 1.1104 - dense_1_loss_11: 1.2100 - dense_1_loss_12: 1.0712 - dense_1_loss_13: 0.9905 - dense_1_loss_14: 1.0297 - dense_1_loss_15: 1.1282 - dense_1_loss_16: 1.0709 - dense_1_loss_17: 0.9967 - dense_1_loss_18: 1.0137 - dense_1_loss_19: 1.0474 - dense_1_loss_20: 1.0501 - dense_1_loss_21: 1.0330 - dense_1_loss_22: 1.0844 - dense_1_loss_23: 1.0912 - dense_1_loss_24: 1.1179 - dense_1_loss_25: 1.1244 - dense_1_loss_26: 0.9716 - dense_1_loss_27: 1.1220 - dense_1_loss_28: 1.1149 - dense_1_loss_29: 1.0928 - dense_1_loss_30: 0.0000e+00 - dense_1_acc_1: 0.0333 - dense_1_acc_2: 0.2833 - dense_1_acc_3: 0.3833 - dense_1_acc_4: 0.3833 - dense_1_acc_5: 0.5167 - dense_1_acc_6: 0.6500 - dense_1_acc_7: 0.7000 - dense_1_acc_8: 0.8333 - dense_1_acc_9: 0.7667 - dense_1_acc_10: 0.7667 - dense_1_acc_11: 0.7833 - dense_1_acc_12: 0.8667 - dense_1_acc_13: 0.8500 - dense_1_acc_14: 0.8667 - dense_1_acc_15: 0.7333 - dense_1_acc_16: 0.9167 - dense_1_acc_17: 0.9333 - dense_1_acc_18: 0.8500 - dense_1_acc_19: 0.8500 - dense_1_acc_20: 0.8667 - dense_1_acc_21: 0.9333 - dense_1_acc_22: 0.8833 - dense_1_acc_23: 0.8500 - dense_1_acc_24: 0.8333 - dense_1_acc_25: 0.6833 - dense_1_acc_26: 0.8833 - dense_1_acc_27: 0.8000 - dense_1_acc_28: 0.8333 - dense_1_acc_29: 0.8333 - dense_1_acc_30: 0.0000e+00     \n",
      "Epoch 28/100\n",
      "60/60 [==============================] - 1s - loss: 37.8648 - dense_1_loss_1: 4.0494 - dense_1_loss_2: 3.1865 - dense_1_loss_3: 2.2939 - dense_1_loss_4: 1.8689 - dense_1_loss_5: 1.5655 - dense_1_loss_6: 1.3248 - dense_1_loss_7: 1.2395 - dense_1_loss_8: 1.1029 - dense_1_loss_9: 1.1564 - dense_1_loss_10: 1.0501 - dense_1_loss_11: 1.1484 - dense_1_loss_12: 1.0057 - dense_1_loss_13: 0.9264 - dense_1_loss_14: 0.9723 - dense_1_loss_15: 1.0632 - dense_1_loss_16: 1.0131 - dense_1_loss_17: 0.9326 - dense_1_loss_18: 0.9756 - dense_1_loss_19: 0.9966 - dense_1_loss_20: 0.9795 - dense_1_loss_21: 0.9599 - dense_1_loss_22: 0.9951 - dense_1_loss_23: 1.0069 - dense_1_loss_24: 1.0340 - dense_1_loss_25: 1.0452 - dense_1_loss_26: 0.9168 - dense_1_loss_27: 1.0251 - dense_1_loss_28: 1.0173 - dense_1_loss_29: 1.0134 - dense_1_loss_30: 0.0000e+00 - dense_1_acc_1: 0.0333 - dense_1_acc_2: 0.2833 - dense_1_acc_3: 0.5167 - dense_1_acc_4: 0.4667 - dense_1_acc_5: 0.5333 - dense_1_acc_6: 0.6833 - dense_1_acc_7: 0.7333 - dense_1_acc_8: 0.8500 - dense_1_acc_9: 0.8167 - dense_1_acc_10: 0.7333 - dense_1_acc_11: 0.8333 - dense_1_acc_12: 0.8667 - dense_1_acc_13: 0.8500 - dense_1_acc_14: 0.8500 - dense_1_acc_15: 0.8000 - dense_1_acc_16: 0.9500 - dense_1_acc_17: 0.9500 - dense_1_acc_18: 0.8000 - dense_1_acc_19: 0.8333 - dense_1_acc_20: 0.8667 - dense_1_acc_21: 0.9500 - dense_1_acc_22: 0.9333 - dense_1_acc_23: 0.8667 - dense_1_acc_24: 0.8500 - dense_1_acc_25: 0.7333 - dense_1_acc_26: 0.9167 - dense_1_acc_27: 0.8000 - dense_1_acc_28: 0.8833 - dense_1_acc_29: 0.9000 - dense_1_acc_30: 0.0000e+00     \n",
      "Epoch 29/100\n",
      "60/60 [==============================] - 1s - loss: 35.8064 - dense_1_loss_1: 4.0429 - dense_1_loss_2: 3.1405 - dense_1_loss_3: 2.2249 - dense_1_loss_4: 1.7882 - dense_1_loss_5: 1.4845 - dense_1_loss_6: 1.2430 - dense_1_loss_7: 1.1533 - dense_1_loss_8: 1.0223 - dense_1_loss_9: 1.0694 - dense_1_loss_10: 0.9516 - dense_1_loss_11: 1.0643 - dense_1_loss_12: 0.9319 - dense_1_loss_13: 0.8430 - dense_1_loss_14: 0.8944 - dense_1_loss_15: 0.9804 - dense_1_loss_16: 0.9280 - dense_1_loss_17: 0.8423 - dense_1_loss_18: 0.9132 - dense_1_loss_19: 0.9185 - dense_1_loss_20: 0.9070 - dense_1_loss_21: 0.9058 - dense_1_loss_22: 0.9261 - dense_1_loss_23: 0.9555 - dense_1_loss_24: 0.9696 - dense_1_loss_25: 0.9844 - dense_1_loss_26: 0.8634 - dense_1_loss_27: 0.9480 - dense_1_loss_28: 0.9533 - dense_1_loss_29: 0.9568 - dense_1_loss_30: 0.0000e+00 - dense_1_acc_1: 0.0333 - dense_1_acc_2: 0.3167 - dense_1_acc_3: 0.5333 - dense_1_acc_4: 0.4667 - dense_1_acc_5: 0.5500 - dense_1_acc_6: 0.7167 - dense_1_acc_7: 0.7500 - dense_1_acc_8: 0.9000 - dense_1_acc_9: 0.8500 - dense_1_acc_10: 0.8000 - dense_1_acc_11: 0.8500 - dense_1_acc_12: 0.9167 - dense_1_acc_13: 0.8833 - dense_1_acc_14: 0.8667 - dense_1_acc_15: 0.7833 - dense_1_acc_16: 0.8833 - dense_1_acc_17: 0.9500 - dense_1_acc_18: 0.8333 - dense_1_acc_19: 0.9000 - dense_1_acc_20: 0.9500 - dense_1_acc_21: 0.9167 - dense_1_acc_22: 0.9167 - dense_1_acc_23: 0.9000 - dense_1_acc_24: 0.8500 - dense_1_acc_25: 0.7500 - dense_1_acc_26: 0.9000 - dense_1_acc_27: 0.8333 - dense_1_acc_28: 0.8833 - dense_1_acc_29: 0.9000 - dense_1_acc_30: 0.0167     \n",
      "Epoch 30/100\n",
      "60/60 [==============================] - 1s - loss: 33.9328 - dense_1_loss_1: 4.0368 - dense_1_loss_2: 3.0938 - dense_1_loss_3: 2.1557 - dense_1_loss_4: 1.7121 - dense_1_loss_5: 1.4088 - dense_1_loss_6: 1.1533 - dense_1_loss_7: 1.0850 - dense_1_loss_8: 0.9635 - dense_1_loss_9: 0.9783 - dense_1_loss_10: 0.8855 - dense_1_loss_11: 0.9800 - dense_1_loss_12: 0.8622 - dense_1_loss_13: 0.7822 - dense_1_loss_14: 0.8310 - dense_1_loss_15: 0.9417 - dense_1_loss_16: 0.8408 - dense_1_loss_17: 0.7890 - dense_1_loss_18: 0.8348 - dense_1_loss_19: 0.8441 - dense_1_loss_20: 0.8546 - dense_1_loss_21: 0.8521 - dense_1_loss_22: 0.8585 - dense_1_loss_23: 0.9109 - dense_1_loss_24: 0.8908 - dense_1_loss_25: 0.9153 - dense_1_loss_26: 0.7997 - dense_1_loss_27: 0.8843 - dense_1_loss_28: 0.8838 - dense_1_loss_29: 0.9044 - dense_1_loss_30: 0.0000e+00 - dense_1_acc_1: 0.0333 - dense_1_acc_2: 0.3167 - dense_1_acc_3: 0.5333 - dense_1_acc_4: 0.5167 - dense_1_acc_5: 0.6833 - dense_1_acc_6: 0.7500 - dense_1_acc_7: 0.8333 - dense_1_acc_8: 0.9000 - dense_1_acc_9: 0.8500 - dense_1_acc_10: 0.8500 - dense_1_acc_11: 0.8500 - dense_1_acc_12: 0.9333 - dense_1_acc_13: 0.9167 - dense_1_acc_14: 0.8833 - dense_1_acc_15: 0.7667 - dense_1_acc_16: 0.9167 - dense_1_acc_17: 0.9667 - dense_1_acc_18: 0.8667 - dense_1_acc_19: 0.9167 - dense_1_acc_20: 0.9500 - dense_1_acc_21: 0.9167 - dense_1_acc_22: 0.9333 - dense_1_acc_23: 0.8833 - dense_1_acc_24: 0.9500 - dense_1_acc_25: 0.8667 - dense_1_acc_26: 0.9667 - dense_1_acc_27: 0.9000 - dense_1_acc_28: 0.9333 - dense_1_acc_29: 0.9000 - dense_1_acc_30: 0.0167     \n",
      "Epoch 31/100\n"
     ]
    },
    {
     "name": "stdout",
     "output_type": "stream",
     "text": [
      "60/60 [==============================] - 1s - loss: 32.1503 - dense_1_loss_1: 4.0308 - dense_1_loss_2: 3.0537 - dense_1_loss_3: 2.0899 - dense_1_loss_4: 1.6374 - dense_1_loss_5: 1.3348 - dense_1_loss_6: 1.0676 - dense_1_loss_7: 1.0185 - dense_1_loss_8: 0.8949 - dense_1_loss_9: 0.9284 - dense_1_loss_10: 0.8358 - dense_1_loss_11: 0.9032 - dense_1_loss_12: 0.8012 - dense_1_loss_13: 0.7228 - dense_1_loss_14: 0.7551 - dense_1_loss_15: 0.8972 - dense_1_loss_16: 0.7867 - dense_1_loss_17: 0.7352 - dense_1_loss_18: 0.7803 - dense_1_loss_19: 0.7926 - dense_1_loss_20: 0.7952 - dense_1_loss_21: 0.7797 - dense_1_loss_22: 0.7909 - dense_1_loss_23: 0.8582 - dense_1_loss_24: 0.8134 - dense_1_loss_25: 0.8409 - dense_1_loss_26: 0.7183 - dense_1_loss_27: 0.8236 - dense_1_loss_28: 0.8204 - dense_1_loss_29: 0.8434 - dense_1_loss_30: 0.0000e+00 - dense_1_acc_1: 0.0333 - dense_1_acc_2: 0.3167 - dense_1_acc_3: 0.5333 - dense_1_acc_4: 0.5333 - dense_1_acc_5: 0.7000 - dense_1_acc_6: 0.8833 - dense_1_acc_7: 0.8500 - dense_1_acc_8: 0.9000 - dense_1_acc_9: 0.8667 - dense_1_acc_10: 0.8667 - dense_1_acc_11: 0.8667 - dense_1_acc_12: 0.9333 - dense_1_acc_13: 0.9333 - dense_1_acc_14: 0.8833 - dense_1_acc_15: 0.8167 - dense_1_acc_16: 0.9333 - dense_1_acc_17: 0.9667 - dense_1_acc_18: 0.8833 - dense_1_acc_19: 0.9500 - dense_1_acc_20: 0.9500 - dense_1_acc_21: 0.9667 - dense_1_acc_22: 0.9667 - dense_1_acc_23: 0.8833 - dense_1_acc_24: 0.9500 - dense_1_acc_25: 0.8667 - dense_1_acc_26: 0.9667 - dense_1_acc_27: 0.8833 - dense_1_acc_28: 0.9500 - dense_1_acc_29: 0.9000 - dense_1_acc_30: 0.0167         \n",
      "Epoch 32/100\n",
      "60/60 [==============================] - 1s - loss: 30.4315 - dense_1_loss_1: 4.0248 - dense_1_loss_2: 3.0097 - dense_1_loss_3: 2.0216 - dense_1_loss_4: 1.5669 - dense_1_loss_5: 1.2639 - dense_1_loss_6: 0.9991 - dense_1_loss_7: 0.9448 - dense_1_loss_8: 0.8227 - dense_1_loss_9: 0.8637 - dense_1_loss_10: 0.7681 - dense_1_loss_11: 0.8338 - dense_1_loss_12: 0.7439 - dense_1_loss_13: 0.6535 - dense_1_loss_14: 0.6914 - dense_1_loss_15: 0.8170 - dense_1_loss_16: 0.7419 - dense_1_loss_17: 0.6711 - dense_1_loss_18: 0.7077 - dense_1_loss_19: 0.7368 - dense_1_loss_20: 0.7297 - dense_1_loss_21: 0.7299 - dense_1_loss_22: 0.7474 - dense_1_loss_23: 0.7759 - dense_1_loss_24: 0.7594 - dense_1_loss_25: 0.7838 - dense_1_loss_26: 0.6559 - dense_1_loss_27: 0.7976 - dense_1_loss_28: 0.7794 - dense_1_loss_29: 0.7900 - dense_1_loss_30: 0.0000e+00 - dense_1_acc_1: 0.0333 - dense_1_acc_2: 0.3167 - dense_1_acc_3: 0.5500 - dense_1_acc_4: 0.5667 - dense_1_acc_5: 0.7167 - dense_1_acc_6: 0.8833 - dense_1_acc_7: 0.8500 - dense_1_acc_8: 0.9167 - dense_1_acc_9: 0.8833 - dense_1_acc_10: 0.9000 - dense_1_acc_11: 0.9000 - dense_1_acc_12: 0.9500 - dense_1_acc_13: 0.9667 - dense_1_acc_14: 0.9000 - dense_1_acc_15: 0.8667 - dense_1_acc_16: 0.9833 - dense_1_acc_17: 0.9667 - dense_1_acc_18: 0.9333 - dense_1_acc_19: 0.9500 - dense_1_acc_20: 0.9500 - dense_1_acc_21: 0.9500 - dense_1_acc_22: 0.9667 - dense_1_acc_23: 0.9167 - dense_1_acc_24: 0.9500 - dense_1_acc_25: 0.8833 - dense_1_acc_26: 0.9667 - dense_1_acc_27: 0.9000 - dense_1_acc_28: 0.9500 - dense_1_acc_29: 0.9000 - dense_1_acc_30: 0.0167         \n",
      "Epoch 33/100\n",
      "60/60 [==============================] - 1s - loss: 28.8102 - dense_1_loss_1: 4.0193 - dense_1_loss_2: 2.9644 - dense_1_loss_3: 1.9539 - dense_1_loss_4: 1.4899 - dense_1_loss_5: 1.1962 - dense_1_loss_6: 0.9349 - dense_1_loss_7: 0.8674 - dense_1_loss_8: 0.7734 - dense_1_loss_9: 0.7978 - dense_1_loss_10: 0.7026 - dense_1_loss_11: 0.7716 - dense_1_loss_12: 0.6820 - dense_1_loss_13: 0.6009 - dense_1_loss_14: 0.6309 - dense_1_loss_15: 0.7487 - dense_1_loss_16: 0.6796 - dense_1_loss_17: 0.6261 - dense_1_loss_18: 0.6367 - dense_1_loss_19: 0.6856 - dense_1_loss_20: 0.6820 - dense_1_loss_21: 0.6846 - dense_1_loss_22: 0.6946 - dense_1_loss_23: 0.7160 - dense_1_loss_24: 0.7191 - dense_1_loss_25: 0.7268 - dense_1_loss_26: 0.6133 - dense_1_loss_27: 0.7478 - dense_1_loss_28: 0.7267 - dense_1_loss_29: 0.7374 - dense_1_loss_30: 0.0000e+00 - dense_1_acc_1: 0.0333 - dense_1_acc_2: 0.3167 - dense_1_acc_3: 0.5667 - dense_1_acc_4: 0.6000 - dense_1_acc_5: 0.7667 - dense_1_acc_6: 0.8833 - dense_1_acc_7: 0.8667 - dense_1_acc_8: 0.9333 - dense_1_acc_9: 0.9167 - dense_1_acc_10: 0.9667 - dense_1_acc_11: 0.9167 - dense_1_acc_12: 0.9500 - dense_1_acc_13: 0.9833 - dense_1_acc_14: 0.9500 - dense_1_acc_15: 0.9667 - dense_1_acc_16: 1.0000 - dense_1_acc_17: 0.9667 - dense_1_acc_18: 0.9833 - dense_1_acc_19: 0.9500 - dense_1_acc_20: 0.9667 - dense_1_acc_21: 0.9333 - dense_1_acc_22: 0.9667 - dense_1_acc_23: 0.9333 - dense_1_acc_24: 0.9500 - dense_1_acc_25: 0.8833 - dense_1_acc_26: 0.9667 - dense_1_acc_27: 0.9167 - dense_1_acc_28: 0.9500 - dense_1_acc_29: 0.9167 - dense_1_acc_30: 0.0167     \n",
      "Epoch 34/100\n",
      "60/60 [==============================] - 1s - loss: 27.2694 - dense_1_loss_1: 4.0132 - dense_1_loss_2: 2.9219 - dense_1_loss_3: 1.8889 - dense_1_loss_4: 1.4154 - dense_1_loss_5: 1.1287 - dense_1_loss_6: 0.8672 - dense_1_loss_7: 0.8003 - dense_1_loss_8: 0.7155 - dense_1_loss_9: 0.7412 - dense_1_loss_10: 0.6426 - dense_1_loss_11: 0.7150 - dense_1_loss_12: 0.6154 - dense_1_loss_13: 0.5544 - dense_1_loss_14: 0.5714 - dense_1_loss_15: 0.7041 - dense_1_loss_16: 0.6132 - dense_1_loss_17: 0.5902 - dense_1_loss_18: 0.5857 - dense_1_loss_19: 0.6498 - dense_1_loss_20: 0.6391 - dense_1_loss_21: 0.6255 - dense_1_loss_22: 0.6281 - dense_1_loss_23: 0.6702 - dense_1_loss_24: 0.6641 - dense_1_loss_25: 0.6801 - dense_1_loss_26: 0.5721 - dense_1_loss_27: 0.6879 - dense_1_loss_28: 0.6712 - dense_1_loss_29: 0.6971 - dense_1_loss_30: 0.0000e+00 - dense_1_acc_1: 0.0333 - dense_1_acc_2: 0.3167 - dense_1_acc_3: 0.5667 - dense_1_acc_4: 0.6000 - dense_1_acc_5: 0.7833 - dense_1_acc_6: 0.9167 - dense_1_acc_7: 0.8833 - dense_1_acc_8: 0.9333 - dense_1_acc_9: 0.9333 - dense_1_acc_10: 0.9667 - dense_1_acc_11: 0.9167 - dense_1_acc_12: 0.9833 - dense_1_acc_13: 0.9833 - dense_1_acc_14: 0.9833 - dense_1_acc_15: 0.9833 - dense_1_acc_16: 1.0000 - dense_1_acc_17: 0.9833 - dense_1_acc_18: 1.0000 - dense_1_acc_19: 0.9667 - dense_1_acc_20: 0.9667 - dense_1_acc_21: 0.9333 - dense_1_acc_22: 0.9667 - dense_1_acc_23: 0.9167 - dense_1_acc_24: 0.9500 - dense_1_acc_25: 0.9000 - dense_1_acc_26: 0.9833 - dense_1_acc_27: 0.9167 - dense_1_acc_28: 0.9500 - dense_1_acc_29: 0.9167 - dense_1_acc_30: 0.0167     \n",
      "Epoch 35/100\n",
      "60/60 [==============================] - 1s - loss: 25.8396 - dense_1_loss_1: 4.0069 - dense_1_loss_2: 2.8780 - dense_1_loss_3: 1.8243 - dense_1_loss_4: 1.3488 - dense_1_loss_5: 1.0680 - dense_1_loss_6: 0.8068 - dense_1_loss_7: 0.7454 - dense_1_loss_8: 0.6657 - dense_1_loss_9: 0.6807 - dense_1_loss_10: 0.6013 - dense_1_loss_11: 0.6685 - dense_1_loss_12: 0.5674 - dense_1_loss_13: 0.5036 - dense_1_loss_14: 0.5276 - dense_1_loss_15: 0.6547 - dense_1_loss_16: 0.5725 - dense_1_loss_17: 0.5410 - dense_1_loss_18: 0.5411 - dense_1_loss_19: 0.5958 - dense_1_loss_20: 0.5929 - dense_1_loss_21: 0.5779 - dense_1_loss_22: 0.5843 - dense_1_loss_23: 0.6191 - dense_1_loss_24: 0.6027 - dense_1_loss_25: 0.6448 - dense_1_loss_26: 0.5301 - dense_1_loss_27: 0.6232 - dense_1_loss_28: 0.6197 - dense_1_loss_29: 0.6470 - dense_1_loss_30: 0.0000e+00 - dense_1_acc_1: 0.0333 - dense_1_acc_2: 0.3167 - dense_1_acc_3: 0.5833 - dense_1_acc_4: 0.6167 - dense_1_acc_5: 0.7833 - dense_1_acc_6: 0.9167 - dense_1_acc_7: 0.9167 - dense_1_acc_8: 0.9500 - dense_1_acc_9: 0.9333 - dense_1_acc_10: 0.9833 - dense_1_acc_11: 0.9167 - dense_1_acc_12: 0.9833 - dense_1_acc_13: 0.9833 - dense_1_acc_14: 0.9833 - dense_1_acc_15: 1.0000 - dense_1_acc_16: 1.0000 - dense_1_acc_17: 0.9833 - dense_1_acc_18: 1.0000 - dense_1_acc_19: 0.9667 - dense_1_acc_20: 0.9667 - dense_1_acc_21: 0.9833 - dense_1_acc_22: 0.9833 - dense_1_acc_23: 0.9500 - dense_1_acc_24: 0.9500 - dense_1_acc_25: 0.9500 - dense_1_acc_26: 0.9833 - dense_1_acc_27: 0.9667 - dense_1_acc_28: 0.9500 - dense_1_acc_29: 0.9167 - dense_1_acc_30: 0.0167             \n",
      "Epoch 36/100\n"
     ]
    },
    {
     "name": "stdout",
     "output_type": "stream",
     "text": [
      "60/60 [==============================] - 1s - loss: 24.4990 - dense_1_loss_1: 4.0014 - dense_1_loss_2: 2.8353 - dense_1_loss_3: 1.7652 - dense_1_loss_4: 1.2814 - dense_1_loss_5: 1.0041 - dense_1_loss_6: 0.7409 - dense_1_loss_7: 0.6923 - dense_1_loss_8: 0.6235 - dense_1_loss_9: 0.6184 - dense_1_loss_10: 0.5664 - dense_1_loss_11: 0.6148 - dense_1_loss_12: 0.5299 - dense_1_loss_13: 0.4587 - dense_1_loss_14: 0.4893 - dense_1_loss_15: 0.6090 - dense_1_loss_16: 0.5346 - dense_1_loss_17: 0.4960 - dense_1_loss_18: 0.4975 - dense_1_loss_19: 0.5492 - dense_1_loss_20: 0.5517 - dense_1_loss_21: 0.5356 - dense_1_loss_22: 0.5413 - dense_1_loss_23: 0.5685 - dense_1_loss_24: 0.5562 - dense_1_loss_25: 0.5905 - dense_1_loss_26: 0.4835 - dense_1_loss_27: 0.5844 - dense_1_loss_28: 0.5722 - dense_1_loss_29: 0.6070 - dense_1_loss_30: 0.0000e+00 - dense_1_acc_1: 0.0333 - dense_1_acc_2: 0.3000 - dense_1_acc_3: 0.5833 - dense_1_acc_4: 0.6500 - dense_1_acc_5: 0.7833 - dense_1_acc_6: 0.9333 - dense_1_acc_7: 0.9500 - dense_1_acc_8: 0.9667 - dense_1_acc_9: 0.9333 - dense_1_acc_10: 0.9833 - dense_1_acc_11: 0.9167 - dense_1_acc_12: 1.0000 - dense_1_acc_13: 0.9833 - dense_1_acc_14: 0.9833 - dense_1_acc_15: 1.0000 - dense_1_acc_16: 1.0000 - dense_1_acc_17: 1.0000 - dense_1_acc_18: 1.0000 - dense_1_acc_19: 0.9667 - dense_1_acc_20: 0.9667 - dense_1_acc_21: 0.9833 - dense_1_acc_22: 0.9833 - dense_1_acc_23: 0.9500 - dense_1_acc_24: 0.9500 - dense_1_acc_25: 0.9667 - dense_1_acc_26: 0.9833 - dense_1_acc_27: 0.9833 - dense_1_acc_28: 0.9500 - dense_1_acc_29: 0.9333 - dense_1_acc_30: 0.0167     \n",
      "Epoch 37/100\n",
      "60/60 [==============================] - 1s - loss: 23.2221 - dense_1_loss_1: 3.9955 - dense_1_loss_2: 2.7929 - dense_1_loss_3: 1.7050 - dense_1_loss_4: 1.2137 - dense_1_loss_5: 0.9427 - dense_1_loss_6: 0.6842 - dense_1_loss_7: 0.6441 - dense_1_loss_8: 0.5751 - dense_1_loss_9: 0.5814 - dense_1_loss_10: 0.5154 - dense_1_loss_11: 0.5575 - dense_1_loss_12: 0.4765 - dense_1_loss_13: 0.4329 - dense_1_loss_14: 0.4448 - dense_1_loss_15: 0.5632 - dense_1_loss_16: 0.4796 - dense_1_loss_17: 0.4595 - dense_1_loss_18: 0.4556 - dense_1_loss_19: 0.5067 - dense_1_loss_20: 0.5065 - dense_1_loss_21: 0.5041 - dense_1_loss_22: 0.4933 - dense_1_loss_23: 0.5405 - dense_1_loss_24: 0.5048 - dense_1_loss_25: 0.5460 - dense_1_loss_26: 0.4594 - dense_1_loss_27: 0.5422 - dense_1_loss_28: 0.5214 - dense_1_loss_29: 0.5777 - dense_1_loss_30: 0.0000e+00 - dense_1_acc_1: 0.0333 - dense_1_acc_2: 0.3000 - dense_1_acc_3: 0.6167 - dense_1_acc_4: 0.7000 - dense_1_acc_5: 0.8000 - dense_1_acc_6: 0.9500 - dense_1_acc_7: 0.9333 - dense_1_acc_8: 0.9667 - dense_1_acc_9: 0.9333 - dense_1_acc_10: 0.9833 - dense_1_acc_11: 0.9167 - dense_1_acc_12: 1.0000 - dense_1_acc_13: 1.0000 - dense_1_acc_14: 0.9833 - dense_1_acc_15: 1.0000 - dense_1_acc_16: 1.0000 - dense_1_acc_17: 1.0000 - dense_1_acc_18: 1.0000 - dense_1_acc_19: 0.9667 - dense_1_acc_20: 0.9667 - dense_1_acc_21: 1.0000 - dense_1_acc_22: 0.9833 - dense_1_acc_23: 0.9667 - dense_1_acc_24: 1.0000 - dense_1_acc_25: 0.9833 - dense_1_acc_26: 0.9833 - dense_1_acc_27: 0.9833 - dense_1_acc_28: 0.9500 - dense_1_acc_29: 0.9167 - dense_1_acc_30: 0.0167         \n",
      "Epoch 38/100\n",
      "60/60 [==============================] - 1s - loss: 22.0055 - dense_1_loss_1: 3.9897 - dense_1_loss_2: 2.7501 - dense_1_loss_3: 1.6496 - dense_1_loss_4: 1.1524 - dense_1_loss_5: 0.8876 - dense_1_loss_6: 0.6331 - dense_1_loss_7: 0.5904 - dense_1_loss_8: 0.5303 - dense_1_loss_9: 0.5434 - dense_1_loss_10: 0.4740 - dense_1_loss_11: 0.5027 - dense_1_loss_12: 0.4400 - dense_1_loss_13: 0.3946 - dense_1_loss_14: 0.4106 - dense_1_loss_15: 0.5077 - dense_1_loss_16: 0.4448 - dense_1_loss_17: 0.4235 - dense_1_loss_18: 0.4141 - dense_1_loss_19: 0.4678 - dense_1_loss_20: 0.4575 - dense_1_loss_21: 0.4667 - dense_1_loss_22: 0.4567 - dense_1_loss_23: 0.4982 - dense_1_loss_24: 0.4676 - dense_1_loss_25: 0.5078 - dense_1_loss_26: 0.4252 - dense_1_loss_27: 0.4977 - dense_1_loss_28: 0.4870 - dense_1_loss_29: 0.5347 - dense_1_loss_30: 0.0000e+00 - dense_1_acc_1: 0.0333 - dense_1_acc_2: 0.3000 - dense_1_acc_3: 0.6167 - dense_1_acc_4: 0.7167 - dense_1_acc_5: 0.8167 - dense_1_acc_6: 0.9667 - dense_1_acc_7: 0.9667 - dense_1_acc_8: 0.9667 - dense_1_acc_9: 0.9500 - dense_1_acc_10: 0.9833 - dense_1_acc_11: 0.9333 - dense_1_acc_12: 1.0000 - dense_1_acc_13: 0.9833 - dense_1_acc_14: 0.9833 - dense_1_acc_15: 1.0000 - dense_1_acc_16: 1.0000 - dense_1_acc_17: 1.0000 - dense_1_acc_18: 1.0000 - dense_1_acc_19: 0.9833 - dense_1_acc_20: 0.9833 - dense_1_acc_21: 1.0000 - dense_1_acc_22: 1.0000 - dense_1_acc_23: 0.9833 - dense_1_acc_24: 1.0000 - dense_1_acc_25: 0.9833 - dense_1_acc_26: 0.9833 - dense_1_acc_27: 0.9833 - dense_1_acc_28: 0.9667 - dense_1_acc_29: 0.9333 - dense_1_acc_30: 0.0167     \n",
      "Epoch 39/100\n",
      "60/60 [==============================] - 1s - loss: 20.8916 - dense_1_loss_1: 3.9844 - dense_1_loss_2: 2.7061 - dense_1_loss_3: 1.5941 - dense_1_loss_4: 1.0975 - dense_1_loss_5: 0.8362 - dense_1_loss_6: 0.5897 - dense_1_loss_7: 0.5444 - dense_1_loss_8: 0.4943 - dense_1_loss_9: 0.4992 - dense_1_loss_10: 0.4428 - dense_1_loss_11: 0.4672 - dense_1_loss_12: 0.4084 - dense_1_loss_13: 0.3576 - dense_1_loss_14: 0.3817 - dense_1_loss_15: 0.4654 - dense_1_loss_16: 0.4116 - dense_1_loss_17: 0.3884 - dense_1_loss_18: 0.3810 - dense_1_loss_19: 0.4233 - dense_1_loss_20: 0.4331 - dense_1_loss_21: 0.4190 - dense_1_loss_22: 0.4204 - dense_1_loss_23: 0.4605 - dense_1_loss_24: 0.4230 - dense_1_loss_25: 0.4674 - dense_1_loss_26: 0.3832 - dense_1_loss_27: 0.4579 - dense_1_loss_28: 0.4640 - dense_1_loss_29: 0.4899 - dense_1_loss_30: 0.0000e+00 - dense_1_acc_1: 0.0333 - dense_1_acc_2: 0.3167 - dense_1_acc_3: 0.6167 - dense_1_acc_4: 0.7500 - dense_1_acc_5: 0.8167 - dense_1_acc_6: 0.9667 - dense_1_acc_7: 0.9667 - dense_1_acc_8: 0.9667 - dense_1_acc_9: 0.9500 - dense_1_acc_10: 1.0000 - dense_1_acc_11: 0.9500 - dense_1_acc_12: 1.0000 - dense_1_acc_13: 0.9833 - dense_1_acc_14: 0.9833 - dense_1_acc_15: 1.0000 - dense_1_acc_16: 1.0000 - dense_1_acc_17: 1.0000 - dense_1_acc_18: 1.0000 - dense_1_acc_19: 0.9833 - dense_1_acc_20: 0.9833 - dense_1_acc_21: 1.0000 - dense_1_acc_22: 1.0000 - dense_1_acc_23: 1.0000 - dense_1_acc_24: 1.0000 - dense_1_acc_25: 0.9833 - dense_1_acc_26: 0.9833 - dense_1_acc_27: 0.9833 - dense_1_acc_28: 0.9667 - dense_1_acc_29: 0.9500 - dense_1_acc_30: 0.0167     \n",
      "Epoch 40/100\n",
      "60/60 [==============================] - 1s - loss: 19.8475 - dense_1_loss_1: 3.9787 - dense_1_loss_2: 2.6641 - dense_1_loss_3: 1.5400 - dense_1_loss_4: 1.0405 - dense_1_loss_5: 0.7874 - dense_1_loss_6: 0.5500 - dense_1_loss_7: 0.5040 - dense_1_loss_8: 0.4453 - dense_1_loss_9: 0.4689 - dense_1_loss_10: 0.4060 - dense_1_loss_11: 0.4346 - dense_1_loss_12: 0.3713 - dense_1_loss_13: 0.3329 - dense_1_loss_14: 0.3447 - dense_1_loss_15: 0.4306 - dense_1_loss_16: 0.3785 - dense_1_loss_17: 0.3534 - dense_1_loss_18: 0.3505 - dense_1_loss_19: 0.3978 - dense_1_loss_20: 0.3958 - dense_1_loss_21: 0.3857 - dense_1_loss_22: 0.3846 - dense_1_loss_23: 0.4239 - dense_1_loss_24: 0.3896 - dense_1_loss_25: 0.4319 - dense_1_loss_26: 0.3533 - dense_1_loss_27: 0.4166 - dense_1_loss_28: 0.4275 - dense_1_loss_29: 0.4593 - dense_1_loss_30: 0.0000e+00 - dense_1_acc_1: 0.0333 - dense_1_acc_2: 0.3167 - dense_1_acc_3: 0.6333 - dense_1_acc_4: 0.7500 - dense_1_acc_5: 0.8333 - dense_1_acc_6: 0.9833 - dense_1_acc_7: 0.9667 - dense_1_acc_8: 0.9833 - dense_1_acc_9: 0.9500 - dense_1_acc_10: 1.0000 - dense_1_acc_11: 0.9500 - dense_1_acc_12: 1.0000 - dense_1_acc_13: 1.0000 - dense_1_acc_14: 0.9833 - dense_1_acc_15: 1.0000 - dense_1_acc_16: 1.0000 - dense_1_acc_17: 1.0000 - dense_1_acc_18: 1.0000 - dense_1_acc_19: 0.9833 - dense_1_acc_20: 0.9833 - dense_1_acc_21: 1.0000 - dense_1_acc_22: 1.0000 - dense_1_acc_23: 1.0000 - dense_1_acc_24: 1.0000 - dense_1_acc_25: 0.9833 - dense_1_acc_26: 0.9833 - dense_1_acc_27: 0.9833 - dense_1_acc_28: 0.9667 - dense_1_acc_29: 0.9500 - dense_1_acc_30: 0.0167     \n",
      "Epoch 41/100\n"
     ]
    },
    {
     "name": "stdout",
     "output_type": "stream",
     "text": [
      "60/60 [==============================] - 1s - loss: 18.8589 - dense_1_loss_1: 3.9736 - dense_1_loss_2: 2.6209 - dense_1_loss_3: 1.4836 - dense_1_loss_4: 0.9871 - dense_1_loss_5: 0.7390 - dense_1_loss_6: 0.5063 - dense_1_loss_7: 0.4640 - dense_1_loss_8: 0.4129 - dense_1_loss_9: 0.4240 - dense_1_loss_10: 0.3780 - dense_1_loss_11: 0.3901 - dense_1_loss_12: 0.3447 - dense_1_loss_13: 0.3037 - dense_1_loss_14: 0.3189 - dense_1_loss_15: 0.3904 - dense_1_loss_16: 0.3538 - dense_1_loss_17: 0.3192 - dense_1_loss_18: 0.3200 - dense_1_loss_19: 0.3642 - dense_1_loss_20: 0.3590 - dense_1_loss_21: 0.3614 - dense_1_loss_22: 0.3596 - dense_1_loss_23: 0.3778 - dense_1_loss_24: 0.3683 - dense_1_loss_25: 0.3935 - dense_1_loss_26: 0.3312 - dense_1_loss_27: 0.3848 - dense_1_loss_28: 0.3959 - dense_1_loss_29: 0.4332 - dense_1_loss_30: 0.0000e+00 - dense_1_acc_1: 0.0333 - dense_1_acc_2: 0.3333 - dense_1_acc_3: 0.6333 - dense_1_acc_4: 0.7500 - dense_1_acc_5: 0.8333 - dense_1_acc_6: 0.9833 - dense_1_acc_7: 0.9667 - dense_1_acc_8: 0.9667 - dense_1_acc_9: 0.9500 - dense_1_acc_10: 1.0000 - dense_1_acc_11: 0.9500 - dense_1_acc_12: 1.0000 - dense_1_acc_13: 1.0000 - dense_1_acc_14: 1.0000 - dense_1_acc_15: 1.0000 - dense_1_acc_16: 1.0000 - dense_1_acc_17: 1.0000 - dense_1_acc_18: 1.0000 - dense_1_acc_19: 0.9833 - dense_1_acc_20: 1.0000 - dense_1_acc_21: 1.0000 - dense_1_acc_22: 1.0000 - dense_1_acc_23: 1.0000 - dense_1_acc_24: 1.0000 - dense_1_acc_25: 0.9833 - dense_1_acc_26: 0.9833 - dense_1_acc_27: 0.9833 - dense_1_acc_28: 0.9667 - dense_1_acc_29: 0.9500 - dense_1_acc_30: 0.0167         \n",
      "Epoch 42/100\n",
      "60/60 [==============================] - 1s - loss: 17.9660 - dense_1_loss_1: 3.9678 - dense_1_loss_2: 2.5806 - dense_1_loss_3: 1.4321 - dense_1_loss_4: 0.9328 - dense_1_loss_5: 0.6941 - dense_1_loss_6: 0.4689 - dense_1_loss_7: 0.4328 - dense_1_loss_8: 0.3816 - dense_1_loss_9: 0.3919 - dense_1_loss_10: 0.3450 - dense_1_loss_11: 0.3627 - dense_1_loss_12: 0.3149 - dense_1_loss_13: 0.2731 - dense_1_loss_14: 0.2959 - dense_1_loss_15: 0.3617 - dense_1_loss_16: 0.3195 - dense_1_loss_17: 0.2927 - dense_1_loss_18: 0.2933 - dense_1_loss_19: 0.3355 - dense_1_loss_20: 0.3320 - dense_1_loss_21: 0.3293 - dense_1_loss_22: 0.3301 - dense_1_loss_23: 0.3544 - dense_1_loss_24: 0.3364 - dense_1_loss_25: 0.3689 - dense_1_loss_26: 0.3014 - dense_1_loss_27: 0.3633 - dense_1_loss_28: 0.3664 - dense_1_loss_29: 0.4070 - dense_1_loss_30: 0.0000e+00 - dense_1_acc_1: 0.0333 - dense_1_acc_2: 0.3333 - dense_1_acc_3: 0.6667 - dense_1_acc_4: 0.8167 - dense_1_acc_5: 0.8833 - dense_1_acc_6: 0.9833 - dense_1_acc_7: 0.9667 - dense_1_acc_8: 0.9833 - dense_1_acc_9: 0.9500 - dense_1_acc_10: 1.0000 - dense_1_acc_11: 1.0000 - dense_1_acc_12: 1.0000 - dense_1_acc_13: 1.0000 - dense_1_acc_14: 1.0000 - dense_1_acc_15: 1.0000 - dense_1_acc_16: 1.0000 - dense_1_acc_17: 1.0000 - dense_1_acc_18: 1.0000 - dense_1_acc_19: 1.0000 - dense_1_acc_20: 1.0000 - dense_1_acc_21: 1.0000 - dense_1_acc_22: 1.0000 - dense_1_acc_23: 1.0000 - dense_1_acc_24: 1.0000 - dense_1_acc_25: 0.9833 - dense_1_acc_26: 1.0000 - dense_1_acc_27: 0.9833 - dense_1_acc_28: 0.9667 - dense_1_acc_29: 0.9667 - dense_1_acc_30: 0.0167             \n",
      "Epoch 43/100\n",
      "60/60 [==============================] - 1s - loss: 17.1254 - dense_1_loss_1: 3.9633 - dense_1_loss_2: 2.5375 - dense_1_loss_3: 1.3836 - dense_1_loss_4: 0.8842 - dense_1_loss_5: 0.6551 - dense_1_loss_6: 0.4408 - dense_1_loss_7: 0.3993 - dense_1_loss_8: 0.3515 - dense_1_loss_9: 0.3710 - dense_1_loss_10: 0.3165 - dense_1_loss_11: 0.3396 - dense_1_loss_12: 0.2860 - dense_1_loss_13: 0.2607 - dense_1_loss_14: 0.2706 - dense_1_loss_15: 0.3344 - dense_1_loss_16: 0.2922 - dense_1_loss_17: 0.2765 - dense_1_loss_18: 0.2685 - dense_1_loss_19: 0.3118 - dense_1_loss_20: 0.3038 - dense_1_loss_21: 0.3052 - dense_1_loss_22: 0.3039 - dense_1_loss_23: 0.3310 - dense_1_loss_24: 0.3007 - dense_1_loss_25: 0.3401 - dense_1_loss_26: 0.2777 - dense_1_loss_27: 0.3226 - dense_1_loss_28: 0.3253 - dense_1_loss_29: 0.3720 - dense_1_loss_30: 0.0000e+00 - dense_1_acc_1: 0.0333 - dense_1_acc_2: 0.3333 - dense_1_acc_3: 0.6667 - dense_1_acc_4: 0.8333 - dense_1_acc_5: 0.8833 - dense_1_acc_6: 0.9833 - dense_1_acc_7: 0.9667 - dense_1_acc_8: 0.9833 - dense_1_acc_9: 0.9667 - dense_1_acc_10: 1.0000 - dense_1_acc_11: 1.0000 - dense_1_acc_12: 1.0000 - dense_1_acc_13: 1.0000 - dense_1_acc_14: 1.0000 - dense_1_acc_15: 1.0000 - dense_1_acc_16: 1.0000 - dense_1_acc_17: 1.0000 - dense_1_acc_18: 1.0000 - dense_1_acc_19: 1.0000 - dense_1_acc_20: 1.0000 - dense_1_acc_21: 1.0000 - dense_1_acc_22: 1.0000 - dense_1_acc_23: 1.0000 - dense_1_acc_24: 1.0000 - dense_1_acc_25: 1.0000 - dense_1_acc_26: 1.0000 - dense_1_acc_27: 0.9833 - dense_1_acc_28: 0.9667 - dense_1_acc_29: 0.9667 - dense_1_acc_30: 0.0167     \n",
      "Epoch 44/100\n",
      "60/60 [==============================] - 1s - loss: 16.3783 - dense_1_loss_1: 3.9582 - dense_1_loss_2: 2.4979 - dense_1_loss_3: 1.3376 - dense_1_loss_4: 0.8354 - dense_1_loss_5: 0.6186 - dense_1_loss_6: 0.4106 - dense_1_loss_7: 0.3663 - dense_1_loss_8: 0.3295 - dense_1_loss_9: 0.3446 - dense_1_loss_10: 0.2915 - dense_1_loss_11: 0.3131 - dense_1_loss_12: 0.2636 - dense_1_loss_13: 0.2386 - dense_1_loss_14: 0.2527 - dense_1_loss_15: 0.3050 - dense_1_loss_16: 0.2693 - dense_1_loss_17: 0.2589 - dense_1_loss_18: 0.2472 - dense_1_loss_19: 0.2871 - dense_1_loss_20: 0.2867 - dense_1_loss_21: 0.2807 - dense_1_loss_22: 0.2844 - dense_1_loss_23: 0.3058 - dense_1_loss_24: 0.2723 - dense_1_loss_25: 0.3161 - dense_1_loss_26: 0.2623 - dense_1_loss_27: 0.2965 - dense_1_loss_28: 0.3014 - dense_1_loss_29: 0.3464 - dense_1_loss_30: 0.0000e+00 - dense_1_acc_1: 0.0333 - dense_1_acc_2: 0.3333 - dense_1_acc_3: 0.6667 - dense_1_acc_4: 0.8500 - dense_1_acc_5: 0.9000 - dense_1_acc_6: 0.9833 - dense_1_acc_7: 0.9833 - dense_1_acc_8: 0.9833 - dense_1_acc_9: 0.9667 - dense_1_acc_10: 1.0000 - dense_1_acc_11: 1.0000 - dense_1_acc_12: 1.0000 - dense_1_acc_13: 1.0000 - dense_1_acc_14: 1.0000 - dense_1_acc_15: 1.0000 - dense_1_acc_16: 1.0000 - dense_1_acc_17: 1.0000 - dense_1_acc_18: 1.0000 - dense_1_acc_19: 1.0000 - dense_1_acc_20: 1.0000 - dense_1_acc_21: 1.0000 - dense_1_acc_22: 1.0000 - dense_1_acc_23: 1.0000 - dense_1_acc_24: 1.0000 - dense_1_acc_25: 1.0000 - dense_1_acc_26: 0.9833 - dense_1_acc_27: 1.0000 - dense_1_acc_28: 0.9667 - dense_1_acc_29: 0.9667 - dense_1_acc_30: 0.0167         \n",
      "Epoch 45/100\n",
      "60/60 [==============================] - 1s - loss: 15.6779 - dense_1_loss_1: 3.9542 - dense_1_loss_2: 2.4589 - dense_1_loss_3: 1.2899 - dense_1_loss_4: 0.7905 - dense_1_loss_5: 0.5761 - dense_1_loss_6: 0.3790 - dense_1_loss_7: 0.3372 - dense_1_loss_8: 0.3108 - dense_1_loss_9: 0.3141 - dense_1_loss_10: 0.2729 - dense_1_loss_11: 0.2839 - dense_1_loss_12: 0.2453 - dense_1_loss_13: 0.2144 - dense_1_loss_14: 0.2343 - dense_1_loss_15: 0.2823 - dense_1_loss_16: 0.2506 - dense_1_loss_17: 0.2323 - dense_1_loss_18: 0.2297 - dense_1_loss_19: 0.2647 - dense_1_loss_20: 0.2604 - dense_1_loss_21: 0.2565 - dense_1_loss_22: 0.2618 - dense_1_loss_23: 0.2767 - dense_1_loss_24: 0.2573 - dense_1_loss_25: 0.2904 - dense_1_loss_26: 0.2300 - dense_1_loss_27: 0.2983 - dense_1_loss_28: 0.2916 - dense_1_loss_29: 0.3341 - dense_1_loss_30: 0.0000e+00 - dense_1_acc_1: 0.0333 - dense_1_acc_2: 0.3333 - dense_1_acc_3: 0.6833 - dense_1_acc_4: 0.9167 - dense_1_acc_5: 0.9167 - dense_1_acc_6: 0.9833 - dense_1_acc_7: 0.9833 - dense_1_acc_8: 0.9833 - dense_1_acc_9: 0.9667 - dense_1_acc_10: 1.0000 - dense_1_acc_11: 1.0000 - dense_1_acc_12: 1.0000 - dense_1_acc_13: 1.0000 - dense_1_acc_14: 1.0000 - dense_1_acc_15: 1.0000 - dense_1_acc_16: 1.0000 - dense_1_acc_17: 1.0000 - dense_1_acc_18: 1.0000 - dense_1_acc_19: 1.0000 - dense_1_acc_20: 1.0000 - dense_1_acc_21: 1.0000 - dense_1_acc_22: 1.0000 - dense_1_acc_23: 1.0000 - dense_1_acc_24: 1.0000 - dense_1_acc_25: 1.0000 - dense_1_acc_26: 1.0000 - dense_1_acc_27: 0.9833 - dense_1_acc_28: 0.9833 - dense_1_acc_29: 0.9667 - dense_1_acc_30: 0.0167             \n",
      "Epoch 46/100\n"
     ]
    },
    {
     "name": "stdout",
     "output_type": "stream",
     "text": [
      "60/60 [==============================] - 1s - loss: 14.9833 - dense_1_loss_1: 3.9488 - dense_1_loss_2: 2.4194 - dense_1_loss_3: 1.2471 - dense_1_loss_4: 0.7481 - dense_1_loss_5: 0.5425 - dense_1_loss_6: 0.3549 - dense_1_loss_7: 0.3153 - dense_1_loss_8: 0.2850 - dense_1_loss_9: 0.2960 - dense_1_loss_10: 0.2488 - dense_1_loss_11: 0.2649 - dense_1_loss_12: 0.2245 - dense_1_loss_13: 0.2026 - dense_1_loss_14: 0.2117 - dense_1_loss_15: 0.2554 - dense_1_loss_16: 0.2325 - dense_1_loss_17: 0.2144 - dense_1_loss_18: 0.2088 - dense_1_loss_19: 0.2442 - dense_1_loss_20: 0.2349 - dense_1_loss_21: 0.2451 - dense_1_loss_22: 0.2405 - dense_1_loss_23: 0.2504 - dense_1_loss_24: 0.2342 - dense_1_loss_25: 0.2696 - dense_1_loss_26: 0.2194 - dense_1_loss_27: 0.2559 - dense_1_loss_28: 0.2616 - dense_1_loss_29: 0.3069 - dense_1_loss_30: 0.0000e+00 - dense_1_acc_1: 0.0333 - dense_1_acc_2: 0.3333 - dense_1_acc_3: 0.7000 - dense_1_acc_4: 0.9167 - dense_1_acc_5: 0.9333 - dense_1_acc_6: 0.9833 - dense_1_acc_7: 0.9833 - dense_1_acc_8: 0.9833 - dense_1_acc_9: 0.9833 - dense_1_acc_10: 1.0000 - dense_1_acc_11: 1.0000 - dense_1_acc_12: 1.0000 - dense_1_acc_13: 1.0000 - dense_1_acc_14: 1.0000 - dense_1_acc_15: 1.0000 - dense_1_acc_16: 1.0000 - dense_1_acc_17: 1.0000 - dense_1_acc_18: 1.0000 - dense_1_acc_19: 1.0000 - dense_1_acc_20: 1.0000 - dense_1_acc_21: 1.0000 - dense_1_acc_22: 1.0000 - dense_1_acc_23: 1.0000 - dense_1_acc_24: 1.0000 - dense_1_acc_25: 1.0000 - dense_1_acc_26: 1.0000 - dense_1_acc_27: 0.9833 - dense_1_acc_28: 0.9833 - dense_1_acc_29: 0.9833 - dense_1_acc_30: 0.0167         \n",
      "Epoch 47/100\n",
      "60/60 [==============================] - 1s - loss: 14.3801 - dense_1_loss_1: 3.9441 - dense_1_loss_2: 2.3816 - dense_1_loss_3: 1.2072 - dense_1_loss_4: 0.7047 - dense_1_loss_5: 0.5092 - dense_1_loss_6: 0.3337 - dense_1_loss_7: 0.2921 - dense_1_loss_8: 0.2662 - dense_1_loss_9: 0.2788 - dense_1_loss_10: 0.2259 - dense_1_loss_11: 0.2473 - dense_1_loss_12: 0.2063 - dense_1_loss_13: 0.1882 - dense_1_loss_14: 0.1950 - dense_1_loss_15: 0.2369 - dense_1_loss_16: 0.2124 - dense_1_loss_17: 0.2031 - dense_1_loss_18: 0.1919 - dense_1_loss_19: 0.2279 - dense_1_loss_20: 0.2195 - dense_1_loss_21: 0.2224 - dense_1_loss_22: 0.2236 - dense_1_loss_23: 0.2333 - dense_1_loss_24: 0.2168 - dense_1_loss_25: 0.2466 - dense_1_loss_26: 0.2137 - dense_1_loss_27: 0.2344 - dense_1_loss_28: 0.2375 - dense_1_loss_29: 0.2798 - dense_1_loss_30: 0.0000e+00 - dense_1_acc_1: 0.0333 - dense_1_acc_2: 0.3500 - dense_1_acc_3: 0.7167 - dense_1_acc_4: 0.9167 - dense_1_acc_5: 0.9500 - dense_1_acc_6: 0.9833 - dense_1_acc_7: 1.0000 - dense_1_acc_8: 1.0000 - dense_1_acc_9: 0.9833 - dense_1_acc_10: 1.0000 - dense_1_acc_11: 1.0000 - dense_1_acc_12: 1.0000 - dense_1_acc_13: 1.0000 - dense_1_acc_14: 1.0000 - dense_1_acc_15: 1.0000 - dense_1_acc_16: 1.0000 - dense_1_acc_17: 1.0000 - dense_1_acc_18: 1.0000 - dense_1_acc_19: 1.0000 - dense_1_acc_20: 1.0000 - dense_1_acc_21: 1.0000 - dense_1_acc_22: 1.0000 - dense_1_acc_23: 1.0000 - dense_1_acc_24: 1.0000 - dense_1_acc_25: 1.0000 - dense_1_acc_26: 0.9833 - dense_1_acc_27: 1.0000 - dense_1_acc_28: 0.9833 - dense_1_acc_29: 0.9833 - dense_1_acc_30: 0.0167     \n",
      "Epoch 48/100\n",
      "60/60 [==============================] - 1s - loss: 13.8121 - dense_1_loss_1: 3.9398 - dense_1_loss_2: 2.3442 - dense_1_loss_3: 1.1713 - dense_1_loss_4: 0.6638 - dense_1_loss_5: 0.4783 - dense_1_loss_6: 0.3116 - dense_1_loss_7: 0.2693 - dense_1_loss_8: 0.2528 - dense_1_loss_9: 0.2564 - dense_1_loss_10: 0.2090 - dense_1_loss_11: 0.2276 - dense_1_loss_12: 0.1932 - dense_1_loss_13: 0.1708 - dense_1_loss_14: 0.1807 - dense_1_loss_15: 0.2225 - dense_1_loss_16: 0.1976 - dense_1_loss_17: 0.1861 - dense_1_loss_18: 0.1778 - dense_1_loss_19: 0.2093 - dense_1_loss_20: 0.2105 - dense_1_loss_21: 0.1973 - dense_1_loss_22: 0.2035 - dense_1_loss_23: 0.2182 - dense_1_loss_24: 0.2004 - dense_1_loss_25: 0.2240 - dense_1_loss_26: 0.1872 - dense_1_loss_27: 0.2290 - dense_1_loss_28: 0.2223 - dense_1_loss_29: 0.2576 - dense_1_loss_30: 0.0000e+00 - dense_1_acc_1: 0.0333 - dense_1_acc_2: 0.3667 - dense_1_acc_3: 0.7667 - dense_1_acc_4: 0.9167 - dense_1_acc_5: 0.9500 - dense_1_acc_6: 0.9833 - dense_1_acc_7: 1.0000 - dense_1_acc_8: 0.9833 - dense_1_acc_9: 0.9833 - dense_1_acc_10: 1.0000 - dense_1_acc_11: 1.0000 - dense_1_acc_12: 1.0000 - dense_1_acc_13: 1.0000 - dense_1_acc_14: 1.0000 - dense_1_acc_15: 1.0000 - dense_1_acc_16: 1.0000 - dense_1_acc_17: 1.0000 - dense_1_acc_18: 1.0000 - dense_1_acc_19: 1.0000 - dense_1_acc_20: 1.0000 - dense_1_acc_21: 1.0000 - dense_1_acc_22: 1.0000 - dense_1_acc_23: 1.0000 - dense_1_acc_24: 1.0000 - dense_1_acc_25: 1.0000 - dense_1_acc_26: 1.0000 - dense_1_acc_27: 0.9833 - dense_1_acc_28: 0.9833 - dense_1_acc_29: 0.9833 - dense_1_acc_30: 0.0167     \n",
      "Epoch 49/100\n",
      "60/60 [==============================] - 1s - loss: 13.2901 - dense_1_loss_1: 3.9354 - dense_1_loss_2: 2.3073 - dense_1_loss_3: 1.1322 - dense_1_loss_4: 0.6318 - dense_1_loss_5: 0.4479 - dense_1_loss_6: 0.2912 - dense_1_loss_7: 0.2527 - dense_1_loss_8: 0.2355 - dense_1_loss_9: 0.2382 - dense_1_loss_10: 0.1955 - dense_1_loss_11: 0.2120 - dense_1_loss_12: 0.1790 - dense_1_loss_13: 0.1575 - dense_1_loss_14: 0.1685 - dense_1_loss_15: 0.2037 - dense_1_loss_16: 0.1846 - dense_1_loss_17: 0.1713 - dense_1_loss_18: 0.1652 - dense_1_loss_19: 0.1940 - dense_1_loss_20: 0.1922 - dense_1_loss_21: 0.1846 - dense_1_loss_22: 0.1884 - dense_1_loss_23: 0.1992 - dense_1_loss_24: 0.1849 - dense_1_loss_25: 0.2081 - dense_1_loss_26: 0.1703 - dense_1_loss_27: 0.2156 - dense_1_loss_28: 0.2066 - dense_1_loss_29: 0.2369 - dense_1_loss_30: 0.0000e+00 - dense_1_acc_1: 0.0333 - dense_1_acc_2: 0.3833 - dense_1_acc_3: 0.7667 - dense_1_acc_4: 0.9167 - dense_1_acc_5: 0.9500 - dense_1_acc_6: 0.9833 - dense_1_acc_7: 1.0000 - dense_1_acc_8: 0.9833 - dense_1_acc_9: 0.9833 - dense_1_acc_10: 1.0000 - dense_1_acc_11: 1.0000 - dense_1_acc_12: 1.0000 - dense_1_acc_13: 1.0000 - dense_1_acc_14: 1.0000 - dense_1_acc_15: 1.0000 - dense_1_acc_16: 1.0000 - dense_1_acc_17: 1.0000 - dense_1_acc_18: 1.0000 - dense_1_acc_19: 1.0000 - dense_1_acc_20: 1.0000 - dense_1_acc_21: 1.0000 - dense_1_acc_22: 1.0000 - dense_1_acc_23: 1.0000 - dense_1_acc_24: 1.0000 - dense_1_acc_25: 1.0000 - dense_1_acc_26: 1.0000 - dense_1_acc_27: 0.9833 - dense_1_acc_28: 0.9833 - dense_1_acc_29: 0.9833 - dense_1_acc_30: 0.0167     \n",
      "Epoch 50/100\n",
      "60/60 [==============================] - 1s - loss: 12.8127 - dense_1_loss_1: 3.9309 - dense_1_loss_2: 2.2723 - dense_1_loss_3: 1.0963 - dense_1_loss_4: 0.5986 - dense_1_loss_5: 0.4185 - dense_1_loss_6: 0.2734 - dense_1_loss_7: 0.2368 - dense_1_loss_8: 0.2155 - dense_1_loss_9: 0.2242 - dense_1_loss_10: 0.1793 - dense_1_loss_11: 0.1986 - dense_1_loss_12: 0.1647 - dense_1_loss_13: 0.1482 - dense_1_loss_14: 0.1543 - dense_1_loss_15: 0.1847 - dense_1_loss_16: 0.1745 - dense_1_loss_17: 0.1608 - dense_1_loss_18: 0.1536 - dense_1_loss_19: 0.1823 - dense_1_loss_20: 0.1726 - dense_1_loss_21: 0.1776 - dense_1_loss_22: 0.1765 - dense_1_loss_23: 0.1822 - dense_1_loss_24: 0.1714 - dense_1_loss_25: 0.1932 - dense_1_loss_26: 0.1602 - dense_1_loss_27: 0.1945 - dense_1_loss_28: 0.1908 - dense_1_loss_29: 0.2261 - dense_1_loss_30: 0.0000e+00 - dense_1_acc_1: 0.0333 - dense_1_acc_2: 0.3833 - dense_1_acc_3: 0.7833 - dense_1_acc_4: 0.9333 - dense_1_acc_5: 0.9500 - dense_1_acc_6: 0.9833 - dense_1_acc_7: 1.0000 - dense_1_acc_8: 0.9833 - dense_1_acc_9: 0.9833 - dense_1_acc_10: 1.0000 - dense_1_acc_11: 1.0000 - dense_1_acc_12: 1.0000 - dense_1_acc_13: 1.0000 - dense_1_acc_14: 1.0000 - dense_1_acc_15: 1.0000 - dense_1_acc_16: 1.0000 - dense_1_acc_17: 1.0000 - dense_1_acc_18: 1.0000 - dense_1_acc_19: 1.0000 - dense_1_acc_20: 1.0000 - dense_1_acc_21: 1.0000 - dense_1_acc_22: 1.0000 - dense_1_acc_23: 1.0000 - dense_1_acc_24: 1.0000 - dense_1_acc_25: 1.0000 - dense_1_acc_26: 1.0000 - dense_1_acc_27: 1.0000 - dense_1_acc_28: 0.9833 - dense_1_acc_29: 0.9833 - dense_1_acc_30: 0.0167             \n",
      "Epoch 51/100\n"
     ]
    },
    {
     "name": "stdout",
     "output_type": "stream",
     "text": [
      "60/60 [==============================] - 1s - loss: 12.3747 - dense_1_loss_1: 3.9267 - dense_1_loss_2: 2.2364 - dense_1_loss_3: 1.0640 - dense_1_loss_4: 0.5663 - dense_1_loss_5: 0.3936 - dense_1_loss_6: 0.2566 - dense_1_loss_7: 0.2211 - dense_1_loss_8: 0.2013 - dense_1_loss_9: 0.2112 - dense_1_loss_10: 0.1646 - dense_1_loss_11: 0.1844 - dense_1_loss_12: 0.1521 - dense_1_loss_13: 0.1377 - dense_1_loss_14: 0.1442 - dense_1_loss_15: 0.1694 - dense_1_loss_16: 0.1615 - dense_1_loss_17: 0.1510 - dense_1_loss_18: 0.1437 - dense_1_loss_19: 0.1675 - dense_1_loss_20: 0.1593 - dense_1_loss_21: 0.1677 - dense_1_loss_22: 0.1645 - dense_1_loss_23: 0.1692 - dense_1_loss_24: 0.1585 - dense_1_loss_25: 0.1806 - dense_1_loss_26: 0.1547 - dense_1_loss_27: 0.1761 - dense_1_loss_28: 0.1783 - dense_1_loss_29: 0.2127 - dense_1_loss_30: 0.0000e+00 - dense_1_acc_1: 0.0333 - dense_1_acc_2: 0.4500 - dense_1_acc_3: 0.8167 - dense_1_acc_4: 0.9333 - dense_1_acc_5: 0.9667 - dense_1_acc_6: 0.9833 - dense_1_acc_7: 1.0000 - dense_1_acc_8: 1.0000 - dense_1_acc_9: 0.9833 - dense_1_acc_10: 1.0000 - dense_1_acc_11: 1.0000 - dense_1_acc_12: 1.0000 - dense_1_acc_13: 1.0000 - dense_1_acc_14: 1.0000 - dense_1_acc_15: 1.0000 - dense_1_acc_16: 1.0000 - dense_1_acc_17: 1.0000 - dense_1_acc_18: 1.0000 - dense_1_acc_19: 1.0000 - dense_1_acc_20: 1.0000 - dense_1_acc_21: 1.0000 - dense_1_acc_22: 1.0000 - dense_1_acc_23: 1.0000 - dense_1_acc_24: 1.0000 - dense_1_acc_25: 1.0000 - dense_1_acc_26: 1.0000 - dense_1_acc_27: 1.0000 - dense_1_acc_28: 0.9833 - dense_1_acc_29: 0.9833 - dense_1_acc_30: 0.0167     \n",
      "Epoch 52/100\n",
      "60/60 [==============================] - 1s - loss: 11.9625 - dense_1_loss_1: 3.9229 - dense_1_loss_2: 2.2037 - dense_1_loss_3: 1.0323 - dense_1_loss_4: 0.5341 - dense_1_loss_5: 0.3710 - dense_1_loss_6: 0.2409 - dense_1_loss_7: 0.2059 - dense_1_loss_8: 0.1936 - dense_1_loss_9: 0.1944 - dense_1_loss_10: 0.1552 - dense_1_loss_11: 0.1714 - dense_1_loss_12: 0.1421 - dense_1_loss_13: 0.1254 - dense_1_loss_14: 0.1349 - dense_1_loss_15: 0.1604 - dense_1_loss_16: 0.1494 - dense_1_loss_17: 0.1389 - dense_1_loss_18: 0.1341 - dense_1_loss_19: 0.1542 - dense_1_loss_20: 0.1518 - dense_1_loss_21: 0.1517 - dense_1_loss_22: 0.1520 - dense_1_loss_23: 0.1574 - dense_1_loss_24: 0.1466 - dense_1_loss_25: 0.1686 - dense_1_loss_26: 0.1395 - dense_1_loss_27: 0.1693 - dense_1_loss_28: 0.1667 - dense_1_loss_29: 0.1941 - dense_1_loss_30: 0.0000e+00 - dense_1_acc_1: 0.0333 - dense_1_acc_2: 0.4500 - dense_1_acc_3: 0.8167 - dense_1_acc_4: 0.9333 - dense_1_acc_5: 0.9667 - dense_1_acc_6: 0.9833 - dense_1_acc_7: 1.0000 - dense_1_acc_8: 1.0000 - dense_1_acc_9: 0.9833 - dense_1_acc_10: 1.0000 - dense_1_acc_11: 1.0000 - dense_1_acc_12: 1.0000 - dense_1_acc_13: 1.0000 - dense_1_acc_14: 1.0000 - dense_1_acc_15: 1.0000 - dense_1_acc_16: 1.0000 - dense_1_acc_17: 1.0000 - dense_1_acc_18: 1.0000 - dense_1_acc_19: 1.0000 - dense_1_acc_20: 1.0000 - dense_1_acc_21: 1.0000 - dense_1_acc_22: 1.0000 - dense_1_acc_23: 1.0000 - dense_1_acc_24: 1.0000 - dense_1_acc_25: 1.0000 - dense_1_acc_26: 1.0000 - dense_1_acc_27: 1.0000 - dense_1_acc_28: 1.0000 - dense_1_acc_29: 0.9833 - dense_1_acc_30: 0.0167     \n",
      "Epoch 53/100\n",
      "60/60 [==============================] - 1s - loss: 11.6042 - dense_1_loss_1: 3.9188 - dense_1_loss_2: 2.1706 - dense_1_loss_3: 1.0021 - dense_1_loss_4: 0.5061 - dense_1_loss_5: 0.3498 - dense_1_loss_6: 0.2274 - dense_1_loss_7: 0.1942 - dense_1_loss_8: 0.1840 - dense_1_loss_9: 0.1822 - dense_1_loss_10: 0.1473 - dense_1_loss_11: 0.1599 - dense_1_loss_12: 0.1343 - dense_1_loss_13: 0.1168 - dense_1_loss_14: 0.1262 - dense_1_loss_15: 0.1528 - dense_1_loss_16: 0.1405 - dense_1_loss_17: 0.1289 - dense_1_loss_18: 0.1244 - dense_1_loss_19: 0.1444 - dense_1_loss_20: 0.1453 - dense_1_loss_21: 0.1393 - dense_1_loss_22: 0.1402 - dense_1_loss_23: 0.1461 - dense_1_loss_24: 0.1370 - dense_1_loss_25: 0.1577 - dense_1_loss_26: 0.1292 - dense_1_loss_27: 0.1616 - dense_1_loss_28: 0.1570 - dense_1_loss_29: 0.1801 - dense_1_loss_30: 0.0000e+00 - dense_1_acc_1: 0.0333 - dense_1_acc_2: 0.4500 - dense_1_acc_3: 0.8167 - dense_1_acc_4: 0.9333 - dense_1_acc_5: 0.9667 - dense_1_acc_6: 0.9833 - dense_1_acc_7: 1.0000 - dense_1_acc_8: 1.0000 - dense_1_acc_9: 0.9833 - dense_1_acc_10: 1.0000 - dense_1_acc_11: 1.0000 - dense_1_acc_12: 1.0000 - dense_1_acc_13: 1.0000 - dense_1_acc_14: 1.0000 - dense_1_acc_15: 1.0000 - dense_1_acc_16: 1.0000 - dense_1_acc_17: 1.0000 - dense_1_acc_18: 1.0000 - dense_1_acc_19: 1.0000 - dense_1_acc_20: 1.0000 - dense_1_acc_21: 1.0000 - dense_1_acc_22: 1.0000 - dense_1_acc_23: 1.0000 - dense_1_acc_24: 1.0000 - dense_1_acc_25: 1.0000 - dense_1_acc_26: 1.0000 - dense_1_acc_27: 1.0000 - dense_1_acc_28: 1.0000 - dense_1_acc_29: 0.9833 - dense_1_acc_30: 0.0167     \n",
      "Epoch 54/100\n",
      "60/60 [==============================] - 1s - loss: 11.2538 - dense_1_loss_1: 3.9148 - dense_1_loss_2: 2.1392 - dense_1_loss_3: 0.9733 - dense_1_loss_4: 0.4811 - dense_1_loss_5: 0.3284 - dense_1_loss_6: 0.2144 - dense_1_loss_7: 0.1819 - dense_1_loss_8: 0.1716 - dense_1_loss_9: 0.1701 - dense_1_loss_10: 0.1375 - dense_1_loss_11: 0.1501 - dense_1_loss_12: 0.1255 - dense_1_loss_13: 0.1100 - dense_1_loss_14: 0.1169 - dense_1_loss_15: 0.1417 - dense_1_loss_16: 0.1313 - dense_1_loss_17: 0.1210 - dense_1_loss_18: 0.1154 - dense_1_loss_19: 0.1352 - dense_1_loss_20: 0.1348 - dense_1_loss_21: 0.1307 - dense_1_loss_22: 0.1304 - dense_1_loss_23: 0.1360 - dense_1_loss_24: 0.1286 - dense_1_loss_25: 0.1463 - dense_1_loss_26: 0.1219 - dense_1_loss_27: 0.1503 - dense_1_loss_28: 0.1457 - dense_1_loss_29: 0.1694 - dense_1_loss_30: 0.0000e+00 - dense_1_acc_1: 0.0333 - dense_1_acc_2: 0.4500 - dense_1_acc_3: 0.8167 - dense_1_acc_4: 0.9333 - dense_1_acc_5: 0.9667 - dense_1_acc_6: 0.9833 - dense_1_acc_7: 1.0000 - dense_1_acc_8: 1.0000 - dense_1_acc_9: 1.0000 - dense_1_acc_10: 1.0000 - dense_1_acc_11: 1.0000 - dense_1_acc_12: 1.0000 - dense_1_acc_13: 1.0000 - dense_1_acc_14: 1.0000 - dense_1_acc_15: 1.0000 - dense_1_acc_16: 1.0000 - dense_1_acc_17: 1.0000 - dense_1_acc_18: 1.0000 - dense_1_acc_19: 1.0000 - dense_1_acc_20: 1.0000 - dense_1_acc_21: 1.0000 - dense_1_acc_22: 1.0000 - dense_1_acc_23: 1.0000 - dense_1_acc_24: 1.0000 - dense_1_acc_25: 1.0000 - dense_1_acc_26: 1.0000 - dense_1_acc_27: 1.0000 - dense_1_acc_28: 1.0000 - dense_1_acc_29: 0.9833 - dense_1_acc_30: 0.0167     \n",
      "Epoch 55/100\n",
      "60/60 [==============================] - 1s - loss: 10.9438 - dense_1_loss_1: 3.9108 - dense_1_loss_2: 2.1067 - dense_1_loss_3: 0.9459 - dense_1_loss_4: 0.4594 - dense_1_loss_5: 0.3100 - dense_1_loss_6: 0.2038 - dense_1_loss_7: 0.1712 - dense_1_loss_8: 0.1600 - dense_1_loss_9: 0.1606 - dense_1_loss_10: 0.1268 - dense_1_loss_11: 0.1421 - dense_1_loss_12: 0.1165 - dense_1_loss_13: 0.1046 - dense_1_loss_14: 0.1094 - dense_1_loss_15: 0.1312 - dense_1_loss_16: 0.1235 - dense_1_loss_17: 0.1154 - dense_1_loss_18: 0.1076 - dense_1_loss_19: 0.1281 - dense_1_loss_20: 0.1244 - dense_1_loss_21: 0.1238 - dense_1_loss_22: 0.1234 - dense_1_loss_23: 0.1277 - dense_1_loss_24: 0.1204 - dense_1_loss_25: 0.1380 - dense_1_loss_26: 0.1173 - dense_1_loss_27: 0.1387 - dense_1_loss_28: 0.1368 - dense_1_loss_29: 0.1598 - dense_1_loss_30: 0.0000e+00 - dense_1_acc_1: 0.0333 - dense_1_acc_2: 0.5000 - dense_1_acc_3: 0.8167 - dense_1_acc_4: 0.9333 - dense_1_acc_5: 0.9667 - dense_1_acc_6: 0.9833 - dense_1_acc_7: 1.0000 - dense_1_acc_8: 1.0000 - dense_1_acc_9: 1.0000 - dense_1_acc_10: 1.0000 - dense_1_acc_11: 1.0000 - dense_1_acc_12: 1.0000 - dense_1_acc_13: 1.0000 - dense_1_acc_14: 1.0000 - dense_1_acc_15: 1.0000 - dense_1_acc_16: 1.0000 - dense_1_acc_17: 1.0000 - dense_1_acc_18: 1.0000 - dense_1_acc_19: 1.0000 - dense_1_acc_20: 1.0000 - dense_1_acc_21: 1.0000 - dense_1_acc_22: 1.0000 - dense_1_acc_23: 1.0000 - dense_1_acc_24: 1.0000 - dense_1_acc_25: 1.0000 - dense_1_acc_26: 1.0000 - dense_1_acc_27: 1.0000 - dense_1_acc_28: 1.0000 - dense_1_acc_29: 1.0000 - dense_1_acc_30: 0.0167     \n",
      "Epoch 56/100\n"
     ]
    },
    {
     "name": "stdout",
     "output_type": "stream",
     "text": [
      "60/60 [==============================] - 1s - loss: 10.6460 - dense_1_loss_1: 3.9071 - dense_1_loss_2: 2.0772 - dense_1_loss_3: 0.9191 - dense_1_loss_4: 0.4363 - dense_1_loss_5: 0.2914 - dense_1_loss_6: 0.1924 - dense_1_loss_7: 0.1599 - dense_1_loss_8: 0.1505 - dense_1_loss_9: 0.1516 - dense_1_loss_10: 0.1175 - dense_1_loss_11: 0.1335 - dense_1_loss_12: 0.1092 - dense_1_loss_13: 0.0973 - dense_1_loss_14: 0.1024 - dense_1_loss_15: 0.1219 - dense_1_loss_16: 0.1156 - dense_1_loss_17: 0.1092 - dense_1_loss_18: 0.1012 - dense_1_loss_19: 0.1201 - dense_1_loss_20: 0.1156 - dense_1_loss_21: 0.1176 - dense_1_loss_22: 0.1162 - dense_1_loss_23: 0.1201 - dense_1_loss_24: 0.1128 - dense_1_loss_25: 0.1297 - dense_1_loss_26: 0.1104 - dense_1_loss_27: 0.1320 - dense_1_loss_28: 0.1287 - dense_1_loss_29: 0.1495 - dense_1_loss_30: 0.0000e+00 - dense_1_acc_1: 0.0333 - dense_1_acc_2: 0.5000 - dense_1_acc_3: 0.8167 - dense_1_acc_4: 0.9333 - dense_1_acc_5: 0.9667 - dense_1_acc_6: 0.9833 - dense_1_acc_7: 1.0000 - dense_1_acc_8: 1.0000 - dense_1_acc_9: 1.0000 - dense_1_acc_10: 1.0000 - dense_1_acc_11: 1.0000 - dense_1_acc_12: 1.0000 - dense_1_acc_13: 1.0000 - dense_1_acc_14: 1.0000 - dense_1_acc_15: 1.0000 - dense_1_acc_16: 1.0000 - dense_1_acc_17: 1.0000 - dense_1_acc_18: 1.0000 - dense_1_acc_19: 1.0000 - dense_1_acc_20: 1.0000 - dense_1_acc_21: 1.0000 - dense_1_acc_22: 1.0000 - dense_1_acc_23: 1.0000 - dense_1_acc_24: 1.0000 - dense_1_acc_25: 1.0000 - dense_1_acc_26: 1.0000 - dense_1_acc_27: 1.0000 - dense_1_acc_28: 1.0000 - dense_1_acc_29: 1.0000 - dense_1_acc_30: 0.0167         \n",
      "Epoch 57/100\n",
      "60/60 [==============================] - 1s - loss: 10.3751 - dense_1_loss_1: 3.9034 - dense_1_loss_2: 2.0466 - dense_1_loss_3: 0.8948 - dense_1_loss_4: 0.4159 - dense_1_loss_5: 0.2754 - dense_1_loss_6: 0.1828 - dense_1_loss_7: 0.1502 - dense_1_loss_8: 0.1439 - dense_1_loss_9: 0.1430 - dense_1_loss_10: 0.1110 - dense_1_loss_11: 0.1257 - dense_1_loss_12: 0.1036 - dense_1_loss_13: 0.0906 - dense_1_loss_14: 0.0967 - dense_1_loss_15: 0.1154 - dense_1_loss_16: 0.1083 - dense_1_loss_17: 0.1024 - dense_1_loss_18: 0.0952 - dense_1_loss_19: 0.1124 - dense_1_loss_20: 0.1093 - dense_1_loss_21: 0.1092 - dense_1_loss_22: 0.1087 - dense_1_loss_23: 0.1120 - dense_1_loss_24: 0.1059 - dense_1_loss_25: 0.1222 - dense_1_loss_26: 0.1018 - dense_1_loss_27: 0.1277 - dense_1_loss_28: 0.1213 - dense_1_loss_29: 0.1398 - dense_1_loss_30: 0.0000e+00 - dense_1_acc_1: 0.0333 - dense_1_acc_2: 0.5167 - dense_1_acc_3: 0.8333 - dense_1_acc_4: 0.9333 - dense_1_acc_5: 0.9667 - dense_1_acc_6: 0.9833 - dense_1_acc_7: 1.0000 - dense_1_acc_8: 1.0000 - dense_1_acc_9: 1.0000 - dense_1_acc_10: 1.0000 - dense_1_acc_11: 1.0000 - dense_1_acc_12: 1.0000 - dense_1_acc_13: 1.0000 - dense_1_acc_14: 1.0000 - dense_1_acc_15: 1.0000 - dense_1_acc_16: 1.0000 - dense_1_acc_17: 1.0000 - dense_1_acc_18: 1.0000 - dense_1_acc_19: 1.0000 - dense_1_acc_20: 1.0000 - dense_1_acc_21: 1.0000 - dense_1_acc_22: 1.0000 - dense_1_acc_23: 1.0000 - dense_1_acc_24: 1.0000 - dense_1_acc_25: 1.0000 - dense_1_acc_26: 1.0000 - dense_1_acc_27: 1.0000 - dense_1_acc_28: 1.0000 - dense_1_acc_29: 1.0000 - dense_1_acc_30: 0.0167         \n",
      "Epoch 58/100\n",
      "60/60 [==============================] - 1s - loss: 10.1299 - dense_1_loss_1: 3.8995 - dense_1_loss_2: 2.0176 - dense_1_loss_3: 0.8729 - dense_1_loss_4: 0.3966 - dense_1_loss_5: 0.2612 - dense_1_loss_6: 0.1728 - dense_1_loss_7: 0.1422 - dense_1_loss_8: 0.1385 - dense_1_loss_9: 0.1345 - dense_1_loss_10: 0.1060 - dense_1_loss_11: 0.1182 - dense_1_loss_12: 0.0982 - dense_1_loss_13: 0.0849 - dense_1_loss_14: 0.0915 - dense_1_loss_15: 0.1099 - dense_1_loss_16: 0.1024 - dense_1_loss_17: 0.0960 - dense_1_loss_18: 0.0897 - dense_1_loss_19: 0.1059 - dense_1_loss_20: 0.1037 - dense_1_loss_21: 0.1021 - dense_1_loss_22: 0.1022 - dense_1_loss_23: 0.1037 - dense_1_loss_24: 0.0999 - dense_1_loss_25: 0.1152 - dense_1_loss_26: 0.0942 - dense_1_loss_27: 0.1238 - dense_1_loss_28: 0.1142 - dense_1_loss_29: 0.1324 - dense_1_loss_30: 0.0000e+00 - dense_1_acc_1: 0.0333 - dense_1_acc_2: 0.5167 - dense_1_acc_3: 0.8333 - dense_1_acc_4: 0.9333 - dense_1_acc_5: 0.9667 - dense_1_acc_6: 0.9833 - dense_1_acc_7: 1.0000 - dense_1_acc_8: 1.0000 - dense_1_acc_9: 1.0000 - dense_1_acc_10: 1.0000 - dense_1_acc_11: 1.0000 - dense_1_acc_12: 1.0000 - dense_1_acc_13: 1.0000 - dense_1_acc_14: 1.0000 - dense_1_acc_15: 1.0000 - dense_1_acc_16: 1.0000 - dense_1_acc_17: 1.0000 - dense_1_acc_18: 1.0000 - dense_1_acc_19: 1.0000 - dense_1_acc_20: 1.0000 - dense_1_acc_21: 1.0000 - dense_1_acc_22: 1.0000 - dense_1_acc_23: 1.0000 - dense_1_acc_24: 1.0000 - dense_1_acc_25: 1.0000 - dense_1_acc_26: 1.0000 - dense_1_acc_27: 1.0000 - dense_1_acc_28: 1.0000 - dense_1_acc_29: 1.0000 - dense_1_acc_30: 0.0167         \n",
      "Epoch 59/100\n",
      "60/60 [==============================] - 1s - loss: 9.8932 - dense_1_loss_1: 3.8962 - dense_1_loss_2: 1.9899 - dense_1_loss_3: 0.8489 - dense_1_loss_4: 0.3794 - dense_1_loss_5: 0.2470 - dense_1_loss_6: 0.1643 - dense_1_loss_7: 0.1348 - dense_1_loss_8: 0.1311 - dense_1_loss_9: 0.1278 - dense_1_loss_10: 0.1002 - dense_1_loss_11: 0.1123 - dense_1_loss_12: 0.0926 - dense_1_loss_13: 0.0807 - dense_1_loss_14: 0.0863 - dense_1_loss_15: 0.1038 - dense_1_loss_16: 0.0973 - dense_1_loss_17: 0.0910 - dense_1_loss_18: 0.0847 - dense_1_loss_19: 0.0995 - dense_1_loss_20: 0.0980 - dense_1_loss_21: 0.0959 - dense_1_loss_22: 0.0962 - dense_1_loss_23: 0.0969 - dense_1_loss_24: 0.0943 - dense_1_loss_25: 0.1085 - dense_1_loss_26: 0.0904 - dense_1_loss_27: 0.1141 - dense_1_loss_28: 0.1072 - dense_1_loss_29: 0.1240 - dense_1_loss_30: 0.0000e+00 - dense_1_acc_1: 0.0500 - dense_1_acc_2: 0.5167 - dense_1_acc_3: 0.8333 - dense_1_acc_4: 0.9500 - dense_1_acc_5: 0.9667 - dense_1_acc_6: 0.9833 - dense_1_acc_7: 1.0000 - dense_1_acc_8: 1.0000 - dense_1_acc_9: 1.0000 - dense_1_acc_10: 1.0000 - dense_1_acc_11: 1.0000 - dense_1_acc_12: 1.0000 - dense_1_acc_13: 1.0000 - dense_1_acc_14: 1.0000 - dense_1_acc_15: 1.0000 - dense_1_acc_16: 1.0000 - dense_1_acc_17: 1.0000 - dense_1_acc_18: 1.0000 - dense_1_acc_19: 1.0000 - dense_1_acc_20: 1.0000 - dense_1_acc_21: 1.0000 - dense_1_acc_22: 1.0000 - dense_1_acc_23: 1.0000 - dense_1_acc_24: 1.0000 - dense_1_acc_25: 1.0000 - dense_1_acc_26: 1.0000 - dense_1_acc_27: 1.0000 - dense_1_acc_28: 1.0000 - dense_1_acc_29: 1.0000 - dense_1_acc_30: 0.0167          \n",
      "Epoch 60/100\n",
      "60/60 [==============================] - 1s - loss: 9.6756 - dense_1_loss_1: 3.8926 - dense_1_loss_2: 1.9624 - dense_1_loss_3: 0.8281 - dense_1_loss_4: 0.3638 - dense_1_loss_5: 0.2337 - dense_1_loss_6: 0.1555 - dense_1_loss_7: 0.1281 - dense_1_loss_8: 0.1236 - dense_1_loss_9: 0.1210 - dense_1_loss_10: 0.0939 - dense_1_loss_11: 0.1067 - dense_1_loss_12: 0.0873 - dense_1_loss_13: 0.0772 - dense_1_loss_14: 0.0812 - dense_1_loss_15: 0.0974 - dense_1_loss_16: 0.0920 - dense_1_loss_17: 0.0867 - dense_1_loss_18: 0.0802 - dense_1_loss_19: 0.0942 - dense_1_loss_20: 0.0918 - dense_1_loss_21: 0.0909 - dense_1_loss_22: 0.0910 - dense_1_loss_23: 0.0921 - dense_1_loss_24: 0.0888 - dense_1_loss_25: 0.1020 - dense_1_loss_26: 0.0870 - dense_1_loss_27: 0.1074 - dense_1_loss_28: 0.1014 - dense_1_loss_29: 0.1178 - dense_1_loss_30: 0.0000e+00 - dense_1_acc_1: 0.0500 - dense_1_acc_2: 0.5167 - dense_1_acc_3: 0.8333 - dense_1_acc_4: 0.9500 - dense_1_acc_5: 0.9833 - dense_1_acc_6: 0.9833 - dense_1_acc_7: 1.0000 - dense_1_acc_8: 1.0000 - dense_1_acc_9: 1.0000 - dense_1_acc_10: 1.0000 - dense_1_acc_11: 1.0000 - dense_1_acc_12: 1.0000 - dense_1_acc_13: 1.0000 - dense_1_acc_14: 1.0000 - dense_1_acc_15: 1.0000 - dense_1_acc_16: 1.0000 - dense_1_acc_17: 1.0000 - dense_1_acc_18: 1.0000 - dense_1_acc_19: 1.0000 - dense_1_acc_20: 1.0000 - dense_1_acc_21: 1.0000 - dense_1_acc_22: 1.0000 - dense_1_acc_23: 1.0000 - dense_1_acc_24: 1.0000 - dense_1_acc_25: 1.0000 - dense_1_acc_26: 1.0000 - dense_1_acc_27: 1.0000 - dense_1_acc_28: 1.0000 - dense_1_acc_29: 1.0000 - dense_1_acc_30: 0.0167         \n",
      "Epoch 61/100\n"
     ]
    },
    {
     "name": "stdout",
     "output_type": "stream",
     "text": [
      "60/60 [==============================] - 1s - loss: 9.4749 - dense_1_loss_1: 3.8889 - dense_1_loss_2: 1.9357 - dense_1_loss_3: 0.8083 - dense_1_loss_4: 0.3476 - dense_1_loss_5: 0.2225 - dense_1_loss_6: 0.1484 - dense_1_loss_7: 0.1219 - dense_1_loss_8: 0.1172 - dense_1_loss_9: 0.1145 - dense_1_loss_10: 0.0887 - dense_1_loss_11: 0.1007 - dense_1_loss_12: 0.0831 - dense_1_loss_13: 0.0731 - dense_1_loss_14: 0.0767 - dense_1_loss_15: 0.0919 - dense_1_loss_16: 0.0873 - dense_1_loss_17: 0.0826 - dense_1_loss_18: 0.0759 - dense_1_loss_19: 0.0890 - dense_1_loss_20: 0.0871 - dense_1_loss_21: 0.0859 - dense_1_loss_22: 0.0859 - dense_1_loss_23: 0.0874 - dense_1_loss_24: 0.0840 - dense_1_loss_25: 0.0970 - dense_1_loss_26: 0.0836 - dense_1_loss_27: 0.1015 - dense_1_loss_28: 0.0971 - dense_1_loss_29: 0.1112 - dense_1_loss_30: 0.0000e+00 - dense_1_acc_1: 0.0500 - dense_1_acc_2: 0.5167 - dense_1_acc_3: 0.8333 - dense_1_acc_4: 0.9500 - dense_1_acc_5: 0.9833 - dense_1_acc_6: 0.9833 - dense_1_acc_7: 1.0000 - dense_1_acc_8: 1.0000 - dense_1_acc_9: 1.0000 - dense_1_acc_10: 1.0000 - dense_1_acc_11: 1.0000 - dense_1_acc_12: 1.0000 - dense_1_acc_13: 1.0000 - dense_1_acc_14: 1.0000 - dense_1_acc_15: 1.0000 - dense_1_acc_16: 1.0000 - dense_1_acc_17: 1.0000 - dense_1_acc_18: 1.0000 - dense_1_acc_19: 1.0000 - dense_1_acc_20: 1.0000 - dense_1_acc_21: 1.0000 - dense_1_acc_22: 1.0000 - dense_1_acc_23: 1.0000 - dense_1_acc_24: 1.0000 - dense_1_acc_25: 1.0000 - dense_1_acc_26: 1.0000 - dense_1_acc_27: 1.0000 - dense_1_acc_28: 1.0000 - dense_1_acc_29: 1.0000 - dense_1_acc_30: 0.0167     \n",
      "Epoch 62/100\n",
      "60/60 [==============================] - 1s - loss: 9.2911 - dense_1_loss_1: 3.8855 - dense_1_loss_2: 1.9096 - dense_1_loss_3: 0.7892 - dense_1_loss_4: 0.3340 - dense_1_loss_5: 0.2120 - dense_1_loss_6: 0.1412 - dense_1_loss_7: 0.1159 - dense_1_loss_8: 0.1119 - dense_1_loss_9: 0.1084 - dense_1_loss_10: 0.0851 - dense_1_loss_11: 0.0957 - dense_1_loss_12: 0.0794 - dense_1_loss_13: 0.0690 - dense_1_loss_14: 0.0732 - dense_1_loss_15: 0.0878 - dense_1_loss_16: 0.0828 - dense_1_loss_17: 0.0781 - dense_1_loss_18: 0.0721 - dense_1_loss_19: 0.0840 - dense_1_loss_20: 0.0836 - dense_1_loss_21: 0.0809 - dense_1_loss_22: 0.0812 - dense_1_loss_23: 0.0832 - dense_1_loss_24: 0.0797 - dense_1_loss_25: 0.0927 - dense_1_loss_26: 0.0786 - dense_1_loss_27: 0.0980 - dense_1_loss_28: 0.0929 - dense_1_loss_29: 0.1052 - dense_1_loss_30: 0.0000e+00 - dense_1_acc_1: 0.0500 - dense_1_acc_2: 0.5667 - dense_1_acc_3: 0.8333 - dense_1_acc_4: 0.9500 - dense_1_acc_5: 0.9833 - dense_1_acc_6: 0.9833 - dense_1_acc_7: 1.0000 - dense_1_acc_8: 1.0000 - dense_1_acc_9: 1.0000 - dense_1_acc_10: 1.0000 - dense_1_acc_11: 1.0000 - dense_1_acc_12: 1.0000 - dense_1_acc_13: 1.0000 - dense_1_acc_14: 1.0000 - dense_1_acc_15: 1.0000 - dense_1_acc_16: 1.0000 - dense_1_acc_17: 1.0000 - dense_1_acc_18: 1.0000 - dense_1_acc_19: 1.0000 - dense_1_acc_20: 1.0000 - dense_1_acc_21: 1.0000 - dense_1_acc_22: 1.0000 - dense_1_acc_23: 1.0000 - dense_1_acc_24: 1.0000 - dense_1_acc_25: 1.0000 - dense_1_acc_26: 1.0000 - dense_1_acc_27: 1.0000 - dense_1_acc_28: 1.0000 - dense_1_acc_29: 1.0000 - dense_1_acc_30: 0.0167     \n",
      "Epoch 63/100\n",
      "60/60 [==============================] - 1s - loss: 9.1130 - dense_1_loss_1: 3.8821 - dense_1_loss_2: 1.8852 - dense_1_loss_3: 0.7701 - dense_1_loss_4: 0.3204 - dense_1_loss_5: 0.2018 - dense_1_loss_6: 0.1346 - dense_1_loss_7: 0.1106 - dense_1_loss_8: 0.1070 - dense_1_loss_9: 0.1029 - dense_1_loss_10: 0.0806 - dense_1_loss_11: 0.0907 - dense_1_loss_12: 0.0757 - dense_1_loss_13: 0.0651 - dense_1_loss_14: 0.0700 - dense_1_loss_15: 0.0837 - dense_1_loss_16: 0.0782 - dense_1_loss_17: 0.0738 - dense_1_loss_18: 0.0683 - dense_1_loss_19: 0.0795 - dense_1_loss_20: 0.0795 - dense_1_loss_21: 0.0765 - dense_1_loss_22: 0.0767 - dense_1_loss_23: 0.0789 - dense_1_loss_24: 0.0758 - dense_1_loss_25: 0.0881 - dense_1_loss_26: 0.0731 - dense_1_loss_27: 0.0959 - dense_1_loss_28: 0.0882 - dense_1_loss_29: 0.0999 - dense_1_loss_30: 0.0000e+00 - dense_1_acc_1: 0.0500 - dense_1_acc_2: 0.5667 - dense_1_acc_3: 0.8667 - dense_1_acc_4: 0.9500 - dense_1_acc_5: 0.9833 - dense_1_acc_6: 0.9833 - dense_1_acc_7: 1.0000 - dense_1_acc_8: 1.0000 - dense_1_acc_9: 1.0000 - dense_1_acc_10: 1.0000 - dense_1_acc_11: 1.0000 - dense_1_acc_12: 1.0000 - dense_1_acc_13: 1.0000 - dense_1_acc_14: 1.0000 - dense_1_acc_15: 1.0000 - dense_1_acc_16: 1.0000 - dense_1_acc_17: 1.0000 - dense_1_acc_18: 1.0000 - dense_1_acc_19: 1.0000 - dense_1_acc_20: 1.0000 - dense_1_acc_21: 1.0000 - dense_1_acc_22: 1.0000 - dense_1_acc_23: 1.0000 - dense_1_acc_24: 1.0000 - dense_1_acc_25: 1.0000 - dense_1_acc_26: 1.0000 - dense_1_acc_27: 1.0000 - dense_1_acc_28: 1.0000 - dense_1_acc_29: 1.0000 - dense_1_acc_30: 0.0167         \n",
      "Epoch 64/100\n",
      "60/60 [==============================] - 1s - loss: 8.9471 - dense_1_loss_1: 3.8785 - dense_1_loss_2: 1.8610 - dense_1_loss_3: 0.7519 - dense_1_loss_4: 0.3082 - dense_1_loss_5: 0.1919 - dense_1_loss_6: 0.1285 - dense_1_loss_7: 0.1058 - dense_1_loss_8: 0.1015 - dense_1_loss_9: 0.0988 - dense_1_loss_10: 0.0764 - dense_1_loss_11: 0.0869 - dense_1_loss_12: 0.0716 - dense_1_loss_13: 0.0620 - dense_1_loss_14: 0.0666 - dense_1_loss_15: 0.0798 - dense_1_loss_16: 0.0744 - dense_1_loss_17: 0.0707 - dense_1_loss_18: 0.0650 - dense_1_loss_19: 0.0758 - dense_1_loss_20: 0.0756 - dense_1_loss_21: 0.0726 - dense_1_loss_22: 0.0729 - dense_1_loss_23: 0.0747 - dense_1_loss_24: 0.0721 - dense_1_loss_25: 0.0839 - dense_1_loss_26: 0.0696 - dense_1_loss_27: 0.0915 - dense_1_loss_28: 0.0836 - dense_1_loss_29: 0.0953 - dense_1_loss_30: 0.0000e+00 - dense_1_acc_1: 0.0500 - dense_1_acc_2: 0.5667 - dense_1_acc_3: 0.8667 - dense_1_acc_4: 0.9500 - dense_1_acc_5: 0.9833 - dense_1_acc_6: 0.9833 - dense_1_acc_7: 1.0000 - dense_1_acc_8: 1.0000 - dense_1_acc_9: 1.0000 - dense_1_acc_10: 1.0000 - dense_1_acc_11: 1.0000 - dense_1_acc_12: 1.0000 - dense_1_acc_13: 1.0000 - dense_1_acc_14: 1.0000 - dense_1_acc_15: 1.0000 - dense_1_acc_16: 1.0000 - dense_1_acc_17: 1.0000 - dense_1_acc_18: 1.0000 - dense_1_acc_19: 1.0000 - dense_1_acc_20: 1.0000 - dense_1_acc_21: 1.0000 - dense_1_acc_22: 1.0000 - dense_1_acc_23: 1.0000 - dense_1_acc_24: 1.0000 - dense_1_acc_25: 1.0000 - dense_1_acc_26: 1.0000 - dense_1_acc_27: 1.0000 - dense_1_acc_28: 1.0000 - dense_1_acc_29: 1.0000 - dense_1_acc_30: 0.0167     \n",
      "Epoch 65/100\n",
      "60/60 [==============================] - 1s - loss: 8.7955 - dense_1_loss_1: 3.8754 - dense_1_loss_2: 1.8375 - dense_1_loss_3: 0.7348 - dense_1_loss_4: 0.2975 - dense_1_loss_5: 0.1835 - dense_1_loss_6: 0.1232 - dense_1_loss_7: 0.1013 - dense_1_loss_8: 0.0965 - dense_1_loss_9: 0.0947 - dense_1_loss_10: 0.0723 - dense_1_loss_11: 0.0835 - dense_1_loss_12: 0.0685 - dense_1_loss_13: 0.0596 - dense_1_loss_14: 0.0636 - dense_1_loss_15: 0.0758 - dense_1_loss_16: 0.0712 - dense_1_loss_17: 0.0679 - dense_1_loss_18: 0.0620 - dense_1_loss_19: 0.0727 - dense_1_loss_20: 0.0717 - dense_1_loss_21: 0.0695 - dense_1_loss_22: 0.0698 - dense_1_loss_23: 0.0712 - dense_1_loss_24: 0.0687 - dense_1_loss_25: 0.0805 - dense_1_loss_26: 0.0672 - dense_1_loss_27: 0.0857 - dense_1_loss_28: 0.0790 - dense_1_loss_29: 0.0909 - dense_1_loss_30: 0.0000e+00 - dense_1_acc_1: 0.0500 - dense_1_acc_2: 0.5667 - dense_1_acc_3: 0.8667 - dense_1_acc_4: 0.9500 - dense_1_acc_5: 1.0000 - dense_1_acc_6: 0.9833 - dense_1_acc_7: 1.0000 - dense_1_acc_8: 1.0000 - dense_1_acc_9: 1.0000 - dense_1_acc_10: 1.0000 - dense_1_acc_11: 1.0000 - dense_1_acc_12: 1.0000 - dense_1_acc_13: 1.0000 - dense_1_acc_14: 1.0000 - dense_1_acc_15: 1.0000 - dense_1_acc_16: 1.0000 - dense_1_acc_17: 1.0000 - dense_1_acc_18: 1.0000 - dense_1_acc_19: 1.0000 - dense_1_acc_20: 1.0000 - dense_1_acc_21: 1.0000 - dense_1_acc_22: 1.0000 - dense_1_acc_23: 1.0000 - dense_1_acc_24: 1.0000 - dense_1_acc_25: 1.0000 - dense_1_acc_26: 1.0000 - dense_1_acc_27: 1.0000 - dense_1_acc_28: 1.0000 - dense_1_acc_29: 1.0000 - dense_1_acc_30: 0.0167     \n",
      "Epoch 66/100\n"
     ]
    },
    {
     "name": "stdout",
     "output_type": "stream",
     "text": [
      "60/60 [==============================] - 1s - loss: 8.6488 - dense_1_loss_1: 3.8721 - dense_1_loss_2: 1.8149 - dense_1_loss_3: 0.7179 - dense_1_loss_4: 0.2866 - dense_1_loss_5: 0.1750 - dense_1_loss_6: 0.1179 - dense_1_loss_7: 0.0966 - dense_1_loss_8: 0.0926 - dense_1_loss_9: 0.0898 - dense_1_loss_10: 0.0688 - dense_1_loss_11: 0.0797 - dense_1_loss_12: 0.0654 - dense_1_loss_13: 0.0570 - dense_1_loss_14: 0.0607 - dense_1_loss_15: 0.0720 - dense_1_loss_16: 0.0683 - dense_1_loss_17: 0.0650 - dense_1_loss_18: 0.0591 - dense_1_loss_19: 0.0690 - dense_1_loss_20: 0.0685 - dense_1_loss_21: 0.0664 - dense_1_loss_22: 0.0665 - dense_1_loss_23: 0.0678 - dense_1_loss_24: 0.0658 - dense_1_loss_25: 0.0775 - dense_1_loss_26: 0.0647 - dense_1_loss_27: 0.0811 - dense_1_loss_28: 0.0752 - dense_1_loss_29: 0.0869 - dense_1_loss_30: 0.0000e+00 - dense_1_acc_1: 0.0500 - dense_1_acc_2: 0.5667 - dense_1_acc_3: 0.8667 - dense_1_acc_4: 0.9500 - dense_1_acc_5: 1.0000 - dense_1_acc_6: 0.9833 - dense_1_acc_7: 1.0000 - dense_1_acc_8: 1.0000 - dense_1_acc_9: 1.0000 - dense_1_acc_10: 1.0000 - dense_1_acc_11: 1.0000 - dense_1_acc_12: 1.0000 - dense_1_acc_13: 1.0000 - dense_1_acc_14: 1.0000 - dense_1_acc_15: 1.0000 - dense_1_acc_16: 1.0000 - dense_1_acc_17: 1.0000 - dense_1_acc_18: 1.0000 - dense_1_acc_19: 1.0000 - dense_1_acc_20: 1.0000 - dense_1_acc_21: 1.0000 - dense_1_acc_22: 1.0000 - dense_1_acc_23: 1.0000 - dense_1_acc_24: 1.0000 - dense_1_acc_25: 1.0000 - dense_1_acc_26: 1.0000 - dense_1_acc_27: 1.0000 - dense_1_acc_28: 1.0000 - dense_1_acc_29: 1.0000 - dense_1_acc_30: 0.0167             \n",
      "Epoch 67/100\n",
      "60/60 [==============================] - 1s - loss: 8.5139 - dense_1_loss_1: 3.8688 - dense_1_loss_2: 1.7920 - dense_1_loss_3: 0.7024 - dense_1_loss_4: 0.2764 - dense_1_loss_5: 0.1685 - dense_1_loss_6: 0.1131 - dense_1_loss_7: 0.0928 - dense_1_loss_8: 0.0894 - dense_1_loss_9: 0.0858 - dense_1_loss_10: 0.0660 - dense_1_loss_11: 0.0760 - dense_1_loss_12: 0.0628 - dense_1_loss_13: 0.0545 - dense_1_loss_14: 0.0579 - dense_1_loss_15: 0.0689 - dense_1_loss_16: 0.0655 - dense_1_loss_17: 0.0618 - dense_1_loss_18: 0.0565 - dense_1_loss_19: 0.0661 - dense_1_loss_20: 0.0656 - dense_1_loss_21: 0.0633 - dense_1_loss_22: 0.0632 - dense_1_loss_23: 0.0648 - dense_1_loss_24: 0.0628 - dense_1_loss_25: 0.0741 - dense_1_loss_26: 0.0615 - dense_1_loss_27: 0.0785 - dense_1_loss_28: 0.0722 - dense_1_loss_29: 0.0828 - dense_1_loss_30: 0.0000e+00 - dense_1_acc_1: 0.0500 - dense_1_acc_2: 0.5667 - dense_1_acc_3: 0.8667 - dense_1_acc_4: 0.9500 - dense_1_acc_5: 1.0000 - dense_1_acc_6: 0.9833 - dense_1_acc_7: 1.0000 - dense_1_acc_8: 1.0000 - dense_1_acc_9: 1.0000 - dense_1_acc_10: 1.0000 - dense_1_acc_11: 1.0000 - dense_1_acc_12: 1.0000 - dense_1_acc_13: 1.0000 - dense_1_acc_14: 1.0000 - dense_1_acc_15: 1.0000 - dense_1_acc_16: 1.0000 - dense_1_acc_17: 1.0000 - dense_1_acc_18: 1.0000 - dense_1_acc_19: 1.0000 - dense_1_acc_20: 1.0000 - dense_1_acc_21: 1.0000 - dense_1_acc_22: 1.0000 - dense_1_acc_23: 1.0000 - dense_1_acc_24: 1.0000 - dense_1_acc_25: 1.0000 - dense_1_acc_26: 1.0000 - dense_1_acc_27: 1.0000 - dense_1_acc_28: 1.0000 - dense_1_acc_29: 1.0000 - dense_1_acc_30: 0.0167     \n",
      "Epoch 68/100\n",
      "60/60 [==============================] - 1s - loss: 8.3868 - dense_1_loss_1: 3.8657 - dense_1_loss_2: 1.7701 - dense_1_loss_3: 0.6871 - dense_1_loss_4: 0.2673 - dense_1_loss_5: 0.1614 - dense_1_loss_6: 0.1079 - dense_1_loss_7: 0.0889 - dense_1_loss_8: 0.0861 - dense_1_loss_9: 0.0816 - dense_1_loss_10: 0.0635 - dense_1_loss_11: 0.0728 - dense_1_loss_12: 0.0605 - dense_1_loss_13: 0.0522 - dense_1_loss_14: 0.0556 - dense_1_loss_15: 0.0661 - dense_1_loss_16: 0.0627 - dense_1_loss_17: 0.0591 - dense_1_loss_18: 0.0542 - dense_1_loss_19: 0.0632 - dense_1_loss_20: 0.0631 - dense_1_loss_21: 0.0603 - dense_1_loss_22: 0.0604 - dense_1_loss_23: 0.0620 - dense_1_loss_24: 0.0604 - dense_1_loss_25: 0.0709 - dense_1_loss_26: 0.0590 - dense_1_loss_27: 0.0760 - dense_1_loss_28: 0.0693 - dense_1_loss_29: 0.0795 - dense_1_loss_30: 0.0000e+00 - dense_1_acc_1: 0.0500 - dense_1_acc_2: 0.6000 - dense_1_acc_3: 0.8667 - dense_1_acc_4: 0.9500 - dense_1_acc_5: 1.0000 - dense_1_acc_6: 0.9833 - dense_1_acc_7: 1.0000 - dense_1_acc_8: 1.0000 - dense_1_acc_9: 1.0000 - dense_1_acc_10: 1.0000 - dense_1_acc_11: 1.0000 - dense_1_acc_12: 1.0000 - dense_1_acc_13: 1.0000 - dense_1_acc_14: 1.0000 - dense_1_acc_15: 1.0000 - dense_1_acc_16: 1.0000 - dense_1_acc_17: 1.0000 - dense_1_acc_18: 1.0000 - dense_1_acc_19: 1.0000 - dense_1_acc_20: 1.0000 - dense_1_acc_21: 1.0000 - dense_1_acc_22: 1.0000 - dense_1_acc_23: 1.0000 - dense_1_acc_24: 1.0000 - dense_1_acc_25: 1.0000 - dense_1_acc_26: 1.0000 - dense_1_acc_27: 1.0000 - dense_1_acc_28: 1.0000 - dense_1_acc_29: 1.0000 - dense_1_acc_30: 0.0167     \n",
      "Epoch 69/100\n",
      "60/60 [==============================] - 1s - loss: 8.2652 - dense_1_loss_1: 3.8626 - dense_1_loss_2: 1.7493 - dense_1_loss_3: 0.6737 - dense_1_loss_4: 0.2573 - dense_1_loss_5: 0.1550 - dense_1_loss_6: 0.1027 - dense_1_loss_7: 0.0857 - dense_1_loss_8: 0.0827 - dense_1_loss_9: 0.0783 - dense_1_loss_10: 0.0607 - dense_1_loss_11: 0.0697 - dense_1_loss_12: 0.0579 - dense_1_loss_13: 0.0498 - dense_1_loss_14: 0.0535 - dense_1_loss_15: 0.0634 - dense_1_loss_16: 0.0600 - dense_1_loss_17: 0.0567 - dense_1_loss_18: 0.0520 - dense_1_loss_19: 0.0603 - dense_1_loss_20: 0.0604 - dense_1_loss_21: 0.0576 - dense_1_loss_22: 0.0578 - dense_1_loss_23: 0.0594 - dense_1_loss_24: 0.0579 - dense_1_loss_25: 0.0676 - dense_1_loss_26: 0.0569 - dense_1_loss_27: 0.0730 - dense_1_loss_28: 0.0665 - dense_1_loss_29: 0.0765 - dense_1_loss_30: 0.0000e+00 - dense_1_acc_1: 0.0500 - dense_1_acc_2: 0.6000 - dense_1_acc_3: 0.8667 - dense_1_acc_4: 0.9833 - dense_1_acc_5: 1.0000 - dense_1_acc_6: 1.0000 - dense_1_acc_7: 1.0000 - dense_1_acc_8: 1.0000 - dense_1_acc_9: 1.0000 - dense_1_acc_10: 1.0000 - dense_1_acc_11: 1.0000 - dense_1_acc_12: 1.0000 - dense_1_acc_13: 1.0000 - dense_1_acc_14: 1.0000 - dense_1_acc_15: 1.0000 - dense_1_acc_16: 1.0000 - dense_1_acc_17: 1.0000 - dense_1_acc_18: 1.0000 - dense_1_acc_19: 1.0000 - dense_1_acc_20: 1.0000 - dense_1_acc_21: 1.0000 - dense_1_acc_22: 1.0000 - dense_1_acc_23: 1.0000 - dense_1_acc_24: 1.0000 - dense_1_acc_25: 1.0000 - dense_1_acc_26: 1.0000 - dense_1_acc_27: 1.0000 - dense_1_acc_28: 1.0000 - dense_1_acc_29: 1.0000 - dense_1_acc_30: 0.0167         \n",
      "Epoch 70/100\n",
      "60/60 [==============================] - 1s - loss: 8.1501 - dense_1_loss_1: 3.8595 - dense_1_loss_2: 1.7282 - dense_1_loss_3: 0.6590 - dense_1_loss_4: 0.2489 - dense_1_loss_5: 0.1490 - dense_1_loss_6: 0.0986 - dense_1_loss_7: 0.0827 - dense_1_loss_8: 0.0793 - dense_1_loss_9: 0.0757 - dense_1_loss_10: 0.0578 - dense_1_loss_11: 0.0675 - dense_1_loss_12: 0.0556 - dense_1_loss_13: 0.0478 - dense_1_loss_14: 0.0515 - dense_1_loss_15: 0.0607 - dense_1_loss_16: 0.0574 - dense_1_loss_17: 0.0546 - dense_1_loss_18: 0.0500 - dense_1_loss_19: 0.0580 - dense_1_loss_20: 0.0577 - dense_1_loss_21: 0.0553 - dense_1_loss_22: 0.0556 - dense_1_loss_23: 0.0569 - dense_1_loss_24: 0.0555 - dense_1_loss_25: 0.0648 - dense_1_loss_26: 0.0552 - dense_1_loss_27: 0.0700 - dense_1_loss_28: 0.0638 - dense_1_loss_29: 0.0736 - dense_1_loss_30: 0.0000e+00 - dense_1_acc_1: 0.0500 - dense_1_acc_2: 0.6000 - dense_1_acc_3: 0.8667 - dense_1_acc_4: 0.9833 - dense_1_acc_5: 1.0000 - dense_1_acc_6: 1.0000 - dense_1_acc_7: 1.0000 - dense_1_acc_8: 1.0000 - dense_1_acc_9: 1.0000 - dense_1_acc_10: 1.0000 - dense_1_acc_11: 1.0000 - dense_1_acc_12: 1.0000 - dense_1_acc_13: 1.0000 - dense_1_acc_14: 1.0000 - dense_1_acc_15: 1.0000 - dense_1_acc_16: 1.0000 - dense_1_acc_17: 1.0000 - dense_1_acc_18: 1.0000 - dense_1_acc_19: 1.0000 - dense_1_acc_20: 1.0000 - dense_1_acc_21: 1.0000 - dense_1_acc_22: 1.0000 - dense_1_acc_23: 1.0000 - dense_1_acc_24: 1.0000 - dense_1_acc_25: 1.0000 - dense_1_acc_26: 1.0000 - dense_1_acc_27: 1.0000 - dense_1_acc_28: 1.0000 - dense_1_acc_29: 1.0000 - dense_1_acc_30: 0.0167         \n",
      "Epoch 71/100\n"
     ]
    },
    {
     "name": "stdout",
     "output_type": "stream",
     "text": [
      "60/60 [==============================] - 1s - loss: 8.0429 - dense_1_loss_1: 3.8563 - dense_1_loss_2: 1.7093 - dense_1_loss_3: 0.6458 - dense_1_loss_4: 0.2404 - dense_1_loss_5: 0.1432 - dense_1_loss_6: 0.0949 - dense_1_loss_7: 0.0797 - dense_1_loss_8: 0.0763 - dense_1_loss_9: 0.0729 - dense_1_loss_10: 0.0554 - dense_1_loss_11: 0.0651 - dense_1_loss_12: 0.0536 - dense_1_loss_13: 0.0461 - dense_1_loss_14: 0.0495 - dense_1_loss_15: 0.0582 - dense_1_loss_16: 0.0552 - dense_1_loss_17: 0.0527 - dense_1_loss_18: 0.0481 - dense_1_loss_19: 0.0557 - dense_1_loss_20: 0.0554 - dense_1_loss_21: 0.0532 - dense_1_loss_22: 0.0534 - dense_1_loss_23: 0.0545 - dense_1_loss_24: 0.0535 - dense_1_loss_25: 0.0626 - dense_1_loss_26: 0.0536 - dense_1_loss_27: 0.0665 - dense_1_loss_28: 0.0611 - dense_1_loss_29: 0.0706 - dense_1_loss_30: 0.0000e+00 - dense_1_acc_1: 0.0500 - dense_1_acc_2: 0.6000 - dense_1_acc_3: 0.8833 - dense_1_acc_4: 0.9833 - dense_1_acc_5: 1.0000 - dense_1_acc_6: 1.0000 - dense_1_acc_7: 1.0000 - dense_1_acc_8: 1.0000 - dense_1_acc_9: 1.0000 - dense_1_acc_10: 1.0000 - dense_1_acc_11: 1.0000 - dense_1_acc_12: 1.0000 - dense_1_acc_13: 1.0000 - dense_1_acc_14: 1.0000 - dense_1_acc_15: 1.0000 - dense_1_acc_16: 1.0000 - dense_1_acc_17: 1.0000 - dense_1_acc_18: 1.0000 - dense_1_acc_19: 1.0000 - dense_1_acc_20: 1.0000 - dense_1_acc_21: 1.0000 - dense_1_acc_22: 1.0000 - dense_1_acc_23: 1.0000 - dense_1_acc_24: 1.0000 - dense_1_acc_25: 1.0000 - dense_1_acc_26: 1.0000 - dense_1_acc_27: 1.0000 - dense_1_acc_28: 1.0000 - dense_1_acc_29: 1.0000 - dense_1_acc_30: 0.0167     \n",
      "Epoch 72/100\n",
      "60/60 [==============================] - 1s - loss: 7.9393 - dense_1_loss_1: 3.8534 - dense_1_loss_2: 1.6892 - dense_1_loss_3: 0.6326 - dense_1_loss_4: 0.2335 - dense_1_loss_5: 0.1381 - dense_1_loss_6: 0.0914 - dense_1_loss_7: 0.0768 - dense_1_loss_8: 0.0736 - dense_1_loss_9: 0.0701 - dense_1_loss_10: 0.0534 - dense_1_loss_11: 0.0623 - dense_1_loss_12: 0.0518 - dense_1_loss_13: 0.0444 - dense_1_loss_14: 0.0476 - dense_1_loss_15: 0.0559 - dense_1_loss_16: 0.0533 - dense_1_loss_17: 0.0506 - dense_1_loss_18: 0.0462 - dense_1_loss_19: 0.0533 - dense_1_loss_20: 0.0533 - dense_1_loss_21: 0.0511 - dense_1_loss_22: 0.0513 - dense_1_loss_23: 0.0524 - dense_1_loss_24: 0.0516 - dense_1_loss_25: 0.0606 - dense_1_loss_26: 0.0511 - dense_1_loss_27: 0.0642 - dense_1_loss_28: 0.0585 - dense_1_loss_29: 0.0678 - dense_1_loss_30: 0.0000e+00 - dense_1_acc_1: 0.0500 - dense_1_acc_2: 0.6000 - dense_1_acc_3: 0.9000 - dense_1_acc_4: 0.9833 - dense_1_acc_5: 1.0000 - dense_1_acc_6: 1.0000 - dense_1_acc_7: 1.0000 - dense_1_acc_8: 1.0000 - dense_1_acc_9: 1.0000 - dense_1_acc_10: 1.0000 - dense_1_acc_11: 1.0000 - dense_1_acc_12: 1.0000 - dense_1_acc_13: 1.0000 - dense_1_acc_14: 1.0000 - dense_1_acc_15: 1.0000 - dense_1_acc_16: 1.0000 - dense_1_acc_17: 1.0000 - dense_1_acc_18: 1.0000 - dense_1_acc_19: 1.0000 - dense_1_acc_20: 1.0000 - dense_1_acc_21: 1.0000 - dense_1_acc_22: 1.0000 - dense_1_acc_23: 1.0000 - dense_1_acc_24: 1.0000 - dense_1_acc_25: 1.0000 - dense_1_acc_26: 1.0000 - dense_1_acc_27: 1.0000 - dense_1_acc_28: 1.0000 - dense_1_acc_29: 1.0000 - dense_1_acc_30: 0.0167     \n",
      "Epoch 73/100\n",
      "60/60 [==============================] - 1s - loss: 7.8439 - dense_1_loss_1: 3.8501 - dense_1_loss_2: 1.6703 - dense_1_loss_3: 0.6205 - dense_1_loss_4: 0.2267 - dense_1_loss_5: 0.1335 - dense_1_loss_6: 0.0881 - dense_1_loss_7: 0.0740 - dense_1_loss_8: 0.0711 - dense_1_loss_9: 0.0674 - dense_1_loss_10: 0.0515 - dense_1_loss_11: 0.0598 - dense_1_loss_12: 0.0501 - dense_1_loss_13: 0.0429 - dense_1_loss_14: 0.0459 - dense_1_loss_15: 0.0539 - dense_1_loss_16: 0.0514 - dense_1_loss_17: 0.0488 - dense_1_loss_18: 0.0444 - dense_1_loss_19: 0.0514 - dense_1_loss_20: 0.0514 - dense_1_loss_21: 0.0490 - dense_1_loss_22: 0.0493 - dense_1_loss_23: 0.0505 - dense_1_loss_24: 0.0498 - dense_1_loss_25: 0.0586 - dense_1_loss_26: 0.0487 - dense_1_loss_27: 0.0630 - dense_1_loss_28: 0.0565 - dense_1_loss_29: 0.0653 - dense_1_loss_30: 0.0000e+00 - dense_1_acc_1: 0.0500 - dense_1_acc_2: 0.6000 - dense_1_acc_3: 0.9000 - dense_1_acc_4: 0.9833 - dense_1_acc_5: 1.0000 - dense_1_acc_6: 1.0000 - dense_1_acc_7: 1.0000 - dense_1_acc_8: 1.0000 - dense_1_acc_9: 1.0000 - dense_1_acc_10: 1.0000 - dense_1_acc_11: 1.0000 - dense_1_acc_12: 1.0000 - dense_1_acc_13: 1.0000 - dense_1_acc_14: 1.0000 - dense_1_acc_15: 1.0000 - dense_1_acc_16: 1.0000 - dense_1_acc_17: 1.0000 - dense_1_acc_18: 1.0000 - dense_1_acc_19: 1.0000 - dense_1_acc_20: 1.0000 - dense_1_acc_21: 1.0000 - dense_1_acc_22: 1.0000 - dense_1_acc_23: 1.0000 - dense_1_acc_24: 1.0000 - dense_1_acc_25: 1.0000 - dense_1_acc_26: 1.0000 - dense_1_acc_27: 1.0000 - dense_1_acc_28: 1.0000 - dense_1_acc_29: 1.0000 - dense_1_acc_30: 0.0167         \n",
      "Epoch 74/100\n",
      "60/60 [==============================] - 1s - loss: 7.7501 - dense_1_loss_1: 3.8471 - dense_1_loss_2: 1.6523 - dense_1_loss_3: 0.6085 - dense_1_loss_4: 0.2189 - dense_1_loss_5: 0.1289 - dense_1_loss_6: 0.0842 - dense_1_loss_7: 0.0714 - dense_1_loss_8: 0.0685 - dense_1_loss_9: 0.0646 - dense_1_loss_10: 0.0497 - dense_1_loss_11: 0.0575 - dense_1_loss_12: 0.0484 - dense_1_loss_13: 0.0415 - dense_1_loss_14: 0.0442 - dense_1_loss_15: 0.0520 - dense_1_loss_16: 0.0497 - dense_1_loss_17: 0.0470 - dense_1_loss_18: 0.0429 - dense_1_loss_19: 0.0494 - dense_1_loss_20: 0.0495 - dense_1_loss_21: 0.0471 - dense_1_loss_22: 0.0474 - dense_1_loss_23: 0.0487 - dense_1_loss_24: 0.0481 - dense_1_loss_25: 0.0566 - dense_1_loss_26: 0.0470 - dense_1_loss_27: 0.0612 - dense_1_loss_28: 0.0546 - dense_1_loss_29: 0.0630 - dense_1_loss_30: 0.0000e+00 - dense_1_acc_1: 0.0500 - dense_1_acc_2: 0.6000 - dense_1_acc_3: 0.9000 - dense_1_acc_4: 0.9833 - dense_1_acc_5: 1.0000 - dense_1_acc_6: 1.0000 - dense_1_acc_7: 1.0000 - dense_1_acc_8: 1.0000 - dense_1_acc_9: 1.0000 - dense_1_acc_10: 1.0000 - dense_1_acc_11: 1.0000 - dense_1_acc_12: 1.0000 - dense_1_acc_13: 1.0000 - dense_1_acc_14: 1.0000 - dense_1_acc_15: 1.0000 - dense_1_acc_16: 1.0000 - dense_1_acc_17: 1.0000 - dense_1_acc_18: 1.0000 - dense_1_acc_19: 1.0000 - dense_1_acc_20: 1.0000 - dense_1_acc_21: 1.0000 - dense_1_acc_22: 1.0000 - dense_1_acc_23: 1.0000 - dense_1_acc_24: 1.0000 - dense_1_acc_25: 1.0000 - dense_1_acc_26: 1.0000 - dense_1_acc_27: 1.0000 - dense_1_acc_28: 1.0000 - dense_1_acc_29: 1.0000 - dense_1_acc_30: 0.0167         \n",
      "Epoch 75/100\n",
      "60/60 [==============================] - 1s - loss: 7.6637 - dense_1_loss_1: 3.8444 - dense_1_loss_2: 1.6344 - dense_1_loss_3: 0.5969 - dense_1_loss_4: 0.2127 - dense_1_loss_5: 0.1245 - dense_1_loss_6: 0.0810 - dense_1_loss_7: 0.0693 - dense_1_loss_8: 0.0660 - dense_1_loss_9: 0.0626 - dense_1_loss_10: 0.0478 - dense_1_loss_11: 0.0557 - dense_1_loss_12: 0.0467 - dense_1_loss_13: 0.0401 - dense_1_loss_14: 0.0429 - dense_1_loss_15: 0.0502 - dense_1_loss_16: 0.0479 - dense_1_loss_17: 0.0454 - dense_1_loss_18: 0.0414 - dense_1_loss_19: 0.0479 - dense_1_loss_20: 0.0477 - dense_1_loss_21: 0.0455 - dense_1_loss_22: 0.0458 - dense_1_loss_23: 0.0470 - dense_1_loss_24: 0.0465 - dense_1_loss_25: 0.0547 - dense_1_loss_26: 0.0457 - dense_1_loss_27: 0.0591 - dense_1_loss_28: 0.0528 - dense_1_loss_29: 0.0611 - dense_1_loss_30: 0.0000e+00 - dense_1_acc_1: 0.0500 - dense_1_acc_2: 0.6000 - dense_1_acc_3: 0.9000 - dense_1_acc_4: 0.9833 - dense_1_acc_5: 1.0000 - dense_1_acc_6: 1.0000 - dense_1_acc_7: 1.0000 - dense_1_acc_8: 1.0000 - dense_1_acc_9: 1.0000 - dense_1_acc_10: 1.0000 - dense_1_acc_11: 1.0000 - dense_1_acc_12: 1.0000 - dense_1_acc_13: 1.0000 - dense_1_acc_14: 1.0000 - dense_1_acc_15: 1.0000 - dense_1_acc_16: 1.0000 - dense_1_acc_17: 1.0000 - dense_1_acc_18: 1.0000 - dense_1_acc_19: 1.0000 - dense_1_acc_20: 1.0000 - dense_1_acc_21: 1.0000 - dense_1_acc_22: 1.0000 - dense_1_acc_23: 1.0000 - dense_1_acc_24: 1.0000 - dense_1_acc_25: 1.0000 - dense_1_acc_26: 1.0000 - dense_1_acc_27: 1.0000 - dense_1_acc_28: 1.0000 - dense_1_acc_29: 1.0000 - dense_1_acc_30: 0.0167         \n",
      "Epoch 76/100\n"
     ]
    },
    {
     "name": "stdout",
     "output_type": "stream",
     "text": [
      "60/60 [==============================] - 1s - loss: 7.5792 - dense_1_loss_1: 3.8414 - dense_1_loss_2: 1.6173 - dense_1_loss_3: 0.5854 - dense_1_loss_4: 0.2063 - dense_1_loss_5: 0.1204 - dense_1_loss_6: 0.0782 - dense_1_loss_7: 0.0672 - dense_1_loss_8: 0.0639 - dense_1_loss_9: 0.0607 - dense_1_loss_10: 0.0462 - dense_1_loss_11: 0.0540 - dense_1_loss_12: 0.0452 - dense_1_loss_13: 0.0388 - dense_1_loss_14: 0.0414 - dense_1_loss_15: 0.0485 - dense_1_loss_16: 0.0462 - dense_1_loss_17: 0.0439 - dense_1_loss_18: 0.0400 - dense_1_loss_19: 0.0462 - dense_1_loss_20: 0.0460 - dense_1_loss_21: 0.0438 - dense_1_loss_22: 0.0443 - dense_1_loss_23: 0.0454 - dense_1_loss_24: 0.0449 - dense_1_loss_25: 0.0529 - dense_1_loss_26: 0.0448 - dense_1_loss_27: 0.0561 - dense_1_loss_28: 0.0509 - dense_1_loss_29: 0.0588 - dense_1_loss_30: 0.0000e+00 - dense_1_acc_1: 0.0500 - dense_1_acc_2: 0.6000 - dense_1_acc_3: 0.9000 - dense_1_acc_4: 0.9833 - dense_1_acc_5: 1.0000 - dense_1_acc_6: 1.0000 - dense_1_acc_7: 1.0000 - dense_1_acc_8: 1.0000 - dense_1_acc_9: 1.0000 - dense_1_acc_10: 1.0000 - dense_1_acc_11: 1.0000 - dense_1_acc_12: 1.0000 - dense_1_acc_13: 1.0000 - dense_1_acc_14: 1.0000 - dense_1_acc_15: 1.0000 - dense_1_acc_16: 1.0000 - dense_1_acc_17: 1.0000 - dense_1_acc_18: 1.0000 - dense_1_acc_19: 1.0000 - dense_1_acc_20: 1.0000 - dense_1_acc_21: 1.0000 - dense_1_acc_22: 1.0000 - dense_1_acc_23: 1.0000 - dense_1_acc_24: 1.0000 - dense_1_acc_25: 1.0000 - dense_1_acc_26: 1.0000 - dense_1_acc_27: 1.0000 - dense_1_acc_28: 1.0000 - dense_1_acc_29: 1.0000 - dense_1_acc_30: 0.0167     \n",
      "Epoch 77/100\n",
      "60/60 [==============================] - 1s - loss: 7.5019 - dense_1_loss_1: 3.8386 - dense_1_loss_2: 1.6007 - dense_1_loss_3: 0.5748 - dense_1_loss_4: 0.2010 - dense_1_loss_5: 0.1169 - dense_1_loss_6: 0.0757 - dense_1_loss_7: 0.0652 - dense_1_loss_8: 0.0621 - dense_1_loss_9: 0.0588 - dense_1_loss_10: 0.0445 - dense_1_loss_11: 0.0525 - dense_1_loss_12: 0.0438 - dense_1_loss_13: 0.0376 - dense_1_loss_14: 0.0401 - dense_1_loss_15: 0.0469 - dense_1_loss_16: 0.0447 - dense_1_loss_17: 0.0425 - dense_1_loss_18: 0.0387 - dense_1_loss_19: 0.0446 - dense_1_loss_20: 0.0445 - dense_1_loss_21: 0.0423 - dense_1_loss_22: 0.0428 - dense_1_loss_23: 0.0439 - dense_1_loss_24: 0.0435 - dense_1_loss_25: 0.0511 - dense_1_loss_26: 0.0437 - dense_1_loss_27: 0.0541 - dense_1_loss_28: 0.0492 - dense_1_loss_29: 0.0570 - dense_1_loss_30: 0.0000e+00 - dense_1_acc_1: 0.0500 - dense_1_acc_2: 0.6000 - dense_1_acc_3: 0.9000 - dense_1_acc_4: 0.9833 - dense_1_acc_5: 1.0000 - dense_1_acc_6: 1.0000 - dense_1_acc_7: 1.0000 - dense_1_acc_8: 1.0000 - dense_1_acc_9: 1.0000 - dense_1_acc_10: 1.0000 - dense_1_acc_11: 1.0000 - dense_1_acc_12: 1.0000 - dense_1_acc_13: 1.0000 - dense_1_acc_14: 1.0000 - dense_1_acc_15: 1.0000 - dense_1_acc_16: 1.0000 - dense_1_acc_17: 1.0000 - dense_1_acc_18: 1.0000 - dense_1_acc_19: 1.0000 - dense_1_acc_20: 1.0000 - dense_1_acc_21: 1.0000 - dense_1_acc_22: 1.0000 - dense_1_acc_23: 1.0000 - dense_1_acc_24: 1.0000 - dense_1_acc_25: 1.0000 - dense_1_acc_26: 1.0000 - dense_1_acc_27: 1.0000 - dense_1_acc_28: 1.0000 - dense_1_acc_29: 1.0000 - dense_1_acc_30: 0.0167         \n",
      "Epoch 78/100\n",
      "60/60 [==============================] - 1s - loss: 7.4256 - dense_1_loss_1: 3.8355 - dense_1_loss_2: 1.5841 - dense_1_loss_3: 0.5647 - dense_1_loss_4: 0.1955 - dense_1_loss_5: 0.1135 - dense_1_loss_6: 0.0730 - dense_1_loss_7: 0.0633 - dense_1_loss_8: 0.0602 - dense_1_loss_9: 0.0568 - dense_1_loss_10: 0.0431 - dense_1_loss_11: 0.0507 - dense_1_loss_12: 0.0424 - dense_1_loss_13: 0.0363 - dense_1_loss_14: 0.0388 - dense_1_loss_15: 0.0454 - dense_1_loss_16: 0.0432 - dense_1_loss_17: 0.0411 - dense_1_loss_18: 0.0375 - dense_1_loss_19: 0.0429 - dense_1_loss_20: 0.0432 - dense_1_loss_21: 0.0409 - dense_1_loss_22: 0.0413 - dense_1_loss_23: 0.0425 - dense_1_loss_24: 0.0421 - dense_1_loss_25: 0.0495 - dense_1_loss_26: 0.0423 - dense_1_loss_27: 0.0528 - dense_1_loss_28: 0.0478 - dense_1_loss_29: 0.0553 - dense_1_loss_30: 0.0000e+00 - dense_1_acc_1: 0.0500 - dense_1_acc_2: 0.6000 - dense_1_acc_3: 0.9000 - dense_1_acc_4: 0.9833 - dense_1_acc_5: 1.0000 - dense_1_acc_6: 1.0000 - dense_1_acc_7: 1.0000 - dense_1_acc_8: 1.0000 - dense_1_acc_9: 1.0000 - dense_1_acc_10: 1.0000 - dense_1_acc_11: 1.0000 - dense_1_acc_12: 1.0000 - dense_1_acc_13: 1.0000 - dense_1_acc_14: 1.0000 - dense_1_acc_15: 1.0000 - dense_1_acc_16: 1.0000 - dense_1_acc_17: 1.0000 - dense_1_acc_18: 1.0000 - dense_1_acc_19: 1.0000 - dense_1_acc_20: 1.0000 - dense_1_acc_21: 1.0000 - dense_1_acc_22: 1.0000 - dense_1_acc_23: 1.0000 - dense_1_acc_24: 1.0000 - dense_1_acc_25: 1.0000 - dense_1_acc_26: 1.0000 - dense_1_acc_27: 1.0000 - dense_1_acc_28: 1.0000 - dense_1_acc_29: 1.0000 - dense_1_acc_30: 0.0167     \n",
      "Epoch 79/100\n",
      "60/60 [==============================] - 1s - loss: 7.3506 - dense_1_loss_1: 3.8329 - dense_1_loss_2: 1.5687 - dense_1_loss_3: 0.5533 - dense_1_loss_4: 0.1898 - dense_1_loss_5: 0.1098 - dense_1_loss_6: 0.0702 - dense_1_loss_7: 0.0611 - dense_1_loss_8: 0.0584 - dense_1_loss_9: 0.0546 - dense_1_loss_10: 0.0418 - dense_1_loss_11: 0.0491 - dense_1_loss_12: 0.0412 - dense_1_loss_13: 0.0350 - dense_1_loss_14: 0.0377 - dense_1_loss_15: 0.0440 - dense_1_loss_16: 0.0419 - dense_1_loss_17: 0.0397 - dense_1_loss_18: 0.0363 - dense_1_loss_19: 0.0413 - dense_1_loss_20: 0.0419 - dense_1_loss_21: 0.0395 - dense_1_loss_22: 0.0399 - dense_1_loss_23: 0.0412 - dense_1_loss_24: 0.0409 - dense_1_loss_25: 0.0481 - dense_1_loss_26: 0.0407 - dense_1_loss_27: 0.0517 - dense_1_loss_28: 0.0464 - dense_1_loss_29: 0.0534 - dense_1_loss_30: 0.0000e+00 - dense_1_acc_1: 0.0500 - dense_1_acc_2: 0.6000 - dense_1_acc_3: 0.9000 - dense_1_acc_4: 0.9833 - dense_1_acc_5: 1.0000 - dense_1_acc_6: 1.0000 - dense_1_acc_7: 1.0000 - dense_1_acc_8: 1.0000 - dense_1_acc_9: 1.0000 - dense_1_acc_10: 1.0000 - dense_1_acc_11: 1.0000 - dense_1_acc_12: 1.0000 - dense_1_acc_13: 1.0000 - dense_1_acc_14: 1.0000 - dense_1_acc_15: 1.0000 - dense_1_acc_16: 1.0000 - dense_1_acc_17: 1.0000 - dense_1_acc_18: 1.0000 - dense_1_acc_19: 1.0000 - dense_1_acc_20: 1.0000 - dense_1_acc_21: 1.0000 - dense_1_acc_22: 1.0000 - dense_1_acc_23: 1.0000 - dense_1_acc_24: 1.0000 - dense_1_acc_25: 1.0000 - dense_1_acc_26: 1.0000 - dense_1_acc_27: 1.0000 - dense_1_acc_28: 1.0000 - dense_1_acc_29: 1.0000 - dense_1_acc_30: 0.0167     \n",
      "Epoch 80/100\n",
      "60/60 [==============================] - 1s - loss: 7.2824 - dense_1_loss_1: 3.8299 - dense_1_loss_2: 1.5527 - dense_1_loss_3: 0.5444 - dense_1_loss_4: 0.1851 - dense_1_loss_5: 0.1068 - dense_1_loss_6: 0.0681 - dense_1_loss_7: 0.0594 - dense_1_loss_8: 0.0568 - dense_1_loss_9: 0.0531 - dense_1_loss_10: 0.0405 - dense_1_loss_11: 0.0476 - dense_1_loss_12: 0.0400 - dense_1_loss_13: 0.0341 - dense_1_loss_14: 0.0365 - dense_1_loss_15: 0.0426 - dense_1_loss_16: 0.0406 - dense_1_loss_17: 0.0385 - dense_1_loss_18: 0.0353 - dense_1_loss_19: 0.0401 - dense_1_loss_20: 0.0406 - dense_1_loss_21: 0.0383 - dense_1_loss_22: 0.0387 - dense_1_loss_23: 0.0400 - dense_1_loss_24: 0.0396 - dense_1_loss_25: 0.0467 - dense_1_loss_26: 0.0392 - dense_1_loss_27: 0.0506 - dense_1_loss_28: 0.0449 - dense_1_loss_29: 0.0516 - dense_1_loss_30: 0.0000e+00 - dense_1_acc_1: 0.0500 - dense_1_acc_2: 0.6000 - dense_1_acc_3: 0.9000 - dense_1_acc_4: 0.9833 - dense_1_acc_5: 1.0000 - dense_1_acc_6: 1.0000 - dense_1_acc_7: 1.0000 - dense_1_acc_8: 1.0000 - dense_1_acc_9: 1.0000 - dense_1_acc_10: 1.0000 - dense_1_acc_11: 1.0000 - dense_1_acc_12: 1.0000 - dense_1_acc_13: 1.0000 - dense_1_acc_14: 1.0000 - dense_1_acc_15: 1.0000 - dense_1_acc_16: 1.0000 - dense_1_acc_17: 1.0000 - dense_1_acc_18: 1.0000 - dense_1_acc_19: 1.0000 - dense_1_acc_20: 1.0000 - dense_1_acc_21: 1.0000 - dense_1_acc_22: 1.0000 - dense_1_acc_23: 1.0000 - dense_1_acc_24: 1.0000 - dense_1_acc_25: 1.0000 - dense_1_acc_26: 1.0000 - dense_1_acc_27: 1.0000 - dense_1_acc_28: 1.0000 - dense_1_acc_29: 1.0000 - dense_1_acc_30: 0.0167     \n",
      "Epoch 81/100\n"
     ]
    },
    {
     "name": "stdout",
     "output_type": "stream",
     "text": [
      "60/60 [==============================] - 1s - loss: 7.2144 - dense_1_loss_1: 3.8271 - dense_1_loss_2: 1.5375 - dense_1_loss_3: 0.5346 - dense_1_loss_4: 0.1802 - dense_1_loss_5: 0.1035 - dense_1_loss_6: 0.0659 - dense_1_loss_7: 0.0576 - dense_1_loss_8: 0.0549 - dense_1_loss_9: 0.0516 - dense_1_loss_10: 0.0392 - dense_1_loss_11: 0.0462 - dense_1_loss_12: 0.0388 - dense_1_loss_13: 0.0331 - dense_1_loss_14: 0.0354 - dense_1_loss_15: 0.0412 - dense_1_loss_16: 0.0394 - dense_1_loss_17: 0.0373 - dense_1_loss_18: 0.0342 - dense_1_loss_19: 0.0388 - dense_1_loss_20: 0.0393 - dense_1_loss_21: 0.0371 - dense_1_loss_22: 0.0376 - dense_1_loss_23: 0.0387 - dense_1_loss_24: 0.0385 - dense_1_loss_25: 0.0453 - dense_1_loss_26: 0.0383 - dense_1_loss_27: 0.0491 - dense_1_loss_28: 0.0437 - dense_1_loss_29: 0.0502 - dense_1_loss_30: 0.0000e+00 - dense_1_acc_1: 0.0500 - dense_1_acc_2: 0.6000 - dense_1_acc_3: 0.9000 - dense_1_acc_4: 0.9833 - dense_1_acc_5: 1.0000 - dense_1_acc_6: 1.0000 - dense_1_acc_7: 1.0000 - dense_1_acc_8: 1.0000 - dense_1_acc_9: 1.0000 - dense_1_acc_10: 1.0000 - dense_1_acc_11: 1.0000 - dense_1_acc_12: 1.0000 - dense_1_acc_13: 1.0000 - dense_1_acc_14: 1.0000 - dense_1_acc_15: 1.0000 - dense_1_acc_16: 1.0000 - dense_1_acc_17: 1.0000 - dense_1_acc_18: 1.0000 - dense_1_acc_19: 1.0000 - dense_1_acc_20: 1.0000 - dense_1_acc_21: 1.0000 - dense_1_acc_22: 1.0000 - dense_1_acc_23: 1.0000 - dense_1_acc_24: 1.0000 - dense_1_acc_25: 1.0000 - dense_1_acc_26: 1.0000 - dense_1_acc_27: 1.0000 - dense_1_acc_28: 1.0000 - dense_1_acc_29: 1.0000 - dense_1_acc_30: 0.0167         \n",
      "Epoch 82/100\n",
      "60/60 [==============================] - 1s - loss: 7.1524 - dense_1_loss_1: 3.8243 - dense_1_loss_2: 1.5232 - dense_1_loss_3: 0.5258 - dense_1_loss_4: 0.1759 - dense_1_loss_5: 0.1009 - dense_1_loss_6: 0.0642 - dense_1_loss_7: 0.0561 - dense_1_loss_8: 0.0533 - dense_1_loss_9: 0.0502 - dense_1_loss_10: 0.0381 - dense_1_loss_11: 0.0450 - dense_1_loss_12: 0.0377 - dense_1_loss_13: 0.0322 - dense_1_loss_14: 0.0344 - dense_1_loss_15: 0.0400 - dense_1_loss_16: 0.0383 - dense_1_loss_17: 0.0364 - dense_1_loss_18: 0.0332 - dense_1_loss_19: 0.0378 - dense_1_loss_20: 0.0381 - dense_1_loss_21: 0.0359 - dense_1_loss_22: 0.0365 - dense_1_loss_23: 0.0376 - dense_1_loss_24: 0.0374 - dense_1_loss_25: 0.0441 - dense_1_loss_26: 0.0376 - dense_1_loss_27: 0.0471 - dense_1_loss_28: 0.0422 - dense_1_loss_29: 0.0487 - dense_1_loss_30: 0.0000e+00 - dense_1_acc_1: 0.0500 - dense_1_acc_2: 0.6000 - dense_1_acc_3: 0.9000 - dense_1_acc_4: 0.9833 - dense_1_acc_5: 1.0000 - dense_1_acc_6: 1.0000 - dense_1_acc_7: 1.0000 - dense_1_acc_8: 1.0000 - dense_1_acc_9: 1.0000 - dense_1_acc_10: 1.0000 - dense_1_acc_11: 1.0000 - dense_1_acc_12: 1.0000 - dense_1_acc_13: 1.0000 - dense_1_acc_14: 1.0000 - dense_1_acc_15: 1.0000 - dense_1_acc_16: 1.0000 - dense_1_acc_17: 1.0000 - dense_1_acc_18: 1.0000 - dense_1_acc_19: 1.0000 - dense_1_acc_20: 1.0000 - dense_1_acc_21: 1.0000 - dense_1_acc_22: 1.0000 - dense_1_acc_23: 1.0000 - dense_1_acc_24: 1.0000 - dense_1_acc_25: 1.0000 - dense_1_acc_26: 1.0000 - dense_1_acc_27: 1.0000 - dense_1_acc_28: 1.0000 - dense_1_acc_29: 1.0000 - dense_1_acc_30: 0.0167     \n",
      "Epoch 83/100\n",
      "60/60 [==============================] - 1s - loss: 7.0890 - dense_1_loss_1: 3.8217 - dense_1_loss_2: 1.5081 - dense_1_loss_3: 0.5170 - dense_1_loss_4: 0.1710 - dense_1_loss_5: 0.0979 - dense_1_loss_6: 0.0622 - dense_1_loss_7: 0.0545 - dense_1_loss_8: 0.0517 - dense_1_loss_9: 0.0489 - dense_1_loss_10: 0.0369 - dense_1_loss_11: 0.0436 - dense_1_loss_12: 0.0367 - dense_1_loss_13: 0.0314 - dense_1_loss_14: 0.0335 - dense_1_loss_15: 0.0388 - dense_1_loss_16: 0.0372 - dense_1_loss_17: 0.0354 - dense_1_loss_18: 0.0323 - dense_1_loss_19: 0.0367 - dense_1_loss_20: 0.0370 - dense_1_loss_21: 0.0348 - dense_1_loss_22: 0.0354 - dense_1_loss_23: 0.0364 - dense_1_loss_24: 0.0364 - dense_1_loss_25: 0.0427 - dense_1_loss_26: 0.0366 - dense_1_loss_27: 0.0457 - dense_1_loss_28: 0.0410 - dense_1_loss_29: 0.0475 - dense_1_loss_30: 0.0000e+00 - dense_1_acc_1: 0.0500 - dense_1_acc_2: 0.6000 - dense_1_acc_3: 0.9000 - dense_1_acc_4: 0.9833 - dense_1_acc_5: 1.0000 - dense_1_acc_6: 1.0000 - dense_1_acc_7: 1.0000 - dense_1_acc_8: 1.0000 - dense_1_acc_9: 1.0000 - dense_1_acc_10: 1.0000 - dense_1_acc_11: 1.0000 - dense_1_acc_12: 1.0000 - dense_1_acc_13: 1.0000 - dense_1_acc_14: 1.0000 - dense_1_acc_15: 1.0000 - dense_1_acc_16: 1.0000 - dense_1_acc_17: 1.0000 - dense_1_acc_18: 1.0000 - dense_1_acc_19: 1.0000 - dense_1_acc_20: 1.0000 - dense_1_acc_21: 1.0000 - dense_1_acc_22: 1.0000 - dense_1_acc_23: 1.0000 - dense_1_acc_24: 1.0000 - dense_1_acc_25: 1.0000 - dense_1_acc_26: 1.0000 - dense_1_acc_27: 1.0000 - dense_1_acc_28: 1.0000 - dense_1_acc_29: 1.0000 - dense_1_acc_30: 0.0167         \n",
      "Epoch 84/100\n",
      "60/60 [==============================] - 1s - loss: 7.0303 - dense_1_loss_1: 3.8189 - dense_1_loss_2: 1.4935 - dense_1_loss_3: 0.5086 - dense_1_loss_4: 0.1669 - dense_1_loss_5: 0.0955 - dense_1_loss_6: 0.0605 - dense_1_loss_7: 0.0531 - dense_1_loss_8: 0.0503 - dense_1_loss_9: 0.0475 - dense_1_loss_10: 0.0359 - dense_1_loss_11: 0.0424 - dense_1_loss_12: 0.0358 - dense_1_loss_13: 0.0305 - dense_1_loss_14: 0.0326 - dense_1_loss_15: 0.0377 - dense_1_loss_16: 0.0361 - dense_1_loss_17: 0.0344 - dense_1_loss_18: 0.0314 - dense_1_loss_19: 0.0356 - dense_1_loss_20: 0.0360 - dense_1_loss_21: 0.0338 - dense_1_loss_22: 0.0344 - dense_1_loss_23: 0.0354 - dense_1_loss_24: 0.0354 - dense_1_loss_25: 0.0417 - dense_1_loss_26: 0.0357 - dense_1_loss_27: 0.0446 - dense_1_loss_28: 0.0400 - dense_1_loss_29: 0.0463 - dense_1_loss_30: 0.0000e+00 - dense_1_acc_1: 0.0500 - dense_1_acc_2: 0.6000 - dense_1_acc_3: 0.9000 - dense_1_acc_4: 0.9833 - dense_1_acc_5: 1.0000 - dense_1_acc_6: 1.0000 - dense_1_acc_7: 1.0000 - dense_1_acc_8: 1.0000 - dense_1_acc_9: 1.0000 - dense_1_acc_10: 1.0000 - dense_1_acc_11: 1.0000 - dense_1_acc_12: 1.0000 - dense_1_acc_13: 1.0000 - dense_1_acc_14: 1.0000 - dense_1_acc_15: 1.0000 - dense_1_acc_16: 1.0000 - dense_1_acc_17: 1.0000 - dense_1_acc_18: 1.0000 - dense_1_acc_19: 1.0000 - dense_1_acc_20: 1.0000 - dense_1_acc_21: 1.0000 - dense_1_acc_22: 1.0000 - dense_1_acc_23: 1.0000 - dense_1_acc_24: 1.0000 - dense_1_acc_25: 1.0000 - dense_1_acc_26: 1.0000 - dense_1_acc_27: 1.0000 - dense_1_acc_28: 1.0000 - dense_1_acc_29: 1.0000 - dense_1_acc_30: 0.0167     \n",
      "Epoch 85/100\n",
      "60/60 [==============================] - 1s - loss: 6.9733 - dense_1_loss_1: 3.8162 - dense_1_loss_2: 1.4803 - dense_1_loss_3: 0.4996 - dense_1_loss_4: 0.1627 - dense_1_loss_5: 0.0931 - dense_1_loss_6: 0.0588 - dense_1_loss_7: 0.0516 - dense_1_loss_8: 0.0490 - dense_1_loss_9: 0.0462 - dense_1_loss_10: 0.0349 - dense_1_loss_11: 0.0411 - dense_1_loss_12: 0.0349 - dense_1_loss_13: 0.0296 - dense_1_loss_14: 0.0317 - dense_1_loss_15: 0.0367 - dense_1_loss_16: 0.0352 - dense_1_loss_17: 0.0334 - dense_1_loss_18: 0.0305 - dense_1_loss_19: 0.0345 - dense_1_loss_20: 0.0351 - dense_1_loss_21: 0.0328 - dense_1_loss_22: 0.0335 - dense_1_loss_23: 0.0345 - dense_1_loss_24: 0.0345 - dense_1_loss_25: 0.0406 - dense_1_loss_26: 0.0346 - dense_1_loss_27: 0.0436 - dense_1_loss_28: 0.0390 - dense_1_loss_29: 0.0450 - dense_1_loss_30: 0.0000e+00 - dense_1_acc_1: 0.0500 - dense_1_acc_2: 0.6000 - dense_1_acc_3: 0.9000 - dense_1_acc_4: 0.9833 - dense_1_acc_5: 1.0000 - dense_1_acc_6: 1.0000 - dense_1_acc_7: 1.0000 - dense_1_acc_8: 1.0000 - dense_1_acc_9: 1.0000 - dense_1_acc_10: 1.0000 - dense_1_acc_11: 1.0000 - dense_1_acc_12: 1.0000 - dense_1_acc_13: 1.0000 - dense_1_acc_14: 1.0000 - dense_1_acc_15: 1.0000 - dense_1_acc_16: 1.0000 - dense_1_acc_17: 1.0000 - dense_1_acc_18: 1.0000 - dense_1_acc_19: 1.0000 - dense_1_acc_20: 1.0000 - dense_1_acc_21: 1.0000 - dense_1_acc_22: 1.0000 - dense_1_acc_23: 1.0000 - dense_1_acc_24: 1.0000 - dense_1_acc_25: 1.0000 - dense_1_acc_26: 1.0000 - dense_1_acc_27: 1.0000 - dense_1_acc_28: 1.0000 - dense_1_acc_29: 1.0000 - dense_1_acc_30: 0.0167         \n",
      "Epoch 86/100\n"
     ]
    },
    {
     "name": "stdout",
     "output_type": "stream",
     "text": [
      "60/60 [==============================] - 1s - loss: 6.9191 - dense_1_loss_1: 3.8136 - dense_1_loss_2: 1.4665 - dense_1_loss_3: 0.4918 - dense_1_loss_4: 0.1589 - dense_1_loss_5: 0.0909 - dense_1_loss_6: 0.0573 - dense_1_loss_7: 0.0504 - dense_1_loss_8: 0.0478 - dense_1_loss_9: 0.0449 - dense_1_loss_10: 0.0340 - dense_1_loss_11: 0.0400 - dense_1_loss_12: 0.0341 - dense_1_loss_13: 0.0288 - dense_1_loss_14: 0.0309 - dense_1_loss_15: 0.0358 - dense_1_loss_16: 0.0342 - dense_1_loss_17: 0.0325 - dense_1_loss_18: 0.0297 - dense_1_loss_19: 0.0336 - dense_1_loss_20: 0.0342 - dense_1_loss_21: 0.0319 - dense_1_loss_22: 0.0326 - dense_1_loss_23: 0.0335 - dense_1_loss_24: 0.0336 - dense_1_loss_25: 0.0395 - dense_1_loss_26: 0.0336 - dense_1_loss_27: 0.0427 - dense_1_loss_28: 0.0379 - dense_1_loss_29: 0.0438 - dense_1_loss_30: 0.0000e+00 - dense_1_acc_1: 0.0500 - dense_1_acc_2: 0.6000 - dense_1_acc_3: 0.9000 - dense_1_acc_4: 0.9833 - dense_1_acc_5: 1.0000 - dense_1_acc_6: 1.0000 - dense_1_acc_7: 1.0000 - dense_1_acc_8: 1.0000 - dense_1_acc_9: 1.0000 - dense_1_acc_10: 1.0000 - dense_1_acc_11: 1.0000 - dense_1_acc_12: 1.0000 - dense_1_acc_13: 1.0000 - dense_1_acc_14: 1.0000 - dense_1_acc_15: 1.0000 - dense_1_acc_16: 1.0000 - dense_1_acc_17: 1.0000 - dense_1_acc_18: 1.0000 - dense_1_acc_19: 1.0000 - dense_1_acc_20: 1.0000 - dense_1_acc_21: 1.0000 - dense_1_acc_22: 1.0000 - dense_1_acc_23: 1.0000 - dense_1_acc_24: 1.0000 - dense_1_acc_25: 1.0000 - dense_1_acc_26: 1.0000 - dense_1_acc_27: 1.0000 - dense_1_acc_28: 1.0000 - dense_1_acc_29: 1.0000 - dense_1_acc_30: 0.0167         \n",
      "Epoch 87/100\n",
      "60/60 [==============================] - 1s - loss: 6.8674 - dense_1_loss_1: 3.8107 - dense_1_loss_2: 1.4541 - dense_1_loss_3: 0.4841 - dense_1_loss_4: 0.1554 - dense_1_loss_5: 0.0890 - dense_1_loss_6: 0.0559 - dense_1_loss_7: 0.0493 - dense_1_loss_8: 0.0466 - dense_1_loss_9: 0.0438 - dense_1_loss_10: 0.0332 - dense_1_loss_11: 0.0389 - dense_1_loss_12: 0.0332 - dense_1_loss_13: 0.0281 - dense_1_loss_14: 0.0301 - dense_1_loss_15: 0.0348 - dense_1_loss_16: 0.0332 - dense_1_loss_17: 0.0315 - dense_1_loss_18: 0.0289 - dense_1_loss_19: 0.0327 - dense_1_loss_20: 0.0332 - dense_1_loss_21: 0.0310 - dense_1_loss_22: 0.0317 - dense_1_loss_23: 0.0326 - dense_1_loss_24: 0.0328 - dense_1_loss_25: 0.0384 - dense_1_loss_26: 0.0327 - dense_1_loss_27: 0.0416 - dense_1_loss_28: 0.0369 - dense_1_loss_29: 0.0427 - dense_1_loss_30: 0.0000e+00 - dense_1_acc_1: 0.0500 - dense_1_acc_2: 0.6000 - dense_1_acc_3: 0.9000 - dense_1_acc_4: 0.9833 - dense_1_acc_5: 1.0000 - dense_1_acc_6: 1.0000 - dense_1_acc_7: 1.0000 - dense_1_acc_8: 1.0000 - dense_1_acc_9: 1.0000 - dense_1_acc_10: 1.0000 - dense_1_acc_11: 1.0000 - dense_1_acc_12: 1.0000 - dense_1_acc_13: 1.0000 - dense_1_acc_14: 1.0000 - dense_1_acc_15: 1.0000 - dense_1_acc_16: 1.0000 - dense_1_acc_17: 1.0000 - dense_1_acc_18: 1.0000 - dense_1_acc_19: 1.0000 - dense_1_acc_20: 1.0000 - dense_1_acc_21: 1.0000 - dense_1_acc_22: 1.0000 - dense_1_acc_23: 1.0000 - dense_1_acc_24: 1.0000 - dense_1_acc_25: 1.0000 - dense_1_acc_26: 1.0000 - dense_1_acc_27: 1.0000 - dense_1_acc_28: 1.0000 - dense_1_acc_29: 1.0000 - dense_1_acc_30: 0.0167         \n",
      "Epoch 88/100\n",
      "60/60 [==============================] - 1s - loss: 6.8155 - dense_1_loss_1: 3.8080 - dense_1_loss_2: 1.4409 - dense_1_loss_3: 0.4761 - dense_1_loss_4: 0.1518 - dense_1_loss_5: 0.0867 - dense_1_loss_6: 0.0543 - dense_1_loss_7: 0.0481 - dense_1_loss_8: 0.0455 - dense_1_loss_9: 0.0428 - dense_1_loss_10: 0.0324 - dense_1_loss_11: 0.0379 - dense_1_loss_12: 0.0323 - dense_1_loss_13: 0.0274 - dense_1_loss_14: 0.0293 - dense_1_loss_15: 0.0340 - dense_1_loss_16: 0.0323 - dense_1_loss_17: 0.0308 - dense_1_loss_18: 0.0282 - dense_1_loss_19: 0.0318 - dense_1_loss_20: 0.0323 - dense_1_loss_21: 0.0302 - dense_1_loss_22: 0.0308 - dense_1_loss_23: 0.0318 - dense_1_loss_24: 0.0320 - dense_1_loss_25: 0.0374 - dense_1_loss_26: 0.0321 - dense_1_loss_27: 0.0405 - dense_1_loss_28: 0.0359 - dense_1_loss_29: 0.0417 - dense_1_loss_30: 0.0000e+00 - dense_1_acc_1: 0.0500 - dense_1_acc_2: 0.6000 - dense_1_acc_3: 0.9000 - dense_1_acc_4: 0.9833 - dense_1_acc_5: 1.0000 - dense_1_acc_6: 1.0000 - dense_1_acc_7: 1.0000 - dense_1_acc_8: 1.0000 - dense_1_acc_9: 1.0000 - dense_1_acc_10: 1.0000 - dense_1_acc_11: 1.0000 - dense_1_acc_12: 1.0000 - dense_1_acc_13: 1.0000 - dense_1_acc_14: 1.0000 - dense_1_acc_15: 1.0000 - dense_1_acc_16: 1.0000 - dense_1_acc_17: 1.0000 - dense_1_acc_18: 1.0000 - dense_1_acc_19: 1.0000 - dense_1_acc_20: 1.0000 - dense_1_acc_21: 1.0000 - dense_1_acc_22: 1.0000 - dense_1_acc_23: 1.0000 - dense_1_acc_24: 1.0000 - dense_1_acc_25: 1.0000 - dense_1_acc_26: 1.0000 - dense_1_acc_27: 1.0000 - dense_1_acc_28: 1.0000 - dense_1_acc_29: 1.0000 - dense_1_acc_30: 0.0167         \n",
      "Epoch 89/100\n",
      "60/60 [==============================] - 1s - loss: 6.7656 - dense_1_loss_1: 3.8054 - dense_1_loss_2: 1.4279 - dense_1_loss_3: 0.4688 - dense_1_loss_4: 0.1479 - dense_1_loss_5: 0.0846 - dense_1_loss_6: 0.0528 - dense_1_loss_7: 0.0469 - dense_1_loss_8: 0.0442 - dense_1_loss_9: 0.0417 - dense_1_loss_10: 0.0315 - dense_1_loss_11: 0.0369 - dense_1_loss_12: 0.0315 - dense_1_loss_13: 0.0268 - dense_1_loss_14: 0.0286 - dense_1_loss_15: 0.0331 - dense_1_loss_16: 0.0315 - dense_1_loss_17: 0.0301 - dense_1_loss_18: 0.0275 - dense_1_loss_19: 0.0311 - dense_1_loss_20: 0.0315 - dense_1_loss_21: 0.0295 - dense_1_loss_22: 0.0301 - dense_1_loss_23: 0.0310 - dense_1_loss_24: 0.0313 - dense_1_loss_25: 0.0366 - dense_1_loss_26: 0.0314 - dense_1_loss_27: 0.0396 - dense_1_loss_28: 0.0351 - dense_1_loss_29: 0.0407 - dense_1_loss_30: 0.0000e+00 - dense_1_acc_1: 0.0500 - dense_1_acc_2: 0.6000 - dense_1_acc_3: 0.9000 - dense_1_acc_4: 0.9833 - dense_1_acc_5: 1.0000 - dense_1_acc_6: 1.0000 - dense_1_acc_7: 1.0000 - dense_1_acc_8: 1.0000 - dense_1_acc_9: 1.0000 - dense_1_acc_10: 1.0000 - dense_1_acc_11: 1.0000 - dense_1_acc_12: 1.0000 - dense_1_acc_13: 1.0000 - dense_1_acc_14: 1.0000 - dense_1_acc_15: 1.0000 - dense_1_acc_16: 1.0000 - dense_1_acc_17: 1.0000 - dense_1_acc_18: 1.0000 - dense_1_acc_19: 1.0000 - dense_1_acc_20: 1.0000 - dense_1_acc_21: 1.0000 - dense_1_acc_22: 1.0000 - dense_1_acc_23: 1.0000 - dense_1_acc_24: 1.0000 - dense_1_acc_25: 1.0000 - dense_1_acc_26: 1.0000 - dense_1_acc_27: 1.0000 - dense_1_acc_28: 1.0000 - dense_1_acc_29: 1.0000 - dense_1_acc_30: 0.0167         \n",
      "Epoch 90/100\n",
      "60/60 [==============================] - 1s - loss: 6.7192 - dense_1_loss_1: 3.8028 - dense_1_loss_2: 1.4159 - dense_1_loss_3: 0.4617 - dense_1_loss_4: 0.1448 - dense_1_loss_5: 0.0829 - dense_1_loss_6: 0.0516 - dense_1_loss_7: 0.0458 - dense_1_loss_8: 0.0433 - dense_1_loss_9: 0.0407 - dense_1_loss_10: 0.0307 - dense_1_loss_11: 0.0361 - dense_1_loss_12: 0.0308 - dense_1_loss_13: 0.0262 - dense_1_loss_14: 0.0279 - dense_1_loss_15: 0.0322 - dense_1_loss_16: 0.0307 - dense_1_loss_17: 0.0293 - dense_1_loss_18: 0.0269 - dense_1_loss_19: 0.0303 - dense_1_loss_20: 0.0307 - dense_1_loss_21: 0.0287 - dense_1_loss_22: 0.0293 - dense_1_loss_23: 0.0303 - dense_1_loss_24: 0.0305 - dense_1_loss_25: 0.0358 - dense_1_loss_26: 0.0308 - dense_1_loss_27: 0.0385 - dense_1_loss_28: 0.0343 - dense_1_loss_29: 0.0396 - dense_1_loss_30: 0.0000e+00 - dense_1_acc_1: 0.0500 - dense_1_acc_2: 0.6000 - dense_1_acc_3: 0.9000 - dense_1_acc_4: 0.9833 - dense_1_acc_5: 1.0000 - dense_1_acc_6: 1.0000 - dense_1_acc_7: 1.0000 - dense_1_acc_8: 1.0000 - dense_1_acc_9: 1.0000 - dense_1_acc_10: 1.0000 - dense_1_acc_11: 1.0000 - dense_1_acc_12: 1.0000 - dense_1_acc_13: 1.0000 - dense_1_acc_14: 1.0000 - dense_1_acc_15: 1.0000 - dense_1_acc_16: 1.0000 - dense_1_acc_17: 1.0000 - dense_1_acc_18: 1.0000 - dense_1_acc_19: 1.0000 - dense_1_acc_20: 1.0000 - dense_1_acc_21: 1.0000 - dense_1_acc_22: 1.0000 - dense_1_acc_23: 1.0000 - dense_1_acc_24: 1.0000 - dense_1_acc_25: 1.0000 - dense_1_acc_26: 1.0000 - dense_1_acc_27: 1.0000 - dense_1_acc_28: 1.0000 - dense_1_acc_29: 1.0000 - dense_1_acc_30: 0.0167     \n",
      "Epoch 91/100\n"
     ]
    },
    {
     "name": "stdout",
     "output_type": "stream",
     "text": [
      "60/60 [==============================] - 1s - loss: 6.6737 - dense_1_loss_1: 3.8003 - dense_1_loss_2: 1.4039 - dense_1_loss_3: 0.4551 - dense_1_loss_4: 0.1416 - dense_1_loss_5: 0.0812 - dense_1_loss_6: 0.0503 - dense_1_loss_7: 0.0447 - dense_1_loss_8: 0.0422 - dense_1_loss_9: 0.0396 - dense_1_loss_10: 0.0299 - dense_1_loss_11: 0.0352 - dense_1_loss_12: 0.0301 - dense_1_loss_13: 0.0255 - dense_1_loss_14: 0.0273 - dense_1_loss_15: 0.0315 - dense_1_loss_16: 0.0300 - dense_1_loss_17: 0.0286 - dense_1_loss_18: 0.0262 - dense_1_loss_19: 0.0295 - dense_1_loss_20: 0.0301 - dense_1_loss_21: 0.0280 - dense_1_loss_22: 0.0286 - dense_1_loss_23: 0.0296 - dense_1_loss_24: 0.0298 - dense_1_loss_25: 0.0351 - dense_1_loss_26: 0.0301 - dense_1_loss_27: 0.0376 - dense_1_loss_28: 0.0334 - dense_1_loss_29: 0.0386 - dense_1_loss_30: 0.0000e+00 - dense_1_acc_1: 0.0500 - dense_1_acc_2: 0.6000 - dense_1_acc_3: 0.9000 - dense_1_acc_4: 0.9833 - dense_1_acc_5: 1.0000 - dense_1_acc_6: 1.0000 - dense_1_acc_7: 1.0000 - dense_1_acc_8: 1.0000 - dense_1_acc_9: 1.0000 - dense_1_acc_10: 1.0000 - dense_1_acc_11: 1.0000 - dense_1_acc_12: 1.0000 - dense_1_acc_13: 1.0000 - dense_1_acc_14: 1.0000 - dense_1_acc_15: 1.0000 - dense_1_acc_16: 1.0000 - dense_1_acc_17: 1.0000 - dense_1_acc_18: 1.0000 - dense_1_acc_19: 1.0000 - dense_1_acc_20: 1.0000 - dense_1_acc_21: 1.0000 - dense_1_acc_22: 1.0000 - dense_1_acc_23: 1.0000 - dense_1_acc_24: 1.0000 - dense_1_acc_25: 1.0000 - dense_1_acc_26: 1.0000 - dense_1_acc_27: 1.0000 - dense_1_acc_28: 1.0000 - dense_1_acc_29: 1.0000 - dense_1_acc_30: 0.0167     \n",
      "Epoch 92/100\n",
      "60/60 [==============================] - 1s - loss: 6.6281 - dense_1_loss_1: 3.7976 - dense_1_loss_2: 1.3918 - dense_1_loss_3: 0.4481 - dense_1_loss_4: 0.1384 - dense_1_loss_5: 0.0794 - dense_1_loss_6: 0.0491 - dense_1_loss_7: 0.0437 - dense_1_loss_8: 0.0413 - dense_1_loss_9: 0.0387 - dense_1_loss_10: 0.0292 - dense_1_loss_11: 0.0344 - dense_1_loss_12: 0.0294 - dense_1_loss_13: 0.0249 - dense_1_loss_14: 0.0266 - dense_1_loss_15: 0.0308 - dense_1_loss_16: 0.0293 - dense_1_loss_17: 0.0279 - dense_1_loss_18: 0.0256 - dense_1_loss_19: 0.0288 - dense_1_loss_20: 0.0294 - dense_1_loss_21: 0.0272 - dense_1_loss_22: 0.0279 - dense_1_loss_23: 0.0288 - dense_1_loss_24: 0.0291 - dense_1_loss_25: 0.0342 - dense_1_loss_26: 0.0294 - dense_1_loss_27: 0.0368 - dense_1_loss_28: 0.0326 - dense_1_loss_29: 0.0376 - dense_1_loss_30: 0.0000e+00 - dense_1_acc_1: 0.0500 - dense_1_acc_2: 0.6000 - dense_1_acc_3: 0.9000 - dense_1_acc_4: 0.9833 - dense_1_acc_5: 1.0000 - dense_1_acc_6: 1.0000 - dense_1_acc_7: 1.0000 - dense_1_acc_8: 1.0000 - dense_1_acc_9: 1.0000 - dense_1_acc_10: 1.0000 - dense_1_acc_11: 1.0000 - dense_1_acc_12: 1.0000 - dense_1_acc_13: 1.0000 - dense_1_acc_14: 1.0000 - dense_1_acc_15: 1.0000 - dense_1_acc_16: 1.0000 - dense_1_acc_17: 1.0000 - dense_1_acc_18: 1.0000 - dense_1_acc_19: 1.0000 - dense_1_acc_20: 1.0000 - dense_1_acc_21: 1.0000 - dense_1_acc_22: 1.0000 - dense_1_acc_23: 1.0000 - dense_1_acc_24: 1.0000 - dense_1_acc_25: 1.0000 - dense_1_acc_26: 1.0000 - dense_1_acc_27: 1.0000 - dense_1_acc_28: 1.0000 - dense_1_acc_29: 1.0000 - dense_1_acc_30: 0.0167     \n",
      "Epoch 93/100\n",
      "60/60 [==============================] - 1s - loss: 6.5860 - dense_1_loss_1: 3.7949 - dense_1_loss_2: 1.3806 - dense_1_loss_3: 0.4418 - dense_1_loss_4: 0.1356 - dense_1_loss_5: 0.0778 - dense_1_loss_6: 0.0480 - dense_1_loss_7: 0.0428 - dense_1_loss_8: 0.0404 - dense_1_loss_9: 0.0379 - dense_1_loss_10: 0.0285 - dense_1_loss_11: 0.0336 - dense_1_loss_12: 0.0287 - dense_1_loss_13: 0.0243 - dense_1_loss_14: 0.0260 - dense_1_loss_15: 0.0301 - dense_1_loss_16: 0.0286 - dense_1_loss_17: 0.0272 - dense_1_loss_18: 0.0250 - dense_1_loss_19: 0.0281 - dense_1_loss_20: 0.0287 - dense_1_loss_21: 0.0266 - dense_1_loss_22: 0.0273 - dense_1_loss_23: 0.0281 - dense_1_loss_24: 0.0285 - dense_1_loss_25: 0.0334 - dense_1_loss_26: 0.0287 - dense_1_loss_27: 0.0361 - dense_1_loss_28: 0.0319 - dense_1_loss_29: 0.0368 - dense_1_loss_30: 0.0000e+00 - dense_1_acc_1: 0.0500 - dense_1_acc_2: 0.6000 - dense_1_acc_3: 0.9000 - dense_1_acc_4: 0.9833 - dense_1_acc_5: 1.0000 - dense_1_acc_6: 1.0000 - dense_1_acc_7: 1.0000 - dense_1_acc_8: 1.0000 - dense_1_acc_9: 1.0000 - dense_1_acc_10: 1.0000 - dense_1_acc_11: 1.0000 - dense_1_acc_12: 1.0000 - dense_1_acc_13: 1.0000 - dense_1_acc_14: 1.0000 - dense_1_acc_15: 1.0000 - dense_1_acc_16: 1.0000 - dense_1_acc_17: 1.0000 - dense_1_acc_18: 1.0000 - dense_1_acc_19: 1.0000 - dense_1_acc_20: 1.0000 - dense_1_acc_21: 1.0000 - dense_1_acc_22: 1.0000 - dense_1_acc_23: 1.0000 - dense_1_acc_24: 1.0000 - dense_1_acc_25: 1.0000 - dense_1_acc_26: 1.0000 - dense_1_acc_27: 1.0000 - dense_1_acc_28: 1.0000 - dense_1_acc_29: 1.0000 - dense_1_acc_30: 0.0167         \n",
      "Epoch 94/100\n",
      "60/60 [==============================] - 1s - loss: 6.5445 - dense_1_loss_1: 3.7926 - dense_1_loss_2: 1.3692 - dense_1_loss_3: 0.4350 - dense_1_loss_4: 0.1330 - dense_1_loss_5: 0.0761 - dense_1_loss_6: 0.0470 - dense_1_loss_7: 0.0420 - dense_1_loss_8: 0.0395 - dense_1_loss_9: 0.0371 - dense_1_loss_10: 0.0279 - dense_1_loss_11: 0.0328 - dense_1_loss_12: 0.0281 - dense_1_loss_13: 0.0238 - dense_1_loss_14: 0.0255 - dense_1_loss_15: 0.0294 - dense_1_loss_16: 0.0279 - dense_1_loss_17: 0.0266 - dense_1_loss_18: 0.0245 - dense_1_loss_19: 0.0275 - dense_1_loss_20: 0.0280 - dense_1_loss_21: 0.0259 - dense_1_loss_22: 0.0267 - dense_1_loss_23: 0.0274 - dense_1_loss_24: 0.0279 - dense_1_loss_25: 0.0326 - dense_1_loss_26: 0.0281 - dense_1_loss_27: 0.0354 - dense_1_loss_28: 0.0312 - dense_1_loss_29: 0.0360 - dense_1_loss_30: 0.0000e+00 - dense_1_acc_1: 0.0500 - dense_1_acc_2: 0.6000 - dense_1_acc_3: 0.9167 - dense_1_acc_4: 0.9833 - dense_1_acc_5: 1.0000 - dense_1_acc_6: 1.0000 - dense_1_acc_7: 1.0000 - dense_1_acc_8: 1.0000 - dense_1_acc_9: 1.0000 - dense_1_acc_10: 1.0000 - dense_1_acc_11: 1.0000 - dense_1_acc_12: 1.0000 - dense_1_acc_13: 1.0000 - dense_1_acc_14: 1.0000 - dense_1_acc_15: 1.0000 - dense_1_acc_16: 1.0000 - dense_1_acc_17: 1.0000 - dense_1_acc_18: 1.0000 - dense_1_acc_19: 1.0000 - dense_1_acc_20: 1.0000 - dense_1_acc_21: 1.0000 - dense_1_acc_22: 1.0000 - dense_1_acc_23: 1.0000 - dense_1_acc_24: 1.0000 - dense_1_acc_25: 1.0000 - dense_1_acc_26: 1.0000 - dense_1_acc_27: 1.0000 - dense_1_acc_28: 1.0000 - dense_1_acc_29: 1.0000 - dense_1_acc_30: 0.0167         \n",
      "Epoch 95/100\n",
      "60/60 [==============================] - 1s - loss: 6.5039 - dense_1_loss_1: 3.7899 - dense_1_loss_2: 1.3583 - dense_1_loss_3: 0.4285 - dense_1_loss_4: 0.1301 - dense_1_loss_5: 0.0744 - dense_1_loss_6: 0.0459 - dense_1_loss_7: 0.0411 - dense_1_loss_8: 0.0386 - dense_1_loss_9: 0.0362 - dense_1_loss_10: 0.0272 - dense_1_loss_11: 0.0321 - dense_1_loss_12: 0.0275 - dense_1_loss_13: 0.0232 - dense_1_loss_14: 0.0249 - dense_1_loss_15: 0.0287 - dense_1_loss_16: 0.0273 - dense_1_loss_17: 0.0260 - dense_1_loss_18: 0.0240 - dense_1_loss_19: 0.0268 - dense_1_loss_20: 0.0274 - dense_1_loss_21: 0.0253 - dense_1_loss_22: 0.0261 - dense_1_loss_23: 0.0268 - dense_1_loss_24: 0.0273 - dense_1_loss_25: 0.0320 - dense_1_loss_26: 0.0276 - dense_1_loss_27: 0.0346 - dense_1_loss_28: 0.0305 - dense_1_loss_29: 0.0352 - dense_1_loss_30: 0.0000e+00 - dense_1_acc_1: 0.0500 - dense_1_acc_2: 0.6000 - dense_1_acc_3: 0.9167 - dense_1_acc_4: 1.0000 - dense_1_acc_5: 1.0000 - dense_1_acc_6: 1.0000 - dense_1_acc_7: 1.0000 - dense_1_acc_8: 1.0000 - dense_1_acc_9: 1.0000 - dense_1_acc_10: 1.0000 - dense_1_acc_11: 1.0000 - dense_1_acc_12: 1.0000 - dense_1_acc_13: 1.0000 - dense_1_acc_14: 1.0000 - dense_1_acc_15: 1.0000 - dense_1_acc_16: 1.0000 - dense_1_acc_17: 1.0000 - dense_1_acc_18: 1.0000 - dense_1_acc_19: 1.0000 - dense_1_acc_20: 1.0000 - dense_1_acc_21: 1.0000 - dense_1_acc_22: 1.0000 - dense_1_acc_23: 1.0000 - dense_1_acc_24: 1.0000 - dense_1_acc_25: 1.0000 - dense_1_acc_26: 1.0000 - dense_1_acc_27: 1.0000 - dense_1_acc_28: 1.0000 - dense_1_acc_29: 1.0000 - dense_1_acc_30: 0.0167     \n",
      "Epoch 96/100\n"
     ]
    },
    {
     "name": "stdout",
     "output_type": "stream",
     "text": [
      "60/60 [==============================] - 1s - loss: 6.4648 - dense_1_loss_1: 3.7874 - dense_1_loss_2: 1.3470 - dense_1_loss_3: 0.4223 - dense_1_loss_4: 0.1278 - dense_1_loss_5: 0.0730 - dense_1_loss_6: 0.0451 - dense_1_loss_7: 0.0403 - dense_1_loss_8: 0.0378 - dense_1_loss_9: 0.0356 - dense_1_loss_10: 0.0266 - dense_1_loss_11: 0.0314 - dense_1_loss_12: 0.0269 - dense_1_loss_13: 0.0228 - dense_1_loss_14: 0.0244 - dense_1_loss_15: 0.0281 - dense_1_loss_16: 0.0268 - dense_1_loss_17: 0.0255 - dense_1_loss_18: 0.0235 - dense_1_loss_19: 0.0262 - dense_1_loss_20: 0.0268 - dense_1_loss_21: 0.0248 - dense_1_loss_22: 0.0255 - dense_1_loss_23: 0.0262 - dense_1_loss_24: 0.0267 - dense_1_loss_25: 0.0313 - dense_1_loss_26: 0.0269 - dense_1_loss_27: 0.0339 - dense_1_loss_28: 0.0299 - dense_1_loss_29: 0.0344 - dense_1_loss_30: 0.0000e+00 - dense_1_acc_1: 0.0500 - dense_1_acc_2: 0.6000 - dense_1_acc_3: 0.9167 - dense_1_acc_4: 1.0000 - dense_1_acc_5: 1.0000 - dense_1_acc_6: 1.0000 - dense_1_acc_7: 1.0000 - dense_1_acc_8: 1.0000 - dense_1_acc_9: 1.0000 - dense_1_acc_10: 1.0000 - dense_1_acc_11: 1.0000 - dense_1_acc_12: 1.0000 - dense_1_acc_13: 1.0000 - dense_1_acc_14: 1.0000 - dense_1_acc_15: 1.0000 - dense_1_acc_16: 1.0000 - dense_1_acc_17: 1.0000 - dense_1_acc_18: 1.0000 - dense_1_acc_19: 1.0000 - dense_1_acc_20: 1.0000 - dense_1_acc_21: 1.0000 - dense_1_acc_22: 1.0000 - dense_1_acc_23: 1.0000 - dense_1_acc_24: 1.0000 - dense_1_acc_25: 1.0000 - dense_1_acc_26: 1.0000 - dense_1_acc_27: 1.0000 - dense_1_acc_28: 1.0000 - dense_1_acc_29: 1.0000 - dense_1_acc_30: 0.0167         \n",
      "Epoch 97/100\n",
      "60/60 [==============================] - 1s - loss: 6.4260 - dense_1_loss_1: 3.7849 - dense_1_loss_2: 1.3361 - dense_1_loss_3: 0.4162 - dense_1_loss_4: 0.1252 - dense_1_loss_5: 0.0714 - dense_1_loss_6: 0.0442 - dense_1_loss_7: 0.0394 - dense_1_loss_8: 0.0369 - dense_1_loss_9: 0.0348 - dense_1_loss_10: 0.0260 - dense_1_loss_11: 0.0307 - dense_1_loss_12: 0.0263 - dense_1_loss_13: 0.0223 - dense_1_loss_14: 0.0239 - dense_1_loss_15: 0.0274 - dense_1_loss_16: 0.0262 - dense_1_loss_17: 0.0249 - dense_1_loss_18: 0.0230 - dense_1_loss_19: 0.0256 - dense_1_loss_20: 0.0262 - dense_1_loss_21: 0.0242 - dense_1_loss_22: 0.0250 - dense_1_loss_23: 0.0257 - dense_1_loss_24: 0.0261 - dense_1_loss_25: 0.0306 - dense_1_loss_26: 0.0264 - dense_1_loss_27: 0.0332 - dense_1_loss_28: 0.0292 - dense_1_loss_29: 0.0337 - dense_1_loss_30: 0.0000e+00 - dense_1_acc_1: 0.0500 - dense_1_acc_2: 0.6000 - dense_1_acc_3: 0.9167 - dense_1_acc_4: 1.0000 - dense_1_acc_5: 1.0000 - dense_1_acc_6: 1.0000 - dense_1_acc_7: 1.0000 - dense_1_acc_8: 1.0000 - dense_1_acc_9: 1.0000 - dense_1_acc_10: 1.0000 - dense_1_acc_11: 1.0000 - dense_1_acc_12: 1.0000 - dense_1_acc_13: 1.0000 - dense_1_acc_14: 1.0000 - dense_1_acc_15: 1.0000 - dense_1_acc_16: 1.0000 - dense_1_acc_17: 1.0000 - dense_1_acc_18: 1.0000 - dense_1_acc_19: 1.0000 - dense_1_acc_20: 1.0000 - dense_1_acc_21: 1.0000 - dense_1_acc_22: 1.0000 - dense_1_acc_23: 1.0000 - dense_1_acc_24: 1.0000 - dense_1_acc_25: 1.0000 - dense_1_acc_26: 1.0000 - dense_1_acc_27: 1.0000 - dense_1_acc_28: 1.0000 - dense_1_acc_29: 1.0000 - dense_1_acc_30: 0.0167         \n",
      "Epoch 98/100\n",
      "60/60 [==============================] - 1s - loss: 6.3905 - dense_1_loss_1: 3.7823 - dense_1_loss_2: 1.3262 - dense_1_loss_3: 0.4108 - dense_1_loss_4: 0.1229 - dense_1_loss_5: 0.0700 - dense_1_loss_6: 0.0434 - dense_1_loss_7: 0.0386 - dense_1_loss_8: 0.0363 - dense_1_loss_9: 0.0341 - dense_1_loss_10: 0.0255 - dense_1_loss_11: 0.0302 - dense_1_loss_12: 0.0258 - dense_1_loss_13: 0.0218 - dense_1_loss_14: 0.0234 - dense_1_loss_15: 0.0268 - dense_1_loss_16: 0.0257 - dense_1_loss_17: 0.0244 - dense_1_loss_18: 0.0225 - dense_1_loss_19: 0.0252 - dense_1_loss_20: 0.0257 - dense_1_loss_21: 0.0237 - dense_1_loss_22: 0.0245 - dense_1_loss_23: 0.0252 - dense_1_loss_24: 0.0256 - dense_1_loss_25: 0.0300 - dense_1_loss_26: 0.0259 - dense_1_loss_27: 0.0325 - dense_1_loss_28: 0.0286 - dense_1_loss_29: 0.0330 - dense_1_loss_30: 0.0000e+00 - dense_1_acc_1: 0.0500 - dense_1_acc_2: 0.6000 - dense_1_acc_3: 0.9167 - dense_1_acc_4: 1.0000 - dense_1_acc_5: 1.0000 - dense_1_acc_6: 1.0000 - dense_1_acc_7: 1.0000 - dense_1_acc_8: 1.0000 - dense_1_acc_9: 1.0000 - dense_1_acc_10: 1.0000 - dense_1_acc_11: 1.0000 - dense_1_acc_12: 1.0000 - dense_1_acc_13: 1.0000 - dense_1_acc_14: 1.0000 - dense_1_acc_15: 1.0000 - dense_1_acc_16: 1.0000 - dense_1_acc_17: 1.0000 - dense_1_acc_18: 1.0000 - dense_1_acc_19: 1.0000 - dense_1_acc_20: 1.0000 - dense_1_acc_21: 1.0000 - dense_1_acc_22: 1.0000 - dense_1_acc_23: 1.0000 - dense_1_acc_24: 1.0000 - dense_1_acc_25: 1.0000 - dense_1_acc_26: 1.0000 - dense_1_acc_27: 1.0000 - dense_1_acc_28: 1.0000 - dense_1_acc_29: 1.0000 - dense_1_acc_30: 0.0167             \n",
      "Epoch 99/100\n",
      "60/60 [==============================] - 1s - loss: 6.3545 - dense_1_loss_1: 3.7798 - dense_1_loss_2: 1.3156 - dense_1_loss_3: 0.4053 - dense_1_loss_4: 0.1206 - dense_1_loss_5: 0.0687 - dense_1_loss_6: 0.0425 - dense_1_loss_7: 0.0378 - dense_1_loss_8: 0.0356 - dense_1_loss_9: 0.0334 - dense_1_loss_10: 0.0250 - dense_1_loss_11: 0.0294 - dense_1_loss_12: 0.0253 - dense_1_loss_13: 0.0214 - dense_1_loss_14: 0.0229 - dense_1_loss_15: 0.0263 - dense_1_loss_16: 0.0252 - dense_1_loss_17: 0.0239 - dense_1_loss_18: 0.0221 - dense_1_loss_19: 0.0246 - dense_1_loss_20: 0.0252 - dense_1_loss_21: 0.0232 - dense_1_loss_22: 0.0239 - dense_1_loss_23: 0.0247 - dense_1_loss_24: 0.0251 - dense_1_loss_25: 0.0294 - dense_1_loss_26: 0.0254 - dense_1_loss_27: 0.0318 - dense_1_loss_28: 0.0280 - dense_1_loss_29: 0.0323 - dense_1_loss_30: 0.0000e+00 - dense_1_acc_1: 0.0500 - dense_1_acc_2: 0.6000 - dense_1_acc_3: 0.9167 - dense_1_acc_4: 1.0000 - dense_1_acc_5: 1.0000 - dense_1_acc_6: 1.0000 - dense_1_acc_7: 1.0000 - dense_1_acc_8: 1.0000 - dense_1_acc_9: 1.0000 - dense_1_acc_10: 1.0000 - dense_1_acc_11: 1.0000 - dense_1_acc_12: 1.0000 - dense_1_acc_13: 1.0000 - dense_1_acc_14: 1.0000 - dense_1_acc_15: 1.0000 - dense_1_acc_16: 1.0000 - dense_1_acc_17: 1.0000 - dense_1_acc_18: 1.0000 - dense_1_acc_19: 1.0000 - dense_1_acc_20: 1.0000 - dense_1_acc_21: 1.0000 - dense_1_acc_22: 1.0000 - dense_1_acc_23: 1.0000 - dense_1_acc_24: 1.0000 - dense_1_acc_25: 1.0000 - dense_1_acc_26: 1.0000 - dense_1_acc_27: 1.0000 - dense_1_acc_28: 1.0000 - dense_1_acc_29: 1.0000 - dense_1_acc_30: 0.0167     \n",
      "Epoch 100/100\n",
      "60/60 [==============================] - 1s - loss: 6.3195 - dense_1_loss_1: 3.7774 - dense_1_loss_2: 1.3058 - dense_1_loss_3: 0.3995 - dense_1_loss_4: 0.1183 - dense_1_loss_5: 0.0675 - dense_1_loss_6: 0.0417 - dense_1_loss_7: 0.0370 - dense_1_loss_8: 0.0350 - dense_1_loss_9: 0.0326 - dense_1_loss_10: 0.0245 - dense_1_loss_11: 0.0288 - dense_1_loss_12: 0.0248 - dense_1_loss_13: 0.0209 - dense_1_loss_14: 0.0225 - dense_1_loss_15: 0.0257 - dense_1_loss_16: 0.0246 - dense_1_loss_17: 0.0234 - dense_1_loss_18: 0.0216 - dense_1_loss_19: 0.0241 - dense_1_loss_20: 0.0247 - dense_1_loss_21: 0.0228 - dense_1_loss_22: 0.0234 - dense_1_loss_23: 0.0242 - dense_1_loss_24: 0.0246 - dense_1_loss_25: 0.0288 - dense_1_loss_26: 0.0249 - dense_1_loss_27: 0.0312 - dense_1_loss_28: 0.0275 - dense_1_loss_29: 0.0317 - dense_1_loss_30: 0.0000e+00 - dense_1_acc_1: 0.0500 - dense_1_acc_2: 0.6167 - dense_1_acc_3: 0.9167 - dense_1_acc_4: 1.0000 - dense_1_acc_5: 1.0000 - dense_1_acc_6: 1.0000 - dense_1_acc_7: 1.0000 - dense_1_acc_8: 1.0000 - dense_1_acc_9: 1.0000 - dense_1_acc_10: 1.0000 - dense_1_acc_11: 1.0000 - dense_1_acc_12: 1.0000 - dense_1_acc_13: 1.0000 - dense_1_acc_14: 1.0000 - dense_1_acc_15: 1.0000 - dense_1_acc_16: 1.0000 - dense_1_acc_17: 1.0000 - dense_1_acc_18: 1.0000 - dense_1_acc_19: 1.0000 - dense_1_acc_20: 1.0000 - dense_1_acc_21: 1.0000 - dense_1_acc_22: 1.0000 - dense_1_acc_23: 1.0000 - dense_1_acc_24: 1.0000 - dense_1_acc_25: 1.0000 - dense_1_acc_26: 1.0000 - dense_1_acc_27: 1.0000 - dense_1_acc_28: 1.0000 - dense_1_acc_29: 1.0000 - dense_1_acc_30: 0.0167     \n"
     ]
    },
    {
     "data": {
      "text/plain": [
       "<keras.callbacks.History at 0x7f4c5d277828>"
      ]
     },
     "execution_count": 10,
     "metadata": {},
     "output_type": "execute_result"
    }
   ],
   "source": [
    "model.fit([X, a0, c0], list(Y), epochs=100)"
   ]
  },
  {
   "cell_type": "markdown",
   "metadata": {},
   "source": [
    "You should see the model loss going down. Now that you have trained a model, lets go on the the final section to implement an inference algorithm, and generate some music! "
   ]
  },
  {
   "cell_type": "markdown",
   "metadata": {},
   "source": [
    "## 3 - Generating music\n",
    "\n",
    "You now have a trained model which has learned the patterns of the jazz soloist. Lets now use this model to synthesize new music. \n",
    "\n",
    "#### 3.1 - Predicting & Sampling\n",
    "\n",
    "<img src=\"images/music_gen.png\" style=\"width:600;height:400px;\">\n",
    "\n",
    "At each step of sampling, you will take as input the activation `a` and cell state `c` from the previous state of the LSTM, forward propagate by one step, and get a new output activation as well as cell state. The new activation `a` can then be used to generate the output, using `densor` as before. \n",
    "\n",
    "To start off the model, we will initialize `x0` as well as the LSTM activation and and cell value `a0` and `c0` to be zeros. \n",
    "\n",
    "\n",
    "<!-- \n",
    "You are about to build a function that will do this inference for you. Your function takes in your previous model and the number of time steps `Ty` that you want to sample. It will return a keras model that would be able to generate sequences for you. Furthermore, the function takes in a dense layer of `78` units and the number of activations. \n",
    "!--> \n",
    "\n",
    "\n",
    "**Exercise:** Implement the function below to sample a sequence of musical values. Here are some of the key steps you'll need to implement inside the for-loop that generates the $T_y$ output characters: \n",
    "\n",
    "Step 2.A: Use `LSTM_Cell`, which inputs the previous step's `c` and `a` to generate the current step's `c` and `a`. \n",
    "\n",
    "Step 2.B: Use `densor` (defined previously) to compute a softmax on `a` to get the output for the current step. \n",
    "\n",
    "Step 2.C: Save the output you have just generated by appending it to `outputs`.\n",
    "\n",
    "Step 2.D: Sample x to the be \"out\"'s one-hot version (the prediction) so that you can pass it to the next LSTM's step.  We have already provided this line of code, which uses a [Lambda](https://keras.io/layers/core/#lambda) function. \n",
    "```python\n",
    "x = Lambda(one_hot)(out) \n",
    "```\n",
    "[Minor technical note: Rather than sampling a value at random according to the probabilities in `out`, this line of code actually chooses the single most likely note at each step using an argmax.]\n"
   ]
  },
  {
   "cell_type": "code",
   "execution_count": 11,
   "metadata": {
    "collapsed": true
   },
   "outputs": [],
   "source": [
    "# GRADED FUNCTION: music_inference_model\n",
    "\n",
    "def music_inference_model(LSTM_cell, densor, n_values = 78, n_a = 64, Ty = 100):\n",
    "    \"\"\"\n",
    "    Uses the trained \"LSTM_cell\" and \"densor\" from model() to generate a sequence of values.\n",
    "    \n",
    "    Arguments:\n",
    "    LSTM_cell -- the trained \"LSTM_cell\" from model(), Keras layer object\n",
    "    densor -- the trained \"densor\" from model(), Keras layer object\n",
    "    n_values -- integer, umber of unique values\n",
    "    n_a -- number of units in the LSTM_cell\n",
    "    Ty -- integer, number of time steps to generate\n",
    "    \n",
    "    Returns:\n",
    "    inference_model -- Keras model instance\n",
    "    \"\"\"\n",
    "    \n",
    "    # Define the input of your model with a shape \n",
    "    x0 = Input(shape=(1, n_values))\n",
    "    \n",
    "    # Define s0, initial hidden state for the decoder LSTM\n",
    "    a0 = Input(shape=(n_a,), name='a0')\n",
    "    c0 = Input(shape=(n_a,), name='c0')\n",
    "    a = a0\n",
    "    c = c0\n",
    "    x = x0\n",
    "\n",
    "    ### START CODE HERE ###\n",
    "    # Step 1: Create an empty list of \"outputs\" to later store your predicted values (≈1 line)\n",
    "    outputs = []\n",
    "    \n",
    "    # Step 2: Loop over Ty and generate a value at every time step\n",
    "    for t in range(Ty):\n",
    "        \n",
    "        # Step 2.A: Perform one step of LSTM_cell (≈1 line)\n",
    "        a, _, c = LSTM_cell(x, initial_state=[a, c])\n",
    "        \n",
    "        # Step 2.B: Apply Dense layer to the hidden state output of the LSTM_cell (≈1 line)\n",
    "        out = densor(a)\n",
    "\n",
    "        # Step 2.C: Append the prediction \"out\" to \"outputs\". out.shape = (None, 78) (≈1 line)\n",
    "        outputs.append(out)\n",
    "        \n",
    "        # Step 2.D: Select the next value according to \"out\", and set \"x\" to be the one-hot representation of the\n",
    "        #           selected value, which will be passed as the input to LSTM_cell on the next step. We have provided \n",
    "        #           the line of code you need to do this. \n",
    "        x = Lambda(one_hot)(out)\n",
    "        \n",
    "    # Step 3: Create model instance with the correct \"inputs\" and \"outputs\" (≈1 line)\n",
    "    inference_model = Model(inputs=[x0, a0, c0], outputs=outputs)\n",
    "    \n",
    "    ### END CODE HERE ###\n",
    "    \n",
    "    return inference_model"
   ]
  },
  {
   "cell_type": "markdown",
   "metadata": {},
   "source": [
    "Run the cell below to define your inference model. This model is hard coded to generate 50 values."
   ]
  },
  {
   "cell_type": "code",
   "execution_count": 12,
   "metadata": {
    "collapsed": true
   },
   "outputs": [],
   "source": [
    "inference_model = music_inference_model(LSTM_cell, densor, n_values = 78, n_a = 64, Ty = 50)"
   ]
  },
  {
   "cell_type": "markdown",
   "metadata": {},
   "source": [
    "Finally, this creates the zero-valued vectors you will use to initialize `x` and the LSTM state variables `a` and `c`. "
   ]
  },
  {
   "cell_type": "code",
   "execution_count": 13,
   "metadata": {
    "collapsed": true
   },
   "outputs": [],
   "source": [
    "x_initializer = np.zeros((1, 1, 78))\n",
    "a_initializer = np.zeros((1, n_a))\n",
    "c_initializer = np.zeros((1, n_a))"
   ]
  },
  {
   "cell_type": "markdown",
   "metadata": {},
   "source": [
    "**Exercise**: Implement `predict_and_sample()`. This function takes many arguments including the inputs [x_initializer, a_initializer, c_initializer]. In order to predict the output corresponding to this input, you will need to carry-out 3 steps:\n",
    "1. Use your inference model to predict an output given your set of inputs. The output `pred` should be a list of length $T_y$ where each element is a numpy-array of shape (1, n_values).\n",
    "2. Convert `pred` into a numpy array of $T_y$ indices. Each index corresponds is computed by taking the `argmax` of an element of the `pred` list. [Hint](https://docs.scipy.org/doc/numpy/reference/generated/numpy.argmax.html).\n",
    "3. Convert the indices into their one-hot vector representations. [Hint](https://keras.io/utils/#to_categorical)."
   ]
  },
  {
   "cell_type": "code",
   "execution_count": 14,
   "metadata": {
    "collapsed": true
   },
   "outputs": [],
   "source": [
    "# GRADED FUNCTION: predict_and_sample\n",
    "\n",
    "def predict_and_sample(inference_model, x_initializer = x_initializer, a_initializer = a_initializer, \n",
    "                       c_initializer = c_initializer):\n",
    "    \"\"\"\n",
    "    Predicts the next value of values using the inference model.\n",
    "    \n",
    "    Arguments:\n",
    "    inference_model -- Keras model instance for inference time\n",
    "    x_initializer -- numpy array of shape (1, 1, 78), one-hot vector initializing the values generation\n",
    "    a_initializer -- numpy array of shape (1, n_a), initializing the hidden state of the LSTM_cell\n",
    "    c_initializer -- numpy array of shape (1, n_a), initializing the cell state of the LSTM_cel\n",
    "    \n",
    "    Returns:\n",
    "    results -- numpy-array of shape (Ty, 78), matrix of one-hot vectors representing the values generated\n",
    "    indices -- numpy-array of shape (Ty, 1), matrix of indices representing the values generated\n",
    "    \"\"\"\n",
    "    \n",
    "    ### START CODE HERE ###\n",
    "    # Step 1: Use your inference model to predict an output sequence given x_initializer, a_initializer and c_initializer.\n",
    "    pred = inference_model.predict([x_initializer, a_initializer, c_initializer])\n",
    "    # Step 2: Convert \"pred\" into an np.array() of indices with the maximum probabilities\n",
    "    indices = np.argmax(pred, axis=-1)\n",
    "    # Step 3: Convert indices to one-hot vectors, the shape of the results should be (1, )\n",
    "    results = to_categorical(indices, num_classes=78)\n",
    "    ### END CODE HERE ###\n",
    "    \n",
    "    return results, indices"
   ]
  },
  {
   "cell_type": "code",
   "execution_count": 15,
   "metadata": {},
   "outputs": [
    {
     "name": "stdout",
     "output_type": "stream",
     "text": [
      "np.argmax(results[12]) = 8\n",
      "np.argmax(results[17]) = 52\n",
      "list(indices[12:18]) = [array([8]), array([1]), array([72]), array([27]), array([61]), array([52])]\n"
     ]
    }
   ],
   "source": [
    "results, indices = predict_and_sample(inference_model, x_initializer, a_initializer, c_initializer)\n",
    "print(\"np.argmax(results[12]) =\", np.argmax(results[12]))\n",
    "print(\"np.argmax(results[17]) =\", np.argmax(results[17]))\n",
    "print(\"list(indices[12:18]) =\", list(indices[12:18]))"
   ]
  },
  {
   "cell_type": "markdown",
   "metadata": {},
   "source": [
    "**Expected Output**: Your results may differ because Keras' results are not completely predictable. However, if you have trained your LSTM_cell with model.fit() for exactly 100 epochs as described above, you should very likely observe a sequence of indices that are not all identical. Moreover, you should observe that: np.argmax(results[12]) is the first element of list(indices[12:18]) and np.argmax(results[17]) is the last element of list(indices[12:18]). \n",
    "\n",
    "<table>\n",
    "    <tr>\n",
    "        <td>\n",
    "            **np.argmax(results[12])** =\n",
    "        </td>\n",
    "        <td>\n",
    "        1\n",
    "        </td>\n",
    "    </tr>\n",
    "    <tr>\n",
    "        <td>\n",
    "            **np.argmax(results[12])** =\n",
    "        </td>\n",
    "        <td>\n",
    "        42\n",
    "        </td>\n",
    "    </tr>\n",
    "    <tr>\n",
    "        <td>\n",
    "            **list(indices[12:18])** =\n",
    "        </td>\n",
    "        <td>\n",
    "            [array([1]), array([42]), array([54]), array([17]), array([1]), array([42])]\n",
    "        </td>\n",
    "    </tr>\n",
    "</table>"
   ]
  },
  {
   "cell_type": "markdown",
   "metadata": {},
   "source": [
    "#### 3.3 - Generate music \n",
    "\n",
    "Finally, you are ready to generate music. Your RNN generates a sequence of values. The following code generates music by first calling your `predict_and_sample()` function. These values are then post-processed into musical chords (meaning that multiple values or notes can be played at the same time). \n",
    "\n",
    "Most computational music algorithms use some post-processing because it is difficult to generate music that sounds good without such post-processing. The post-processing does things such as clean up the generated audio by making sure the same sound is not repeated too many times, that two successive notes are not too far from each other in pitch, and so on. One could argue that a lot of these post-processing steps are hacks; also, a lot the music generation literature has also focused on hand-crafting post-processors, and a lot of the output quality depends on the quality of the post-processing and not just the quality of the RNN. But this post-processing does make a huge difference, so lets use it in our implementation as well. \n",
    "\n",
    "Lets make some music! "
   ]
  },
  {
   "cell_type": "markdown",
   "metadata": {},
   "source": [
    "Run the following cell to generate music and record it into your `out_stream`. This can take a couple of minutes."
   ]
  },
  {
   "cell_type": "code",
   "execution_count": 16,
   "metadata": {
    "scrolled": false
   },
   "outputs": [
    {
     "name": "stdout",
     "output_type": "stream",
     "text": [
      "Predicting new values for different set of chords.\n",
      "Generated 51 sounds using the predicted values for the set of chords (\"1\") and after pruning\n",
      "Generated 51 sounds using the predicted values for the set of chords (\"2\") and after pruning\n",
      "Generated 51 sounds using the predicted values for the set of chords (\"3\") and after pruning\n",
      "Generated 51 sounds using the predicted values for the set of chords (\"4\") and after pruning\n",
      "Generated 51 sounds using the predicted values for the set of chords (\"5\") and after pruning\n",
      "Your generated music is saved in output/my_music.midi\n"
     ]
    }
   ],
   "source": [
    "out_stream = generate_music(inference_model)"
   ]
  },
  {
   "cell_type": "markdown",
   "metadata": {},
   "source": [
    "To listen to your music, click File->Open... Then go to \"output/\" and download \"my_music.midi\". Either play it on your computer with an application that can read midi files if you have one, or use one of the free online \"MIDI to mp3\" conversion tools to convert this to mp3.  \n",
    "\n",
    "As reference, here also is a 30sec audio clip we generated using this algorithm. "
   ]
  },
  {
   "cell_type": "code",
   "execution_count": null,
   "metadata": {},
   "outputs": [],
   "source": [
    "IPython.display.Audio('./data/30s_trained_model.mp3')"
   ]
  },
  {
   "cell_type": "markdown",
   "metadata": {},
   "source": [
    "### Congratulations!\n",
    "\n",
    "You have come to the end of the notebook. \n",
    "\n",
    "<font color=\"blue\">\n",
    "Here's what you should remember:\n",
    "- A sequence model can be used to generate musical values, which are then post-processed into midi music. \n",
    "- Fairly similar models can be used to generate dinosaur names or to generate music, with the major difference being the input fed to the model.  \n",
    "- In Keras, sequence generation involves defining layers with shared weights, which are then repeated for the different time steps $1, \\ldots, T_x$. "
   ]
  },
  {
   "cell_type": "markdown",
   "metadata": {},
   "source": [
    "Congratulations on completing this assignment and generating a jazz solo! "
   ]
  },
  {
   "cell_type": "markdown",
   "metadata": {},
   "source": [
    "**References**\n",
    "\n",
    "The ideas presented in this notebook came primarily from three computational music papers cited below. The implementation here also took significant inspiration and used many components from Ji-Sung Kim's github repository.\n",
    "\n",
    "- Ji-Sung Kim, 2016, [deepjazz](https://github.com/jisungk/deepjazz)\n",
    "- Jon Gillick, Kevin Tang and Robert Keller, 2009. [Learning Jazz Grammars](http://ai.stanford.edu/~kdtang/papers/smc09-jazzgrammar.pdf)\n",
    "- Robert Keller and David Morrison, 2007, [A Grammatical Approach to Automatic Improvisation](http://smc07.uoa.gr/SMC07%20Proceedings/SMC07%20Paper%2055.pdf)\n",
    "- François Pachet, 1999, [Surprising Harmonies](http://citeseerx.ist.psu.edu/viewdoc/download?doi=10.1.1.5.7473&rep=rep1&type=pdf)\n",
    "\n",
    "We're also grateful to François Germain for valuable feedback."
   ]
  }
 ],
 "metadata": {
  "coursera": {
   "course_slug": "nlp-sequence-models",
   "graded_item_id": "EG0F7",
   "launcher_item_id": "cxJXc"
  },
  "kernelspec": {
   "display_name": "Python 3",
   "language": "python",
   "name": "python3"
  },
  "language_info": {
   "codemirror_mode": {
    "name": "ipython",
    "version": 3
   },
   "file_extension": ".py",
   "mimetype": "text/x-python",
   "name": "python",
   "nbconvert_exporter": "python",
   "pygments_lexer": "ipython3",
   "version": "3.6.2"
  }
 },
 "nbformat": 4,
 "nbformat_minor": 2
}
