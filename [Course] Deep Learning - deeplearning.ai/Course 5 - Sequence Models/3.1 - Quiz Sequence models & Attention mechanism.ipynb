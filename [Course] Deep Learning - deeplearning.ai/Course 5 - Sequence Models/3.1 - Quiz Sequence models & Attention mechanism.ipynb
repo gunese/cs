{
 "cells": [
  {
   "cell_type": "markdown",
   "metadata": {},
   "source": [
    "## Week 3 - Quiz: Sequence models & Attention mechanism"
   ]
  },
  {
   "cell_type": "markdown",
   "metadata": {},
   "source": [
    "<br/>**1.**\n",
    "Consider using this encoder-decoder model for machine translation.\n",
    "\n",
    "![picture alt](https://i.ibb.co/XpmNcCn/WVhjo-PCu-Eee5-Rg5-IFJ7l8g-a7b6030c6e5a53b431fee7aaabecd9bd-Screen-Shot-2018-01-03-at-5-48-26-PM.png)\n",
    "\n",
    "This model is a “conditional language model” in the sense that the encoder portion (shown in green) is modeling the probability of the input sentence $x$.\n",
    "\n",
    "**False**"
   ]
  },
  {
   "cell_type": "markdown",
   "metadata": {},
   "source": [
    "<br/>**2.**\n",
    "In beam search, if you increase the beam width BB, which of the following would you expect to be true? Check all that apply.\n",
    "\n",
    "**Beam search will run more slowly.**\n",
    "\n",
    "**Beam search will use up more memory.**\n",
    "\n",
    "**Beam search will generally find better solutions (i.e. do a better job maximizing $P(y \\mid x)$)**"
   ]
  },
  {
   "cell_type": "markdown",
   "metadata": {},
   "source": [
    "<br/>**3.**\n",
    "In machine translation, if we carry out beam search without using sentence normalization, the algorithm will tend to output overly short translations.\n",
    "\n",
    "**True**"
   ]
  },
  {
   "cell_type": "markdown",
   "metadata": {},
   "source": [
    "<br/>**4.**\n",
    "Suppose you are building a speech recognition system, which uses an RNN model to map from audio clip $x$ to a text transcript $y$. Your algorithm uses beam search to try to find the value of $y$ that maximizes $P(y \\mid x)$.\n",
    "\n",
    "On a dev set example, given an input audio clip, your algorithm outputs the transcript $\\hat{y}=$ “I’m building an A Eye system in Silly con Valley.”, whereas a human gives a much superior transcript $y^* =$ “I’m building an AI system in Silicon Valley.”\n",
    "\n",
    "According to your model,\n",
    "\n",
    "$P(\\hat{y} \\mid x) = 1.09*10^-7$\n",
    "\n",
    "$P(y^* \\mid x) = 7.21*10^-8$\n",
    "\n",
    "Would you expect increasing the beam width B to help correct this example?\n",
    "\n",
    "**No, because $P(y^* \\mid x) \\leq P(\\hat{y} \\mid x)$ indicates the error should be attributed to the RNN rather than to the search algorithm.**"
   ]
  },
  {
   "cell_type": "markdown",
   "metadata": {},
   "source": [
    "<br/>**5.**\n",
    "Continuing the example from Q4, suppose you work on your algorithm for a few more weeks, and now find that for the vast majority of examples on which your algorithm makes a mistake, $P(y^* \\mid x) > P(\\hat{y} \\mid x)$. This suggest you should focus your attention on improving the search algorithm.\n",
    "\n",
    "**True.**"
   ]
  },
  {
   "cell_type": "markdown",
   "metadata": {},
   "source": [
    "<br/>**6.**\n",
    "Consider the attention model for machine translation.\n",
    "\n",
    "![picture alt](https://i.ibb.co/Z85Nbkv/WVhjo-PCu-Eee5-Rg5-IFJ7l8g-a7b6030c6e5a53b431fee7aaabecd9bd-Screen-Shot-2018-01-03-at-5-48-26-PM.png)\n",
    "\n",
    "Further, here is the formula for $\\alpha^{<t,t′>}$.\n",
    "\n",
    "![picture alt](https://i.ibb.co/DQnK0rW/WVhjo-PCu-Eee5-Rg5-IFJ7l8g-a7b6030c6e5a53b431fee7aaabecd9bd-Screen-Shot-2018-01-03-at-5-48-26-PM.png)\n",
    "\n",
    "Which of the following statements about $\\alpha^{<t,t′>}$ are true? Check all that apply.\n",
    "\n",
    "**We expect $\\alpha^{<t,t′>}$ to be generally larger for values of $a^{<t>}$ that are highly relevant to the value the network should output for $y^{<t>}$. (Note the indices in the superscripts.)**\n",
    "\n",
    "**$\\sum_t \\alpha^{<t,t′>} = 1$ (Note the summation is over $t′$.)**"
   ]
  },
  {
   "cell_type": "markdown",
   "metadata": {},
   "source": [
    "<br/>**7.**\n",
    "The network learns where to “pay attention” by learning the values $e^{<t,t′>}$, which are computed using a small neural network:\n",
    "\n",
    "We can't replace $s^{<t-1>}$ with $s^{<t>}$ as an input to this neural network. This is because $s^{<t>}$ depends on $\\alpha^{<t,t′>}$ which in turn depends on $e^{<t,t′>}$; so at the time we need to evalute this network, we haven’t computed $s^{<t>}$ yet.\n",
    "\n",
    "**True**"
   ]
  },
  {
   "cell_type": "markdown",
   "metadata": {},
   "source": [
    "<br/>**8.**\n",
    "Compared to the encoder-decoder model shown in Question 1 of this quiz (which does not use an attention mechanism), we expect the attention model to have the greatest advantage when:\n",
    "\n",
    "**The input sequence length $T_x$ is large.**"
   ]
  },
  {
   "cell_type": "markdown",
   "metadata": {},
   "source": [
    "<br/>**9.**\n",
    "Under the CTC model, identical repeated characters not separated by the “blank” character (_) are collapsed. Under the CTC model, what does the following string collapse to?\n",
    "\n",
    "_____c_oo_o_kk___b_ooooo__oo__kkk\n",
    "\n",
    "**cookbook**"
   ]
  },
  {
   "cell_type": "markdown",
   "metadata": {},
   "source": [
    "<br/>**10.**\n",
    "In trigger word detection, $x^{<t>}$ is:\n",
    "\n",
    "**Features of the audio (such as spectrogram features) at time $t$.**"
   ]
  }
 ],
 "metadata": {
  "kernelspec": {
   "display_name": "Python 3",
   "language": "python",
   "name": "python3"
  },
  "language_info": {
   "codemirror_mode": {
    "name": "ipython",
    "version": 3
   },
   "file_extension": ".py",
   "mimetype": "text/x-python",
   "name": "python",
   "nbconvert_exporter": "python",
   "pygments_lexer": "ipython3",
   "version": "3.6.6"
  }
 },
 "nbformat": 4,
 "nbformat_minor": 2
}
