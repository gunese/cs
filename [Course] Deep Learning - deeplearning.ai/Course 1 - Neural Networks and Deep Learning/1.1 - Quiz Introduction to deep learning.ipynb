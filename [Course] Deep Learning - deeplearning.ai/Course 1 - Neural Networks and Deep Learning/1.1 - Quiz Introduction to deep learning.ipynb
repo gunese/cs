{
 "cells": [
  {
   "cell_type": "markdown",
   "metadata": {},
   "source": [
    "## Week 1 - Quiz: Introduction to deep learning"
   ]
  },
  {
   "cell_type": "markdown",
   "metadata": {},
   "source": [
    "<br/>**1.**\n",
    "What does the analogy “AI is the new electricity” refer to?\n",
    "\n",
    "**Similar to electricity starting about 100 years ago, AI is transforming multiple industries.**"
   ]
  },
  {
   "cell_type": "markdown",
   "metadata": {},
   "source": [
    "<br/>**2.**\n",
    "Which of these are reasons for Deep Learning recently taking off? (Check the three options that apply.)\n",
    "\n",
    "**Deep learning has resulted in significant improvements in important applications such as online advertising, speech recognition, and image recognition.**\n",
    "\n",
    "**We have access to a lot more data.**\n",
    "\n",
    "**We have access to a lot more computational power.**"
   ]
  },
  {
   "cell_type": "markdown",
   "metadata": {},
   "source": [
    "<br/>**3.**\n",
    "Recall this diagram of iterating over different ML ideas. Which of the statements below are true? (Check all that apply.)\n",
    "\n",
    "![picture alt](https://i.ibb.co/M6ph6nf/Fal-Vl3yg-Eeega-Q4-NYTd-ESg-7a0184575b8bdc47f8c3f29601302cb8-Screen-Shot-2017-08-08-at-6-13-59-PM.png)\n",
    "\n",
    "**Being able to try out ideas quickly allows deep learning engineers to iterate more quickly.**\n",
    "\n",
    "**Faster computation can help speed up how long a team takes to iterate to a good idea.**\n",
    "\n",
    "**Recent progress in deep learning algorithms has allowed us to train good models faster (even without changing the CPU/GPU hardware).**"
   ]
  },
  {
   "cell_type": "markdown",
   "metadata": {},
   "source": [
    "<br/>**4.**\n",
    "When an experienced deep learning engineer works on a new problem, they can usually use insight from previous problems to train a good model on the first try, without needing to iterate multiple times through different models. True/False?\n",
    "\n",
    "**False**"
   ]
  },
  {
   "cell_type": "markdown",
   "metadata": {},
   "source": [
    "<br/>**5.**\n",
    "Which one of these plots represents a ReLU activation function?\n",
    "\n",
    "**Figure 3:**\n",
    "\n",
    "![picture alt](https://i.ibb.co/9hxMy1B/Fal-Vl3yg-Eeega-Q4-NYTd-ESg-7a0184575b8bdc47f8c3f29601302cb8-Screen-Shot-2017-08-08-at-6-13-59-PM.png)"
   ]
  },
  {
   "cell_type": "markdown",
   "metadata": {},
   "source": [
    "<br/>**6.**\n",
    "Images for cat recognition is an example of “structured” data, because it is represented as a structured array in a computer. True/False?\n",
    "\n",
    "**False**"
   ]
  },
  {
   "cell_type": "markdown",
   "metadata": {},
   "source": [
    "<br/>**7.**\n",
    "A demographic dataset with statistics on different cities' population, GDP per capita, economic growth is an example of “unstructured” data because it contains data coming from different sources. True/False?\n",
    "\n",
    "**False**"
   ]
  },
  {
   "cell_type": "markdown",
   "metadata": {},
   "source": [
    "<br/>**8.**\n",
    "Why is an RNN (Recurrent Neural Network) used for machine translation, say translating English to French? (Check all that apply.)\n",
    "\n",
    "**It can be trained as a supervised learning problem.**\n",
    "\n",
    "**It is applicable when the input/output is a sequence (e.g., a sequence of words).**"
   ]
  },
  {
   "cell_type": "markdown",
   "metadata": {},
   "source": [
    "<br/>**9.**\n",
    "In this diagram which we hand-drew in lecture, what do the horizontal axis (x-axis) and vertical axis (y-axis) represent?\n",
    "\n",
    "![picture alt](https://i.ibb.co/0GfCg6f/Fal-Vl3yg-Eeega-Q4-NYTd-ESg-7a0184575b8bdc47f8c3f29601302cb8-Screen-Shot-2017-08-08-at-6-13-59-PM.png)\n",
    "\n",
    "* **x-axis is the amount of data**\n",
    "\n",
    "* **y-axis (vertical axis) is the performance of the algorithm.**"
   ]
  },
  {
   "cell_type": "markdown",
   "metadata": {},
   "source": [
    "<br/>**10.**\n",
    "Assuming the trends described in the previous question's figure are accurate (and hoping you got the axis labels right), which of the following are true? (Check all that apply.)\n",
    "\n",
    "**Increasing the size of a neural network generally does not hurt an algorithm’s performance, and it may help significantly.**\n",
    "\n",
    "**Increasing the training set size generally does not hurt an algorithm’s performance, and it may help significantly.**"
   ]
  }
 ],
 "metadata": {
  "kernelspec": {
   "display_name": "Python 3",
   "language": "python",
   "name": "python3"
  },
  "language_info": {
   "codemirror_mode": {
    "name": "ipython",
    "version": 3
   },
   "file_extension": ".py",
   "mimetype": "text/x-python",
   "name": "python",
   "nbconvert_exporter": "python",
   "pygments_lexer": "ipython3",
   "version": "3.6.6"
  }
 },
 "nbformat": 4,
 "nbformat_minor": 2
}
