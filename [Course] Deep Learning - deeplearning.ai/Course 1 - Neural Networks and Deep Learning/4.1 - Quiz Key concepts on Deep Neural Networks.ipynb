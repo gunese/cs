{
 "cells": [
  {
   "cell_type": "markdown",
   "metadata": {},
   "source": [
    "## Week 4 - Quiz: Key concepts on Deep Neural Networks"
   ]
  },
  {
   "cell_type": "markdown",
   "metadata": {},
   "source": [
    "<br/>**1.**\n",
    "What is the \"cache\" used for in our implementation of forward propagation and backward propagation?\n",
    "\n",
    "**We use it to pass variables computed during forward propagation to the corresponding backward propagation step. It contains useful values for backward propagation to compute derivatives.**"
   ]
  },
  {
   "cell_type": "markdown",
   "metadata": {},
   "source": [
    "<br/>**2.**\n",
    "Among the following, which ones are \"hyperparameters\"? (Check all that apply.)\n",
    "\n",
    "**learning rate $\\alpha$**\n",
    "\n",
    "**size of the hidden layers $n^{[l]}$**\n",
    "\n",
    "**number of iterations**\n",
    "\n",
    "**number of layers $L$ in the neural network**"
   ]
  },
  {
   "cell_type": "markdown",
   "metadata": {},
   "source": [
    "<br/>**3.**\n",
    "Which of the following statements is true?\n",
    "\n",
    "**The deeper layers of a neural network are typically computing more complex features of the input than the earlier layers.**"
   ]
  },
  {
   "cell_type": "markdown",
   "metadata": {},
   "source": [
    "<br/>**4.**\n",
    "Vectorization allows you to compute forward propagation in an $L$-layer neural network without an explicit for-loop (or any other explicit iterative loop) over the layers l=1, 2, …,L. True/False?\n",
    "\n",
    "**False**"
   ]
  },
  {
   "cell_type": "markdown",
   "metadata": {},
   "source": [
    "<br/>**5.**\n",
    "Assume we store the values for $n^{[l]}$ in an array called layers, as follows: layer_dims = [$n_x$,4,3,2,1]. So layer 1 has four hidden units, layer 2 has 3 hidden units and so on. Which of the following for-loops will allow you to initialize the parameters for the model?"
   ]
  },
  {
   "cell_type": "code",
   "execution_count": null,
   "metadata": {},
   "outputs": [],
   "source": [
    "for(i in range(1, len(layer_dims))):\n",
    "  parameter[‘W’ + str(i)] = np.random.randn(layers[i], layers[i-1])) * 0.01\n",
    "  parameter[‘b’ + str(i)] = np.random.randn(layers[i], 1) * 0.01"
   ]
  },
  {
   "cell_type": "markdown",
   "metadata": {},
   "source": [
    "<br/>**6.**\n",
    "Consider the following neural network.\n",
    "\n",
    "![picture alt](https://i.ibb.co/Sn7SvMQ/svogd3rc-Eee-A3-RJRl-G3-Uqg-76207ca9fa3c209fbf43892870e5338f-1layer.png)\n",
    "\n",
    "How many layers does this network have?\n",
    "\n",
    "**The number of layers $L$ is 4. The number of hidden layers is 3.**"
   ]
  },
  {
   "cell_type": "markdown",
   "metadata": {},
   "source": [
    "<br/>**7.**\n",
    "During forward propagation, in the forward function for a layer $l$ you need to know what is the activation function in a layer (Sigmoid, tanh, ReLU, etc.). During backpropagation, the corresponding backward function also needs to know what is the activation function for layer ll, since the gradient depends on it. True/False?\n",
    "\n",
    "**True**"
   ]
  },
  {
   "cell_type": "markdown",
   "metadata": {},
   "source": [
    "<br/>**8.**\n",
    "There are certain functions with the following properties:\n",
    "\n",
    "(i) To compute the function using a shallow network circuit, you will need a large network (where we measure size by the number of logic gates in the network), but (ii) To compute it using a deep network circuit, you need only an exponentially smaller network. True/False?\n",
    "\n",
    "**True**"
   ]
  },
  {
   "cell_type": "markdown",
   "metadata": {},
   "source": [
    "<br/>**9.**\n",
    "Consider the following 2 hidden layer neural network:\n",
    "\n",
    "![picture alt](https://i.ibb.co/51zTXgx/svogd3rc-Eee-A3-RJRl-G3-Uqg-76207ca9fa3c209fbf43892870e5338f-1layer.png)\n",
    "\n",
    "Which of the following statements are True? (Check all that apply).\n",
    "\n",
    "**$W^{[1]}$ will have shape (4, 4)**\n",
    "\n",
    "**$b^{[1]}$ will have shape (4, 1)**\n",
    "\n",
    "**$W^{[2]}$ will have shape (3, 4)**\n",
    "\n",
    "**$b^{[2]}$ will have shape (3, 1)**\n",
    "\n",
    "**$W^{[3]}$ will have shape (1, 3)**\n",
    "\n",
    "**$b^{[3]}$ will have shape (1, 1)**"
   ]
  },
  {
   "cell_type": "markdown",
   "metadata": {},
   "source": [
    "<br/>**10.**\n",
    "Whereas the previous question used a specific network, in the general case what is the dimension of $W^{[l]}$, the weight matrix associated with layer $l$?\n",
    "\n",
    "**$W^{[l]}$ has shape $(n^{[l]}, n^{[l-1]})$**"
   ]
  }
 ],
 "metadata": {
  "kernelspec": {
   "display_name": "Python 3",
   "language": "python",
   "name": "python3"
  },
  "language_info": {
   "codemirror_mode": {
    "name": "ipython",
    "version": 3
   },
   "file_extension": ".py",
   "mimetype": "text/x-python",
   "name": "python",
   "nbconvert_exporter": "python",
   "pygments_lexer": "ipython3",
   "version": "3.6.6"
  }
 },
 "nbformat": 4,
 "nbformat_minor": 2
}
