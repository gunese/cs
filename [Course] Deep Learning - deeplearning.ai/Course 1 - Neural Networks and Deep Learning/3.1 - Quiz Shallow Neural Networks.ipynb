{
 "cells": [
  {
   "cell_type": "markdown",
   "metadata": {},
   "source": [
    "## Week 3 - Quiz: Shallow Neural Networks"
   ]
  },
  {
   "cell_type": "markdown",
   "metadata": {},
   "source": [
    "<br/>**1.**\n",
    "Which of the following are true? (Check all that apply.)\n",
    "\n",
    "**$a^{[2](12)}$ denotes the activation vector of the $2^{nd}$ layer for the $12^{th}$ training example.**\n",
    "\n",
    "**$a^{[2]}_4$ is the activation output by the $4^{th}$ neuron of the $2^{nd}$ layer**\n",
    "\n",
    "**$a^{[2]}$ denotes the activation vector of the $2^{nd}$ layer.**\n",
    "\n",
    "**$X$ is a matrix in which each column is one training example.**"
   ]
  },
  {
   "cell_type": "markdown",
   "metadata": {},
   "source": [
    "<br/>**2.**\n",
    "The tanh activation usually works better than sigmoid activation function for hidden units because the mean of its output is closer to zero, and so it centers the data better for the next layer. True/False?\n",
    "\n",
    "**True**"
   ]
  },
  {
   "cell_type": "markdown",
   "metadata": {},
   "source": [
    "<br/>**3.**\n",
    "Which of these is a correct vectorized implementation of forward propagation for layer $l$, where $1 \\leq l \\leq L$?\n",
    "\n",
    "**$Z^{[l]} = W^{[l]} A^{[l-1]} + b^{[l]}$**\n",
    "\n",
    "**$A^{[l]} = g^{[l]}(Z^{[l]})$**"
   ]
  },
  {
   "cell_type": "markdown",
   "metadata": {},
   "source": [
    "<br/>**4.**\n",
    "You are building a binary classifier for recognizing cucumbers (y=1) vs. watermelons (y=0). Which one of these activation functions would you recommend using for the output layer?\n",
    "\n",
    "**sigmoid**"
   ]
  },
  {
   "cell_type": "markdown",
   "metadata": {},
   "source": [
    "<br/>**5.**\n",
    "Consider the following code:"
   ]
  },
  {
   "cell_type": "code",
   "execution_count": 13,
   "metadata": {},
   "outputs": [
    {
     "data": {
      "text/plain": [
       "array([[2.29604433],\n",
       "       [1.92621006],\n",
       "       [0.94651672],\n",
       "       [4.1165818 ]])"
      ]
     },
     "execution_count": 13,
     "metadata": {},
     "output_type": "execute_result"
    }
   ],
   "source": [
    "import numpy as np\n",
    "A = np.random.randn(4,3)\n",
    "B = np.sum(A, axis = 1, keepdims = True)\n",
    "B"
   ]
  },
  {
   "cell_type": "markdown",
   "metadata": {},
   "source": [
    "What will be B.shape? (If you’re not sure, feel free to run this in python to find out).\n",
    "\n",
    "**(4, 1)**"
   ]
  },
  {
   "cell_type": "markdown",
   "metadata": {},
   "source": [
    "<br/>**6.**\n",
    "Suppose you have built a neural network. You decide to initialize the weights and biases to be zero. Which of the following statements is true?\n",
    "\n",
    "**Each neuron in the first hidden layer will perform the same computation. So even after multiple iterations of gradient descent each neuron in the layer will be computing the same thing as other neurons.**"
   ]
  },
  {
   "cell_type": "markdown",
   "metadata": {},
   "source": [
    "<br/>**7.**\n",
    "Logistic regression’s weights w should be initialized randomly rather than to all zeros, because if you initialize to all zeros, then logistic regression will fail to learn a useful decision boundary because it will fail to “break symmetry”, True/False?\n",
    "\n",
    "**False**"
   ]
  },
  {
   "cell_type": "markdown",
   "metadata": {},
   "source": [
    "<br/>**8.**\n",
    "You have built a network using the tanh activation for all the hidden units. You initialize the weights to relative large values, using np.random.randn(..,..)*1000. What will happen?\n",
    "\n",
    "**This will cause the inputs of the tanh to also be very large, thus causing gradients to be close to zero. The optimization algorithm will thus become slow.**"
   ]
  },
  {
   "cell_type": "markdown",
   "metadata": {},
   "source": [
    "<br/>**9.**\n",
    "Consider the following 1 hidden layer neural network:\n",
    "\n",
    "![picture alt](https://i.ibb.co/x3hj8gS/svogd3rc-Eee-A3-RJRl-G3-Uqg-76207ca9fa3c209fbf43892870e5338f-1layer.png)\n",
    "\n",
    "Which of the following statements are True? (Check all that apply).\n",
    "\n",
    "**$W^{[1]}$ will have shape (4, 2)**\n",
    "\n",
    "**$b^{[1]}$ will have shape (4, 1)**\n",
    "\n",
    "**$W^{[2]}$ will have shape (1, 4)**\n",
    "\n",
    "**$b^{[2]}$ will have shape (1, 1)**"
   ]
  },
  {
   "cell_type": "markdown",
   "metadata": {},
   "source": [
    "<br/>**10.**\n",
    "In the same network as the previous question, what are the dimensions of $Z^{[1]}$ and $A^{[1]}$?\n",
    "\n",
    "**$Z^{[1]}$ and $A^{[1]}$ are (4,m)**"
   ]
  }
 ],
 "metadata": {
  "kernelspec": {
   "display_name": "Python 3",
   "language": "python",
   "name": "python3"
  },
  "language_info": {
   "codemirror_mode": {
    "name": "ipython",
    "version": 3
   },
   "file_extension": ".py",
   "mimetype": "text/x-python",
   "name": "python",
   "nbconvert_exporter": "python",
   "pygments_lexer": "ipython3",
   "version": "3.6.6"
  }
 },
 "nbformat": 4,
 "nbformat_minor": 2
}
