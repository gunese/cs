{
 "cells": [
  {
   "cell_type": "markdown",
   "metadata": {},
   "source": [
    "## Week 9 - Quiz: Anomaly Detection"
   ]
  },
  {
   "cell_type": "markdown",
   "metadata": {},
   "source": [
    "<br/>**1.**\n",
    "For which of the following problems would anomaly detection be a suitable algorithm?\n",
    "\n",
    "**In a computer chip fabrication plant, identify microchips that might be defective.**\n",
    "\n",
    "**From a large set of primary care patient records, identify individuals who might have unusual health conditions.)**"
   ]
  },
  {
   "cell_type": "markdown",
   "metadata": {},
   "source": [
    "<br/>**2.**\n",
    "Suppose you have trained an anomaly detection system that flags anomalies when p(x) is less than ε, and you find on the cross-validation set that it has too many false negatives (failing to flag a lot of anomalies). What should you do?\n",
    "\n",
    "**Increase ε**"
   ]
  },
  {
   "cell_type": "markdown",
   "metadata": {},
   "source": [
    "<br/>**3.**\n",
    "Suppose you are developing an anomaly detection system to catch manufacturing defects in airplane engines. You model uses p(x)=∏j=1 n p(xj;μj,σj^2). You have two features x1 = vibration intensity, and x2 = heat generated. Both x1 and x2 take on values between 0 and 1 (and are strictly greater than 0), and for most \"normal\" engines you expect that x1 ≈ x2. One of the suspected anomalies is that a flawed engine may vibrate very intensely even without generating much heat (large x1, small x2), even though the particular values of x1 and x2 may not fall outside their typical ranges of values. What additional feature x3 should you create to capture these types of anomalies:\n",
    "\n",
    "**x3=x1/x2**"
   ]
  },
  {
   "cell_type": "markdown",
   "metadata": {},
   "source": [
    "<br/>**4.**\n",
    "Which of the following are true? Check all that apply.\n",
    "\n",
    "**If you do not have any labeled data (or if all your data has label y=0), then is is still possible to learn p(x)p(x), but it may be harder to evaluate the system or choose a good value of ϵ.**\n",
    "\n",
    "**When choosing features for an anomaly detection system, it is a good idea to look for features that take on unusually large or small values for (mainly the) anomalous examples.**"
   ]
  },
  {
   "cell_type": "markdown",
   "metadata": {},
   "source": [
    "<br/>**5.**\n",
    "You have a 1-D dataset {x^(1), ..., x^(m)} and you want to detect outliers in the dataset. You first plot the dataset and it looks like this:\n",
    "\n",
    "![picture alt](https://d3c33hcgiwev3.cloudfront.net/ee5JoL54EeSVRiIAC2sM-Q_Screen-Shot-2015-02-27-at-4.01.53-AM.png?Expires=1543708800&Signature=f1J3mzFBrWC27wFp8rpUV3R8cIcpSeeCMAzf~4POhX3Yx0hzJxqMyAMMUy5MH5xwFuGFnN7zwK-BSB1pJpBjcqjI4P03KUM13LRwiljReDb~S2lgpYyalX2AtoZDu6N0OaRXBRpBRTvPOVvb~my4WrEM1FPOdol1OP1ybiqMS6Q_&Key-Pair-Id=APKAJLTNE6QMUY6HBC5A)\n",
    "\n",
    "Suppose you fit the gaussian distribution parameters μ1 and σ1^2 to this dataset. Which of the following values for μ1  and σ1^2 might you get?\n",
    "\n",
    "**μ \n",
    "1\n",
    "​\t =−3,σ \n",
    "1\n",
    "2\n",
    "​\t =4**"
   ]
  }
 ],
 "metadata": {
  "kernelspec": {
   "display_name": "Python 3",
   "language": "python",
   "name": "python3"
  },
  "language_info": {
   "codemirror_mode": {
    "name": "ipython",
    "version": 3
   },
   "file_extension": ".py",
   "mimetype": "text/x-python",
   "name": "python",
   "nbconvert_exporter": "python",
   "pygments_lexer": "ipython3",
   "version": "3.6.5"
  }
 },
 "nbformat": 4,
 "nbformat_minor": 2
}
