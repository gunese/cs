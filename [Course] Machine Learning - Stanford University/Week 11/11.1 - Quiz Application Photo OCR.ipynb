{
 "cells": [
  {
   "cell_type": "markdown",
   "metadata": {},
   "source": [
    "## Week 11 - Quiz: Application: Photo OCR"
   ]
  },
  {
   "cell_type": "markdown",
   "metadata": {},
   "source": [
    "<br/>**1.**\n",
    "Suppose you are running a sliding window detector to find text in images. Your input images are 1000x1000 pixels. You will run your sliding windows detector at two scales, 10x10 and 20x20 (i.e., you will run your classifier on lots of 10x10 patches to decide if they contain text or not; and also on lots of 20x20 patches), and you will \"step\" your detector by 2 pixels each time. About how many times will you end up running your classifier on a single 1000x1000 test set image?\n",
    "\n",
    "**500,000**"
   ]
  },
  {
   "cell_type": "markdown",
   "metadata": {},
   "source": [
    "<br/>**2.**\n",
    "Suppose that you just joined a product team that has been developing a machine learning application, using $m = 1,000$ training examples. You discover that you have the option of hiring additional personnel to help collect and label data. You estimate that you would have to pay each of the labellers $10 per hour, and that each labeller can label 4 examples per minute. About how much will it cost to hire labellers to label 10,000 new training examples?\n",
    "\n",
    "**$400**"
   ]
  },
  {
   "cell_type": "markdown",
   "metadata": {},
   "source": [
    "<br/>**3.**\n",
    "What are the benefits of performing a ceiling analysis? Check all that apply.\n",
    "\n",
    "**It gives us information about which components, if improved, are most likely to have a significant impact on the performance of the final system.**\n",
    "\n",
    "**It can help indicate that certain components of a system might not be worth a significant amount of work improving, because even if it had perfect performance its impact on the overall system may be small.**"
   ]
  },
  {
   "cell_type": "markdown",
   "metadata": {},
   "source": [
    "<br/>**4.**\n",
    "Suppose you are building an object classifier, that takes as input an image, and recognizes that image as either containing a car $(y=1)$ or not $(y=0)$. For example, here are a positive example and a negative example:\n",
    "\n",
    "\n",
    "![picture alt](http://oi63.tinypic.com/23i9i12.jpg)\n",
    "\n",
    "After carefully analyzing the performance of your algorithm, you conclude that you need more positive $(y=1)$ training examples. Which of the following might be a good way to get additional positive examples?\n",
    "\n",
    "**Mirror your training images across the vertical axis (so that a left-facing car now becomes a right-facing one).**"
   ]
  },
  {
   "cell_type": "markdown",
   "metadata": {},
   "source": [
    "<br/>**5.**\n",
    "Suppose you have a PhotoOCR system, where you have the following pipeline:\n",
    "\n",
    "![picture alt](https://i.ibb.co/crJkwb4/U-VSCb57-Ee-SGOCIAC3i-Xdw-Screen-Shot-2015-02-27-at-4-21-30-AM.png)\n",
    "\n",
    "You have decided to perform a ceiling analysis on this system, and find the following:\n",
    "\n",
    "![picture alt](https://i.ibb.co/Sx7Hvf7/a-Kk-G4757-Ee-Shs-SIACw-Kbzw-Screen-Shot-2015-02-27-at-4-21-49-AM.png)\n",
    "\n",
    "Which of the following statements are true?\n",
    "\n",
    "**The potential benefit to having a significantly improved text detection system is small, and thus it may not be worth significant effort trying to improve it.**\n",
    "\n",
    "**If we conclude that the character recognition's errors are mostly due to the character recognition system having high variance, then it may be worth significant effort obtaining additional training data for character recognition.**"
   ]
  }
 ],
 "metadata": {
  "kernelspec": {
   "display_name": "Python 3",
   "language": "python",
   "name": "python3"
  },
  "language_info": {
   "codemirror_mode": {
    "name": "ipython",
    "version": 3
   },
   "file_extension": ".py",
   "mimetype": "text/x-python",
   "name": "python",
   "nbconvert_exporter": "python",
   "pygments_lexer": "ipython3",
   "version": "3.6.5"
  }
 },
 "nbformat": 4,
 "nbformat_minor": 2
}
