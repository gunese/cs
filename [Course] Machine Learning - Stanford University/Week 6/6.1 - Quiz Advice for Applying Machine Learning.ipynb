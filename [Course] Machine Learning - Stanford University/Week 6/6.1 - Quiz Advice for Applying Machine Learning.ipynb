{
 "cells": [
  {
   "cell_type": "markdown",
   "metadata": {},
   "source": [
    "## Week 6 - Quiz: Advice for Applying Machine Learning"
   ]
  },
  {
   "cell_type": "markdown",
   "metadata": {},
   "source": [
    "<br/>**1.**\n",
    "You train a learning algorithm, and find that it has unacceptably high error on the test set. You plot the learning curve, and obtain the figure below. Is the algorithm suffering from high bias, high variance, or neither?\n",
    "\n",
    "![picture alt](http://spark-public.s3.amazonaws.com/ml/images/10.1-b.png)\n",
    "\n",
    "\n",
    "**High variance**"
   ]
  },
  {
   "cell_type": "markdown",
   "metadata": {},
   "source": [
    "<br/>**2.**\n",
    "Suppose you have implemented regularized logistic regression to classify what object is in an image (i.e., to do object recognition). However, when you test your hypothesis on a new set of images, you find that it makes unacceptably large errors with its predictions on the new images. However, your hypothesis performs well (has low error) on the training set. Which of the following are promising steps to take? Check all that apply.\n",
    "\n",
    "**Try increasing the regularization parameter \\lambdaλ.**\n",
    "\n",
    "**Try using a smaller set of features.**"
   ]
  },
  {
   "cell_type": "markdown",
   "metadata": {},
   "source": [
    "<br/>**3.**\n",
    "Suppose you have implemented regularized logistic regression to predict what items customers will purchase on a web shopping site. However, when you test your hypothesis on a new set of customers, you find that it makes unacceptably large errors in its predictions. Furthermore, the hypothesis performs poorly on the training set. Which of the following might be promising steps to take? Check all that\n",
    "apply.\n",
    "\n",
    "**Try decreasing the regularization parameter λ.**\n",
    "\n",
    "**Try adding polynomial features.**"
   ]
  },
  {
   "cell_type": "markdown",
   "metadata": {},
   "source": [
    "<br/>**4.**\n",
    "Which of the following statements are true? Check all that apply.\n",
    "\n",
    "**Suppose you are using linear regression to predict housing prices, and your dataset comes sorted in order of increasing sizes of houses. It is then important to randomly shuffle the dataset before splitting it into training, validation and test sets, so that we don’t have all the smallest houses going into the training set, and all the largest houses going into the test set.**\n",
    "\n",
    "**A typical split of a dataset into training, validation and test sets might be 60% training set, 20% validation set, and 20% test set.**"
   ]
  },
  {
   "cell_type": "markdown",
   "metadata": {},
   "source": [
    "<br/>**5.**\n",
    "Which of the following statements are true? Check all that apply.\n",
    "\n",
    "**If a learning algorithm is suffering from high bias, only adding more training examples may not improve the test error significantly.**\n",
    "\n",
    "**If a learning algorithm is suffering from high variance, adding more training examples is likely to improve the test error.**\n",
    "\n",
    "**When debugging learning algorithms, it is useful to plot a learning curve to understand if there is a high bias or high variance problem.**"
   ]
  }
 ],
 "metadata": {
  "kernelspec": {
   "display_name": "Python 3",
   "language": "python",
   "name": "python3"
  },
  "language_info": {
   "codemirror_mode": {
    "name": "ipython",
    "version": 3
   },
   "file_extension": ".py",
   "mimetype": "text/x-python",
   "name": "python",
   "nbconvert_exporter": "python",
   "pygments_lexer": "ipython3",
   "version": "3.6.5"
  }
 },
 "nbformat": 4,
 "nbformat_minor": 2
}
