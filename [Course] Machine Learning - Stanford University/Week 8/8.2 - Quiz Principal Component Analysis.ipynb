{
 "cells": [
  {
   "cell_type": "markdown",
   "metadata": {},
   "source": [
    "## Week 8 - Quiz: Principal Component Analysis"
   ]
  },
  {
   "cell_type": "markdown",
   "metadata": {},
   "source": [
    "<br/>**1.**\n",
    "Consider the following 2D dataset:\n",
    "\n",
    "![picture alt](https://d3c33hcgiwev3.cloudfront.net/lkk6_L7kEeSZtCIACx4DqA_15.1-question.jpg?Expires=1543536000&Signature=kh63OKHm~0JMW2lXgNXgztE5NL4NzO~floITaR69HLQOAKfEG1JT~5SnjgWbJdD17yYL9TRylMOX8dwIh5CRho0pE~Pa~3CMwnTwdLO6yMHI0BNw9ZJx7DdH8wc92VjNxPnW94GEeKGVlhjwVtsmF-tqI6kUCHd2y6KV9JKFL6k_&Key-Pair-Id=APKAJLTNE6QMUY6HBC5A)\n",
    "\n",
    "Which of the following figures correspond to possible values that PCA may return for u(1) (the first eigenvector / first principal component)? Check all that apply (you may have to check more than one figure).\n",
    "\n",
    "**![picture alt](https://d3c33hcgiwev3.cloudfront.net/wBdxSL7kEeSKOiIAC1ARFQ_15.1-a.jpg?Expires=1543536000&Signature=AWirUysAZ~N-gLNki9gNS9qMAKk91Vqr7s92MSbHjqdpvYL~OjxbpVEfCdqRcEs8UMJmpRdj1OwaXucNJx9xS0nNErHG9HLshfMKsKCv2wYIl4DmHw~lsg42J6i3f0FiN3eRrKbXC31Y-Oos~nDnxDGal94a1W7dsssIgERyqr8_&Key-Pair-Id=APKAJLTNE6QMUY6HBC5A)**\n",
    "\n",
    "**![picture alt](https://d3c33hcgiwev3.cloudfront.net/6lGHcL7kEeSZtCIACx4DqA_15.1-b.jpg?Expires=1543536000&Signature=iERWeopoRTnFI9mpMPO0cjsNnYQOx4l8-dMX9~QgUeqSARHaUM1BKhFWbLw6ZkYzp1thK7h~Zhl19y82BT-yAssFZLKoWZEt~4WC66UDumkO1i2YcN0bT73dpfPVE~tkRXAHLN8eS8t5JM2wQG0NECIRhCZMaclHLGV3Io-EOmE_&Key-Pair-Id=APKAJLTNE6QMUY6HBC5A)**"
   ]
  },
  {
   "cell_type": "markdown",
   "metadata": {},
   "source": [
    "<br/>**2.**\n",
    "Which of the following is a reasonable way to select the number of principal components k? (Recall that n is the dimensionality of the input data and m is the number of input examples.)\n",
    "\n",
    "**Choose k to be the smallest value so that at least 99% of the variance is retained.**"
   ]
  },
  {
   "cell_type": "markdown",
   "metadata": {},
   "source": [
    "<br/>**3.**\n",
    "Suppose someone tells you that they ran PCA in such a way that \"95% of the variance was retained.\" What is an equivalent statement to this?\n",
    "\n",
    "**1/m ∑i=1m ∣∣ x(i)−xapprox(i) ∣∣^2≤0.05**"
   ]
  },
  {
   "cell_type": "markdown",
   "metadata": {},
   "source": [
    "<br/>**4.**\n",
    "Which of the following statements are true? Check all that apply.\n",
    "\n",
    "**If the input features are on very different scales, it is a good idea to perform feature scaling before applying PCA.**\n",
    "\n",
    "**Given an input x∈R^n, PCA compresses it to a lower-dimensional vector z∈R^k.**"
   ]
  },
  {
   "cell_type": "markdown",
   "metadata": {},
   "source": [
    "<br/>**5.**\n",
    "Which of the following are recommended applications of PCA? Select all that apply.\n",
    "\n",
    "**Data compression: Reduce the dimension of your input data x(i), which will be used in a supervised learning algorithm (i.e., use PCA so that your supervised learning algorithm runs faster).**\n",
    "\n",
    "**Data visualization: Reduce data to 2D (or 3D) so that it can be plotted.**"
   ]
  }
 ],
 "metadata": {
  "kernelspec": {
   "display_name": "Python 3",
   "language": "python",
   "name": "python3"
  },
  "language_info": {
   "codemirror_mode": {
    "name": "ipython",
    "version": 3
   },
   "file_extension": ".py",
   "mimetype": "text/x-python",
   "name": "python",
   "nbconvert_exporter": "python",
   "pygments_lexer": "ipython3",
   "version": "3.6.5"
  }
 },
 "nbformat": 4,
 "nbformat_minor": 2
}
