{
 "cells": [
  {
   "cell_type": "markdown",
   "metadata": {},
   "source": [
    "## Week 1 - Quiz: Linear Regression with One Variable"
   ]
  },
  {
   "cell_type": "markdown",
   "metadata": {},
   "source": [
    "<br/>**1.**\n",
    "Consider the problem of predicting how well a student does in her second year of college/university, given how well she did in her first year.\n",
    "\n",
    "Specifically, let x be equal to the number of \"A\" grades (including A-. A and A+ grades) that a student receives in their first year of college (freshmen year). We would like to predict the value of y, which we define as the number of \"A\" grades they get in their second year (sophomore year).\n",
    "\n",
    "Refer to the following training set of a small sample of different students' performances (note that this training set may also be referenced in other questions in this quiz). Here each row is one training example. Recall that in linear regression, our hypothesis is θ(x) = θ0 + θ1x\n",
    "\n",
    "\n",
    "θ(x) = θ0 + θ1x, and we use m to denote the number of training examples.\n",
    "\n",
    "![picture alt](https://d396qusza40orc.cloudfront.net/flex-ml/quizIIq1v1.png)\n",
    "\n",
    "For the training set given above, what is the value of mm? In the box below, please enter your answer (which should be a number between 0 and 10).\n",
    "\n",
    " \n",
    " **4**"
   ]
  },
  {
   "cell_type": "markdown",
   "metadata": {},
   "source": [
    "<br/>**2.**\n",
    "Consider the following training set of m=4 training examples:\n",
    "\n",
    "x  | y\n",
    "------------- | -------------\n",
    "1 | 0.5\n",
    "2 | 1\n",
    "4 | 2\n",
    "0 | 0\n",
    "\n",
    "Consider the linear regression model θ(x) = θ0 + θ1x\n",
    "\n",
    "\n",
    "θ(x) = θ0 +θ1x. What are the values of θ0 and θ1 that you would expect to obtain upon running gradient descent on this model? (Linear regression will be able to fit this data perfectly.)\n",
    "\n",
    "\n",
    "\n",
    "**θ0 = 0, θ1 = 0.5**"
   ]
  },
  {
   "cell_type": "markdown",
   "metadata": {},
   "source": [
    "<br/>**3.**\n",
    "Suppose we set θ0 = -2, θ1 = 0.5θ\n",
    "\n",
    "\n",
    "θ0 =−2, θ1 = 0.5 in the linear regression hypothesis from Q1. What is θ(6)?\n",
    "\n",
    "**1**"
   ]
  },
  {
   "cell_type": "markdown",
   "metadata": {},
   "source": [
    "<br/>**4.**\n",
    "In the given figure, the cost function J(θ0, θ1) has been plotted against θ0 and θ1, as shown in 'Plot 2'. The contour plot for the same cost function is given in 'Plot 1'. Based on the figure, choose the correct options (check all that apply).\n",
    "\n",
    "![picture alt](https://d396qusza40orc.cloudfront.net/ml/images/4.2-quiz-1.png)\n",
    "\n",
    "**If we start from point B, gradient descent with a well-chosen learning rate will eventually help us reach at or near point A, as the value of cost function J(θ0, θ1) is minimum at A.**\n",
    "\n",
    "**Point P (the global minimum of plot 2) corresponds to point A of Plot 1.**"
   ]
  },
  {
   "cell_type": "markdown",
   "metadata": {},
   "source": [
    "<br/>**5.**\n",
    "Suppose that for some linear regression problem (say, predicting housing prices as in the lecture), we have some training set, and for our training set we managed to find some θ0, θ1 such that J(θ0, θ1)=0.\n",
    "\n",
    "Which of the statements below must then be true? (Check all that apply.)\n",
    "\n",
    "**Our training set can be fit perfectly by a straight line, i.e., all of our training examples lie perfectly on some straight line.**"
   ]
  }
 ],
 "metadata": {
  "kernelspec": {
   "display_name": "Python 3",
   "language": "python",
   "name": "python3"
  },
  "language_info": {
   "codemirror_mode": {
    "name": "ipython",
    "version": 3
   },
   "file_extension": ".py",
   "mimetype": "text/x-python",
   "name": "python",
   "nbconvert_exporter": "python",
   "pygments_lexer": "ipython3",
   "version": "3.6.5"
  }
 },
 "nbformat": 4,
 "nbformat_minor": 2
}
