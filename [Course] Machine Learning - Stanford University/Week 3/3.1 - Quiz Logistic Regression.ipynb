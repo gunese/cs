{
 "cells": [
  {
   "cell_type": "markdown",
   "metadata": {},
   "source": [
    "## Week 3 - Quiz: Logistic Regression"
   ]
  },
  {
   "cell_type": "markdown",
   "metadata": {},
   "source": [
    "<br/>**1.**\n",
    "Suppose that you have trained a logistic regression classifier, and it outputs on a new example x a prediction hθ(x) = 0.2. This means (check all that apply):\n",
    "\n",
    "**Our estimate for P(y=0|x;\\theta)P(y=0∣x;θ) is 0.8.**\n",
    "\n",
    "**Our estimate for P(y=1|x;\\theta)P(y=1∣x;θ) is 0.2.**"
   ]
  },
  {
   "cell_type": "markdown",
   "metadata": {},
   "source": [
    "<br/>**2.**\n",
    "Suppose you have the following training set, and fit a logistic regression classifier hθ(x) = g(θ0 + θ1x1 + θ2x2).\n",
    "\n",
    "![picture alt](https://d3c33hcgiwev3.cloudfront.net/vDH1Eb5xEeSVRiIAC2sM-Q_Screen-Shot-2015-02-27-at-3.09.52-AM.png?Expires=1542844800&Signature=cK0pjXCb4VI23GXSvLdb9wv3g0h8S4xrX4oirScEqB60z9DkdK5aQO5KTEhNCuM0KPpykNiQ85zgDosXrircTkpCgcxV~CrOJC~GID34MOTV7WEDz7KO8RACgNWkR67FO0e8FuAmnWbepyCPuPFhcC3HrnQ-hEaVYbbMlZxskiA_&Key-Pair-Id=APKAJLTNE6QMUY6HBC5A)\n",
    "\n",
    "\n",
    "![picture alt](https://d3c33hcgiwev3.cloudfront.net/x6wwkr5xEeSVRiIAC2sM-Q_Screen-Shot-2015-02-27-at-3.10.20-AM.png?Expires=1542844800&Signature=Te-gec3dayBwh1Vxu-~Ro6Rwy2rCKjqKcj74PZo7a-qe3a1~D0QxxPZHxkukGW59ygMzDbQyt5ZqaJTZjTpChJRvwJYuZTRKxOvTg5b~BaNF-kxIp02QGBRb4JZ0Qio7GoAi3GfrzAneWxlCegkUKq22b1VKzuP8kQ4z-TP79k0_&Key-Pair-Id=APKAJLTNE6QMUY6HBC5A)\n",
    "\n",
    "Which of the following are true? Check all that apply.\n",
    "\n",
    "\n",
    "\n",
    "**Adding polynomial features (e.g., instead using hθ(x) = g(θ0 + θ1x1 + θ2x2 + θ3x1^2 + θ4x1x2 + θ5x2^2) could increase how well we can fit the training data.**\n",
    "\n",
    "**At the optimal value of θ (e.g., found by fminunc), we will have J(θ)≥0.**"
   ]
  },
  {
   "cell_type": "markdown",
   "metadata": {},
   "source": [
    "<br/>**3.**\n",
    "For logistic regression, the gradient is given by ∂/∂θ J(θ) = 1/m ∑ i=1 m (hθ(x^(i)) - y^(i))xj^(i). Which of these is a correct gradient descent update for logistic regression with a learning rate of \\alphaα? Check all that apply.\n",
    "\n",
    "**θ \n",
    "j\n",
    "​\t :=θ \n",
    "j\n",
    "​\t −α \n",
    "m\n",
    "1\n",
    "​\t ∑ \n",
    "i=1\n",
    "m\n",
    "​\t (h \n",
    "θ\n",
    "​\t (x \n",
    "(i)\n",
    " )−y \n",
    "(i)\n",
    " )x \n",
    "j\n",
    "(i)\n",
    "​\t  (simultaneously update for all jj).**\n",
    "\n",
    "**θ \n",
    "j\n",
    "​\t :=θ \n",
    "j\n",
    "​\t −α \n",
    "m\n",
    "1\n",
    "​\t ∑ \n",
    "i=1\n",
    "m\n",
    "​\t ( \n",
    "1+e \n",
    "−θ \n",
    "T\n",
    " x \n",
    "(i) \n",
    "1\n",
    "​\t −y \n",
    "(i)\n",
    " )x \n",
    "j\n",
    "(i)\n",
    "​\t  (simultaneously update for all jj).**"
   ]
  },
  {
   "cell_type": "markdown",
   "metadata": {},
   "source": [
    "<br/>**4.**\n",
    "Which of the following statements are true? Check all that apply.\n",
    "\n",
    "**The one-vs-all technique allows you to use logistic regression for problems in which each y^{(i)}y \n",
    "(i)\n",
    "  comes from a fixed, discrete set of values.**\n",
    "\n",
    "**The cost function J(θ) for logistic regression trained with m≥1 examples is always greater than or equal to zero.**"
   ]
  },
  {
   "cell_type": "markdown",
   "metadata": {},
   "source": [
    "<br/>**5.**\n",
    "Suppose you train a logistic classifier hθ(x) = g(θ0 + θ1x1 + θ2x2). Suppose θ0 = 6, θ1 = -1, θ2 = 0. Which of the following figures represents the decision boundary found by your classifier?\n",
    "\n",
    "**![picture alt](https://d3c33hcgiwev3.cloudfront.net/zt1sZ77QEeSKOiIAC1ARFQ_Screen-Shot-2015-02-27-at-2.32.48-PM.png?Expires=1542844800&Signature=RdGWO-n8J0MPQp-wEidmfapK~40vWOJnpeVv9E~o1jYVPKb-IFMpLrb-A8~KYqKM0TOwUdAsouMuEawHLNC6cM5eoDnNvRuYCbzEH8hhA~wyRAqENuXDxnuYJa6bzWcvVQ5LxJgZNF-RO-CYNUn9-gQrSK6484kIZNeWuOodicI_&Key-Pair-Id=APKAJLTNE6QMUY6HBC5A)**"
   ]
  }
 ],
 "metadata": {
  "kernelspec": {
   "display_name": "Python 3",
   "language": "python",
   "name": "python3"
  },
  "language_info": {
   "codemirror_mode": {
    "name": "ipython",
    "version": 3
   },
   "file_extension": ".py",
   "mimetype": "text/x-python",
   "name": "python",
   "nbconvert_exporter": "python",
   "pygments_lexer": "ipython3",
   "version": "3.6.5"
  }
 },
 "nbformat": 4,
 "nbformat_minor": 2
}
