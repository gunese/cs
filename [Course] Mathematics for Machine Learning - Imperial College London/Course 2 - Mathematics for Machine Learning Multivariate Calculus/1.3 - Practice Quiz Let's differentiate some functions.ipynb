{
 "cells": [
  {
   "cell_type": "markdown",
   "metadata": {},
   "source": [
    "## Week 1 - Practice Quiz: Let's differentiate some functions"
   ]
  },
  {
   "cell_type": "markdown",
   "metadata": {},
   "source": [
    "<br/>**1.**\n",
    "In the following quiz, you will practice how to differentiate some basic functions. Some questions look tricky, but just stick to the rules you know!\n",
    "\n",
    "Differentiate the function $f(x)=x^3+\\frac{x^2}{3}+3$.\n",
    "\n",
    "**$3𝑥^2+\\frac{2𝑥}{3}$**"
   ]
  },
  {
   "cell_type": "markdown",
   "metadata": {},
   "source": [
    "<br/>**2.**\n",
    "What function would differentiate to get $f'(x)=\\frac{3\\pi x^4}{4}+11x^2+\\sqrt{2}$\n",
    "\n",
    "**$f(x)=\\frac{3\\pi x^5}{20}+\\frac{11 x^3}{3}+\\sqrt{2}+2$**"
   ]
  },
  {
   "cell_type": "markdown",
   "metadata": {},
   "source": [
    "<br/>**3.**\n",
    "When given distance as a function of time (that is, distance $= x = x(t)x=x(t)$), one can calculate the rate of change of distance (that is, speed) as a function of time by differentiating $x(t)$ with respect to $t$.\n",
    "\n",
    "Similarly, one can calculate the rate of change of speed (that is, acceleration) by differentiating $x'(t)$ (the speed) with respect to $t$, to get the \"double derivative\" of $x(t)$.\n",
    "\n",
    "Consider a ball being thrown from a plane in the sky. At time $t=0$, has a distance from the ground of $10, 000~\\mathrm{m}$, has speed equal to $0~\\mathrm{ms^{-1}}$, and has acceleration equal to $-9.8~\\mathrm{ms^{-2}}$. Assuming that acceleration is constant, which of the following functions $x(t)$ best describes the distance from the ground to the ball as a function of time?\n",
    "\n",
    "**$x(t)=−4.9t^2+10,000$**"
   ]
  },
  {
   "cell_type": "markdown",
   "metadata": {},
   "source": [
    "<br/>**4.**\n",
    "Differentiate the function $f(x)=x^3+\\frac{x^2}{3}+3$ and evaluate the differential at $x=5$.\n",
    "\n",
    "**$f'(5)=\\frac{235}{3}$**"
   ]
  },
  {
   "cell_type": "markdown",
   "metadata": {},
   "source": [
    "<br/>**5.**\n",
    "Differentiate the function $f(x)=x^3+27x^2-5x+9$ and evaluate the differential at $x=-1$.\n",
    "\n",
    "**$f'(-1)=-56$**"
   ]
  }
 ],
 "metadata": {
  "kernelspec": {
   "display_name": "Python 3",
   "language": "python",
   "name": "python3"
  },
  "language_info": {
   "codemirror_mode": {
    "name": "ipython",
    "version": 3
   },
   "file_extension": ".py",
   "mimetype": "text/x-python",
   "name": "python",
   "nbconvert_exporter": "python",
   "pygments_lexer": "ipython3",
   "version": "3.6.6"
  }
 },
 "nbformat": 4,
 "nbformat_minor": 2
}
