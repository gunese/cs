{
 "cells": [
  {
   "cell_type": "markdown",
   "metadata": {},
   "source": [
    "## Week 5 - Quiz: Checking Newton-Raphson"
   ]
  },
  {
   "cell_type": "markdown",
   "metadata": {},
   "source": [
    "<br/>**1.**\n",
    "Given the following functions. When applying the Newton-Raphson method, which ones will converge to the specified root (pink dot) from the given starting point (orange dot)?\n",
    "\n",
    "Select all that apply.\n",
    "\n",
    "**![picture alt](https://i.ibb.co/wQvj4vh/6s-NCZAe1-Eei-Xs-A4-2-Ac-Sq-A-24cb235552baf01d1cd8e119ac3f3445-e.png)**\n",
    "\n",
    "**![picture alt](https://i.ibb.co/zr1PPmS/6s-NCZAe1-Eei-Xs-A4-2-Ac-Sq-A-24cb235552baf01d1cd8e119ac3f3445-e.png)**\n",
    "\n",
    "**![picture alt](https://i.ibb.co/RbmqtBr/6s-NCZAe1-Eei-Xs-A4-2-Ac-Sq-A-24cb235552baf01d1cd8e119ac3f3445-e.png)**\n",
    "\n",
    "**![picture alt](https://i.ibb.co/gzn6kvs/6s-NCZAe1-Eei-Xs-A4-2-Ac-Sq-A-24cb235552baf01d1cd8e119ac3f3445-e.png)**"
   ]
  }
 ],
 "metadata": {
  "kernelspec": {
   "display_name": "Python 3",
   "language": "python",
   "name": "python3"
  },
  "language_info": {
   "codemirror_mode": {
    "name": "ipython",
    "version": 3
   },
   "file_extension": ".py",
   "mimetype": "text/x-python",
   "name": "python",
   "nbconvert_exporter": "python",
   "pygments_lexer": "ipython3",
   "version": "3.6.6"
  }
 },
 "nbformat": 4,
 "nbformat_minor": 2
}
