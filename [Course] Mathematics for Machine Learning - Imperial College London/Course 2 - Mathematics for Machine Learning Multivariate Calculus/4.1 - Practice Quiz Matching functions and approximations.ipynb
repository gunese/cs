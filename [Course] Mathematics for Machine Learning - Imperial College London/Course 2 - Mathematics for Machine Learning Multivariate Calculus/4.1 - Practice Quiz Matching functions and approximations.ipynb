{
 "cells": [
  {
   "cell_type": "markdown",
   "metadata": {},
   "source": [
    "## Week 4 - Practice Quiz: Matching functions and approximations"
   ]
  },
  {
   "cell_type": "markdown",
   "metadata": {},
   "source": [
    "<br/>**1.**\n",
    "As mentioned in the previous video, the Taylor series approximation can also be viewed as a power series, in which these approximations are used to build functions that are often simpler and easier to evaluate, particularly when using numerical methods. In the following questions, we are looking at developing our understanding of how the increasing order of a power series allows us to develop further information of a function.\n",
    "\n",
    "Below are three graphs highlighting the zeroth, second and fourth order approximations of a common trigonometric function. Observe how increasing the number of approximations in the power series begins to build a better approximation, and determine which function these approximations represent.\n",
    "\n",
    "Zeroth order approximation:\n",
    "\n",
    "$f_0(x) = 1$\n",
    "\n",
    "![picture alt](https://i.ibb.co/85hq9xx/c-NS7jw-XWEei-ZQ6-W1-G11d-A-72db4ad96281994251a74f5fae030ab2-cos0.png)\n",
    "\n",
    "Second order approximation:\n",
    "\n",
    "$f_2(x) = 1 - \\frac{{x^2}}{2}$\n",
    "\n",
    "![picture alt](https://i.ibb.co/725QhCn/c-NS7jw-XWEei-ZQ6-W1-G11d-A-72db4ad96281994251a74f5fae030ab2-cos0.png)\n",
    "\n",
    "Fourth order approximation:\n",
    "\n",
    "$f_4(x) = 1 - \\frac{x^2}{2} + \\frac{x^4}{24}$\n",
    "\n",
    "![picture alt](https://i.ibb.co/WGKyx0G/c-NS7jw-XWEei-ZQ6-W1-G11d-A-72db4ad96281994251a74f5fae030ab2-cos0.png)\n",
    "\n",
    "**$f(x)=cos(x)$**\n",
    "\n",
    "![picture alt](https://i.ibb.co/10BzjLD/c-NS7jw-XWEei-ZQ6-W1-G11d-A-72db4ad96281994251a74f5fae030ab2-cos0.png)"
   ]
  },
  {
   "cell_type": "markdown",
   "metadata": {},
   "source": [
    "<br/>**2.**\n",
    "Below are three graphs highlighting the first, third and fifth order approximations of a common trigonometric function. Observe how the power series begins to build the function, and determine which function these approximations represent.\n",
    "\n",
    "First Order:\n",
    "\n",
    "$f_1(x) = 2x$\n",
    "\n",
    "![picture alt](https://i.ibb.co/dcBtwfv/c-NS7jw-XWEei-ZQ6-W1-G11d-A-72db4ad96281994251a74f5fae030ab2-cos0.png)\n",
    "\n",
    "Third Order:\n",
    "\n",
    "$f_3(x) = 2x - \\frac{4x^3}{3}$\n",
    "\n",
    "![picture alt](https://i.ibb.co/vXHxZxC/c-NS7jw-XWEei-ZQ6-W1-G11d-A-72db4ad96281994251a74f5fae030ab2-cos0.png)\n",
    "\n",
    "Fifth Order:\n",
    "\n",
    "$f_5(x) = 2x - \\frac{4x^3}{3} + \\frac{4x^5}{15}$\n",
    "\n",
    "![picture alt](https://i.ibb.co/4mgh6G1/c-NS7jw-XWEei-ZQ6-W1-G11d-A-72db4ad96281994251a74f5fae030ab2-cos0.png)\n",
    "\n",
    "**$f(x)=sin(2x)$**\n",
    "\n",
    "![picture alt](https://i.ibb.co/r5YM7KB/c-NS7jw-XWEei-ZQ6-W1-G11d-A-72db4ad96281994251a74f5fae030ab2-cos0.png)"
   ]
  },
  {
   "cell_type": "markdown",
   "metadata": {},
   "source": [
    "<br/>**3.**\n",
    "The graph below shows the function $f(x) = \\tan^{-1}(x)$, select all the power series approximations that can be used to obtain an approximation for this function.\n",
    "\n",
    "![picture alt](https://i.ibb.co/Ss9Fy3V/c-NS7jw-XWEei-ZQ6-W1-G11d-A-72db4ad96281994251a74f5fae030ab2-cos0.png)\n",
    "\n",
    "**$f(x)=x \\ldots$**\n",
    "\n",
    "**![picture alt](https://i.ibb.co/3SSjRwy/c-NS7jw-XWEei-ZQ6-W1-G11d-A-72db4ad96281994251a74f5fae030ab2-cos0.png)**\n",
    "\n",
    "**$f(x)=x - \\frac{x^3}{3} \\ldots$**\n",
    "\n",
    "**![picture alt](https://i.ibb.co/HCHDtK5/c-NS7jw-XWEei-ZQ6-W1-G11d-A-72db4ad96281994251a74f5fae030ab2-cos0.png)**"
   ]
  },
  {
   "cell_type": "markdown",
   "metadata": {},
   "source": [
    "<br/>**4.**\n",
    "The sinusoidal function $f(x) = \\sin(x)$ (green line) centered at $x = 0$ is shown in the graph below. The approximation for this function is shown through the series $f(x) = x - \\frac{x^3}{6} \\ldots$ (orange line). Determine what polynomial order is represented by the orange line.\n",
    "\n",
    "![picture alt](https://i.ibb.co/J5vYmz1/c-NS7jw-XWEei-ZQ6-W1-G11d-A-72db4ad96281994251a74f5fae030ab2-cos0.png)\n",
    "\n",
    "**Third Order**"
   ]
  },
  {
   "cell_type": "markdown",
   "metadata": {},
   "source": [
    "<br/>**5.**\n",
    "The graph below shows the function $f(x) = e^x$ (green line), the exponential function so widely used in science and mathematics today. The orange line represents the zeroth order approximation for the exponential function, centred at $x=0$. Determine if the pink line shown on the graph is, in fact, an approximation and if so, what order is this approximation.\n",
    "\n",
    "![picture alt](https://i.ibb.co/hCQDhCX/c-NS7jw-XWEei-ZQ6-W1-G11d-A-72db4ad96281994251a74f5fae030ab2-cos0.png)\n",
    "\n",
    "**Not a correct approximation**"
   ]
  }
 ],
 "metadata": {
  "kernelspec": {
   "display_name": "Python 3",
   "language": "python",
   "name": "python3"
  },
  "language_info": {
   "codemirror_mode": {
    "name": "ipython",
    "version": 3
   },
   "file_extension": ".py",
   "mimetype": "text/x-python",
   "name": "python",
   "nbconvert_exporter": "python",
   "pygments_lexer": "ipython3",
   "version": "3.6.6"
  }
 },
 "nbformat": 4,
 "nbformat_minor": 2
}
