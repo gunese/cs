{
 "cells": [
  {
   "cell_type": "markdown",
   "metadata": {},
   "source": [
    "## Week 4 - Practice Quiz: Taylor series - Special cases"
   ]
  },
  {
   "cell_type": "markdown",
   "metadata": {},
   "source": [
    "<br/>**1.**\n",
    "The graph below shows the function $f(x) = \\tan^{-1}(x)$\n",
    "\n",
    "![picture alt](https://i.ibb.co/Ss9Fy3V/c-NS7jw-XWEei-ZQ6-W1-G11d-A-72db4ad96281994251a74f5fae030ab2-cos0.png)\n",
    "\n",
    "By using the Maclaurin series or otherwise, determine whether the function shown above is even, odd or neither.\n",
    "\n",
    "**Odd**"
   ]
  },
  {
   "cell_type": "markdown",
   "metadata": {},
   "source": [
    "<br/>**2.**\n",
    "The graph below shows the discontinuous function $f(x) = \\frac{2}{(x^2 - x)}$. For this function, select the starting points that will allow a Taylor approximation to be made.\n",
    "\n",
    "![picture alt](https://i.ibb.co/Sy4j0cY/c-NS7jw-XWEei-ZQ6-W1-G11d-A-72db4ad96281994251a74f5fae030ab2-cos0.png)\n",
    "\n",
    "**$x=−3$**\n",
    "\n",
    "**$x=2$**\n",
    "\n",
    "**$x=0.5$**"
   ]
  },
  {
   "cell_type": "markdown",
   "metadata": {},
   "source": [
    "<br/>**3.**\n",
    "For the same function as previously discussed, $f(x) = \\frac{2}{(x^2 - x)}$, select all of the statements that are true about the resulting Taylor approximation.\n",
    "\n",
    "\n",
    "![picture alt](https://i.ibb.co/Sy4j0cY/c-NS7jw-XWEei-ZQ6-W1-G11d-A-72db4ad96281994251a74f5fae030ab2-cos0.png)\n",
    "\n",
    "\n",
    "**Approximation ignores the asymptotes**\n",
    "\n",
    "**Approximation ignores segments of the function**"
   ]
  },
  {
   "cell_type": "markdown",
   "metadata": {},
   "source": [
    "<br/>**4.**\n",
    "The graph below highlights the function $f(x) = \\frac{1}{(1+x^2)}$ (green line), with the Taylor expansions for the first 3 terms also shown about the point $x=2$. The Taylor expansion is $f(x) = \\frac{1}{5} - \\frac{4(x-2)}{25} + \\frac{22(x-2)^2}{125} + \\ldots$. Although the function looks rather normal, we find that the Taylor series does a bad approximation further from its starting point, not capturing the turning point. What could be the reason why this approximation is poor for the function described.\n",
    "\n",
    "![picture alt](https://i.ibb.co/cXN9ZPG/c-NS7jw-XWEei-ZQ6-W1-G11d-A-72db4ad96281994251a74f5fae030ab2-cos0.png)\n",
    "\n",
    "**It is a discontinuous function in the complex plane**\n",
    "\n",
    "**Asymptotes are in the complex plane**"
   ]
  },
  {
   "cell_type": "markdown",
   "metadata": {},
   "source": [
    "<br/>**5.**\n",
    "For the function $f(x) = \\frac{1}{x}$, provide the linear approximation about the point $x=4$, ensuring it is second order accurate.\n",
    "\n",
    "![picture alt](https://i.ibb.co/DwrBhMz/c-NS7jw-XWEei-ZQ6-W1-G11d-A-72db4ad96281994251a74f5fae030ab2-cos0.png)\n",
    "\n",
    "**$f(x)=1/4 - (x-4)/16 + O(\\Delta x^2)$**"
   ]
  }
 ],
 "metadata": {
  "kernelspec": {
   "display_name": "Python 3",
   "language": "python",
   "name": "python3"
  },
  "language_info": {
   "codemirror_mode": {
    "name": "ipython",
    "version": 3
   },
   "file_extension": ".py",
   "mimetype": "text/x-python",
   "name": "python",
   "nbconvert_exporter": "python",
   "pygments_lexer": "ipython3",
   "version": "3.6.6"
  }
 },
 "nbformat": 4,
 "nbformat_minor": 2
}
