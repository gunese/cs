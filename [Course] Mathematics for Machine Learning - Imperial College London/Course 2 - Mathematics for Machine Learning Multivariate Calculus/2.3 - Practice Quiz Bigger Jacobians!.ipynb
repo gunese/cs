{
 "cells": [
  {
   "cell_type": "markdown",
   "metadata": {},
   "source": [
    "## Week 2 - Practice Quiz: Bigger Jacobians!"
   ]
  },
  {
   "cell_type": "markdown",
   "metadata": {},
   "source": [
    "<br/>**1.**\n",
    "In this quiz, you will calculate the Jacobian matrix for some vector valued functions\n",
    "\n",
    "For the function $u(x,y) = x^2 - y^2$ and $v(x,y) = 2xy$, calculate the Jacobian matrix\n",
    "\n",
    "$J=\n",
    "\\begin{bmatrix} \n",
    "\\frac{\\partial{u}}{\\partial{x}} & \\frac{\\partial{u}}{\\partial{y}} \\\\ \n",
    "\\frac{\\partial{v}}{\\partial{x}} & \\frac{\\partial{v}}{\\partial{y}}\n",
    "\\end{bmatrix}$\n",
    "\n",
    "$J=\n",
    "\\begin{bmatrix} \n",
    "2x & -2y \\\\ \n",
    "2y & 2x\n",
    "\\end{bmatrix}$"
   ]
  },
  {
   "cell_type": "markdown",
   "metadata": {},
   "source": [
    "<br/>**2.**\n",
    "For the function $u(x,y,z) = 2x+3y$, $v(x,y,z) = cos(x) sin(z)$ and $w(x,y,z) = e^x e^y e^z$, calculate the Jacobian matrix\n",
    "\n",
    "$J=\n",
    "\\begin{bmatrix} \n",
    "\\frac{\\partial{u}}{\\partial{x}} & \\frac{\\partial{u}}{\\partial{y}} & \\frac{\\partial{u}}{\\partial{z}} \\\\ \n",
    "\\frac{\\partial{v}}{\\partial{x}} & \\frac{\\partial{v}}{\\partial{y}} & \\frac{\\partial{v}}{\\partial{z}} \\\\ \n",
    "\\frac{\\partial{w}}{\\partial{x}} & \\frac{\\partial{w}}{\\partial{y}} & \\frac{\\partial{w}}{\\partial{z}}\n",
    "\\end{bmatrix}$\n",
    "\n",
    "$J=\n",
    "\\begin{bmatrix} \n",
    "2 & 3 & 0 \\\\ \n",
    "-sin(x) sin(z) & 0 & cos(x) cos(z) \\\\ \n",
    "e^x e^y e^z & e^x e^y e^z & e^x e^y e^z \n",
    "\\end{bmatrix}$"
   ]
  },
  {
   "cell_type": "markdown",
   "metadata": {},
   "source": [
    "<br/>**3.**\n",
    "Consider the pair of linear equations $u(x,y) = ax + by$ and $v(x,y) = cx + dy$, where $a, b, c$ and $d$ are all constants. Calculate the Jacobian, and notice something kind of interesting!\n",
    "\n",
    "$J=\n",
    "\\begin{bmatrix} \n",
    "a & b \\\\ \n",
    "c & d\n",
    "\\end{bmatrix}$"
   ]
  },
  {
   "cell_type": "markdown",
   "metadata": {},
   "source": [
    "<br/>**4.**\n",
    "For the function $u(x,y,z) = 9x^2 + y^2 + z e^x$, $v(x,y,z) = xy + x^2 y^3 + 2z$ and $w(x,y,z) = cos(x) sin(z) e^y$, calculate the Jacobian matrix and evaluate at the point $(0,0,0)$.\n",
    "\n",
    "$J=\n",
    "\\begin{bmatrix} \n",
    "0 & 0 & 1 \\\\ \n",
    "0 & 0 & 2 \\\\\n",
    "0 & 0 & 1 \\\\\n",
    "\\end{bmatrix}$"
   ]
  },
  {
   "cell_type": "markdown",
   "metadata": {},
   "source": [
    "<br/>**5.**\n",
    "In the lecture, we calculated the Jacobian of the transformation from Polar co-ordinates to Cartesian co-ordinates in 2D. In this question, we will do the same, but with Spherical co-ordinates to 3D.\n",
    "\n",
    "For the functions $x(r, \\theta, \\phi) = rcos(\\theta)sin(\\phi)$, $y(r, \\theta, \\phi) = rsin(\\theta)sin(\\phi)$ and $z(r, \\theta, \\phi) = rcos(\\phi)$, calculate the Jacobian matrix\n",
    "\n",
    "$J=\n",
    "\\begin{bmatrix} \n",
    "cos(\\theta) sin(\\phi) & -r sin(\\theta) sin(\\phi) & r cos(\\theta) cos(\\phi) \\\\ \n",
    "sin(\\theta) sin(\\phi) & r cos(\\theta) sin(\\phi) & r sin(\\theta) cos(\\phi) \\\\\n",
    "cos(\\theta) & 0 & -r sin(\\phi) \\\\\n",
    "\\end{bmatrix}$"
   ]
  }
 ],
 "metadata": {
  "kernelspec": {
   "display_name": "Python 3",
   "language": "python",
   "name": "python3"
  },
  "language_info": {
   "codemirror_mode": {
    "name": "ipython",
    "version": 3
   },
   "file_extension": ".py",
   "mimetype": "text/x-python",
   "name": "python",
   "nbconvert_exporter": "python",
   "pygments_lexer": "ipython3",
   "version": "3.6.6"
  }
 },
 "nbformat": 4,
 "nbformat_minor": 2
}
