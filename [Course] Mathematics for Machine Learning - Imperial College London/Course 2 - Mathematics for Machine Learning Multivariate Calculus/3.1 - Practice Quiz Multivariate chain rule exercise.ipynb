{
 "cells": [
  {
   "cell_type": "markdown",
   "metadata": {},
   "source": [
    "## Week 3 - Practice Quiz: Multivariate chain rule exercise"
   ]
  },
  {
   "cell_type": "markdown",
   "metadata": {},
   "source": [
    "<br/>**1.**\n",
    "In this quiz, you will practice calculating the multivariate chain rule for various functions.\n",
    "\n",
    "For the following functions, calculate the expression $\\frac{df}{dt}=\\frac{\\partial{f}}{\\partial{x}} \\frac{dx}{dt}$ in matrix form, where \n",
    "\n",
    "$\\mathbf{x} = (x_1, x_2)$.\n",
    "\n",
    "$f(\\mathbf{x}) = f(x_1, x_2) = x^2_1 x^2_2 + x_1 x_2$\n",
    "\n",
    "$x_1(t)=1−t^2$\n",
    "\n",
    "$x_2(t)=1+t^2$\n",
    "\n",
    "**$\\frac{df}{dt}=\\frac{\\partial{f}}{\\partial{x}} \\frac{dx}{dt}=[2x_1 x_2^2 + x_2,2x_1^2 x_2 + x_1]\n",
    "\\begin{bmatrix} \n",
    "-2t \\\\ \n",
    "2t\n",
    "\\end{bmatrix}$**"
   ]
  },
  {
   "cell_type": "markdown",
   "metadata": {},
   "source": [
    "<br/>**2.**\n",
    "For the following functions, calculate the expression $\\frac{df}{dt}=\\frac{\\partial{f}}{\\partial{x}} \\frac{dx}{dt}$ in matrix form, where \n",
    "\n",
    "$\\mathbf{x} = (x_1, x_2, x_3)$.\n",
    "\n",
    "$f(\\mathbf{x}) = f(x_1, x_2, x3) = x^3_1 cos(x_2) e^{x_3}$\n",
    "\n",
    "$x_1(t)=2t$\n",
    "\n",
    "$x_2(t)=1-t^2$\n",
    "\n",
    "$x_3(t)=e^t$\n",
    "\n",
    "**$\\frac{df}{dt}=\\frac{\\partial{f}}{\\partial{x}} \\frac{dx}{dt}=[3x_1^2 cos(x_2) e^{x_3},-x_1^3 sin(x_2) e^{x_3},x_1^3 cos(x_2) e^{x_3}]\n",
    "\\begin{bmatrix} \n",
    "2 \\\\ \n",
    "-2t \\\\\n",
    "e^t\n",
    "\\end{bmatrix}$**"
   ]
  },
  {
   "cell_type": "markdown",
   "metadata": {},
   "source": [
    "<br/>**3.**\n",
    "For the following functions, calculate the expression $\\frac{df}{dt}=\\frac{\\partial{f}}{\\partial{x}} \\frac{\\partial{x}}{\\partial{u}} \\frac{du}{dt}$ in matrix form, where \n",
    "\n",
    "$\\mathbf{x} = (x_1, x_2)$ and $\\mathbf{u} = (u_1, u_2)$.\n",
    "\n",
    "$f(\\mathbf{x}) = f(x_1, x_2) = x_1^2 - x_2^2$\n",
    "\n",
    "$x_1(u_1,u_2)=2u_1 + 3u_2$\n",
    "\n",
    "$x_2(u_1,u_2)=2u_1 - 3u_2$\n",
    "\n",
    "$u_1(t)=cos(t/2)$\n",
    "\n",
    "$u_2(t)=sin(2t)$\n",
    "\n",
    "**$\\frac{df}{dt}=\\frac{\\partial{f}}{\\partial{x}} \\frac{\\partial{x}}{\\partial{u}} \\frac{du}{dt}=[2x_1, -2x_2]\n",
    "\\begin{bmatrix} \n",
    "2 & 3\\\\ \n",
    "2 & -3 \\\\\n",
    "\\end{bmatrix}\n",
    "\\begin{bmatrix} \n",
    "-sin(t/2)/2 \\\\ \n",
    "2cos(2t) \\\\\n",
    "\\end{bmatrix}$**"
   ]
  },
  {
   "cell_type": "markdown",
   "metadata": {},
   "source": [
    "<br/>**4.**\n",
    "For the following functions, calculate the expression $\\frac{df}{dt}=\\frac{\\partial{f}}{\\partial{x}} \\frac{\\partial{x}}{\\partial{u}} \\frac{du}{dt}$ in matrix form, where \n",
    "\n",
    "$\\mathbf{x} = (x_1, x_2)$ and $\\mathbf{u} = (u_1, u_2)$.\n",
    "\n",
    "$f(\\mathbf{x}) = f(x_1, x_2) = cos(x_1) sin(x_2)$\n",
    "\n",
    "$x_1(u_1,u_2)=2u_1^2 + 3u_2^2 - u_2$\n",
    "\n",
    "$x_2(u_1,u_2)=2u_1 - 5u_2^3$\n",
    "\n",
    "$u_1(t)=e^{t/2}$\n",
    "\n",
    "$u_2(t)=e^{-2t}$\n",
    "\n",
    "**$\\frac{df}{dt}=\\frac{\\partial{f}}{\\partial{x}} \\frac{\\partial{x}}{\\partial{u}} \\frac{du}{dt}=[-sin(x_1) sin(x_2),cos(x_1) cos(x_2)]\n",
    "\\begin{bmatrix} \n",
    "4u_1 & 6u_2 - 1\\\\ \n",
    "2 & -15u_2 \\\\\n",
    "\\end{bmatrix}\n",
    "\\begin{bmatrix} \n",
    "e^{t/2}/2 \\\\ \n",
    "-2e^{-2t} \\\\\n",
    "\\end{bmatrix}$**"
   ]
  },
  {
   "cell_type": "markdown",
   "metadata": {},
   "source": [
    "<br/>**5.**\n",
    "For the following functions, calculate the expression $\\frac{df}{dt}=\\frac{\\partial{f}}{\\partial{x}} \\frac{\\partial{x}}{\\partial{u}} \\frac{du}{dt}$ in matrix form, where \n",
    "\n",
    "$\\mathbf{x} = (x_1, x_2, x_3)$ and $\\mathbf{u} = (u_1, u_2)$.\n",
    "\n",
    "$f(\\mathbf{x}) = f(x_1, x_2, x_3) = sin(x_1) cos(x_2) e^{x_3}$\n",
    "\n",
    "$x_1(u_1,u_2)=sin(u_1) + cos(u_2)$\n",
    "\n",
    "$x_2(u_1,u_2)=cos(u_1) - sin(u_2)$\n",
    "\n",
    "$x_3(u_1,u_2)=e^{u_1 + u_2}$\n",
    "\n",
    "$u_1(t)=1+t/2$\n",
    "\n",
    "$u_2(t)=1-t/2$\n",
    "\n",
    "**$\\frac{df}{dt}=\\frac{\\partial{f}}{\\partial{x}} \\frac{\\partial{x}}{\\partial{u}} \\frac{du}{dt}=[cos(x_1) cos(x_2) e^{x_3}, -sin(x_1) sin(x_2) e^{x_3}, sin(x_1) cos(x_2) e^{x_3}]\n",
    "\\begin{bmatrix} \n",
    "sin(u_1) & -sin(u_2) \\\\ \n",
    "-sin(u_1) & -cos(u_2) \\\\\n",
    "e^{u_1+u_2} & e^{u_1+u_2}\n",
    "\\end{bmatrix}\n",
    "\\begin{bmatrix} \n",
    "1/2 \\\\ \n",
    "-1/2 \\\\\n",
    "\\end{bmatrix}$**"
   ]
  }
 ],
 "metadata": {
  "kernelspec": {
   "display_name": "Python 3",
   "language": "python",
   "name": "python3"
  },
  "language_info": {
   "codemirror_mode": {
    "name": "ipython",
    "version": 3
   },
   "file_extension": ".py",
   "mimetype": "text/x-python",
   "name": "python",
   "nbconvert_exporter": "python",
   "pygments_lexer": "ipython3",
   "version": "3.6.6"
  }
 },
 "nbformat": 4,
 "nbformat_minor": 2
}
