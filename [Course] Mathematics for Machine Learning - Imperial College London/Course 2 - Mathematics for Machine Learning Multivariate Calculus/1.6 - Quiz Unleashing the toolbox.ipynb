{
 "cells": [
  {
   "cell_type": "markdown",
   "metadata": {},
   "source": [
    "## Week 1 - Quiz: Unleashing the toolbox"
   ]
  },
  {
   "cell_type": "markdown",
   "metadata": {},
   "source": [
    "<br/>**1.**\n",
    "In this assessment, you will be tested on all of the different topics you have in covered this module. Good luck!\n",
    "\n",
    "What is the derivative of the function $f(x)=x^{3/2}+\\pi x^2+\\sqrt{7}$  evaluated at the point $x = 2$?\n",
    "\n",
    "\n",
    "**$f'(2)= \\frac{3 \\sqrt{2}}{2} + 4 \\pi$**"
   ]
  },
  {
   "cell_type": "markdown",
   "metadata": {},
   "source": [
    "<br/>**2.**\n",
    "What is the derivative of the function $f(x) = x^3 cos(x) e^x $?\n",
    "\n",
    "\n",
    "\n",
    "**$f'(x)=-e^x x^3 sin(x) + e^x x^3 cos(x) + 3e^x x^2 cos(x)$**"
   ]
  },
  {
   "cell_type": "markdown",
   "metadata": {},
   "source": [
    "<br/>**3.**\n",
    "What is the derivative of the function $f(x) = e^{[(x+1)^2]}$?\n",
    "\n",
    "**$f′(x)=2(x+1) e^{[(x+1)^2]}$**"
   ]
  },
  {
   "cell_type": "markdown",
   "metadata": {},
   "source": [
    "<br/>**4.**\n",
    "What is the derivative of the function $f(x) = x^2 cos(x^3)$?\n",
    "\n",
    "**$f'(x)=2xcos(x^3)−3x^4sin(x^3)$**"
   ]
  },
  {
   "cell_type": "markdown",
   "metadata": {},
   "source": [
    "<br/>**5.**\n",
    "What is the derivative of the function $f(x) = sin(x)e^{cos(x)}$ at the point $x = \\pi$?\n",
    "\n",
    "\n",
    "\n",
    "**$f'(\\pi)=\\frac{-1}{e}$**"
   ]
  }
 ],
 "metadata": {
  "kernelspec": {
   "display_name": "Python 3",
   "language": "python",
   "name": "python3"
  },
  "language_info": {
   "codemirror_mode": {
    "name": "ipython",
    "version": 3
   },
   "file_extension": ".py",
   "mimetype": "text/x-python",
   "name": "python",
   "nbconvert_exporter": "python",
   "pygments_lexer": "ipython3",
   "version": "3.6.6"
  }
 },
 "nbformat": 4,
 "nbformat_minor": 2
}
