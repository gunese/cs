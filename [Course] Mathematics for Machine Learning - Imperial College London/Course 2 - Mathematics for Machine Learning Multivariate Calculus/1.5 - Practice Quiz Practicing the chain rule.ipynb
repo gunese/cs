{
 "cells": [
  {
   "cell_type": "markdown",
   "metadata": {},
   "source": [
    "## Week 1 - Practice Quiz: Practicing the chain rule"
   ]
  },
  {
   "cell_type": "markdown",
   "metadata": {},
   "source": [
    "<br/>**1.**\n",
    "In the following quiz, you will practice how to use the chain rule. Some questions look tricky, but just stick to the rules you know!\n",
    "\n",
    "If $f(x) = g(h(x))$, what is the differential of $f$ with respect to $x$, in terms of $g$ and $h$?\n",
    "\n",
    "\n",
    "\n",
    "**$f'(x)=g'(h(x))h'(x)$**"
   ]
  },
  {
   "cell_type": "markdown",
   "metadata": {},
   "source": [
    "<br/>**2.**\n",
    "Differentiate with respect to $x$ the function $f(x) = \\sqrt{x^3-2x} = (x^3-2x)^{1/2}$.\n",
    "\n",
    "**$f'(x)=\\frac{3x^2-2}{2\\sqrt{x^3-2x}}$**"
   ]
  },
  {
   "cell_type": "markdown",
   "metadata": {},
   "source": [
    "<br/>**3.**\n",
    "Differentiate with respect to $x$ the function $f(x) = e^{x^3-3}$.\n",
    "\n",
    "**$f′(x)=3x^2e^{x^3−3}$**"
   ]
  },
  {
   "cell_type": "markdown",
   "metadata": {},
   "source": [
    "<br/>**4.**\n",
    "Differentiate with respect to $x$ the function $f(x) = \\sqrt{e^{x+2}}$.\n",
    "\n",
    "**$f′(x)=\\frac{\\sqrt{e^{x+2}}}{2}$**"
   ]
  },
  {
   "cell_type": "markdown",
   "metadata": {},
   "source": [
    "<br/>**5.**\n",
    "If $f(t) = f(y(x(t)))$, what is the differential of $f$ with respect to $t$, in terms of $f, y, x$ and $t$?\n",
    "\n",
    "**$f'(t)=f'(y(x(t)))⋅y'(x(t))⋅x'(t)$**"
   ]
  }
 ],
 "metadata": {
  "kernelspec": {
   "display_name": "Python 3",
   "language": "python",
   "name": "python3"
  },
  "language_info": {
   "codemirror_mode": {
    "name": "ipython",
    "version": 3
   },
   "file_extension": ".py",
   "mimetype": "text/x-python",
   "name": "python",
   "nbconvert_exporter": "python",
   "pygments_lexer": "ipython3",
   "version": "3.6.6"
  }
 },
 "nbformat": 4,
 "nbformat_minor": 2
}
