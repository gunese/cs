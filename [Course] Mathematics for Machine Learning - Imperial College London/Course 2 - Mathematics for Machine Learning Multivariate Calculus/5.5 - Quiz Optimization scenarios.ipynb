{
 "cells": [
  {
   "cell_type": "markdown",
   "metadata": {},
   "source": [
    "## Week 5 - Quiz: Optimization scenarios"
   ]
  },
  {
   "cell_type": "markdown",
   "metadata": {},
   "source": [
    "<br/>**1.**\n",
    "Given the following contour plot,\n",
    "\n",
    "![picture alt](https://i.ibb.co/pxT6JtG/Y5z-M1ggm-Eeigxx-LHg-Ci-Rz-A-1b53d82db11df49952a011d548c90f64-sp1.png)\n",
    "\n",
    "Which starting points (from 1 to 5) are likely to converge to the global minimum (shown by the mobile phone) when using a steepest descent algorithm?\n",
    "\n",
    "**Starting point 1**\n",
    "\n",
    "**Starting point 3**\n",
    "\n",
    "**Starting point 4**"
   ]
  },
  {
   "cell_type": "markdown",
   "metadata": {},
   "source": [
    "<br/>**2.**\n",
    "Again, which starting points converge to the global minimum?\n",
    "\n",
    "![picture alt](https://i.ibb.co/hmZ38ff/Y5z-M1ggm-Eeigxx-LHg-Ci-Rz-A-1b53d82db11df49952a011d548c90f64-sp1.png)\n",
    "\n",
    "**Starting point 3**\n",
    "\n",
    "**Starting point 4**\n",
    "\n",
    "**Starting point 5**"
   ]
  },
  {
   "cell_type": "markdown",
   "metadata": {},
   "source": [
    "<br/>**3.**\n",
    "Which starting points converge to the global minimum?\n",
    "\n",
    "![picture alt](https://i.ibb.co/37MFKYP/Y5z-M1ggm-Eeigxx-LHg-Ci-Rz-A-1b53d82db11df49952a011d548c90f64-sp1.png)\n",
    "\n",
    "**Starting point 2**"
   ]
  },
  {
   "cell_type": "markdown",
   "metadata": {},
   "source": [
    "<br/>**4.**\n",
    "What's happening in this gradient descent?\n",
    "\n",
    "![picture alt](https://i.ibb.co/B29V1MB/Y5z-M1ggm-Eeigxx-LHg-Ci-Rz-A-1b53d82db11df49952a011d548c90f64-sp1.png)\n",
    "\n",
    "**The global minimum is in a wide and flat basin, so convergence is slow.**"
   ]
  },
  {
   "cell_type": "markdown",
   "metadata": {},
   "source": [
    "<br/>**5.**\n",
    "What is happening here?\n",
    "\n",
    "![picture alt](https://i.ibb.co/ngHMmvk/Y5z-M1ggm-Eeigxx-LHg-Ci-Rz-A-1b53d82db11df49952a011d548c90f64-sp1.png)\n",
    "\n",
    "**The algorithm is passing either side of a saddle point.**"
   ]
  },
  {
   "cell_type": "markdown",
   "metadata": {},
   "source": [
    "<br/>**6.**\n",
    "What is happening here?\n",
    "\n",
    "![picture alt](https://i.ibb.co/Krb5Tc2/Y5z-M1ggm-Eeigxx-LHg-Ci-Rz-A-1b53d82db11df49952a011d548c90f64-sp1.png)\n",
    "\n",
    "**The Jacobian at the starting point is very large.**"
   ]
  }
 ],
 "metadata": {
  "kernelspec": {
   "display_name": "Python 3",
   "language": "python",
   "name": "python3"
  },
  "language_info": {
   "codemirror_mode": {
    "name": "ipython",
    "version": 3
   },
   "file_extension": ".py",
   "mimetype": "text/x-python",
   "name": "python",
   "nbconvert_exporter": "python",
   "pygments_lexer": "ipython3",
   "version": "3.6.6"
  }
 },
 "nbformat": 4,
 "nbformat_minor": 2
}
