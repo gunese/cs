{
 "cells": [
  {
   "cell_type": "markdown",
   "metadata": {},
   "source": [
    "## Week 4 - Quiz: Taylor Series Assessment"
   ]
  },
  {
   "cell_type": "markdown",
   "metadata": {},
   "source": [
    "<br/>**1.**\n",
    "Now that we have completed the set of Taylor series lectures and answered all the quiz questions, we now need to test our understanding of Taylor series. We have looked at the derivation of Taylor series, broken it down into a power series approximation, explored special cases and developed the idea of multi variant Taylor series, that is required in order for us to develop a good grounding for the next chapters in this course.\n",
    "\n",
    "For the function $f(x) = x \\sin(x)$ shown below, determine what order approximation is shown by the orange curve, where the Taylor series approximation was centered about $x = 0$.\n",
    "\n",
    "![picture alt](https://i.ibb.co/CMhNSjJ/7m-VSig-Xk-Eeiu6g4-2-Ac-Sq-A-f7d58e3995eb2758ae8d64783a3471e8-xsinx.png)\n",
    "\n",
    "**Sixth Order**"
   ]
  },
  {
   "cell_type": "markdown",
   "metadata": {},
   "source": [
    "<br/>**2.**\n",
    "Find the first four non zero terms of the Taylor expansion for the function $f(x) = e^x + x + \\sin(x)$ about $x = 0$. The function is shown below:\n",
    "\n",
    "![picture alt](https://i.ibb.co/MSsNjGV/7m-VSig-Xk-Eeiu6g4-2-Ac-Sq-A-f7d58e3995eb2758ae8d64783a3471e8-xsinx.png)\n",
    "\n",
    "**$f(x) = 1 + 3x + \\frac{x^2}{2} + \\frac{x^4}{24} + \\ldots$**"
   ]
  },
  {
   "cell_type": "markdown",
   "metadata": {},
   "source": [
    "<br/>**3.**\n",
    "The graph below shows the discontinuous function $f(x) = \\frac{2}{(x^2 - x)}$. Approximate the section of this function that covers the domain $0 < x < 1$. Use the Taylor series formula and $x=0.5$ as your starting point, find the first two non zero terms.\n",
    "\n",
    "![picture alt](https://i.ibb.co/Sy4j0cY/c-NS7jw-XWEei-ZQ6-W1-G11d-A-72db4ad96281994251a74f5fae030ab2-cos0.png)\n",
    "\n",
    "**$f(x) = -8 -32(x-0.5)^2 \\ldots$**"
   ]
  },
  {
   "cell_type": "markdown",
   "metadata": {},
   "source": [
    "<br/>**4.**\n",
    "Determine if the function: $f(x) = \\left(\\frac{x}{2}\\right)^2 \\frac{\\sin(2x)}{2}$ shown below is odd, even or neither.\n",
    "\n",
    "![picture alt](https://i.ibb.co/g4jv8g8/7m-VSig-Xk-Eeiu6g4-2-Ac-Sq-A-f7d58e3995eb2758ae8d64783a3471e8-xsinx.png)\n",
    "\n",
    "**Odd**"
   ]
  },
  {
   "cell_type": "markdown",
   "metadata": {},
   "source": [
    "<br/>**5.**\n",
    "Take the Taylor expansion of the function $f(x) = e^{-2x}$ about the point $x = 2$ and subsequently linearize the function.\n",
    "\n",
    "**$f(x)=(\\frac{1}{e^4})[1-2(x-2)] + O(\\Delta x^2)$**"
   ]
  },
  {
   "cell_type": "markdown",
   "metadata": {},
   "source": [
    "<br/>**6.**\n",
    "The figures below feature functions of two variables with proposed Taylor series approximations in red, expanded around the red circle. Which of the following features a valid second order approximation?\n",
    "\n",
    "**$f(x,y)=xe^{−x^2+y/4}$**\n",
    "\n",
    "**![picture alt](https://i.ibb.co/7Ys3S9s/HFm-BNAX-Eeip-Xh-JPEXd-Vd-A-c8b63cf18dff20663b9e9bc4be013bc3-Q4c-BZ.gif)**"
   ]
  }
 ],
 "metadata": {
  "kernelspec": {
   "display_name": "Python 3",
   "language": "python",
   "name": "python3"
  },
  "language_info": {
   "codemirror_mode": {
    "name": "ipython",
    "version": 3
   },
   "file_extension": ".py",
   "mimetype": "text/x-python",
   "name": "python",
   "nbconvert_exporter": "python",
   "pygments_lexer": "ipython3",
   "version": "3.6.6"
  }
 },
 "nbformat": 4,
 "nbformat_minor": 2
}
