{
 "cells": [
  {
   "cell_type": "markdown",
   "metadata": {},
   "source": [
    "## Week 5 - Practice Quiz: Linear regression"
   ]
  },
  {
   "cell_type": "markdown",
   "metadata": {},
   "source": [
    "<br/>**1.**\n",
    "In the previous video you saw how to fit a line $y = mx+c$ to linear data. In this quiz you will practice identifying data that is appropriate for linear regression, and initialize some fits yourself.\n",
    "\n",
    "Which of the following figures looks like it contains sensible data for a linear fit?\n",
    "\n",
    "**![picture alt](https://i.ibb.co/8zpq9Dh/34-H0-TABm-Eeioigp-Ac-EC6-QA-4a1fa4cd20b65752f54fd71d7301792c-Lin-Or-Not-1aa.png)**"
   ]
  },
  {
   "cell_type": "markdown",
   "metadata": {},
   "source": [
    "<br/>**2.**\n",
    "Which of the following figures looks like it contains sensible data for a linear fit?\n",
    "\n",
    "**![picture alt](https://i.ibb.co/VqgR4X6/34-H0-TABm-Eeioigp-Ac-EC6-QA-4a1fa4cd20b65752f54fd71d7301792c-Lin-Or-Not-1aa.png)**"
   ]
  },
  {
   "cell_type": "markdown",
   "metadata": {},
   "source": [
    "<br/>**3.**\n",
    "Now that we've identified candidates for linear regression we can do some linear fitting ourselves. The code block below plots some predefined data points and a linear regression with the values $[m,c]$, where $m$ is the gradient and $c$ is the y-intercept. It also gives the $\\chi^2$ value discussed in the previous video, which is a measure of how good the fit is.\n",
    "\n",
    "Play with the values of $m$ and $c$ to get a sense for how different linear fits affect $\\chi^2$, then try to find the best possible fit to the data."
   ]
  },
  {
   "cell_type": "code",
   "execution_count": null,
   "metadata": {},
   "outputs": [],
   "source": [
    "# See what m and c do to the fit\n",
    "m = 1.2 ; c = 0.1\n",
    "p = [m,c]\n",
    "line(p)"
   ]
  },
  {
   "cell_type": "markdown",
   "metadata": {},
   "source": [
    "The minimum $\\chi^2$ value is $0.03819$ to 4 significant figures. Try to find a fit with $\\chi^2 \\leq 0.04$ and then input these values into the following code block:"
   ]
  },
  {
   "cell_type": "code",
   "execution_count": 2,
   "metadata": {},
   "outputs": [],
   "source": [
    "# Replace m and c with values that minimise χ^2.\n",
    "p = [-0.27, 0.79]"
   ]
  },
  {
   "cell_type": "markdown",
   "metadata": {},
   "source": [
    "<br/>**4.**\n",
    "Fitting by eye is not that easy even for small sets of data. Let's make some linear fits using the maths discussed in the previous video.\n",
    "\n",
    "The following is a figure with 5 data points, labeled with their $(x,y)$ coordinates:\n",
    "\n",
    "![picture alt](https://i.ibb.co/9NN0ThV/34-H0-TABm-Eeioigp-Ac-EC6-QA-4a1fa4cd20b65752f54fd71d7301792c-Lin-Or-Not-1aa.png)\n",
    "\n",
    "Let's fit a linear regression to this small sample by hand. Recall that we can use $\\chi^2$ to measure how good our fit is, defined by\n",
    "\n",
    "$\\chi^2=\\Sigma (y_i - mx_i - c)^2,$\n",
    "\n",
    "and that we can find the minimum of $\\chi^2$ by differentiating it and setting it to zero. This leads us to the equations for $m$ and $c$,\n",
    "\n",
    "$m=\\frac{\\Sigma (x_i - \\bar{x})y_i}{\\Sigma (x_i - \\bar{x})^2},\\quad c=\\bar{y} - m\\bar{x}$\n",
    "\n",
    "which minimize $\\chi^2$.\n",
    "\n",
    "Use these equations to calculate the $m$ and $c$ which minimize $\\chi^2$ for the 5 data points given above and select the correct values below:\n",
    "\n",
    "**$m=2, c=-0.7$**"
   ]
  },
  {
   "cell_type": "markdown",
   "metadata": {},
   "source": [
    "<br/>**5.**\n",
    "As you have seen it can be quite a lot of effort to fit even 5 data points when doing the maths by hand. Often it's necessary to work with much larger data sets, so let's consider a new example with 50 data points. Instead of doing it by hand we'll implement a function to do the maths for us.\n",
    "\n",
    "Run the following code block first to see the data without any kind of linear fit. The function _linfit_ is being defined inside the code block. Your task is to edit the definition so that _linfit_ takes the array of x data, _xdat_, and the array of y data, _ydat_, and returns the correct $m$ and $c$ to create a linear fit which minimizes $\\chi^2$.\n",
    "\n",
    "The calculation for $\\bar{x}$, _xbar_, and $\\bar{y}$, _ybar_, is already given. As you can see _numpy_ has been imported as _np_."
   ]
  },
  {
   "cell_type": "code",
   "execution_count": null,
   "metadata": {},
   "outputs": [],
   "source": [
    "# Here the function is defined\n",
    "def linfit(xdat,ydat):\n",
    "  # Here xbar and ybar are calculated\n",
    "  xbar = np.sum(xdat)/len(xdat)\n",
    "  ybar = np.sum(ydat)/len(ydat)\n",
    "\n",
    "  # Insert calculation of m and c here. If nothing is here the data will be plotted with no linear fit\n",
    "\n",
    "  # Return your values as [m, c]\n",
    "  return [m, c]\n",
    "\n",
    "# Produce the plot - don't put this in the next code block\n",
    "line()"
   ]
  },
  {
   "cell_type": "markdown",
   "metadata": {},
   "source": [
    "Use the above code block to test your code. When you are confident that you have correctly defined the function, put it into the next codeblock and run it, being careful not to include _line()_ in your answer."
   ]
  },
  {
   "cell_type": "code",
   "execution_count": null,
   "metadata": {},
   "outputs": [],
   "source": [
    "# Here the function is defined\n",
    "def linfit(xdat,ydat):\n",
    "  # Here xbar and ybar are calculated\n",
    "  xbar = np.sum(xdat)/len(xdat)\n",
    "  ybar = np.sum(ydat)/len(ydat)\n",
    "\n",
    "  # Insert calculation of m and c below\n",
    "  m = np.sum((xdat - xbar) * ydat) / np.sum((xdat - xbar)**2)\n",
    "  c = ybar - m * xbar\n",
    "\n",
    "  # Return your values as [m, c]\n",
    "  return [m, c]\n",
    "  \n",
    "# Don't include line() in this answer box"
   ]
  },
  {
   "cell_type": "markdown",
   "metadata": {},
   "source": [
    "<br/>**6.**\n",
    "While it is informative to write the code ourselves, as in the previous question, in practice functions which do various types of regression are implemented in lots of programming languages. There are several of these in python.\n",
    "\n",
    "One such example is the _scipy.stats.linregress()_ method, which takes arrays of x data and y data in exactly the same way as the _linfit()_ function you defined in the previous question. As an output it gives the slope $m$ and intercept $c$ as well as a few useful statistical measures like the standard error.\n",
    "\n",
    "In the following code block, the x data is again stored in the _xdat_ array, and the y data in the _ydat_ array. Call the method _stats.linregress()_ with the data arguments, and then pass the output to _line()_ to plot the regression."
   ]
  },
  {
   "cell_type": "code",
   "execution_count": null,
   "metadata": {},
   "outputs": [],
   "source": [
    "from scipy import stats\n",
    "\n",
    "# Use the stats.linregress() method to evaluate regression\n",
    "regression = \n",
    "\n",
    "line(regression)"
   ]
  },
  {
   "cell_type": "markdown",
   "metadata": {},
   "source": [
    "Hopefully it is clear that _linregress()_ does everything _linfit()_ did and more, without having to write it yourself!\n",
    "\n",
    "Once you're happy that you've implemented things correctly in the above code block, repeat the same in the following code block without the last line to complete the question."
   ]
  },
  {
   "cell_type": "code",
   "execution_count": null,
   "metadata": {},
   "outputs": [],
   "source": [
    "from scipy import stats\n",
    "\n",
    "# Use the stats.linregress() method to evaluate regression\n",
    "regression = stats.linregress(xdat, ydat)\n",
    "\n",
    "# Don't use line(regression) in this code box"
   ]
  }
 ],
 "metadata": {
  "kernelspec": {
   "display_name": "Python 3",
   "language": "python",
   "name": "python3"
  },
  "language_info": {
   "codemirror_mode": {
    "name": "ipython",
    "version": 3
   },
   "file_extension": ".py",
   "mimetype": "text/x-python",
   "name": "python",
   "nbconvert_exporter": "python",
   "pygments_lexer": "ipython3",
   "version": "3.6.6"
  }
 },
 "nbformat": 4,
 "nbformat_minor": 2
}
