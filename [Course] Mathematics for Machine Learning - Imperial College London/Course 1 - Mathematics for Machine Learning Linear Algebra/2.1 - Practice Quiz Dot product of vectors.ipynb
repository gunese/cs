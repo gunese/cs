{
 "cells": [
  {
   "cell_type": "markdown",
   "metadata": {},
   "source": [
    "## Week 2 - Practice Quiz: Dot product of vectors"
   ]
  },
  {
   "cell_type": "markdown",
   "metadata": {},
   "source": [
    "<br/>**1.**\n",
    "As we have seen in the lecture videos, the dot product of vectors has a lot of applications. Here, you will complete some exercises involving the dot product.\n",
    "\n",
    "What is the size of the vector $\\begin{bmatrix} 1 \\\\ 3 \\\\ 4 \\\\ 2 \\end{bmatrix}$ ?\n",
    "\n",
    "**$\t\\sqrt{30}$**"
   ]
  },
  {
   "cell_type": "markdown",
   "metadata": {},
   "source": [
    "<br/>**2.**\n",
    "What is the dot product of the vectors $\\begin{bmatrix} -5 \\\\ 3 \\\\ 2 \\\\ 8 \\end{bmatrix}$ and $\\begin{bmatrix} 1 \\\\ 2 \\\\ -1 \\\\ 0 \\end{bmatrix}$?\n",
    "\n",
    "**-1**"
   ]
  },
  {
   "cell_type": "markdown",
   "metadata": {},
   "source": [
    "<br/>**3.**\n",
    "Let $\\mathbf{r} = \\begin{bmatrix} 3 \\\\ -4 \\\\ 0 \\end{bmatrix}$ and let $\\mathbf{s} =\\begin{bmatrix} 10 \\\\ 5 \\\\ -6 \\end{bmatrix}$\n",
    "\n",
    "What is the scalar projection of $\\mathbf{s}$ onto $\\mathbf{r}$?\n",
    "\n",
    "**2**"
   ]
  },
  {
   "cell_type": "markdown",
   "metadata": {},
   "source": [
    "<br/>**4.**\n",
    "Let $\\mathbf{r} = \\begin{bmatrix} 3 \\\\ -4 \\\\ 0 \\end{bmatrix}$ and let $\\mathbf{s} =\\begin{bmatrix} 10 \\\\ 5 \\\\ -6 \\end{bmatrix}$\n",
    "\n",
    "What is the vector projection of $\\mathbf{s}$ onto $\\mathbf{r}$?\n",
    "\n",
    "**$\\begin{bmatrix} \\frac{6}{5} \\\\ \\frac{-8}{5} \\\\ 0 \\end{bmatrix}$**"
   ]
  },
  {
   "cell_type": "markdown",
   "metadata": {},
   "source": [
    "<br/>**5.**\n",
    "Given Let $\\mathbf{a} = \\begin{bmatrix} 3 \\\\ 0 \\\\ 4 \\end{bmatrix}$ and let $\\mathbf{b} =\\begin{bmatrix} 0 \\\\ 5 \\\\ 12 \\end{bmatrix}$\n",
    "\n",
    "Which is larger, $|\\mathbf{a} + \\mathbf{b}|$ or $|\\mathbf{a}| + |\\mathbf{b}|$?\n",
    "\n",
    "**$∣a+b∣ ≤ ∣a∣+∣b∣$**"
   ]
  }
 ],
 "metadata": {
  "kernelspec": {
   "display_name": "Python 3",
   "language": "python",
   "name": "python3"
  },
  "language_info": {
   "codemirror_mode": {
    "name": "ipython",
    "version": 3
   },
   "file_extension": ".py",
   "mimetype": "text/x-python",
   "name": "python",
   "nbconvert_exporter": "python",
   "pygments_lexer": "ipython3",
   "version": "3.6.5"
  }
 },
 "nbformat": 4,
 "nbformat_minor": 2
}
