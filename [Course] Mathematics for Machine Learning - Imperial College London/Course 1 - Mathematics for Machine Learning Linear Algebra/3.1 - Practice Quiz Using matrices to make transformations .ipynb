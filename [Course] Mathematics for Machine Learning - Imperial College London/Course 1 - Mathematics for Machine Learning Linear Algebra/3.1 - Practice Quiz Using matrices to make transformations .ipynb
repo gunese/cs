{
 "cells": [
  {
   "cell_type": "markdown",
   "metadata": {},
   "source": [
    "## Week 3 - Practice Quiz: Using matrices to make transformations"
   ]
  },
  {
   "cell_type": "markdown",
   "metadata": {},
   "source": [
    "<br/>**1.**\n",
    "Matrices make transformations on vectors, potentially changing their magnitude and direction.\n",
    "\n",
    "If we have two unit vectors (in orange) and another vector, $\\mathbf{r} = \\begin{bmatrix} 3 \\\\ 2 \\end{bmatrix}$ (in pink), before any transformations - these look like this:\n",
    "\n",
    "![picture alt](https://i.ibb.co/smjM3cB/ecxsu9-Yf-Eee-B6wr-T5-AOI1g-c1ca5956d7d39d59aed1a9cda50005bb-q1-1.png)\n",
    "\n",
    "Take the matrix\n",
    "\n",
    "$\\mathbf{a} = \\begin{bmatrix}\n",
    "    \\frac{1}{2} & -1  \\\\\n",
    "    0 & \\frac{3}{4}\n",
    "\\end{bmatrix}$, see how it transforms the unit vectors and the vector, $\\mathbf{r}$,\n",
    "\n",
    "![picture alt](https://i.ibb.co/3h73yLF/ecxsu9-Yf-Eee-B6wr-T5-AOI1g-c1ca5956d7d39d59aed1a9cda50005bb-q1-1.png)\n",
    "\n",
    "What new vector, $\\mathbf{r'}$, does $A$ transform $\\mathbf{r}$ to? Specifically, what does the following equal?\n",
    "\n",
    "$\\mathbf{Ar} = \\begin{bmatrix}\n",
    "    \\frac{1}{2} & -1  \\\\\n",
    "    0 & \\frac{3}{4}\n",
    "\\end{bmatrix}$ $\\begin{bmatrix} 3 \\\\ 2 \\end{bmatrix} = $\n",
    "\n",
    "**$\\begin{bmatrix} -1/2 \\\\ 3/2 \\end{bmatrix}$**"
   ]
  },
  {
   "cell_type": "markdown",
   "metadata": {},
   "source": [
    "<br/>**2.**\n",
    "Let's use the same matrix, $\\mathbf{A} = \\begin{bmatrix}\n",
    "    \\frac{1}{2} & -1  \\\\\n",
    "    0 & \\frac{3}{4}\n",
    "\\end{bmatrix}$, from the previous question. Type an expression for the vector, $s = \\mathbf{A} \\begin{bmatrix} -2 \\\\ 4 \\end{bmatrix}$"
   ]
  },
  {
   "cell_type": "code",
   "execution_count": null,
   "metadata": {},
   "outputs": [],
   "source": [
    "# Replace a and b with the correct values below:\n",
    "s = [a, b]"
   ]
  },
  {
   "cell_type": "markdown",
   "metadata": {},
   "source": [
    "**s = [-5, 3]**"
   ]
  },
  {
   "cell_type": "markdown",
   "metadata": {},
   "source": [
    "<br/>**3.**\n",
    "Select the transformation which best corresponds to the matrix, $\\mathbf{M} = \\begin{bmatrix}\n",
    "    -1/2 & 1/2  \\\\\n",
    "    1/2 & 1/2\n",
    "\\end{bmatrix}$\n",
    "\n",
    "**![picture alt](https://i.ibb.co/T4KMHYZ/ecxsu9-Yf-Eee-B6wr-T5-AOI1g-c1ca5956d7d39d59aed1a9cda50005bb-q1-1.png)**"
   ]
  },
  {
   "cell_type": "markdown",
   "metadata": {},
   "source": [
    "<br/>**4.**\n",
    "A digital image can be stored by putting lots of coloured pixels at their particular coordinates on a grid.\n",
    "\n",
    "If we apply a matrix transformation to the coordinates of each of the pixels in an image, we transform the image as a whole.\n",
    "\n",
    "Given a starting image (such as this one of “The Ambassadors” [1533] by Hans Holbein the Younger),\n",
    "\n",
    "![picture alt](https://i.ibb.co/HG6yQ1r/ecxsu9-Yf-Eee-B6wr-T5-AOI1g-c1ca5956d7d39d59aed1a9cda50005bb-q1-1.png)\n",
    "\n",
    "which is made up of 400×400 pixels, if we apply the same transformation to each of those 160,000 pixels, the transformed image becomes:\n",
    "\n",
    "![picture alt](https://i.ibb.co/jDmDNcY/ecxsu9-Yf-Eee-B6wr-T5-AOI1g-c1ca5956d7d39d59aed1a9cda50005bb-q1-1.png)\n",
    "\n",
    "Pick a matrix that could correspond to the transformation.\n",
    "\n",
    "**$\\begin{bmatrix}\n",
    "    \\sqrt{3}/2 & -1/2  \\\\\n",
    "    1/2  & \\sqrt{3}/2\n",
    "\\end{bmatrix}$**"
   ]
  },
  {
   "cell_type": "markdown",
   "metadata": {},
   "source": [
    "<br/>**5.**\n",
    "At the bottom of the “The Ambassadors”, in the middle of the floor, there is a skull that Holbein has already applied a matrix transformation to!\n",
    "\n",
    "To undo the transformation, build a matrix which is firstly a shear in the y direction followed by a scaling in y direction. I.e., multiply the matrices,\n",
    "\n",
    "$\\mathbf{M} = \\begin{bmatrix}\n",
    "    1 & 0 \\\\\n",
    "    0 & 8\n",
    "\\end{bmatrix}$\n",
    "$\\begin{bmatrix}\n",
    "    1 & 0 \\\\\n",
    "    -1/2 & 1\n",
    "\\end{bmatrix}$"
   ]
  },
  {
   "cell_type": "code",
   "execution_count": null,
   "metadata": {},
   "outputs": [],
   "source": [
    "# Replace a, b, c and d with the correct values below:\n",
    "M = [[a, b],\n",
    "     [c, d]]"
   ]
  },
  {
   "cell_type": "markdown",
   "metadata": {},
   "source": [
    "**M = [[1, 0],\n",
    "     [-4, 8]]**"
   ]
  },
  {
   "cell_type": "markdown",
   "metadata": {},
   "source": [
    "<br/>**6.**\n",
    "Use your answer from the previous question to transform the skull back to normal. Change the values of the matrix and press Go! to score on this question.\n",
    "\n",
    "You can also use this example to experiment with other matrix transformations. Try some of the ones in this quiz. Have a play!\n",
    "\n",
    "**$\\mathbf{M} = \\begin{bmatrix}\n",
    "    1 & 0 \\\\\n",
    "    -4 & 8\n",
    "\\end{bmatrix}$**"
   ]
  }
 ],
 "metadata": {
  "kernelspec": {
   "display_name": "Python 3",
   "language": "python",
   "name": "python3"
  },
  "language_info": {
   "codemirror_mode": {
    "name": "ipython",
    "version": 3
   },
   "file_extension": ".py",
   "mimetype": "text/x-python",
   "name": "python",
   "nbconvert_exporter": "python",
   "pygments_lexer": "ipython3",
   "version": "3.6.5"
  }
 },
 "nbformat": 4,
 "nbformat_minor": 2
}
