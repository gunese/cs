{
 "cells": [
  {
   "cell_type": "markdown",
   "metadata": {},
   "source": [
    "## Week 5 - Quiz: Eigenvalues and eigenvectors"
   ]
  },
  {
   "cell_type": "markdown",
   "metadata": {},
   "source": [
    "<br/>**1.**\n",
    "This assessment will test your ability to apply your knowledge of eigenvalues and eigenvectors to some special cases.\n",
    "\n",
    "Use the following code blocks to assist you in this quiz. They calculate eigenvectors and eigenvalues respectively:"
   ]
  },
  {
   "cell_type": "code",
   "execution_count": 42,
   "metadata": {},
   "outputs": [
    {
     "data": {
      "text/plain": [
       "array([1., 2., 3.])"
      ]
     },
     "execution_count": 42,
     "metadata": {},
     "output_type": "execute_result"
    }
   ],
   "source": [
    "# Eigenvalues\n",
    "M = np.array([[1, 0, 0],\n",
    "              [0, 2, 0],\n",
    "              [0, 0, 3]])\n",
    "vals, vecs = np.linalg.eig(M)\n",
    "vals"
   ]
  },
  {
   "cell_type": "code",
   "execution_count": 43,
   "metadata": {},
   "outputs": [
    {
     "data": {
      "text/plain": [
       "array([[1., 0., 0.],\n",
       "       [0., 1., 0.],\n",
       "       [0., 0., 1.]])"
      ]
     },
     "execution_count": 43,
     "metadata": {},
     "output_type": "execute_result"
    }
   ],
   "source": [
    "# Eigenvectors - Note, the eigenvectors are the columns of the output.\n",
    "M = np.array([[1, 0, 0],\n",
    "              [0, 2, 0],\n",
    "              [0, 0, 3]])\n",
    "vals, vecs = np.linalg.eig(M)\n",
    "vecs"
   ]
  },
  {
   "cell_type": "markdown",
   "metadata": {},
   "source": [
    "To practice, select all eigenvectors of the matrix, $A = \n",
    "\\begin{bmatrix}\n",
    "4 & -5 & 6 \\\\\n",
    "7 & -8 & 6 \\\\\n",
    "3/2 & -1/2 & -2 \\\\\n",
    "\\end{bmatrix}$.\n",
    "\n",
    "\n",
    "**$\\begin{bmatrix}\n",
    "-2/\\sqrt{9} \\\\\n",
    "-2/\\sqrt{9} \\\\\n",
    "1/\\sqrt{9} \\\\\n",
    "\\end{bmatrix}$**\n",
    "\n",
    "**$\\begin{bmatrix}\n",
    "-3 \\\\\n",
    "-3 \\\\\n",
    "-1 \\\\\n",
    "\\end{bmatrix}$**\n",
    "\n",
    "**$\\begin{bmatrix}\n",
    "1/2 \\\\\n",
    "-1/2 \\\\\n",
    "-1 \\\\\n",
    "\\end{bmatrix}$**"
   ]
  },
  {
   "cell_type": "markdown",
   "metadata": {},
   "source": [
    "<br/>**2.**\n",
    "Recall from the _PageRank_ notebook, that in PageRank, we care about the eigenvector of the link matrix, $L$, that has eigenvalue 1, and that we can find this using _power iteration method_ as this will be the largest eigenvalue.\n",
    "\n",
    "PageRank can sometimes get into trouble if closed-loop structures appear. A simplified example might look like this,\n",
    "\n",
    "![picture alt](https://i.ibb.co/3kKNskb/95-T5j-O8-QEee-Frgry-Cjq-NWg-a7ac8d21dc15703802fb2166e3326101-loop.png)\n",
    "\n",
    "With link matrix, $L = \n",
    "\\begin{bmatrix}\n",
    "0 & 0 & 0 & 1 \\\\\n",
    "1 & 0 & 0 & 0 \\\\\n",
    "0 & 1 & 0 & 0 \\\\\n",
    "0 & 0 & 1 & 0 \\\\\n",
    "\\end{bmatrix}$.\n",
    "\n",
    "Use the calculator in Q1 to check the eigenvalues and vectors for this system.\n",
    "\n",
    "What might be going wrong in using power iteration to find the principal eigenvector? Select all that apply.\n",
    "\n",
    "**Because of the loop, Procrastinating Pats that are browsing will go around in a cycle rather than settling on a webpage.**\n",
    "\n",
    "**Other eigenvalues are not small in magnitude compared to 1, and so do not decay away with each power iteration.**"
   ]
  },
  {
   "cell_type": "markdown",
   "metadata": {},
   "source": [
    "<br/>**3.**\n",
    "The loop in the previous question is a situation that can be remedied by damping.\n",
    "\n",
    "If we replace the link matrix with the damped, $L' = \n",
    "\\begin{bmatrix}\n",
    "0.1 & 0.1 & 0.1 & 0.7 \\\\\n",
    "0.7 & 0.1 & 0.1 & 0.1 \\\\\n",
    "0.1 & 0.7 & 0.1 & 0.1 \\\\\n",
    "0.1 & 0.1 & 0.7 & 0.1 \\\\\n",
    "\\end{bmatrix}$, how does this help? (Check the new eigenvalues)\n",
    "\n",
    "**There is now a probability to move to any website.**\n",
    "\n",
    "**The magnitude of the other eigenvalues get smaller.**"
   ]
  },
  {
   "cell_type": "markdown",
   "metadata": {},
   "source": [
    "<br/>**4.**\n",
    "Another issue that may come up, is if there are disconnected parts to the internet. Take this example,\n",
    "\n",
    "![picture alt](https://i.ibb.co/CmqL3QT/95-T5j-O8-QEee-Frgry-Cjq-NWg-a7ac8d21dc15703802fb2166e3326101-loop.png)\n",
    "\n",
    "with link matrix, $L = \n",
    "\\begin{bmatrix}\n",
    "0 & 1 & 0 & 0 \\\\\n",
    "1 & 0 & 0 & 0 \\\\\n",
    "0 & 0 & 0 & 1 \\\\\n",
    "0 & 0 & 1 & 0 \\\\\n",
    "\\end{bmatrix}$.\n",
    "\n",
    "This form is known as block diagonal, as it can be split into square blocks along the main diagonal, i.e., $L = \n",
    "\\begin{bmatrix}\n",
    "M_1 & 0 \\\\\n",
    "0 & M_2 \\\\\n",
    "\\end{bmatrix}$, with $M_1 = M_2 = \n",
    "\\begin{bmatrix}\n",
    "0 & 1 \\\\\n",
    "1 & 0 \\\\\n",
    "\\end{bmatrix}$ in this case.\n",
    "\n",
    "What is happening in this system?\n",
    "\n",
    "**There isn't a unique PageRank.**\n",
    "\n",
    "**There are two eigenvalues of 1.**"
   ]
  },
  {
   "cell_type": "markdown",
   "metadata": {},
   "source": [
    "<br/>**5.**\n",
    "By similarly applying damping to the link matrix from the previous question. What happens now?\n",
    "\n",
    "**None of the other options.**"
   ]
  },
  {
   "cell_type": "markdown",
   "metadata": {},
   "source": [
    "<br/>**6.**\n",
    "Given the matrix $A =\n",
    "\\begin{bmatrix}\n",
    "3/2 & -1 \\\\\n",
    "-1/2 & 1/2 \\\\\n",
    "\\end{bmatrix}$ , calculate its characteristic polynomial.\n",
    "\n",
    "**$λ^2-2λ+\\frac{1}{4}$**"
   ]
  },
  {
   "cell_type": "markdown",
   "metadata": {},
   "source": [
    "<br/>**7.**\n",
    "By solving the characteristic polynomial above or otherwise, calculate the eigenvalues of the matrix $A =\n",
    "\\begin{bmatrix}\n",
    "3/2 & -1 \\\\\n",
    "-1/2 & 1/2 \\\\\n",
    "\\end{bmatrix}$.\n",
    "\n",
    "\n",
    "**$λ_1=1− \\frac{\\sqrt{3}}{2}, λ_2=1+\\frac{\\sqrt{3}}{2}$**"
   ]
  },
  {
   "cell_type": "markdown",
   "metadata": {},
   "source": [
    "<br/>**8.**\n",
    "Select the two eigenvectors of the matrix $A =\n",
    "\\begin{bmatrix}\n",
    "3/2 & -1 \\\\\n",
    "-1/2 & 1/2 \\\\\n",
    "\\end{bmatrix}$.\n",
    "\n",
    "**$\\mathbf{v_1} = \\begin{bmatrix}\n",
    "-1 -\\sqrt{3} \\\\\n",
    "1 \\\\\n",
    "\\end{bmatrix}$**,\n",
    "**$\\mathbf{v_2} = \\begin{bmatrix}\n",
    "-1 +\\sqrt{3} \\\\\n",
    "1 \\\\\n",
    "\\end{bmatrix}$**"
   ]
  },
  {
   "cell_type": "markdown",
   "metadata": {},
   "source": [
    "<br/>**9.**\n",
    "Form the matrix $C$ whose left column is the vector $\\mathbf{v_1}$ and whose right column is $\\mathbf{v_2}$ from immediately above.\n",
    "\n",
    "By calculating $D = C^{-1}AC$ or by using another method, find the diagonal matrix $D$.\n",
    "\n",
    "**$\\begin{bmatrix}\n",
    "1+ \\frac{\\sqrt{3}}{2} & 0 \\\\\n",
    "0 & 1- \\frac{\\sqrt{3}}{2} \\\\\n",
    "\\end{bmatrix}$**"
   ]
  },
  {
   "cell_type": "markdown",
   "metadata": {},
   "source": [
    "<br/>**10.**\n",
    "By using the diagonalisation above or otherwise, calculate $A^2$.\n",
    "\n",
    "\n",
    "**$\\begin{bmatrix}\n",
    "11/4 & -2 \\\\\n",
    "-1 & 3/4 \\\\\n",
    "\\end{bmatrix}$**"
   ]
  }
 ],
 "metadata": {
  "kernelspec": {
   "display_name": "Python 3",
   "language": "python",
   "name": "python3"
  },
  "language_info": {
   "codemirror_mode": {
    "name": "ipython",
    "version": 3
   },
   "file_extension": ".py",
   "mimetype": "text/x-python",
   "name": "python",
   "nbconvert_exporter": "python",
   "pygments_lexer": "ipython3",
   "version": "3.6.6"
  }
 },
 "nbformat": 4,
 "nbformat_minor": 2
}
