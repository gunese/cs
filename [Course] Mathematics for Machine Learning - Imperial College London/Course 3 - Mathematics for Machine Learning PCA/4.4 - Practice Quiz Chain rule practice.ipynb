{
 "cells": [
  {
   "cell_type": "markdown",
   "metadata": {},
   "source": [
    "## Week 4 - Practice Quiz: Chain rule practice"
   ]
  },
  {
   "cell_type": "markdown",
   "metadata": {},
   "source": [
    "<br/>**1.**\n",
    "Consider the function $h:\\mathbb{R}\\to\\mathbb{R}$, where $h(t) = (f\\circ g)(t) = f(g(t))$ with\n",
    "\n",
    "$g(t) = \\mathbf{x} =\n",
    "\\begin{bmatrix} \n",
    "t cos t \\\\\n",
    "t sin t\n",
    "\\end{bmatrix} \\,,\\quad t \\in \\mathbb{R}$\n",
    "\n",
    "$f(\\mathbf{x}) = \\exp(x_1x_2^2)\\,,\\quad \\mathbf{x} =\n",
    "\\begin{bmatrix} \n",
    "x_1 \\\\\n",
    "x_2\n",
    "\\end{bmatrix}\n",
    "\\in\\mathbb{R}^2$\n",
    "\n",
    "**$\\frac{dg}{dt}=\n",
    "\\begin{bmatrix} \n",
    "cos t - t sin t \\\\\n",
    "sin t + t cos t\n",
    "\\end{bmatrix}$**\n",
    "\n",
    "**$\\frac{dh}{dt}=exp(x_1 x_2^2)[x_2^2(cos t - t sin t) + 2x_1 x_2(sin t + t cos t)]$ with $x_1 = t cos t, x_2 = t sin t$**\n",
    "\n",
    "**$\\frac{dh}{dt}=\\frac{df}{dg} \\frac{dg}{dt}$**\n",
    "\n",
    "**$\\frac{df}{d\\mathbf{x}}=[x_2^2 exp(x_1 x_2^2) \\quad 2x_1 x_2 exp(x_1 x_2^2)]$**"
   ]
  },
  {
   "cell_type": "markdown",
   "metadata": {},
   "source": [
    "<br/>**2.**\n",
    "Compute $\\frac{df}{dx}$ of the following function using the chain rule.\n",
    "\n",
    "$a = x^2$\n",
    "\n",
    "$b = \\exp(a)$\n",
    "\n",
    "$c = a + b$\n",
    "\n",
    "$d = \\log(c)$\n",
    "\n",
    "$e = \\sin(c)$\n",
    "\n",
    "$f = d + e$\n",
    "\n",
    "**$\\frac{df}{dx}=\\frac{(1+cos(x^2+exp(x^2))(x^2+exp^2)))(2x+2x exp(x^2))}{x^2 + exp(x^2)}$**"
   ]
  },
  {
   "cell_type": "markdown",
   "metadata": {},
   "source": [
    "<br/>**3.**\n",
    "What is $\\displaystyle\\frac{df}{dx}$ where\n",
    "\n",
    "$f = \\cos(t^2)$\n",
    "\n",
    "$t = x^3$\n",
    "\n",
    "\n",
    "**$−6x^5 sin(x^6)$**"
   ]
  },
  {
   "cell_type": "markdown",
   "metadata": {},
   "source": [
    "\n"
   ]
  }
 ],
 "metadata": {
  "kernelspec": {
   "display_name": "Python 3",
   "language": "python",
   "name": "python3"
  },
  "language_info": {
   "codemirror_mode": {
    "name": "ipython",
    "version": 3
   },
   "file_extension": ".py",
   "mimetype": "text/x-python",
   "name": "python",
   "nbconvert_exporter": "python",
   "pygments_lexer": "ipython3",
   "version": "3.6.6"
  }
 },
 "nbformat": 4,
 "nbformat_minor": 2
}
