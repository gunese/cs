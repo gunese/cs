{
 "cells": [
  {
   "cell_type": "markdown",
   "metadata": {},
   "source": [
    "## Week 1 - Quiz: Variance of 1D datasets"
   ]
  },
  {
   "cell_type": "markdown",
   "metadata": {},
   "source": [
    "<br/>**1.**\n",
    "What is the variance of the following dataset?\n",
    "\n",
    "$\\mathcal D = \\{1, 2, 3, 2\\}$\n",
    "\n",
    "Please use decimal numbers in your answer.\n",
    "\n",
    "**0.5**"
   ]
  },
  {
   "cell_type": "markdown",
   "metadata": {},
   "source": [
    "<br/>**2.**\n",
    "What is the standard deviation of the dataset $\\mathcal D = \\{1, 2, 3, 2\\}$ which we already used in the previous question? You should provide a decimal number as your answer.\n",
    "\n",
    "**0.7**"
   ]
  },
  {
   "cell_type": "markdown",
   "metadata": {},
   "source": [
    "<br/>**3.**\n",
    "What would be the new variance if we added 1 to each element in the dataset $\\mathcal D = \\{1, 2, 3, 2\\}$ from Question 1? Please use decimal numbers in your answer.\n",
    "\n",
    "**0.5**"
   ]
  },
  {
   "cell_type": "markdown",
   "metadata": {},
   "source": [
    "<br/>**4.**\n",
    "What would be the new variance if we multiplied each sample in a dataset $\\mathcal D$ by 2.\n",
    "\n",
    "**The variance of the new dataset will be four times the variance of $\\mathcal D$.**"
   ]
  },
  {
   "cell_type": "markdown",
   "metadata": {},
   "source": [
    "<br/>**5.**\n",
    "Assuming we have mean $\\bar{x}_{n-1}$ and variance $\\sigma_{n-1}^2$ for some dataset $\\mathcal D_{n-1}$ with $n-1$ samples. What would be the variance $\\sigma_{n}^2$ if we add a new element $x_*$ to the dataset (assuming you have computed the new sample mean $\\bar{x}_n$)?\n",
    "\n",
    "**$\\sigma^2_n = \\frac{n-1}{n} \\sigma^2_{n-1} + \\frac{1}{n}(x_* - \\bar{x}_{n-1})(x_* - \\bar{x}_n)$**"
   ]
  }
 ],
 "metadata": {
  "kernelspec": {
   "display_name": "Python 3",
   "language": "python",
   "name": "python3"
  },
  "language_info": {
   "codemirror_mode": {
    "name": "ipython",
    "version": 3
   },
   "file_extension": ".py",
   "mimetype": "text/x-python",
   "name": "python",
   "nbconvert_exporter": "python",
   "pygments_lexer": "ipython3",
   "version": "3.6.6"
  }
 },
 "nbformat": 4,
 "nbformat_minor": 2
}
