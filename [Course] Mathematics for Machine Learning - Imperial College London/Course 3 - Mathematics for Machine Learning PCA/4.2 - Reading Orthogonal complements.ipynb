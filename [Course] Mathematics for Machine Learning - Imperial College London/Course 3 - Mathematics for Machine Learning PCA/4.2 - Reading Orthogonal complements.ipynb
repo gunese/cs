{
 "cells": [
  {
   "cell_type": "markdown",
   "metadata": {},
   "source": [
    "Have a look at the following links:\n",
    "\n",
    "1. [Orthogonal complement](https://en.wikipedia.org/wiki/Orthogonal_complement)\n",
    "2. [Orthogonal decomposition](http://mathworld.wolfram.com/OrthogonalDecomposition.html)\n",
    "\n",
    "The key points are\n",
    "\n",
    "* If we look at an $n$-dimensional vector space $V$ and a $k$-dimensional subspace $W\\subset V$, then the orthogonal complement $W^\\perp$ is an $(n-k)$-dimensional subspace of $V$ and contains all vectors in $V$ that are orthogonal to every vector in $W$.\n",
    "\n",
    "* Every vector $\\mathbf{x}\\in$ can be (uniquely) decomposed into $\\displaystyle \\mathbf{x} = \\sum_{i=1}^k \\lambda_i\\mathbf{b}_i + \\sum_{j=1}^{n-k} \\psi_j \\mathbf{b}_j^\\perp, \\lambda_i,\\psi_j\\in\\mathbb{R}$, where $\\mathbf{b}_1,\\dotsc, \\mathbf{b}_k$ is a basis of $W$ and $\\mathbf{b}_1^\\perp, \\dotsc, \\mathbf{b}_{n-k}^\\perp$1 is a basis of $W^\\perp$."
   ]
  }
 ],
 "metadata": {
  "kernelspec": {
   "display_name": "Python 3",
   "language": "python",
   "name": "python3"
  },
  "language_info": {
   "codemirror_mode": {
    "name": "ipython",
    "version": 3
   },
   "file_extension": ".py",
   "mimetype": "text/x-python",
   "name": "python",
   "nbconvert_exporter": "python",
   "pygments_lexer": "ipython3",
   "version": "3.6.6"
  }
 },
 "nbformat": 4,
 "nbformat_minor": 2
}
