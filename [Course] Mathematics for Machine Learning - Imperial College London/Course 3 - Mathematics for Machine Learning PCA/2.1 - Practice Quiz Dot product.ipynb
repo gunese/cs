{
 "cells": [
  {
   "cell_type": "markdown",
   "metadata": {},
   "source": [
    "## Week 2 - Practice Quiz: Dot product"
   ]
  },
  {
   "cell_type": "markdown",
   "metadata": {},
   "source": [
    "<br/>**1.**\n",
    "Compute the length of $\\mathbf{x} =\n",
    "\\begin{bmatrix} \n",
    "1 \\\\\n",
    "-1 \\\\\n",
    "3\n",
    "\\end{bmatrix}$ using the dot product. Do the exercises using pen and paper.\n",
    "\n",
    "**$\\sqrt{11}$**"
   ]
  },
  {
   "cell_type": "markdown",
   "metadata": {},
   "source": [
    "<br/>**2.**\n",
    "Compute the angle (in rad) between \n",
    "$\\mathbf{x} =\n",
    "\\begin{bmatrix} \n",
    "3 \\\\\n",
    "4\n",
    "\\end{bmatrix}$ and\n",
    "$\\mathbf{y} =\n",
    "\\begin{bmatrix} \n",
    "-1 \\\\\n",
    "-1\n",
    "\\end{bmatrix}$ using the dot product.\n",
    "\n",
    "**3**"
   ]
  },
  {
   "cell_type": "markdown",
   "metadata": {},
   "source": [
    "<br/>**3.**\n",
    "Compute the distance between \n",
    "$\\mathbf{x} =\n",
    "\\begin{bmatrix} \n",
    "3 \\\\\n",
    "4\n",
    "\\end{bmatrix}$ and\n",
    "$\\mathbf{y} =\n",
    "\\begin{bmatrix} \n",
    "1 \\\\\n",
    "-1\n",
    "\\end{bmatrix}$. Do the exercises using pen and paper. Enter your answer as a decimal number (calculator is fine to get it).\n",
    "\n",
    "**5.385164807134504**"
   ]
  },
  {
   "cell_type": "markdown",
   "metadata": {},
   "source": [
    "<br/>**4.**\n",
    "Write a piece of code that computes the length of a given vector $x$."
   ]
  },
  {
   "cell_type": "code",
   "execution_count": 104,
   "metadata": {},
   "outputs": [
    {
     "name": "stdout",
     "output_type": "stream",
     "text": [
      "1.0\n"
     ]
    }
   ],
   "source": [
    "import numpy as np\n",
    "\n",
    "def length(x):\n",
    "  \"\"\"Compute the length of a vector\"\"\"\n",
    "  length_x = np.sqrt(x.T @ x) # <--- compute the length of a vector x here.\n",
    "  \n",
    "  return length_x\n",
    "  \n",
    "print(length(np.array([1,0])))"
   ]
  },
  {
   "cell_type": "markdown",
   "metadata": {},
   "source": [
    "<br/>**5.**\n",
    "We are given two vectors\n",
    "\n",
    "$\\mathbf{x} =\n",
    "\\begin{bmatrix} \n",
    "1 \\\\\n",
    "2 \\\\\n",
    "3\n",
    "\\end{bmatrix},\\quad\n",
    "\\mathbf{y} =\n",
    "\\begin{bmatrix} \n",
    "-1 \\\\\n",
    "0 \\\\\n",
    "8\n",
    "\\end{bmatrix}$\n",
    "\n",
    "Compute the angle (in rad) between $\\mathbf{x}$ and $\\mathbf{x}-\\mathbf{y}$.\n",
    "\n",
    "Do the exercises using pen and paper, but you will need a calculator at some point.\n",
    "\n",
    "**2.002**"
   ]
  }
 ],
 "metadata": {
  "kernelspec": {
   "display_name": "Python 3",
   "language": "python",
   "name": "python3"
  },
  "language_info": {
   "codemirror_mode": {
    "name": "ipython",
    "version": 3
   },
   "file_extension": ".py",
   "mimetype": "text/x-python",
   "name": "python",
   "nbconvert_exporter": "python",
   "pygments_lexer": "ipython3",
   "version": "3.6.6"
  }
 },
 "nbformat": 4,
 "nbformat_minor": 2
}
