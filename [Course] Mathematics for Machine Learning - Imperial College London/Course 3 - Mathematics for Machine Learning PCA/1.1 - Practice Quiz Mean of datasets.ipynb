{
 "cells": [
  {
   "cell_type": "markdown",
   "metadata": {},
   "source": [
    "## Week 1 - Practice Quiz: Mean of datasets"
   ]
  },
  {
   "cell_type": "markdown",
   "metadata": {},
   "source": [
    "<br/>**1.**\n",
    "What is the mean of the dataset $\\mathcal D = \\{1, 2, 3\\}$?\n",
    "\n",
    "Do the exercises using pen and paper.\n",
    "\n",
    "**2**"
   ]
  },
  {
   "cell_type": "markdown",
   "metadata": {},
   "source": [
    "<br/>**2.**\n",
    "Compute the mean of the following dataset:\n",
    "\n",
    "$\\mathcal D = \\Big\\{\n",
    "\\begin{bmatrix} \n",
    "1 \\\\\n",
    "4 \\\\\n",
    "7\n",
    "\\end{bmatrix},\n",
    "\\begin{bmatrix} \n",
    "2 \\\\\n",
    "5 \\\\\n",
    "8\n",
    "\\end{bmatrix},\n",
    "\\begin{bmatrix} \n",
    "3 \\\\\n",
    "6 \\\\\n",
    "9\n",
    "\\end{bmatrix}\n",
    "\\Big\\}$\n",
    "\n",
    "Do the exercises using pen and paper.\n",
    "\n",
    "**$\n",
    "\\begin{bmatrix} \n",
    "2 \\\\\n",
    "5 \\\\\n",
    "8\n",
    "\\end{bmatrix}$**"
   ]
  },
  {
   "cell_type": "markdown",
   "metadata": {},
   "source": [
    "<br/>**3.**\n",
    "What is the mean of the following dataset, **after** multiplying each sample in the dataset by $2$?\n",
    "\n",
    "$\\mathcal D = \\Big\\{\n",
    "\\begin{bmatrix} \n",
    "1 \\\\\n",
    "2 \\\\\n",
    "3\n",
    "\\end{bmatrix},\n",
    "\\begin{bmatrix} \n",
    "3 \\\\\n",
    "4 \\\\\n",
    "5\n",
    "\\end{bmatrix},\n",
    "\\begin{bmatrix} \n",
    "5 \\\\\n",
    "3 \\\\\n",
    "1\n",
    "\\end{bmatrix}\n",
    "\\Big\\}$\n",
    "\n",
    "**$\\begin{bmatrix} \n",
    "6 \\\\\n",
    "6 \\\\\n",
    "6\n",
    "\\end{bmatrix}$**"
   ]
  },
  {
   "cell_type": "markdown",
   "metadata": {},
   "source": [
    "<br/>**4.**\n",
    "What is the mean of the following dataset, after adding\n",
    "$\\begin{bmatrix} \n",
    "1 \\\\\n",
    "2 \\\\\n",
    "3\n",
    "\\end{bmatrix}$ to each sample in the following dataset?\n",
    "\n",
    "$\\mathcal D = \\Big\\{\n",
    "\\begin{bmatrix} \n",
    "1 \\\\\n",
    "2 \\\\\n",
    "3\n",
    "\\end{bmatrix},\n",
    "\\begin{bmatrix} \n",
    "3 \\\\\n",
    "4 \\\\\n",
    "5\n",
    "\\end{bmatrix},\n",
    "\\begin{bmatrix} \n",
    "5 \\\\\n",
    "3 \\\\\n",
    "1\n",
    "\\end{bmatrix}\n",
    "\\Big\\}$\n",
    "\n",
    "**$\\begin{bmatrix} \n",
    "4 \\\\\n",
    "5 \\\\\n",
    "6\n",
    "\\end{bmatrix}$**"
   ]
  },
  {
   "cell_type": "markdown",
   "metadata": {},
   "source": [
    "<br/>**5.**\n",
    "Assuming that we know the mean $\\bar{x}_{n-1}$ of a dataset $\\mathcal D_{n-1}$ with $n-1$ data points. Now, suppose that we collect another data point, which we denote by $x_*$. Select the correct formula that computes the correct new mean $\\bar x_n$ of the full data set $\\mathcal D_n = \\mathcal D_{n-1}\\cup \\{x_*\\}$, i.e., we add $x_*$ to the dataset $\\mathcal D$.\n",
    "\n",
    "**$\\bar{x}_n = \\bar{x}_{n-1}+\\frac{1}{n}(x_* - \\bar{x}_{n-1})$**"
   ]
  },
  {
   "cell_type": "markdown",
   "metadata": {},
   "source": [
    "<br/>**6.**\n",
    "Assuming you are given an image as a two dimensional array of shape 28 x 28. Write a small piece of python code to reshape this image to a vector of length 784 (=28 x 28).\n",
    "\n",
    "Hint: This can be a one-liner."
   ]
  },
  {
   "cell_type": "code",
   "execution_count": null,
   "metadata": {},
   "outputs": [],
   "source": [
    "import numpy as np\n",
    "\n",
    "def reshape(x):\n",
    "  \"\"\"return x_reshaped as a flattened vector of the multi-dimensional array x\"\"\"\n",
    "  x_reshaped = x.reshape(-1, 1)\n",
    "  return x_reshaped"
   ]
  }
 ],
 "metadata": {
  "kernelspec": {
   "display_name": "Python 3",
   "language": "python",
   "name": "python3"
  },
  "language_info": {
   "codemirror_mode": {
    "name": "ipython",
    "version": 3
   },
   "file_extension": ".py",
   "mimetype": "text/x-python",
   "name": "python",
   "nbconvert_exporter": "python",
   "pygments_lexer": "ipython3",
   "version": "3.6.6"
  }
 },
 "nbformat": 4,
 "nbformat_minor": 2
}
