{
 "cells": [
  {
   "cell_type": "markdown",
   "metadata": {},
   "source": [
    "## Week 2 - Quiz: Properties of inner products"
   ]
  },
  {
   "cell_type": "markdown",
   "metadata": {},
   "source": [
    "<br/>**1.**\n",
    "The function\n",
    "\n",
    "$\\beta(\\mathbf{x}, \\mathbf{y}) = \\mathbf{x}^T\n",
    "\\begin{bmatrix} \n",
    "2 & -1 \\\\\n",
    "-1 & 1\n",
    "\\end{bmatrix}\n",
    "\\mathbf{y}$ is\n",
    "\n",
    "**an inner product**\n",
    "\n",
    "**positive definite**\n",
    "\n",
    "**bilinear**\n",
    "\n",
    "**symmetric**"
   ]
  },
  {
   "cell_type": "markdown",
   "metadata": {},
   "source": [
    "<br/>**2.**\n",
    "The function\n",
    "\n",
    "$\\beta(\\mathbf{x}, \\mathbf{y}) = \\mathbf{x}^T\n",
    "\\begin{bmatrix} \n",
    "1 & -1 \\\\\n",
    "-1 & 1\n",
    "\\end{bmatrix}\n",
    "\\mathbf{y}$ is\n",
    "\n",
    "**bilinear**\n",
    "\n",
    "**not an inner product**\n",
    "\n",
    "**symmetric**\n",
    "\n",
    "**not positive definite**"
   ]
  },
  {
   "cell_type": "markdown",
   "metadata": {},
   "source": [
    "<br/>**3.**\n",
    "The function\n",
    "\n",
    "$\\beta(\\mathbf{x}, \\mathbf{y}) = \\mathbf{x}^T\n",
    "\\begin{bmatrix} \n",
    "2 & 1 \\\\\n",
    "-1 & 1\n",
    "\\end{bmatrix}\n",
    "\\mathbf{y}$ is\n",
    "\n",
    "**not symmetric**\n",
    "\n",
    "**bilinear**\n",
    "\n",
    "**symmetric**\n",
    "\n",
    "**not an inner product**"
   ]
  },
  {
   "cell_type": "markdown",
   "metadata": {},
   "source": [
    "<br/>**4.**\n",
    "The function\n",
    "\n",
    "$\\beta(\\mathbf{x}, \\mathbf{y}) = \\mathbf{x}^T\n",
    "\\begin{bmatrix} \n",
    "1 & 0 \\\\\n",
    "0 & 1\n",
    "\\end{bmatrix}\n",
    "\\mathbf{y}$ is\n",
    "\n",
    "**an inner product**\n",
    "\n",
    "**symmetric**\n",
    "\n",
    "**bilinear**\n",
    "\n",
    "**positive definite**"
   ]
  },
  {
   "cell_type": "markdown",
   "metadata": {},
   "source": [
    "<br/>**5.**\n",
    "For any two vectors $\\mathbf{x}, \\mathbf{y}\\in\\mathbb{R}^2$ write a short piece of code that defines a valid inner product."
   ]
  },
  {
   "cell_type": "code",
   "execution_count": 2,
   "metadata": {},
   "outputs": [
    {
     "name": "stdout",
     "output_type": "stream",
     "text": [
      "0\n"
     ]
    }
   ],
   "source": [
    "import numpy as np\n",
    "\n",
    "def dot(a, b):\n",
    "  \"\"\"Compute dot product between a and b.\n",
    "  Args:\n",
    "    a, b: (2,) ndarray as R^2 vectors\n",
    "  \n",
    "  Returns:\n",
    "    a number which is the dot product between a, b\n",
    "  \"\"\"\n",
    "  \n",
    "  dot_product = a @ b\n",
    "  \n",
    "  return dot_product\n",
    "\n",
    "# Test your code before you submit.\n",
    "a = np.array([1,0])\n",
    "b = np.array([0,1])\n",
    "print(dot(a,b))"
   ]
  }
 ],
 "metadata": {
  "kernelspec": {
   "display_name": "Python 3",
   "language": "python",
   "name": "python3"
  },
  "language_info": {
   "codemirror_mode": {
    "name": "ipython",
    "version": 3
   },
   "file_extension": ".py",
   "mimetype": "text/x-python",
   "name": "python",
   "nbconvert_exporter": "python",
   "pygments_lexer": "ipython3",
   "version": "3.6.6"
  }
 },
 "nbformat": 4,
 "nbformat_minor": 2
}
