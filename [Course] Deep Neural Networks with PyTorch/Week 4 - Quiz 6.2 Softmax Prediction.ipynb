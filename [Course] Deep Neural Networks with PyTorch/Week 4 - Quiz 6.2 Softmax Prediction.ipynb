{
 "cells": [
  {
   "cell_type": "markdown",
   "metadata": {},
   "source": [
    "## Week 4 - Quiz 6.2 Softmax Prediction"
   ]
  },
  {
   "cell_type": "markdown",
   "metadata": {},
   "source": [
    "<br/>**1.**\n",
    "Consider the following lines of code, what is yhat?\n",
    "\n",
    "```\n",
    "z = torch.tensor([[2,5,0],[10,8,2],[6,5,1]])\n",
    "\n",
    "_, yhat = z.max(1)\n",
    "```\n",
    "\n",
    "```\n",
    "tensor([1,0,0])\n",
    "```"
   ]
  },
  {
   "cell_type": "markdown",
   "metadata": {},
   "source": [
    "<br/>**2.**\n",
    "In we have two input features and three classes , what are the parameters for Softmax() constructor according to the above code?\n",
    "\n",
    "```\n",
    "class Softmax (nn.Module):\n",
    "\n",
    "    def __init__(self, in_size, out_size):\n",
    "\n",
    "        super(Softmax, self).__init__()\n",
    "\n",
    "        self.linear=nn.Linear(in_size, out_size)\n",
    "\n",
    "    def forward(self, x):\n",
    "\n",
    "        out=self.linear(x)\n",
    "\n",
    "        return out\n",
    "```\n",
    "\n",
    "**Sofmax(2,3)**"
   ]
  }
 ],
 "metadata": {
  "kernelspec": {
   "display_name": "Python 3",
   "language": "python",
   "name": "python3"
  },
  "language_info": {
   "codemirror_mode": {
    "name": "ipython",
    "version": 3
   },
   "file_extension": ".py",
   "mimetype": "text/x-python",
   "name": "python",
   "nbconvert_exporter": "python",
   "pygments_lexer": "ipython3",
   "version": "3.8.6"
  }
 },
 "nbformat": 4,
 "nbformat_minor": 2
}
