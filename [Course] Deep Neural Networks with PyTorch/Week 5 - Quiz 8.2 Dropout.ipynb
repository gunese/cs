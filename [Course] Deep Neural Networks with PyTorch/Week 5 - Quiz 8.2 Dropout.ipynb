{
 "cells": [
  {
   "cell_type": "markdown",
   "metadata": {},
   "source": [
    "## Week 5 - Quiz Dropout"
   ]
  },
  {
   "cell_type": "markdown",
   "metadata": {},
   "source": [
    "<br/>**1.**\n",
    "In what situation would you use dropout for classification\n",
    "\n",
    "**your training accuracy is much larger then your test accuracy**"
   ]
  },
  {
   "cell_type": "markdown",
   "metadata": {},
   "source": [
    "<br/>**2.**\n",
    "Consider the following Module or class :\n",
    "\n",
    "```\n",
    "class Net(nn.Module):\n",
    "\tdef __init__(self, in_size, n_hidden, out_size, p)\n",
    "\t\tsuper(Net, self).__init__()\n",
    "\t\tself.drop=nn.Dropout(p=p)\n",
    "\t\tself.linear1=nn.Linear(in_size, n_hidden)\n",
    "\t\tself.linear2=nn.Linear(n_hidden, out_size)\n",
    "\tdef forward(self, x):\n",
    "\t\tx=torch.relu(self.linear1(x))\n",
    "\t\tx=self.drop(x)\n",
    "\t\tx=self.linear2(x)\n",
    "\t\treturn x\n",
    "```\n",
    "\n",
    "how would you create a neural network with a dropout parameter of 0.9\n",
    "\n",
    "**model =Net( in_size=10, n_hidden=100, out_size=10, p=0.9)**"
   ]
  },
  {
   "cell_type": "markdown",
   "metadata": {},
   "source": [
    "<br/>**3.**\n",
    "Select the constructer value to let 40% of the activations to the shut off\n",
    "\n",
    "**n.Dropout(0.4)**"
   ]
  }
 ],
 "metadata": {
  "kernelspec": {
   "display_name": "Python 3",
   "language": "python",
   "name": "python3"
  },
  "language_info": {
   "codemirror_mode": {
    "name": "ipython",
    "version": 3
   },
   "file_extension": ".py",
   "mimetype": "text/x-python",
   "name": "python",
   "nbconvert_exporter": "python",
   "pygments_lexer": "ipython3",
   "version": "3.8.6"
  }
 },
 "nbformat": 4,
 "nbformat_minor": 2
}
