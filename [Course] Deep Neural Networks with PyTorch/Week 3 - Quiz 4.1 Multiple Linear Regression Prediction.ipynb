{
 "cells": [
  {
   "cell_type": "markdown",
   "metadata": {},
   "source": [
    "## Week 3 - Quiz: Multiple Linear Regression Prediction"
   ]
  },
  {
   "cell_type": "markdown",
   "metadata": {},
   "source": [
    "<br/>**1.**\n",
    "Including the bias how many parameters does the following object have\n",
    "\n",
    "`model=nn.Linear(6,1)`\n",
    "\n",
    "**7**"
   ]
  },
  {
   "cell_type": "markdown",
   "metadata": {},
   "source": [
    "<br/>**2.**\n",
    "Consider the following code. How many rows and columns does the tensor yhat contain?\n",
    "\n",
    "```\n",
    "X=torch.tensor([[1.0,1.0,1],[1.0,2.0,1],[1.0,3.0,1],[1.0,3.0,1]])\n",
    "model=nn.Linear(3,1)\n",
    "yhat=model(X)\n",
    "```\n",
    "\n",
    "**4,1**"
   ]
  },
  {
   "cell_type": "markdown",
   "metadata": {},
   "source": [
    "<br/>**3.**\n",
    "How do you calculate the gradient and perform the update for Multiple Linear Regression with 10 input variables?\n",
    "\n",
    "```\n",
    "loss.backward()\n",
    "optimizer.step()\n",
    "```"
   ]
  }
 ],
 "metadata": {
  "kernelspec": {
   "display_name": "Python 3",
   "language": "python",
   "name": "python3"
  },
  "language_info": {
   "codemirror_mode": {
    "name": "ipython",
    "version": 3
   },
   "file_extension": ".py",
   "mimetype": "text/x-python",
   "name": "python",
   "nbconvert_exporter": "python",
   "pygments_lexer": "ipython3",
   "version": "3.8.6"
  }
 },
 "nbformat": 4,
 "nbformat_minor": 2
}
