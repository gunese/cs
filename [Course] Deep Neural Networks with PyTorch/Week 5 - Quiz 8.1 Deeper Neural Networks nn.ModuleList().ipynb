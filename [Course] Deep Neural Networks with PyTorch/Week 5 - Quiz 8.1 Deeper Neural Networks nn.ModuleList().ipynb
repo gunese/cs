{
 "cells": [
  {
   "cell_type": "markdown",
   "metadata": {},
   "source": [
    "## Week 5 - Quiz Deeper Neural Networks : nn.ModuleList()"
   ]
  },
  {
   "cell_type": "markdown",
   "metadata": {},
   "source": [
    "<br/>**1.**\n",
    "Consider the constructor for the following neural network class :\n",
    "\n",
    "```\n",
    "class Net(nn.Module):\n",
    "    # Section 1: \n",
    "\tdef __init__(self, Layers):\n",
    "\t\tsuper(Net,self).__init__()\n",
    "\t\tself.hidden = nn.ModuleList()\n",
    "\t\tfor input_size,output_size in zip(Layers,Layers[1:]):\n",
    "\t\t\tself.hidden.append(nn.Linear(input_size,output_size))\n",
    "```\n",
    "\n",
    "Let us create an object model = Net([2,3,4,4])\n",
    "\n",
    "How many hidden layers are there in this model?\n",
    "\n",
    "**2**"
   ]
  },
  {
   "cell_type": "markdown",
   "metadata": {},
   "source": [
    "<br/>**2.**\n",
    "Consider the forward function , fill out the value for the if statement marked BLANK .\n",
    "\n",
    "```\n",
    "# Section 2: \n",
    "\tdef forward(self, activation):\n",
    "\t\tL=len(self.hidden)\n",
    "\t\tfor (l, linear_transform) in zip(range(L), self.hidden):\n",
    "\t\t\tif #BLANK  \n",
    "\t\t\t\tactivation = torch.relu(linear_transform(activation))\n",
    "\t\t\telse:\n",
    "\t\t\t\tactivation = linear_transform(activation)\n",
    "\t\treturn activation\n",
    "```\n",
    "\n",
    "**l<L-1**"
   ]
  },
  {
   "cell_type": "markdown",
   "metadata": {},
   "source": [
    "<br/>**3.**\n",
    "True or False we use the following Class or . Module for classification :\n",
    "\n",
    "```\n",
    "class Net(nn.Module):\n",
    "    \n",
    "    # Constructor\n",
    "    def __init__(self, Layers):\n",
    "        super(Net, self).__init__()\n",
    "        self.hidden = nn.ModuleList()\n",
    "        for input_size, output_size in zip(Layers, Layers[1:]):\n",
    "            self.hidden.append(nn.Linear(input_size, output_size))\n",
    "    \n",
    "    # Prediction\n",
    "    def forward(self, activation):\n",
    "        L = len(self.hidden)\n",
    "        for (l, linear_transform) in zip(range(L), self.hidden):\n",
    "            if l < L - 1:\n",
    "                activation = torch.relu(linear_transform(activation))\n",
    "            else:\n",
    "                activation = torch.relu(linear_transform(activation))\n",
    "        return activation\n",
    "```\n",
    "\n",
    "**false**"
   ]
  }
 ],
 "metadata": {
  "kernelspec": {
   "display_name": "Python 3",
   "language": "python",
   "name": "python3"
  },
  "language_info": {
   "codemirror_mode": {
    "name": "ipython",
    "version": 3
   },
   "file_extension": ".py",
   "mimetype": "text/x-python",
   "name": "python",
   "nbconvert_exporter": "python",
   "pygments_lexer": "ipython3",
   "version": "3.8.6"
  }
 },
 "nbformat": 4,
 "nbformat_minor": 2
}
