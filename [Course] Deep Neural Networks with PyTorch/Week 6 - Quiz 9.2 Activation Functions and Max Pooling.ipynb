{
 "cells": [
  {
   "cell_type": "markdown",
   "metadata": {},
   "source": [
    "## Week 6 - Activation Functions and Max Pooling"
   ]
  },
  {
   "cell_type": "markdown",
   "metadata": {},
   "source": [
    "<br/>**1.**\n",
    "Consider the following code:\n",
    "\n",
    "```\n",
    "z = torch.tensor([[0,0,-1],[-2,0,-2],[-1,0,-1]])\n",
    "```\n",
    "\n",
    "What is the output of torch.relu(z)?\n",
    "\n",
    "**tensor([[0,0,0],[0,0,0],[0,0,0]])**"
   ]
  },
  {
   "cell_type": "markdown",
   "metadata": {},
   "source": [
    "<br/>**2.**\n",
    "Consider the following code:\n",
    "\n",
    "```\n",
    "z = torch.tensor([[[1,2,3,-4],[0.0,2.0,-3.0,0],[0,2,3,1],[0,0,0,0]]])\n",
    "max_ = torch.nn.MaxPool2d(2, stride=2)\n",
    "```\n",
    "\n",
    "**tensor([[[2., 3.],[2., 3.]]])**"
   ]
  }
 ],
 "metadata": {
  "kernelspec": {
   "display_name": "Python 3",
   "language": "python",
   "name": "python3"
  },
  "language_info": {
   "codemirror_mode": {
    "name": "ipython",
    "version": 3
   },
   "file_extension": ".py",
   "mimetype": "text/x-python",
   "name": "python",
   "nbconvert_exporter": "python",
   "pygments_lexer": "ipython3",
   "version": "3.8.6"
  }
 },
 "nbformat": 4,
 "nbformat_minor": 2
}
