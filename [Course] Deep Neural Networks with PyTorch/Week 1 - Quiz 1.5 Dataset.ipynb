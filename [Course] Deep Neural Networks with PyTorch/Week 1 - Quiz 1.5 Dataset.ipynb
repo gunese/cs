{
 "cells": [
  {
   "cell_type": "markdown",
   "metadata": {},
   "source": [
    "## Week 1 - Quiz: Datasets"
   ]
  },
  {
   "cell_type": "markdown",
   "metadata": {},
   "source": [
    "<br/>**1.**\n",
    "Consider the following lines of code from the lab:\n",
    " \n",
    "`\n",
    "dataset = Dataset(csv_file=csv_file, data_dir=directory)\n",
    "a=dataset[0][0]\n",
    "b=dataset[0][1]\n",
    "`\n",
    "\n",
    "what variable contains the image ?\n",
    "\n",
    "\n",
    "**a**"
   ]
  },
  {
   "cell_type": "markdown",
   "metadata": {},
   "source": [
    "<br/>**2.**\n",
    "consider the following lines of code from the lab:\n",
    "\n",
    "`dataset = Dataset(csv_file=csv_file, data_dir=directory)`\n",
    "\n",
    "How would you obtain the tenth sample's label:\n",
    "\n",
    "`dataset[9][1]`"
   ]
  },
  {
   "cell_type": "code",
   "execution_count": null,
   "metadata": {},
   "outputs": [],
   "source": []
  }
 ],
 "metadata": {
  "kernelspec": {
   "display_name": "Python 3",
   "language": "python",
   "name": "python3"
  },
  "language_info": {
   "codemirror_mode": {
    "name": "ipython",
    "version": 3
   },
   "file_extension": ".py",
   "mimetype": "text/x-python",
   "name": "python",
   "nbconvert_exporter": "python",
   "pygments_lexer": "ipython3",
   "version": "3.8.6"
  }
 },
 "nbformat": 4,
 "nbformat_minor": 2
}
