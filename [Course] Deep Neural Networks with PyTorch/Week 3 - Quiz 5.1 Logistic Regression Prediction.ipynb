{
 "cells": [
  {
   "cell_type": "markdown",
   "metadata": {},
   "source": [
    "## Week 3 - Quiz: Logistic Regression: Prediction"
   ]
  },
  {
   "cell_type": "markdown",
   "metadata": {},
   "source": [
    "<br/>**1.**\n",
    "Will the following line of code run:\n",
    "\n",
    "```\n",
    "model = nn.Sequential(nn.Linear(2, 1), nn.Sigmoid())\n",
    "x = torch.tensor([[1.0]])\n",
    "yhat = model(x)\n",
    "```\n",
    "\n",
    "**no**"
   ]
  },
  {
   "cell_type": "markdown",
   "metadata": {},
   "source": [
    "<br/>**2.**\n",
    "How would you apply the sigmoid function to the tensor z\n",
    "\n",
    "```\n",
    "z=torch.arange(-100,100,0.1).view(-1, 1)\n",
    "```\n",
    "\n",
    "```\n",
    "sig=nn. Sigmoid ()\n",
    "yhat=sig(z)\n",
    "```\n",
    "\n",
    "```\n",
    "yhat= torch.sigmoid(z)\n",
    "```"
   ]
  }
 ],
 "metadata": {
  "kernelspec": {
   "display_name": "Python 3",
   "language": "python",
   "name": "python3"
  },
  "language_info": {
   "codemirror_mode": {
    "name": "ipython",
    "version": 3
   },
   "file_extension": ".py",
   "mimetype": "text/x-python",
   "name": "python",
   "nbconvert_exporter": "python",
   "pygments_lexer": "ipython3",
   "version": "3.8.6"
  }
 },
 "nbformat": 4,
 "nbformat_minor": 2
}
