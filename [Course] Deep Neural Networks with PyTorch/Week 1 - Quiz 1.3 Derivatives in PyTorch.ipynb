{
 "cells": [
  {
   "cell_type": "markdown",
   "metadata": {},
   "source": [
    "## Week 1 - Quiz: Derivatives in PyTorch"
   ]
  },
  {
   "cell_type": "markdown",
   "metadata": {},
   "source": [
    "<br/>**1.**\n",
    "How would you determine the derivative of $ y = 2x^3+x $ at $x=1$\n",
    " \n",
    " `x = torch.tensor(1.0, requires_grad=True)\n",
    "y = 2 * x ** 3 + x\n",
    "y.backward()\n",
    " x.grad`"
   ]
  },
  {
   "cell_type": "markdown",
   "metadata": {},
   "source": [
    "<br/>**2.**\n",
    "Try to determine partial derivative $u$ of the following function where $𝑢=2$ and $𝑣=1$: $𝑓=𝑢𝑣+(𝑢𝑣)**2$\n",
    "\n",
    "`u = torch.tensor(2.0, requires_grad = True)\n",
    "v = torch.tensor(1.0, requires_grad = True)\n",
    "f = u * v + (u * v) ** 2\n",
    "f.backward()\n",
    "print(\"The result is \", u.grad)`"
   ]
  }
 ],
 "metadata": {
  "kernelspec": {
   "display_name": "Python 3",
   "language": "python",
   "name": "python3"
  },
  "language_info": {
   "codemirror_mode": {
    "name": "ipython",
    "version": 3
   },
   "file_extension": ".py",
   "mimetype": "text/x-python",
   "name": "python",
   "nbconvert_exporter": "python",
   "pygments_lexer": "ipython3",
   "version": "3.8.6"
  }
 },
 "nbformat": 4,
 "nbformat_minor": 2
}
