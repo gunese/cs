{
 "cells": [
  {
   "cell_type": "markdown",
   "metadata": {},
   "source": [
    "## Week 2 - Quiz: Optimization in PyTorch"
   ]
  },
  {
   "cell_type": "markdown",
   "metadata": {},
   "source": [
    "<br/>**1.**\n",
    "What's missing from the following code?\n",
    "\n",
    "```\n",
    "yhat=model(x)\n",
    "loss=criterion(yhat,y)\n",
    "loss.backward()\n",
    "optimizer.step()\n",
    "```\n",
    " \n",
    "**Does not clear the gradient**"
   ]
  },
  {
   "cell_type": "markdown",
   "metadata": {},
   "source": [
    "<br/>**2.**\n",
    "What's wrong with the following lines of code?\n",
    "\n",
    "```\n",
    "optimizer = optim.SGD(model.parameters(), lr = 0.01)\n",
    "model=linear_regression(1,1)\n",
    "```\n",
    "\n",
    "**The model object has not been created. As such, the argument that specifies what Tensors should be optimized does not exist**"
   ]
  }
 ],
 "metadata": {
  "kernelspec": {
   "display_name": "Python 3",
   "language": "python",
   "name": "python3"
  },
  "language_info": {
   "codemirror_mode": {
    "name": "ipython",
    "version": 3
   },
   "file_extension": ".py",
   "mimetype": "text/x-python",
   "name": "python",
   "nbconvert_exporter": "python",
   "pygments_lexer": "ipython3",
   "version": "3.8.6"
  }
 },
 "nbformat": 4,
 "nbformat_minor": 2
}
