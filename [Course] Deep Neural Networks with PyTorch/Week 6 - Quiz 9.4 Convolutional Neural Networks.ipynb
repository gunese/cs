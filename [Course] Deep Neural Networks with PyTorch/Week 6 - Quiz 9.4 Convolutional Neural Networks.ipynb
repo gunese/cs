{
 "cells": [
  {
   "cell_type": "markdown",
   "metadata": {},
   "source": [
    "## Week 6 - Quiz Convolutional Neural Networks"
   ]
  },
  {
   "cell_type": "markdown",
   "metadata": {},
   "source": [
    "<br/>**1.**\n",
    "Consider the output layer of a Convolutional Neural Network how many classes are there:\n",
    "\n",
    "```\n",
    "self.fc1=nn.Linear(out_2*x*x,5)\n",
    "```\n",
    "\n",
    "How many kernels are there in total?\n",
    "\n",
    "**5**"
   ]
  },
  {
   "cell_type": "markdown",
   "metadata": {},
   "source": [
    "<br/>**2.**\n",
    "How many convolutional layers dose the following neural network class or module have:\n",
    "\n",
    "**2**"
   ]
  }
 ],
 "metadata": {
  "kernelspec": {
   "display_name": "Python 3",
   "language": "python",
   "name": "python3"
  },
  "language_info": {
   "codemirror_mode": {
    "name": "ipython",
    "version": 3
   },
   "file_extension": ".py",
   "mimetype": "text/x-python",
   "name": "python",
   "nbconvert_exporter": "python",
   "pygments_lexer": "ipython3",
   "version": "3.8.6"
  }
 },
 "nbformat": 4,
 "nbformat_minor": 2
}
