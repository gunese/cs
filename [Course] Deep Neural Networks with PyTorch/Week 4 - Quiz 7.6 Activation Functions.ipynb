{
 "cells": [
  {
   "cell_type": "markdown",
   "metadata": {},
   "source": [
    "## Week 4 - Quiz Activation Functions"
   ]
  },
  {
   "cell_type": "markdown",
   "metadata": {},
   "source": [
    "<br/>**1.**\n",
    "Usually, what activation function would you use if you had more than 10 hidden layers?\n",
    "\n",
    "**Relu**"
   ]
  },
  {
   "cell_type": "markdown",
   "metadata": {},
   "source": [
    "<br/>**2.**\n",
    "What is the problem with the tanh and sigmoid activation function?\n",
    "\n",
    "**The derivative is near zero in many regions**"
   ]
  },
  {
   "cell_type": "markdown",
   "metadata": {},
   "source": [
    "<br/>**3.**\n",
    "What activation function is used in the following class\n",
    "\n",
    "```\n",
    "class NetRelu(nn.Module):    \n",
    "\tdef __init__(self,D_in,H,D_out):        \t             \t         super(NetRelu,self).__init__() \n",
    "                   self.linear1=nn.Linear(D_in,H)        \n",
    "\t         self.linear2=nn.Linear(H,D_out)            \n",
    "          def forward(self,x):        \n",
    "\t        x=torch.relu(self.linear1(x)))          \n",
    "\t        x=self.linear2(x)     \n",
    "            return x\n",
    "```\n",
    "\n",
    "**relu**"
   ]
  }
 ],
 "metadata": {
  "kernelspec": {
   "display_name": "Python 3",
   "language": "python",
   "name": "python3"
  },
  "language_info": {
   "codemirror_mode": {
    "name": "ipython",
    "version": 3
   },
   "file_extension": ".py",
   "mimetype": "text/x-python",
   "name": "python",
   "nbconvert_exporter": "python",
   "pygments_lexer": "ipython3",
   "version": "3.8.6"
  }
 },
 "nbformat": 4,
 "nbformat_minor": 2
}
