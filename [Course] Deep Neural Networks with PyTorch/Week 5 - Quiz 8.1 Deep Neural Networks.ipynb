{
 "cells": [
  {
   "cell_type": "markdown",
   "metadata": {},
   "source": [
    "## Week 5 - Quiz Deep Neural Networks"
   ]
  },
  {
   "cell_type": "markdown",
   "metadata": {},
   "source": [
    "<br/>**1.**\n",
    "Consider the following class or Module:\n",
    "\n",
    "```\n",
    "class Net(nn.model):\n",
    "  def __init__(self, D_in, H1, H2, D_out):\n",
    "  \tsuper(Net, self).__init__()\n",
    "    self.linear1 = nn.Linear(D_in, H1)\n",
    "    self.linear2 = nn.Linear(H1, H2)\n",
    "    self.linear3 = nn.Linear(H2, D_out)\n",
    "  def forward(self, x):\n",
    "      (Multiple Choice)\n",
    "    return x\n",
    "```\n",
    "\n",
    "How many times should the activation function (like sigmoid) be applied in the def forward(self, x) if the result contains multiple classes?\n",
    "\n",
    "**2**"
   ]
  },
  {
   "cell_type": "markdown",
   "metadata": {},
   "source": [
    "<br/>**2.**\n",
    "Consider the following code:\n",
    "\n",
    "```\n",
    "class Net(nn.Module):\n",
    "    \n",
    "    # Constructor\n",
    "    def __init__(self, D_in, H1, H2, D_out):\n",
    "        super(Net, self).__init__()\n",
    "        self.linear1 = nn.Linear(D_in, H1)\n",
    "        self.linear2 = nn.Linear(H1, H2)\n",
    "        self.linear3 = nn.Linear(H2, D_out)\n",
    "    \n",
    "    # Prediction\n",
    "    def forward(self,x):\n",
    "        x = torch.sigmoid(self.linear1(x)) \n",
    "        x = torch.sigmoid(self.linear2(x))\n",
    "        x = self.linear3(x)\n",
    "        return x\n",
    "        \n",
    "model = Net(3,5,4,1)\n",
    "```\n",
    "\n",
    "How many hidden layers are there in this model?\n",
    "\n",
    "**2**"
   ]
  }
 ],
 "metadata": {
  "kernelspec": {
   "display_name": "Python 3",
   "language": "python",
   "name": "python3"
  },
  "language_info": {
   "codemirror_mode": {
    "name": "ipython",
    "version": 3
   },
   "file_extension": ".py",
   "mimetype": "text/x-python",
   "name": "python",
   "nbconvert_exporter": "python",
   "pygments_lexer": "ipython3",
   "version": "3.8.6"
  }
 },
 "nbformat": 4,
 "nbformat_minor": 2
}
