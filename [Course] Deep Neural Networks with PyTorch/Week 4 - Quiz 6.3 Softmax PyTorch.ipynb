{
 "cells": [
  {
   "cell_type": "markdown",
   "metadata": {},
   "source": [
    "## Week 4 - Quiz 6.3 Softmax PyTorch"
   ]
  },
  {
   "cell_type": "markdown",
   "metadata": {},
   "source": [
    "<br/>**1.**\n",
    "What is the task of the following line of code?\n",
    "\n",
    "```\n",
    "transforms.ToTensor()\n",
    "```\n",
    "\n",
    "**Convert the image to a tensor**"
   ]
  },
  {
   "cell_type": "markdown",
   "metadata": {},
   "source": [
    "<br/>**2.**\n",
    "You have a 10x10 image and you would like to convert it to a vector or a rank one tensor, how many elements does it have?\n",
    "\n",
    "**100**"
   ]
  }
 ],
 "metadata": {
  "kernelspec": {
   "display_name": "Python 3",
   "language": "python",
   "name": "python3"
  },
  "language_info": {
   "codemirror_mode": {
    "name": "ipython",
    "version": 3
   },
   "file_extension": ".py",
   "mimetype": "text/x-python",
   "name": "python",
   "nbconvert_exporter": "python",
   "pygments_lexer": "ipython3",
   "version": "3.8.6"
  }
 },
 "nbformat": 4,
 "nbformat_minor": 2
}
