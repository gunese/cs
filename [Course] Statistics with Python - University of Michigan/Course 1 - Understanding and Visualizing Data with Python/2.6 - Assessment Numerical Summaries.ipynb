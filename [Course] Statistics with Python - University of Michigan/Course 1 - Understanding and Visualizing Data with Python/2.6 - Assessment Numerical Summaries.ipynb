{
 "cells": [
  {
   "cell_type": "markdown",
   "metadata": {},
   "source": [
    "## Week 2 - Assessment: Numerical Summaries"
   ]
  },
  {
   "cell_type": "markdown",
   "metadata": {},
   "source": [
    "<br/>**1.**\n",
    "Yanis is training for a stair climbing competition. He's interested in information from his training and those of his competitors. The below histogram shows the number of stair climbing competitions a random sample of 50 stair climbers entered in the past year.\n",
    "\n",
    "![img](https://i.ibb.co/qNY2VhZ/asd.jpg)\n",
    "\n",
    "What is the shape of this distribution?\n",
    "\n",
    "**Uniform**"
   ]
  },
  {
   "cell_type": "markdown",
   "metadata": {},
   "source": [
    "<br/>**2.**\n",
    "For his most recent training session, Yanis kept track of the time to complete each flight of stairs (16 steps). His distribution is shown here.\n",
    "\n",
    "![](https://i.ibb.co/Ny10JRb/asd.jpg)\n",
    "\n",
    "Which will be larger of time to complete each flight of stairs: the mean or the median?\n",
    "\n",
    "**The median**"
   ]
  },
  {
   "cell_type": "markdown",
   "metadata": {},
   "source": [
    "<br/>**3.**\n",
    "Yanis trains by climbing stairs 4 days out of the week. These box plots show the distribution of the number of flights of stairs climbed during his workouts for the past year. Which day of the week has the largest third quartile?\n",
    "\n",
    "![](https://i.ibb.co/3Mhss5v/asd.jpg)\n",
    "\n",
    "**Sunday**"
   ]
  },
  {
   "cell_type": "markdown",
   "metadata": {},
   "source": [
    "<br/>**4.**\n",
    "Yanis is interested in figuring out on which days his training is least consistent. Looking at the box plot of number of stairs climbed by day of the week, which day has the largest IQR?\n",
    "\n",
    "![](https://i.ibb.co/3Mhss5v/asd.jpg)\n",
    "\n",
    "**Friday**"
   ]
  },
  {
   "cell_type": "markdown",
   "metadata": {},
   "source": [
    "<br/>**5.**\n",
    "Yanis is able to see how many flights of stairs his competitors climb in a week. The box plot shows the distribution of the flights of stairs climbed by his competitors over the last week. Yanis climbed 1375 flights of stairs last week. Approximately what proportion of competitors climbed more flights of stairs than Yanis?\n",
    "\n",
    "![img](https://i.ibb.co/WPGTYHY/asd.jpg)\n",
    "\n",
    "**0%**"
   ]
  }
 ],
 "metadata": {
  "kernelspec": {
   "display_name": "Python 3",
   "language": "python",
   "name": "python3"
  },
  "language_info": {
   "codemirror_mode": {
    "name": "ipython",
    "version": 3
   },
   "file_extension": ".py",
   "mimetype": "text/x-python",
   "name": "python",
   "nbconvert_exporter": "python",
   "pygments_lexer": "ipython3",
   "version": "3.7.4"
  }
 },
 "nbformat": 4,
 "nbformat_minor": 2
}
