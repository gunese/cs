{
 "cells": [
  {
   "cell_type": "markdown",
   "metadata": {},
   "source": [
    "## Week 2 - Python Assessment: Univariate Analysis"
   ]
  },
  {
   "cell_type": "markdown",
   "metadata": {},
   "source": [
    "<br/>**1.**\n",
    "Using the NHANES data and the previous notebook, the following questions will be about the variable BPXSY2 (with missing values remove). All answers should be rounded to the nearest decimal values (ex: 2.33 should be 2.3, 2.15 should be 2.2)\n",
    "\n",
    "What is the median?\n",
    "\n",
    "**122.0**"
   ]
  },
  {
   "cell_type": "markdown",
   "metadata": {},
   "source": [
    "<br/>**2.**\n",
    "What is the mean?\n",
    "\n",
    "All answers should be rounded to the nearest decimal values (ex: 2.33 should be 2.3, 2.15 should be 2.2)\n",
    "\n",
    "**124.8**"
   ]
  },
  {
   "cell_type": "markdown",
   "metadata": {},
   "source": [
    "<br/>**3.**\n",
    "What is the standard deviation?\n",
    "\n",
    "All answers should be rounded to the nearest decimal values (ex: 2.33 should be 2.3, 2.15 should be 2.2)\n",
    "\n",
    "**18.5**"
   ]
  },
  {
   "cell_type": "markdown",
   "metadata": {},
   "source": [
    "<br/>**4.**\n",
    "What is the max?\n",
    "\n",
    "All answers should be rounded to the nearest decimal values (ex: 2.33 should be 2.3, 2.15 should be 2.2)\n",
    "\n",
    "**238.0**"
   ]
  },
  {
   "cell_type": "markdown",
   "metadata": {},
   "source": [
    "<br/>**5.**\n",
    "What is the Interquartile Range (IQR)?\n",
    "\n",
    "All answers should be rounded to the nearest decimal values (ex: 2.33 should be 2.3, 2.15 should be 2.2)\n",
    "\n",
    "**22.0**"
   ]
  },
  {
   "cell_type": "markdown",
   "metadata": {},
   "source": [
    "<br/>**6.**\n",
    "Which of these will return descriptive statistics for a numeric Series ‘s’?\n",
    "\n",
    "**`s.describe()`**"
   ]
  },
  {
   "cell_type": "markdown",
   "metadata": {},
   "source": [
    "<br/>**7.**\n",
    "Select all that apply: Which will produce a histogram of the numeric Series ‘s’\n",
    "\n",
    "**`sns.distplot(a=s)`**\n",
    "\n",
    "**`sns.distplot(a=s).set(title=”Histogram of s”)`**\n",
    "\n",
    "**`sns.distplot(s)`**"
   ]
  },
  {
   "cell_type": "markdown",
   "metadata": {},
   "source": [
    "<br/>**8.**\n",
    "How many rows of the DataFrame 'df' are shown with the following code:\n",
    "\n",
    "`df.head()`\n",
    "\n",
    "**5**"
   ]
  },
  {
   "cell_type": "markdown",
   "metadata": {},
   "source": [
    "<br/>**9.**\n",
    "What data is shown when the following code is run?\n",
    "\n",
    "`df.head(2)`\n",
    "\n",
    "**Rows 0 and 1**"
   ]
  }
 ],
 "metadata": {
  "kernelspec": {
   "display_name": "Python 3",
   "language": "python",
   "name": "python3"
  },
  "language_info": {
   "codemirror_mode": {
    "name": "ipython",
    "version": 3
   },
   "file_extension": ".py",
   "mimetype": "text/x-python",
   "name": "python",
   "nbconvert_exporter": "python",
   "pygments_lexer": "ipython3",
   "version": "3.7.4"
  }
 },
 "nbformat": 4,
 "nbformat_minor": 2
}
