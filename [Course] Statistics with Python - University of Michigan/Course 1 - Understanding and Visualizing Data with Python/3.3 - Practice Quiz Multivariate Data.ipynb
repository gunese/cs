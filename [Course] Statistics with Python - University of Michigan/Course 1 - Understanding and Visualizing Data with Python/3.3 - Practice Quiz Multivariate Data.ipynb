{
 "cells": [
  {
   "cell_type": "markdown",
   "metadata": {},
   "source": [
    "## Week 3 - Practice Quiz: Multivariate Data"
   ]
  },
  {
   "cell_type": "markdown",
   "metadata": {},
   "source": [
    "<br/>**1.**\n",
    "A bicycle rental company has counted the number of bicycle rentals in each season (spring, summer, fall, winter) for the past two years.\n",
    "\n",
    "Additionally, the company has collected weather data (temperature, wind speed and humidity).\n",
    "\n",
    "Use the data for bicycle rentals and weather presented in the tables and graphs below to answer these practice quiz questions.\n",
    "\n",
    "Which proportion describes the most popular season for renting bicycles in Year 1?\n",
    "\n",
    "![img](https://i.ibb.co/SDk8cxP/asd.jpg)\n",
    "\n",
    "\n",
    "**419,650 / 1,243,103**"
   ]
  },
  {
   "cell_type": "markdown",
   "metadata": {},
   "source": [
    "<br/>**2.**\n",
    "Which proportion describes the least popular season for renting bicycles in Year 2?\n",
    "\n",
    "![img](https://i.ibb.co/SDk8cxP/asd.jpg)\n",
    "\n",
    "\n",
    "**321,348 / 2,049,576**"
   ]
  },
  {
   "cell_type": "markdown",
   "metadata": {},
   "source": [
    "<br/>**3.**\n",
    "Which statement best describes the meaning of 326,137 / 841,613?\n",
    "\n",
    "![img](https://i.ibb.co/SDk8cxP/asd.jpg)\n",
    "\n",
    "**The proportion of Total Winter rentals that occurred in Year 1.**"
   ]
  },
  {
   "cell_type": "markdown",
   "metadata": {},
   "source": [
    "<br/>**4.**\n",
    "How do the proportion of rides in the Summer compare between Year 1 and Year 2?\n",
    "\n",
    "![img](https://i.ibb.co/SDk8cxP/asd.jpg)\n",
    "\n",
    "\n",
    "**Can't tell without doing additional calculations**"
   ]
  },
  {
   "cell_type": "markdown",
   "metadata": {},
   "source": [
    "<br/>**5.**\n",
    "The company suspects that they will have a larger increase in rentals from registered riders compared to non-registered riders over the two years. They make this bar chart to see how the numbers compare. For which group does the increase in riders seem larger?\n",
    "\n",
    "![img](https://i.ibb.co/qxQTsTf/asd.jpg)\n",
    "\n",
    "**Registered**"
   ]
  },
  {
   "cell_type": "markdown",
   "metadata": {},
   "source": [
    "<br/>**6.**\n",
    "What kind of graph is this?\n",
    "\n",
    "![img](https://i.ibb.co/qxQTsTf/asd.jpg)\n",
    "\n",
    "\n",
    "**Side-by-side bar chart**"
   ]
  },
  {
   "cell_type": "markdown",
   "metadata": {},
   "source": [
    "<br/>**7.**\n",
    "The bicycle company is interested in knowing how rides are affected by various weather conditions. To start with, they want to examine the registered wind speeds (after a normalization).\n",
    "\n",
    "Is wind speed a discrete or continuous variable?\n",
    "\n",
    "\n",
    "**Continuous**"
   ]
  },
  {
   "cell_type": "markdown",
   "metadata": {},
   "source": [
    "<br/>**8.**\n",
    "The company wants to consider how weather patterns affect the bicycle rentals. They first consider how the measured temperature compares to the apparent temperature, or the temperature that humans perceive it to be. The temperatures have been normalized to fall on a scale between 0 and 1. Yesterday the normalized real temperature was 0.4. Today the normalized real temperature is 0.8. Which day would you expect to have a higher apparent temperature?\n",
    "\n",
    "![img](https://i.ibb.co/vvLRs4K/asd.jpg)\n",
    "\n",
    "**Today**"
   ]
  },
  {
   "cell_type": "markdown",
   "metadata": {},
   "source": [
    "<br/>**9.**\n",
    "The scatterplot between temperature and apparent temperature is linear. What is the strength of the scatterplot between temperature and apparent temperature?\n",
    "\n",
    "![img](https://i.ibb.co/vvLRs4K/asd.jpg)\n",
    "\n",
    "**Strong**"
   ]
  },
  {
   "cell_type": "markdown",
   "metadata": {},
   "source": [
    "<br/>**10.**\n",
    "Eventually, the bicycle company wants to think about how bicycle rides vary based on weather. After looking at humidity, they think that the humidity might be associated with the general weather conditions. They consider weather situations of 1 = clear to partly cloudy, 2 = misty with no to some clouds, 3 = light rain and light snow, and 4 = heavy rain, snow, thunderstorms, and other extreme weather. Based on the side-by-side boxplots below, which weather condition has the highest mean humidity?\n",
    "\n",
    "![img](https://i.ibb.co/zrP6Qcb/asd.jpg)\n",
    "\n",
    "**Can't tell**"
   ]
  }
 ],
 "metadata": {
  "kernelspec": {
   "display_name": "Python 3",
   "language": "python",
   "name": "python3"
  },
  "language_info": {
   "codemirror_mode": {
    "name": "ipython",
    "version": 3
   },
   "file_extension": ".py",
   "mimetype": "text/x-python",
   "name": "python",
   "nbconvert_exporter": "python",
   "pygments_lexer": "ipython3",
   "version": "3.7.4"
  }
 },
 "nbformat": 4,
 "nbformat_minor": 2
}
