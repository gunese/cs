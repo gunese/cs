{
 "cells": [
  {
   "cell_type": "markdown",
   "metadata": {},
   "source": [
    "## Week 3 - Peer-graded Assignment: Pizza Study Design Assignment"
   ]
  },
  {
   "cell_type": "markdown",
   "metadata": {},
   "source": [
    "You have been hired as a consultant by a small pizza company (you may create a name for this small pizza company). They want your help to collect and summarize appropriate data to be used in a marketing advertisement that makes a comparison between their small pizza company and their main competitor (you may create a name for this competitor too).\n",
    "\n",
    "You are asked to prepare a memorandum to the small pizza company’s CEO describing how they could conduct such a study to support claims focusing on one or two of the company’s strengths (such as amount of toppings, speed of service, customer satisfaction, etc. ~ be creative).\n",
    "\n",
    "You will be graded by three of your peers, who will be providing qualitative feedback, as well as an overall assessment of the design.\n",
    "\n",
    "Be sure to include the research question(s) or claims you would propose to address and the different variables that should be recorded as part of the study (both what you would measure and how you would measure it). Additionally, describe how you would summarize the data (which graphical and numerical summaries you would report or possibly use in the ad) to help address the claim(s).\n",
    "\n",
    "Some Items to keep in mind:\n",
    "\n",
    "When your memorandum is read by your peers, they will play the role of your client, the company’s CEO, with basic statistical literacy who is trying to understand your study design proposal.\n",
    "Since you are explaining this to your client, you should take care to carefully edit and proofread your memorandum.\n",
    "Your memorandum should be between 350-500 words (excluding header, footer, citations). In case you aren't sure what memorandum (or, \"memo\") format should look like: https://owl.english.purdue.edu/owl/resource/590/03/\n",
    "\n",
    "PEER REVIEW Guidance:\n",
    "\n",
    "1. Use respectful language whether you are praising your peer or suggesting improvements.\n",
    "\n",
    "2. Read over your peer’s memo to quickly get an overview of the piece.\n",
    "\n",
    "3. Next, read the memo more slowly keeping the rubric in mind.\n",
    "\n",
    "4. As you re-read, take note of the pieces of texts that let you directly address the rubric prompts.\n",
    "\n",
    "5. Focus on larger issues (higher order concerns) of content and argument rather than lower order concerns like grammar and spelling.\n",
    "\n",
    "6. Be very specific in your feedback, referring to your peer’s actual language, mentioning terms and concepts that are either present or missing, and following the directions in the rubric.\n",
    "\n",
    "7. Peer Review is important and helpful (to both the reviewer and receiver of the review), so be sure your online responses are detailed enough (minimum word count for each of the 4 criteria is 30 words).\n",
    "\n",
    "8. Peer Review can only be helpful if completed on time so that the feedback can be given back to your peers through this peer review tool. Complete your thoughtful online feedback of all your assigned submissions ON TIME so you can provide that feedback and thus earn your points for this helpful exercise.\n",
    "\n",
    "\n",
    "**As a consultant of the Small Pizza Company, I would suggest collecting the following data for the marketing advertisement.**\n",
    "\n",
    "* **Speed of service: Seconds after client gives order in the restaurant until the pizza is ready (Quantitative Continuous)**\n",
    "* **Speed of delivery: Seconds after client gives order via phone or internet until the pizza is ready (Quantitative Continuous)**\n",
    "* **Prices: The amount in USD (Quantitative Continuous)**\n",
    "* **Sizes: The diameter of the pizza  (Quantitative Continuous)**\n",
    "\n",
    "\n",
    "**The speed of delivery and service can be measured easily with a timer or an automated process can be implemented to record the service and delivery time. The sizes are also pretty easy to measure with a ruler.**\n",
    "\n",
    "**I think those features are good to use for a comparison between main competitor Big Pizza Company, because the big company has lots of overhead expenses such as rent, employee fees, other ongoing campaigns and etc. They can't compete with Small Pizza Company's prizes and sizes. In addition to that, Big Pizza Company has more clients and they deliver packages to a larger area, so their mean speed of service and speed of delivery is greater than Small Pizza Company. That's why those data points are good for comparison.**\n",
    "\n",
    "**I would use mean speed of service and delivery in a bar plot with two companies next to each other. That would clearly show the speed difference between them. I would go more creative with the price and size. I would make two circles with different sizes which indicate the sizes of pizzas' from two companies and put the price inside the circle. This way the customers and CEO can perceive those two information together.**"
   ]
  }
 ],
 "metadata": {
  "kernelspec": {
   "display_name": "Python 3",
   "language": "python",
   "name": "python3"
  },
  "language_info": {
   "codemirror_mode": {
    "name": "ipython",
    "version": 3
   },
   "file_extension": ".py",
   "mimetype": "text/x-python",
   "name": "python",
   "nbconvert_exporter": "python",
   "pygments_lexer": "ipython3",
   "version": "3.7.4"
  }
 },
 "nbformat": 4,
 "nbformat_minor": 2
}
