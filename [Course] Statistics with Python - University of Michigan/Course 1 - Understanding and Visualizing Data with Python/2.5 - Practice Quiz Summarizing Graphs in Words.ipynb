{
 "cells": [
  {
   "cell_type": "markdown",
   "metadata": {},
   "source": [
    "## Week 2 - Practice Quiz: Summarizing Graphs in Words"
   ]
  },
  {
   "cell_type": "markdown",
   "metadata": {},
   "source": [
    "<br/>**1.**\n",
    "The following graphs show the distributions for number of sandwiches sold per day at delis managed by the same owner and in the same region. Match these graphs to the appropriate sentence describing them.\n",
    "\n",
    "![img](https://i.ibb.co/vx9J9KF/Vz-WS6n-TIEei3nh-IMa-RH29g-a853b9cee1b03ba72e94d65ac2991660-deli-number-hist.jpg)\n",
    "\n",
    "Which of these statements best summarizes Deli A?\n",
    "\n",
    "**Statement 4: The number of sandwiches sold has a bell shaped distribution, with a peak around 500 and with values varying from around 460 to around 540. There do not appear to be outliers.**"
   ]
  },
  {
   "cell_type": "markdown",
   "metadata": {},
   "source": [
    "<br/>**2.**\n",
    "Which of these statements best summarizes Deli B?\n",
    "\n",
    "\n",
    "**Statement 2: The number of sandwiches sold is slightly skewed left and unimodal, with a center around 500 and a range from around 200 to around 800. There do not appear to be outliers.**"
   ]
  },
  {
   "cell_type": "markdown",
   "metadata": {},
   "source": [
    "<br/>**3.**\n",
    "Which of these statements best summarizes Deli C?\n",
    "\n",
    "**Statement 3: The number of sandwiches sold is skewed right with a peak around 200. The number of sandwiches vary from around 125 to around 325. There do not appear to be outliers.**"
   ]
  },
  {
   "cell_type": "markdown",
   "metadata": {},
   "source": [
    "<br/>**4.**\n",
    "Which of these statements best summarizes Deli D?\n",
    "\n",
    "**Statement 1: The number of sandwiches sold is bimodal with peaks around 300 and 400. The number of sandwiches vary from around 250 to around 450. There do not appear to be outliers.**"
   ]
  },
  {
   "cell_type": "markdown",
   "metadata": {},
   "source": [
    "<br/>**5.**\n",
    "Which Deli has the smallest range?\n",
    "\n",
    "![img](https://i.ibb.co/vx9J9KF/Vz-WS6n-TIEei3nh-IMa-RH29g-a853b9cee1b03ba72e94d65ac2991660-deli-number-hist.jpg)\n",
    "\n",
    "**Deli A**"
   ]
  },
  {
   "cell_type": "markdown",
   "metadata": {},
   "source": [
    "<br/>**6.**\n",
    "Which is larger for Deli C?\n",
    "\n",
    "**The mean**"
   ]
  },
  {
   "cell_type": "markdown",
   "metadata": {},
   "source": [
    "<br/>**7.**\n",
    "The following graph shows the service time for customers at five delis. What approximate proportion of customers are waiting for more than 12 minutes for their sandwich at Deli A?\n",
    "\n",
    "![](https://i.ibb.co/p2JmBXP/exj-SHHTKEei8-FQ6-Tn-IKJEA-11e7ffa0cbdbc85e607edf62c711f787-deli-service.jpg)\n",
    "\n",
    "**%50**"
   ]
  },
  {
   "cell_type": "markdown",
   "metadata": {},
   "source": [
    "<br/>**8.**\n",
    "Which deli's service time distribution has the smallest mean?\n",
    "\n",
    "![img](https://i.ibb.co/vx9J9KF/Vz-WS6n-TIEei3nh-IMa-RH29g-a853b9cee1b03ba72e94d65ac2991660-deli-number-hist.jpg)\n",
    "\n",
    "**Deli C**"
   ]
  },
  {
   "cell_type": "markdown",
   "metadata": {},
   "source": [
    "<br/>**9.**\n",
    "Which deli's service time distribution has the smallest median?\n",
    "\n",
    "![img](https://i.ibb.co/vx9J9KF/Vz-WS6n-TIEei3nh-IMa-RH29g-a853b9cee1b03ba72e94d65ac2991660-deli-number-hist.jpg)\n",
    "\n",
    "**Deli C**"
   ]
  },
  {
   "cell_type": "markdown",
   "metadata": {},
   "source": [
    "<br/>**10.**\n",
    "What kind of distribution does Deli A's service time follow?\n",
    "\n",
    "![img](https://i.ibb.co/vx9J9KF/Vz-WS6n-TIEei3nh-IMa-RH29g-a853b9cee1b03ba72e94d65ac2991660-deli-number-hist.jpg)\n",
    "\n",
    "**Can't tell**"
   ]
  },
  {
   "cell_type": "markdown",
   "metadata": {},
   "source": [
    "<br/>**11.**\n",
    "The manager is also interested in looking at the distribution of the types of sandwiches ordered before placing the next order for food supplies. Which sandwich has the largest mean?\n",
    "\n",
    "![](https://i.ibb.co/TTb48rL/exj-SHHTKEei8-FQ6-Tn-IKJEA-11e7ffa0cbdbc85e607edf62c711f787-deli-service.jpg)\n",
    "\n",
    "**None of the above**"
   ]
  },
  {
   "cell_type": "markdown",
   "metadata": {},
   "source": [
    "<br/>**12.**\n",
    "The manager is also interested in looking at the distribution of the types of sandwiches ordered before placing the next order for food supplies. Which type of sandwich is ordered the most?\n",
    "\n",
    "![](https://i.ibb.co/TTb48rL/exj-SHHTKEei8-FQ6-Tn-IKJEA-11e7ffa0cbdbc85e607edf62c711f787-deli-service.jpg)\n",
    "\n",
    "**Turkey**"
   ]
  }
 ],
 "metadata": {
  "kernelspec": {
   "display_name": "Python 3",
   "language": "python",
   "name": "python3"
  },
  "language_info": {
   "codemirror_mode": {
    "name": "ipython",
    "version": 3
   },
   "file_extension": ".py",
   "mimetype": "text/x-python",
   "name": "python",
   "nbconvert_exporter": "python",
   "pygments_lexer": "ipython3",
   "version": "3.7.4"
  }
 },
 "nbformat": 4,
 "nbformat_minor": 2
}
